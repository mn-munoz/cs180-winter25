{
 "cells": [
  {
   "cell_type": "markdown",
   "metadata": {
    "id": "I6c_A_8i_B0-"
   },
   "source": [
    "# Seaborn\n",
    "\n",
    "Seaborn is a nice library for make easy statistical plots  \n",
    "Seaborn works great with Pandas Dataframes"
   ]
  },
  {
   "cell_type": "code",
   "execution_count": null,
   "metadata": {
    "id": "ZG1sxzO3_B1A"
   },
   "outputs": [],
   "source": [
    "import seaborn as sns\n",
    "import matplotlib.pyplot as plt"
   ]
  },
  {
   "cell_type": "markdown",
   "metadata": {
    "id": "AeJ0LbbV_B1B"
   },
   "source": [
    "#### Seaborn Data\n",
    "\n",
    "Seaborn can easily load some classic/toy datasets to illustrate plotting features.  An internet connection is required to load the data.  "
   ]
  },
  {
   "cell_type": "code",
   "execution_count": 2,
   "metadata": {
    "id": "xgYCTR8b_B1B"
   },
   "outputs": [],
   "source": [
    "iris = sns.load_dataset('iris')\n",
    "tips = sns.load_dataset('tips')\n",
    "flights = sns.load_dataset('flights')"
   ]
  },
  {
   "cell_type": "code",
   "execution_count": null,
   "metadata": {
    "colab": {
     "base_uri": "https://localhost:8080/",
     "height": 206
    },
    "executionInfo": {
     "elapsed": 5,
     "status": "ok",
     "timestamp": 1738253594307,
     "user": {
      "displayName": "Jake Rhodes",
      "userId": "08644184539460642117"
     },
     "user_tz": 420
    },
    "id": "I93hgkP5_B1B",
    "outputId": "eb62b3cf-0d45-46bb-f67b-6a5607136e1e"
   },
   "outputs": [],
   "source": [
    "iris.head()"
   ]
  },
  {
   "cell_type": "code",
   "execution_count": null,
   "metadata": {
    "colab": {
     "base_uri": "https://localhost:8080/",
     "height": 206
    },
    "executionInfo": {
     "elapsed": 185,
     "status": "ok",
     "timestamp": 1738253594489,
     "user": {
      "displayName": "Jake Rhodes",
      "userId": "08644184539460642117"
     },
     "user_tz": 420
    },
    "id": "78upmpt9_B1B",
    "outputId": "e875df2b-c798-40d4-dbbf-c8a4eb829c37"
   },
   "outputs": [],
   "source": [
    "tips.head()"
   ]
  },
  {
   "cell_type": "code",
   "execution_count": null,
   "metadata": {
    "colab": {
     "base_uri": "https://localhost:8080/",
     "height": 206
    },
    "executionInfo": {
     "elapsed": 166,
     "status": "ok",
     "timestamp": 1738253594653,
     "user": {
      "displayName": "Jake Rhodes",
      "userId": "08644184539460642117"
     },
     "user_tz": 420
    },
    "id": "HMx5A_dz_B1C",
    "outputId": "fd56f09e-051d-4a2c-f6e6-655b01c76b40"
   },
   "outputs": [],
   "source": [
    "flights.head()"
   ]
  },
  {
   "cell_type": "markdown",
   "metadata": {},
   "source": [
    "## Line Plot"
   ]
  },
  {
   "cell_type": "code",
   "execution_count": null,
   "metadata": {},
   "outputs": [],
   "source": [
    "sns.lineplot(data = flights, x = 'year', y = 'passengers')"
   ]
  },
  {
   "cell_type": "markdown",
   "metadata": {
    "id": "CxTgwyB4_B1C"
   },
   "source": [
    "# Distribution Plots\n",
    "\n",
    "Let's discuss some plots that allow us to visualize the distribution of a data set. These plots are:\n",
    "\n",
    "* histplot\n",
    "* displot\n",
    "* jointplot\n",
    "* pairplot\n",
    "* rugplot"
   ]
  },
  {
   "cell_type": "markdown",
   "metadata": {
    "id": "wjfmF23c_B1C"
   },
   "source": [
    "You can use the dataset and call variables by name, or specifically designate a series as input."
   ]
  },
  {
   "cell_type": "code",
   "execution_count": null,
   "metadata": {
    "colab": {
     "base_uri": "https://localhost:8080/",
     "height": 468
    },
    "executionInfo": {
     "elapsed": 1825,
     "status": "ok",
     "timestamp": 1738253596476,
     "user": {
      "displayName": "Jake Rhodes",
      "userId": "08644184539460642117"
     },
     "user_tz": 420
    },
    "id": "tfjo4xKa_B1C",
    "outputId": "60a3a719-53bf-4559-baf0-cbdd188b5997"
   },
   "outputs": [],
   "source": [
    "# Pass in full dataset\n",
    "sns.histplot(data = iris, x = 'sepal_length', bins = 30)"
   ]
  },
  {
   "cell_type": "code",
   "execution_count": null,
   "metadata": {
    "colab": {
     "base_uri": "https://localhost:8080/",
     "height": 468
    },
    "executionInfo": {
     "elapsed": 1183,
     "status": "ok",
     "timestamp": 1738253597658,
     "user": {
      "displayName": "Jake Rhodes",
      "userId": "08644184539460642117"
     },
     "user_tz": 420
    },
    "id": "tsPRtUpU_B1C",
    "outputId": "fb810b4d-47bb-464e-bdad-1748098dd078"
   },
   "outputs": [],
   "source": [
    "# Pass in a series\n",
    "sns.histplot(x = iris['sepal_length'])"
   ]
  },
  {
   "cell_type": "code",
   "execution_count": null,
   "metadata": {
    "colab": {
     "base_uri": "https://localhost:8080/",
     "height": 524
    },
    "executionInfo": {
     "elapsed": 1280,
     "status": "ok",
     "timestamp": 1738253598937,
     "user": {
      "displayName": "Jake Rhodes",
      "userId": "08644184539460642117"
     },
     "user_tz": 420
    },
    "id": "E64N2yzt_B1C",
    "outputId": "9077b408-e74e-4686-afc2-a49ecebfa780"
   },
   "outputs": [],
   "source": [
    "sns.displot(data=iris, x='petal_length')"
   ]
  },
  {
   "cell_type": "code",
   "execution_count": null,
   "metadata": {
    "colab": {
     "base_uri": "https://localhost:8080/",
     "height": 524
    },
    "executionInfo": {
     "elapsed": 1393,
     "status": "ok",
     "timestamp": 1738253600329,
     "user": {
      "displayName": "Jake Rhodes",
      "userId": "08644184539460642117"
     },
     "user_tz": 420
    },
    "id": "4r63z9CT_B1C",
    "outputId": "1804255d-85e7-4900-d917-4c31385a1182"
   },
   "outputs": [],
   "source": [
    "sns.displot(data = iris, x = 'petal_length', kind = 'kde', rug = True)\n"
   ]
  },
  {
   "cell_type": "code",
   "execution_count": null,
   "metadata": {
    "colab": {
     "base_uri": "https://localhost:8080/",
     "height": 524
    },
    "executionInfo": {
     "elapsed": 1529,
     "status": "ok",
     "timestamp": 1738253601856,
     "user": {
      "displayName": "Jake Rhodes",
      "userId": "08644184539460642117"
     },
     "user_tz": 420
    },
    "id": "0g8Uwcai_B1D",
    "outputId": "ad41f587-3be8-472f-a07c-f1f06feb349e"
   },
   "outputs": [],
   "source": [
    "sns.displot(data = iris, x = 'petal_length', rug = True, kde = True)"
   ]
  },
  {
   "cell_type": "markdown",
   "metadata": {
    "id": "ARlpg9jM_B1D"
   },
   "source": [
    "More on displot can be found here: [Displot](https://seaborn.pydata.org/generated/seaborn.displot.html)"
   ]
  },
  {
   "cell_type": "markdown",
   "metadata": {
    "id": "XHLAJljZ_B1D"
   },
   "source": [
    "## jointplot\n",
    "\n",
    "jointplot() allows you to basically match up two distplots for **bivariate** data (two variables). With your choice of what **kind** parameter to compare with:\n",
    "* “scatter”\n",
    "* “reg”\n",
    "* “resid”\n",
    "* “kde”\n",
    "* “hex”"
   ]
  },
  {
   "cell_type": "markdown",
   "metadata": {
    "id": "Z-0Uf3Ly_B1D"
   },
   "source": [
    "`sns.jointplot(x='',y='',data=,kind='')`"
   ]
  },
  {
   "cell_type": "code",
   "execution_count": null,
   "metadata": {
    "colab": {
     "base_uri": "https://localhost:8080/",
     "height": 625
    },
    "executionInfo": {
     "elapsed": 4227,
     "status": "ok",
     "timestamp": 1738253606082,
     "user": {
      "displayName": "Jake Rhodes",
      "userId": "08644184539460642117"
     },
     "user_tz": 420
    },
    "id": "6e4e8l7H_B1D",
    "outputId": "bfb1f94c-2641-409f-c2f6-aaf89a4f203d"
   },
   "outputs": [],
   "source": [
    "sns.jointplot(data = iris, x = 'petal_length', y = 'petal_width', hue = 'species')"
   ]
  },
  {
   "cell_type": "code",
   "execution_count": null,
   "metadata": {
    "colab": {
     "base_uri": "https://localhost:8080/",
     "height": 625
    },
    "executionInfo": {
     "elapsed": 3377,
     "status": "ok",
     "timestamp": 1738253609456,
     "user": {
      "displayName": "Jake Rhodes",
      "userId": "08644184539460642117"
     },
     "user_tz": 420
    },
    "id": "118kuolm_B1D",
    "outputId": "308d55a4-beba-4b23-de41-def08fd81759"
   },
   "outputs": [],
   "source": [
    "sns.jointplot(data = iris, x = 'petal_length', y = 'petal_width', kind = 'kde')"
   ]
  },
  {
   "cell_type": "code",
   "execution_count": null,
   "metadata": {
    "colab": {
     "base_uri": "https://localhost:8080/",
     "height": 625
    },
    "executionInfo": {
     "elapsed": 3110,
     "status": "ok",
     "timestamp": 1738253612564,
     "user": {
      "displayName": "Jake Rhodes",
      "userId": "08644184539460642117"
     },
     "user_tz": 420
    },
    "id": "TFNY7CoG_B1D",
    "outputId": "0967f488-9045-4765-f35c-93507d592a39"
   },
   "outputs": [],
   "source": [
    "sns.jointplot(data = tips, x = 'total_bill', y = 'tip', kind = 'reg')"
   ]
  },
  {
   "cell_type": "code",
   "execution_count": null,
   "metadata": {
    "colab": {
     "base_uri": "https://localhost:8080/",
     "height": 625
    },
    "executionInfo": {
     "elapsed": 3896,
     "status": "ok",
     "timestamp": 1738253616459,
     "user": {
      "displayName": "Jake Rhodes",
      "userId": "08644184539460642117"
     },
     "user_tz": 420
    },
    "id": "ZCx-oEf__B1D",
    "outputId": "259ecbe2-01b9-45e7-d85e-cd9f8f0165f8"
   },
   "outputs": [],
   "source": [
    "sns.jointplot(data = tips, x = 'total_bill', y = 'tip', kind = 'hex')"
   ]
  },
  {
   "cell_type": "markdown",
   "metadata": {
    "id": "cIRBz6af_B1D"
   },
   "source": [
    "## Updating figure attributes"
   ]
  },
  {
   "cell_type": "code",
   "execution_count": null,
   "metadata": {
    "colab": {
     "base_uri": "https://localhost:8080/",
     "height": 639
    },
    "executionInfo": {
     "elapsed": 3127,
     "status": "ok",
     "timestamp": 1738253619585,
     "user": {
      "displayName": "Jake Rhodes",
      "userId": "08644184539460642117"
     },
     "user_tz": 420
    },
    "id": "VZOb0Dnu_B1D",
    "outputId": "4159d650-4a08-435a-da73-4afd5dde05da"
   },
   "outputs": [],
   "source": [
    "# Save the axes (similar to use in matplotlib)\n",
    "g = sns.jointplot(data=iris, x='petal_length', y='petal_width', hue='species')\n",
    "g.set_axis_labels('Petal Length (cm)', 'Petal Width (cm)')\n",
    "g.fig.suptitle('Scatterplot of Petal Length and Petal Width', y = 1)"
   ]
  },
  {
   "cell_type": "markdown",
   "metadata": {
    "id": "D-1kwEEq_B1D"
   },
   "source": [
    "Since seaborn is built on matplotlib, you can use the axes object to set the labels and title."
   ]
  },
  {
   "cell_type": "code",
   "execution_count": null,
   "metadata": {
    "colab": {
     "base_uri": "https://localhost:8080/",
     "height": 624
    },
    "executionInfo": {
     "elapsed": 2378,
     "status": "ok",
     "timestamp": 1738253621961,
     "user": {
      "displayName": "Jake Rhodes",
      "userId": "08644184539460642117"
     },
     "user_tz": 420
    },
    "id": "KvlHjg23_B1D",
    "outputId": "3a535627-010a-4a0f-b0e9-d06b4453bb84"
   },
   "outputs": [],
   "source": [
    "g = sns.jointplot(data=iris, x='petal_length', y='petal_width', hue='species')\n",
    "plt.xlabel('Petal Length (cm)')\n",
    "plt.ylabel('Petal Width (cm)')\n",
    "plt.title('Scatterplot of Petal Length and Petal Width')"
   ]
  },
  {
   "cell_type": "markdown",
   "metadata": {
    "id": "ZUGk_mA9_B1D"
   },
   "source": [
    "## pairplot\n",
    "\n",
    "pairplot will plot pairwise relationships across an entire dataframe (for the numerical columns) and supports a color hue argument (for categorical columns).\n",
    "\n",
    "``sns.pairplot(data)``  \n",
    "``sns.pairplot(data, hue= , palette=\"\")``"
   ]
  },
  {
   "cell_type": "code",
   "execution_count": null,
   "metadata": {
    "colab": {
     "base_uri": "https://localhost:8080/",
     "height": 1000
    },
    "executionInfo": {
     "elapsed": 8115,
     "status": "ok",
     "timestamp": 1738253630074,
     "user": {
      "displayName": "Jake Rhodes",
      "userId": "08644184539460642117"
     },
     "user_tz": 420
    },
    "id": "d96VlmxT_B1D",
    "outputId": "fa4ea081-c8bc-4f07-da41-d40b7192675b"
   },
   "outputs": [],
   "source": [
    "sns.pairplot(data = iris, hue = 'species')"
   ]
  },
  {
   "cell_type": "code",
   "execution_count": null,
   "metadata": {
    "colab": {
     "base_uri": "https://localhost:8080/",
     "height": 770
    },
    "executionInfo": {
     "elapsed": 3950,
     "status": "ok",
     "timestamp": 1738253634021,
     "user": {
      "displayName": "Jake Rhodes",
      "userId": "08644184539460642117"
     },
     "user_tz": 420
    },
    "id": "osxJth2u_B1D",
    "outputId": "f9c943aa-88fa-4f87-c764-f4cee90cff26"
   },
   "outputs": [],
   "source": [
    "# Customize the variables and mapped functions\n",
    "g = sns.PairGrid(data = iris, hue = 'species', vars = ['petal_length', 'sepal_length', 'petal_width'])\n",
    "g.map_diag(sns.histplot)\n",
    "g.map_upper(sns.scatterplot)\n",
    "g.map_lower(sns.kdeplot)"
   ]
  },
  {
   "cell_type": "markdown",
   "metadata": {
    "id": "dHN27MBb_B1E"
   },
   "source": [
    "## boxplot and violinplot\n",
    "\n",
    "#### boxplot\n",
    "A box plot (or box-and-whisker plot) shows the distribution of quantitative data in a way that facilitates comparisons between variables or across levels of a categorical variable. The box shows the quartiles of the dataset while the whiskers extend to show the rest of the distribution, except for points that are determined to be “outliers” using a method that is a function of the inter-quartile range."
   ]
  },
  {
   "cell_type": "markdown",
   "metadata": {
    "id": "E-GN60uV_B1E"
   },
   "source": [
    "``sns.boxplot(x=\"\", y=\"\", data= ,palette=\"\")``\n",
    "\n",
    "``sns.boxplot(data= ,palette=' ',orient=' ')``\n",
    "\n",
    "``sns.boxplot(x=\" \", y=\" \", hue=\" \", data= , palette=\" \")``"
   ]
  },
  {
   "cell_type": "markdown",
   "metadata": {
    "id": "FbAWUU9w_B1E"
   },
   "source": [
    "#### violinplot\n",
    "A violin plot plays a similar role as a box and whisker plot. It shows the distribution of quantitative data across several levels of one (or more) categorical variables such that those distributions can be compared. Unlike a box plot, in which all of the plot components correspond to actual datapoints, the violin plot features a kernel density estimation of the underlying distribution."
   ]
  },
  {
   "cell_type": "markdown",
   "metadata": {
    "id": "sfvPV4oX_B1E"
   },
   "source": [
    "`sns.violinplot(x=\"<cat>\", y=\"<num>\", data= , palette=' ')`\n",
    "\n",
    "`sns.violinplot(x=\"<cat>\", y=\"<num>\", data= , hue=' ', palette=' ')`\n",
    "\n",
    "`sns.violinplot(x=\"<cat>\", y=\"<num>\", data= , hue=' ', split=(boolean), palette=' ')`"
   ]
  },
  {
   "cell_type": "code",
   "execution_count": null,
   "metadata": {
    "colab": {
     "base_uri": "https://localhost:8080/",
     "height": 467
    },
    "executionInfo": {
     "elapsed": 190,
     "status": "ok",
     "timestamp": 1738253634201,
     "user": {
      "displayName": "Jake Rhodes",
      "userId": "08644184539460642117"
     },
     "user_tz": 420
    },
    "id": "wcMRqv-t_B1E",
    "outputId": "9e277817-57de-4077-eebe-45f92f8bec0a"
   },
   "outputs": [],
   "source": [
    "sns.boxplot(data = tips, y = 'sex', x = 'tip', orient = 'horizontal')"
   ]
  },
  {
   "cell_type": "code",
   "execution_count": 20,
   "metadata": {
    "id": "C_S3vmyI_B1E"
   },
   "outputs": [],
   "source": [
    "tips['tip_pct'] = tips['tip'] / tips['total_bill']"
   ]
  },
  {
   "cell_type": "code",
   "execution_count": null,
   "metadata": {
    "colab": {
     "base_uri": "https://localhost:8080/",
     "height": 467
    },
    "executionInfo": {
     "elapsed": 201,
     "status": "ok",
     "timestamp": 1738253634396,
     "user": {
      "displayName": "Jake Rhodes",
      "userId": "08644184539460642117"
     },
     "user_tz": 420
    },
    "id": "_ZqCOMXm_B1E",
    "outputId": "61578936-e50b-4a5c-df8a-0a2589d47c6d"
   },
   "outputs": [],
   "source": [
    "sns.boxplot(data = tips, x = 'sex', y = 'tip_pct')"
   ]
  },
  {
   "cell_type": "code",
   "execution_count": null,
   "metadata": {
    "colab": {
     "base_uri": "https://localhost:8080/",
     "height": 467
    },
    "executionInfo": {
     "elapsed": 194,
     "status": "ok",
     "timestamp": 1738253634587,
     "user": {
      "displayName": "Jake Rhodes",
      "userId": "08644184539460642117"
     },
     "user_tz": 420
    },
    "id": "tAeMhxA0_B1E",
    "outputId": "eaf19a88-7e37-4ed9-b4ed-c14296e7ea53"
   },
   "outputs": [],
   "source": [
    "sns.violinplot(data = tips, x = 'sex', y = 'tip_pct',  hue = 'sex', palette = 'Dark2')"
   ]
  },
  {
   "cell_type": "markdown",
   "metadata": {
    "id": "rqGKb-rv_B1E"
   },
   "source": [
    "## stripplot\n",
    "The stripplot will draw a scatterplot where one variable is categorical. A strip plot can be drawn on its own, but it is also a good complement to a box or violin plot in cases where you want to show all observations along with some representation of the underlying distribution.\n"
   ]
  },
  {
   "cell_type": "markdown",
   "metadata": {
    "id": "YTiX5GPX_B1E"
   },
   "source": [
    "``sns.stripplot(x=\"<cat>\", y=\"<num>\", data= , jitter=<bool>)``\n",
    "\n",
    "``sns.stripplot(x=\"<cat>\", y=\"<num>\", data= ,jitter=<bool>,hue='<cat>',palette=' ',split=<bool>)``"
   ]
  },
  {
   "cell_type": "code",
   "execution_count": null,
   "metadata": {
    "colab": {
     "base_uri": "https://localhost:8080/",
     "height": 467
    },
    "executionInfo": {
     "elapsed": 282,
     "status": "ok",
     "timestamp": 1738253634867,
     "user": {
      "displayName": "Jake Rhodes",
      "userId": "08644184539460642117"
     },
     "user_tz": 420
    },
    "id": "0McYmpag_B1E",
    "outputId": "48c512a3-3c39-4285-b365-07021e31faa4"
   },
   "outputs": [],
   "source": [
    "sns.stripplot(data = tips, x = 'day', y = 'total_bill', hue = 'tip_pct')"
   ]
  },
  {
   "cell_type": "code",
   "execution_count": null,
   "metadata": {
    "colab": {
     "base_uri": "https://localhost:8080/",
     "height": 467
    },
    "executionInfo": {
     "elapsed": 409,
     "status": "ok",
     "timestamp": 1738253635274,
     "user": {
      "displayName": "Jake Rhodes",
      "userId": "08644184539460642117"
     },
     "user_tz": 420
    },
    "id": "uTmWt0Cm_B1H",
    "outputId": "9eb212f0-1877-4fd0-ebdc-0b2c8eb7afb4"
   },
   "outputs": [],
   "source": [
    "sns.stripplot(data = tips, x = 'day', y = 'total_bill', jitter = False)"
   ]
  },
  {
   "cell_type": "markdown",
   "metadata": {
    "id": "TVbKTPnP_B1I"
   },
   "source": [
    "# Categorical Data Plots\n",
    "\n",
    "Now let's discuss using seaborn to plot categorical data!\n",
    "\n",
    "* barplot\n",
    "* countplot"
   ]
  },
  {
   "cell_type": "markdown",
   "metadata": {
    "id": "IVFFNGza_B1I"
   },
   "source": [
    "``sns.barplot(x='<cat>',y='<num>',data= , estimator= <default is mean>)``\n",
    "\n",
    "``sns.countplot(x='<cat>',data=tips)``"
   ]
  },
  {
   "cell_type": "code",
   "execution_count": null,
   "metadata": {
    "colab": {
     "base_uri": "https://localhost:8080/",
     "height": 467
    },
    "executionInfo": {
     "elapsed": 147,
     "status": "ok",
     "timestamp": 1738253635685,
     "user": {
      "displayName": "Jake Rhodes",
      "userId": "08644184539460642117"
     },
     "user_tz": 420
    },
    "id": "-01_wZhx_B1I",
    "outputId": "852548ec-8dfe-457d-e77b-407a84ff5323"
   },
   "outputs": [],
   "source": [
    "sns.barplot(data = tips, x = 'sex', y = 'tip')"
   ]
  },
  {
   "cell_type": "code",
   "execution_count": null,
   "metadata": {
    "colab": {
     "base_uri": "https://localhost:8080/",
     "height": 467
    },
    "executionInfo": {
     "elapsed": 310,
     "status": "ok",
     "timestamp": 1738253635993,
     "user": {
      "displayName": "Jake Rhodes",
      "userId": "08644184539460642117"
     },
     "user_tz": 420
    },
    "id": "dwQm1RDd_B1I",
    "outputId": "36c50944-878e-4810-f162-1e0e5bd7887d"
   },
   "outputs": [],
   "source": [
    "sns.countplot(data = tips, x = 'sex', hue = 'sex')"
   ]
  },
  {
   "cell_type": "markdown",
   "metadata": {
    "id": "yt1NijqK_B1I"
   },
   "source": [
    "# Plots for \"Matrix\" Data\n",
    "\n",
    "Matrix plots allow you to plot data as color-encoded matrices and can also be used to indicate clusters within the data."
   ]
  },
  {
   "cell_type": "markdown",
   "metadata": {
    "id": "svfe3byq_B1I"
   },
   "source": [
    "`sns.heatmap(matrix)`\n",
    "\n",
    "`sns.heatmap(matrix, cmap=' ', annot=<bool>)`\n",
    "\n",
    "`sns.clustermap(matrix)`"
   ]
  },
  {
   "cell_type": "code",
   "execution_count": 28,
   "metadata": {
    "id": "rjrYvW3q_B1I"
   },
   "outputs": [],
   "source": [
    "from scipy.spatial.distance import pdist, squareform"
   ]
  },
  {
   "cell_type": "code",
   "execution_count": 29,
   "metadata": {
    "id": "TdSG8092_B1I"
   },
   "outputs": [],
   "source": [
    "iris_dists = squareform(pdist(iris.loc[:, iris.columns != 'species']))"
   ]
  },
  {
   "cell_type": "code",
   "execution_count": null,
   "metadata": {
    "colab": {
     "base_uri": "https://localhost:8080/",
     "height": 466
    },
    "executionInfo": {
     "elapsed": 890,
     "status": "ok",
     "timestamp": 1738253636881,
     "user": {
      "displayName": "Jake Rhodes",
      "userId": "08644184539460642117"
     },
     "user_tz": 420
    },
    "id": "L1_NxPfY_B1I",
    "outputId": "30d84f29-66f1-4e32-d3cf-3bf499be8ff8"
   },
   "outputs": [],
   "source": [
    "sns.heatmap(iris_dists, cmap = 'cubehelix')"
   ]
  },
  {
   "cell_type": "markdown",
   "metadata": {
    "id": "Ccka5Izk_B1I"
   },
   "source": [
    "Seaborn colormaps: [colormaps](https://seaborn.pydata.org/tutorial/color_palettes.html)"
   ]
  },
  {
   "cell_type": "markdown",
   "metadata": {
    "id": "HsZ10yWO_B1I"
   },
   "source": [
    "## Facet Grid\n",
    "\n",
    "FacetGrid is the general way to create grids of plots based off of a feature"
   ]
  },
  {
   "cell_type": "code",
   "execution_count": null,
   "metadata": {
    "colab": {
     "base_uri": "https://localhost:8080/",
     "height": 448
    },
    "executionInfo": {
     "elapsed": 4,
     "status": "ok",
     "timestamp": 1738253636881,
     "user": {
      "displayName": "Jake Rhodes",
      "userId": "08644184539460642117"
     },
     "user_tz": 420
    },
    "id": "ky-25Q1Y_B1I",
    "outputId": "23b6ea70-6eef-4ab4-e7bf-b2284db6ac8e"
   },
   "outputs": [],
   "source": [
    "sns.histplot()"
   ]
  },
  {
   "cell_type": "code",
   "execution_count": null,
   "metadata": {
    "colab": {
     "base_uri": "https://localhost:8080/",
     "height": 607
    },
    "executionInfo": {
     "elapsed": 1048,
     "status": "ok",
     "timestamp": 1738253637926,
     "user": {
      "displayName": "Jake Rhodes",
      "userId": "08644184539460642117"
     },
     "user_tz": 420
    },
    "id": "cbiRifQm_B1I",
    "outputId": "81021d7b-8627-4847-f175-68249c1ac04e"
   },
   "outputs": [],
   "source": [
    "g = sns.FacetGrid(tips, col = \"time\",  row = \"smoker\")\n",
    "g = g.map(sns.histplot, \"total_bill\")"
   ]
  },
  {
   "cell_type": "code",
   "execution_count": null,
   "metadata": {
    "colab": {
     "base_uri": "https://localhost:8080/",
     "height": 607
    },
    "executionInfo": {
     "elapsed": 768,
     "status": "ok",
     "timestamp": 1738253638693,
     "user": {
      "displayName": "Jake Rhodes",
      "userId": "08644184539460642117"
     },
     "user_tz": 420
    },
    "id": "YAuTcXiN_B1I",
    "outputId": "bf62d0db-82df-4b18-8d08-2fc9674208cb"
   },
   "outputs": [],
   "source": [
    "# Can also use matplotlib plots!\n",
    "g = sns.FacetGrid(tips, col = \"time\",  row = \"smoker\")\n",
    "g = g.map(plt.hist, \"total_bill\")"
   ]
  },
  {
   "cell_type": "code",
   "execution_count": null,
   "metadata": {
    "colab": {
     "base_uri": "https://localhost:8080/",
     "height": 607
    },
    "executionInfo": {
     "elapsed": 1204,
     "status": "ok",
     "timestamp": 1738253639896,
     "user": {
      "displayName": "Jake Rhodes",
      "userId": "08644184539460642117"
     },
     "user_tz": 420
    },
    "id": "5H2Z70HX_B1I",
    "outputId": "664d1d4d-cf6e-4eb3-d150-ead035a79afd"
   },
   "outputs": [],
   "source": [
    "g = sns.FacetGrid(tips, col = \"time\",  row = \"smoker\", hue = 'sex')\n",
    "# Notice how the arguments come after plt.scatter call: x, y\n",
    "g = g.map(plt.scatter, \"total_bill\", \"tip\").add_legend()"
   ]
  },
  {
   "cell_type": "code",
   "execution_count": null,
   "metadata": {
    "id": "ZHSbPsGx_B1I"
   },
   "outputs": [],
   "source": []
  },
  {
   "cell_type": "markdown",
   "metadata": {
    "id": "rTvSj9ZU_B1I"
   },
   "source": [
    "# Regression Plots\n",
    "\n",
    "Seaborn has many built-in capabilities for regression plots.\n",
    "\n",
    "**lmplot** allows you to display linear models, but it also conveniently allows you to split up those plots based off of features, as well as coloring the hue based off of features.\n",
    "\n",
    "Let's explore how this works:"
   ]
  },
  {
   "cell_type": "markdown",
   "metadata": {
    "id": "9At8g_Dj_B1J"
   },
   "source": [
    "`sns.lmplot(x='<num>',y='<num>', data= )`\n",
    "\n",
    "`sns.lmplot(x='<num>',y='<nujm>',data= , hue='<cat>', palette=\" \")`\n",
    "\n"
   ]
  },
  {
   "cell_type": "code",
   "execution_count": null,
   "metadata": {
    "colab": {
     "base_uri": "https://localhost:8080/",
     "height": 524
    },
    "executionInfo": {
     "elapsed": 669,
     "status": "ok",
     "timestamp": 1738253640563,
     "user": {
      "displayName": "Jake Rhodes",
      "userId": "08644184539460642117"
     },
     "user_tz": 420
    },
    "id": "baX8VKIb_B1J",
    "outputId": "5241f169-fe07-4c75-8145-291383328359"
   },
   "outputs": [],
   "source": [
    "sns.lmplot(data = tips, x = 'total_bill', y = 'tip')"
   ]
  },
  {
   "cell_type": "code",
   "execution_count": null,
   "metadata": {
    "id": "Nvgmt6GW_B1J"
   },
   "outputs": [],
   "source": []
  },
  {
   "cell_type": "markdown",
   "metadata": {
    "id": "pt7ZjI17_B1J"
   },
   "source": [
    "## Using a Grid\n",
    "\n",
    "`lmplot` can easily create facets. Just indicate this with the col or row arguments:"
   ]
  },
  {
   "cell_type": "code",
   "execution_count": null,
   "metadata": {
    "colab": {
     "base_uri": "https://localhost:8080/",
     "height": 1000
    },
    "executionInfo": {
     "elapsed": 2058,
     "status": "ok",
     "timestamp": 1738253642619,
     "user": {
      "displayName": "Jake Rhodes",
      "userId": "08644184539460642117"
     },
     "user_tz": 420
    },
    "id": "Tx8eiCEF_B1J",
    "outputId": "de806280-7084-47d4-8374-899661bb4bd3"
   },
   "outputs": [],
   "source": [
    "sns.lmplot(x = \"total_bill\", y = \"tip\", row = \"sex\", col = \"time\", data = tips)"
   ]
  },
  {
   "cell_type": "code",
   "execution_count": null,
   "metadata": {
    "id": "S22olHKK_B1J"
   },
   "outputs": [],
   "source": []
  },
  {
   "cell_type": "markdown",
   "metadata": {
    "id": "KMAhX4ZZ_B1J"
   },
   "source": [
    "# Aspect and Size\n",
    "\n",
    "Seaborn figures can have their size and aspect ratio adjusted with the **size** (inches) and **aspect** (ratio) parameters.  \n",
    "\n",
    "sns.lmplot(x = ' ', y = ' ', data = , col = ' ', hue = ' ', palette = ' ', aspect = ,size = )\n",
    "\n",
    "There is also a **height** parameter that specifies the height of individual facets."
   ]
  },
  {
   "cell_type": "code",
   "execution_count": null,
   "metadata": {
    "colab": {
     "base_uri": "https://localhost:8080/",
     "height": 525
    },
    "executionInfo": {
     "elapsed": 1416,
     "status": "ok",
     "timestamp": 1738253644032,
     "user": {
      "displayName": "Jake Rhodes",
      "userId": "08644184539460642117"
     },
     "user_tz": 420
    },
    "id": "B7BUVi5I_B1J",
    "outputId": "cd6cee09-419f-46f5-ca82-a9f828fa1bcd"
   },
   "outputs": [],
   "source": [
    "sns.lmplot(data = iris, x = 'petal_length', y = 'sepal_length', col = 'species',\n",
    "           hue = 'species', palette = 'Dark2')"
   ]
  },
  {
   "cell_type": "markdown",
   "metadata": {
    "id": "iRTgD8Vp_B1J"
   },
   "source": [
    "## Selecting a palette (color scheme)\n",
    "We can review the available palettes by calling sns.color_palette().\n",
    "\n",
    "Seaborn color palettes [here.](https://seaborn.pydata.org/tutorial/color_palettes.html)\n",
    "\n",
    "Color advice can be found here: [ColorBrewer2](https://colorbrewer2.org/)"
   ]
  },
  {
   "cell_type": "code",
   "execution_count": null,
   "metadata": {
    "colab": {
     "base_uri": "https://localhost:8080/",
     "height": 468
    },
    "executionInfo": {
     "elapsed": 153,
     "status": "ok",
     "timestamp": 1738253644181,
     "user": {
      "displayName": "Jake Rhodes",
      "userId": "08644184539460642117"
     },
     "user_tz": 420
    },
    "id": "pPeF0xHp_B1J",
    "outputId": "c8a5ed87-2bab-4637-fbf3-b9582022414d"
   },
   "outputs": [],
   "source": [
    "# Example of using hue\n",
    "sns.scatterplot(data=iris, x='petal_length', y='petal_width', hue='species', palette='Dark2')"
   ]
  },
  {
   "cell_type": "markdown",
   "metadata": {
    "id": "6V7cTmdG_B1J"
   },
   "source": [
    "You can also generate your own color palette using hex codes:"
   ]
  },
  {
   "cell_type": "code",
   "execution_count": null,
   "metadata": {
    "colab": {
     "base_uri": "https://localhost:8080/",
     "height": 468
    },
    "executionInfo": {
     "elapsed": 334,
     "status": "ok",
     "timestamp": 1738253644512,
     "user": {
      "displayName": "Jake Rhodes",
      "userId": "08644184539460642117"
     },
     "user_tz": 420
    },
    "id": "20srEMDv_B1J",
    "outputId": "e246643d-6776-400e-8e29-509a6f9031ff"
   },
   "outputs": [],
   "source": [
    "custom_palette = sns.color_palette([\"#A39382\", \"#002E5D\", \"#0047BA\"]) # Go BYU!\n",
    "# sns.set_palette(custom_palette) # Set globally\n",
    "\n",
    "# Example usage with a scatter plot\n",
    "sns.scatterplot(data=iris, x='petal_length', y='petal_width', hue='species', palette = custom_palette)"
   ]
  },
  {
   "cell_type": "markdown",
   "metadata": {
    "id": "YAOlvAhN_B1J"
   },
   "source": [
    "Colormaps (cmap) can be set for continuous variables."
   ]
  },
  {
   "cell_type": "code",
   "execution_count": null,
   "metadata": {
    "colab": {
     "base_uri": "https://localhost:8080/",
     "height": 450
    },
    "executionInfo": {
     "elapsed": 188,
     "status": "ok",
     "timestamp": 1738253644698,
     "user": {
      "displayName": "Jake Rhodes",
      "userId": "08644184539460642117"
     },
     "user_tz": 420
    },
    "id": "6XjUoGqS_B1J",
    "outputId": "1b254b8e-41e4-4275-fc3e-9b22adbc3ff1"
   },
   "outputs": [],
   "source": [
    "# Example using colormaps for continuous variables\n",
    "sns.scatterplot(data=iris, x='petal_length', y='petal_width', hue='sepal_length', palette='viridis')\n",
    "plt.show()"
   ]
  },
  {
   "cell_type": "markdown",
   "metadata": {
    "id": "NxM9PYgL_B1J"
   },
   "source": [
    "# Style and Context\n",
    "\n",
    "`sns.set_style('whitegride')` can take the following styles:  darkgrid, whitegrid, dark, white, or ticks.  Advanced users can customize further.\n",
    "\n",
    "`sns.set_context('notebook', font_scale = 1)` can take take the following contexts: notebook (default), paper, talk, poster.  The font can also be adjusted.  Advanced users can customize further."
   ]
  },
  {
   "cell_type": "code",
   "execution_count": 41,
   "metadata": {
    "id": "S3Yfgg-o_B1J"
   },
   "outputs": [],
   "source": [
    "sns.set_style('whitegrid')\n",
    "# sns.set_style('darkgrid')"
   ]
  },
  {
   "cell_type": "code",
   "execution_count": null,
   "metadata": {
    "colab": {
     "base_uri": "https://localhost:8080/",
     "height": 560
    },
    "executionInfo": {
     "elapsed": 438,
     "status": "ok",
     "timestamp": 1738253645306,
     "user": {
      "displayName": "Jake Rhodes",
      "userId": "08644184539460642117"
     },
     "user_tz": 420
    },
    "id": "KchKsVYI_B1J",
    "outputId": "0e7dc9b4-3f99-4515-a0cb-3ceabeac61f7"
   },
   "outputs": [],
   "source": [
    "fig, axes = plt.subplots(1, 2, figsize = (12, 6))\n",
    "\n",
    "sns.scatterplot(iris, x = 'petal_length', y = 'petal_width', hue = 'species', ax = axes[0])\n",
    "sns.scatterplot(iris, x = 'petal_length', y = 'petal_width', hue = 'sepal_length', ax = axes[1])"
   ]
  },
  {
   "cell_type": "code",
   "execution_count": null,
   "metadata": {
    "colab": {
     "base_uri": "https://localhost:8080/",
     "height": 468
    },
    "executionInfo": {
     "elapsed": 320,
     "status": "ok",
     "timestamp": 1738253645624,
     "user": {
      "displayName": "Jake Rhodes",
      "userId": "08644184539460642117"
     },
     "user_tz": 420
    },
    "id": "0VSHwFKx_B1J",
    "outputId": "58bccad2-3d60-4d14-9041-a60d91992932"
   },
   "outputs": [],
   "source": [
    "sns.histplot(iris, x = 'petal_length', hue = 'species')"
   ]
  },
  {
   "cell_type": "markdown",
   "metadata": {
    "id": "XZkZfEZg_B1J",
    "vscode": {
     "languageId": "markdown"
    }
   },
   "source": [
    "# Your turn!\n",
    "\n",
    "In this exercise, you will work with the `tips` dataset to explore various aspects of the data using Seaborn.\n",
    "\n",
    "## Questions:\n",
    "\n",
    "1. **Distribution of Total Bill:**\n",
    "    - Plot the distribution of the `total_bill` column using a histogram. Include a rug plot.\n",
    "    - What is the most common range of total bills?\n",
    "\n",
    "2. **Tip Percentage by Day:**\n",
    "    - Create a boxplot to visualize the distribution of `tip_pct` for each day of the week.\n",
    "    - Which day has the highest median tip percentage?\n",
    "\n",
    "3. **Total Bill vs Tip:**\n",
    "    - Create a scatter plot to visualize the relationship between `total_bill` and `tip`.\n",
    "    - Add a regression line to the scatter plot.\n",
    "    - Is there a correlation between total bill and tip?\n",
    "\n",
    "4. **Tip Percentage by Gender and Smoker Status:**\n",
    "    - Create a violin plot to visualize the distribution of `tip_pct` smoker status.\n",
    "    - Are there any noticeable differences in tip percentages between smokers and non-smokers?\n",
    "\n",
    "5. **Facet Grid of Total Bill by Time and Day:**\n",
    "    - Create a FacetGrid to plot the distribution of `total_bill` for each combination of `time` (Lunch/Dinner) and `day`.\n",
    "    - Which combination of time and day has the highest total bills?\n"
   ]
  },
  {
   "cell_type": "markdown",
   "metadata": {
    "vscode": {
     "languageId": "markdown"
    }
   },
   "source": [
    "# Your turn!\n",
    "## Practice Questions for the Flights Dataset:\n",
    "\n",
    "Start by getting familiar with the data. Then answer the below questions.\n",
    "\n",
    "1. **Monthly Passengers Over Time:**\n",
    "    - Plot the number of passengers for each month over the years.\n",
    "    - Which month has the highest number of passengers on average?\n",
    "\n",
    "2. **Yearly Trend:**\n",
    "    - Create a line plot to show the trend of passengers over the years.\n",
    "    - Is there a noticeable trend in the number of passengers over the years?\n",
    "\n",
    "3. **Heatmap of Passengers:**\n",
    "    - Create a heatmap to visualize the number of passengers for each month and year.\n",
    "    - Which year and month combination had the highest number of passengers?\n",
    "\n",
    "4. **Monthly Distribution:**\n",
    "    - Create a boxplot to visualize the distribution of passengers for each month.\n",
    "    - Which month shows the most variation in the number of passengers?\n",
    "\n",
    "5. **Seasonal Trend:**\n",
    "    - Create a FacetGrid to plot the distribution of passengers for each season (Winter, Spring, Summer, Fall). (Hint: You will need to create a season variable!)\n",
    "    - Which season has the highest average number of passengers?\n",
    "\n",
    "6. **Additional Question:**\n",
    "    - Come up with one additional question and a plot to answer it."
   ]
  },
  {
   "cell_type": "code",
   "execution_count": null,
   "metadata": {
    "vscode": {
     "languageId": "markdown"
    }
   },
   "outputs": [],
   "source": [
    "flights.head()"
   ]
  }
 ],
 "metadata": {
  "colab": {
   "provenance": []
  },
  "kernelspec": {
   "display_name": "base",
   "language": "python",
   "name": "python3"
  },
  "language_info": {
   "codemirror_mode": {
    "name": "ipython",
    "version": 3
   },
   "file_extension": ".py",
   "mimetype": "text/x-python",
   "name": "python",
   "nbconvert_exporter": "python",
   "pygments_lexer": "ipython3",
   "version": "3.11.4"
  }
 },
 "nbformat": 4,
 "nbformat_minor": 0
}

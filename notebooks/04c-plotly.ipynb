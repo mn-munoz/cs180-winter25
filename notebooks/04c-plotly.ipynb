{
 "cells": [
  {
   "cell_type": "code",
   "execution_count": 1,
   "metadata": {},
   "outputs": [],
   "source": [
    "# If you haven't installed Plotly yet, you can install it using pip\n",
    "# !pip install plotly"
   ]
  },
  {
   "cell_type": "code",
   "execution_count": 2,
   "metadata": {},
   "outputs": [],
   "source": [
    "import plotly.express as px\n",
    "import pandas as pd"
   ]
  },
  {
   "cell_type": "code",
   "execution_count": 3,
   "metadata": {},
   "outputs": [
    {
     "data": {
      "text/html": [
       "<div>\n",
       "<style scoped>\n",
       "    .dataframe tbody tr th:only-of-type {\n",
       "        vertical-align: middle;\n",
       "    }\n",
       "\n",
       "    .dataframe tbody tr th {\n",
       "        vertical-align: top;\n",
       "    }\n",
       "\n",
       "    .dataframe thead th {\n",
       "        text-align: right;\n",
       "    }\n",
       "</style>\n",
       "<table border=\"1\" class=\"dataframe\">\n",
       "  <thead>\n",
       "    <tr style=\"text-align: right;\">\n",
       "      <th></th>\n",
       "      <th>country</th>\n",
       "      <th>continent</th>\n",
       "      <th>year</th>\n",
       "      <th>lifeExp</th>\n",
       "      <th>pop</th>\n",
       "      <th>gdpPercap</th>\n",
       "      <th>iso_alpha</th>\n",
       "      <th>iso_num</th>\n",
       "    </tr>\n",
       "  </thead>\n",
       "  <tbody>\n",
       "    <tr>\n",
       "      <th>0</th>\n",
       "      <td>Afghanistan</td>\n",
       "      <td>Asia</td>\n",
       "      <td>1952</td>\n",
       "      <td>28.801</td>\n",
       "      <td>8425333</td>\n",
       "      <td>779.445314</td>\n",
       "      <td>AFG</td>\n",
       "      <td>4</td>\n",
       "    </tr>\n",
       "    <tr>\n",
       "      <th>1</th>\n",
       "      <td>Afghanistan</td>\n",
       "      <td>Asia</td>\n",
       "      <td>1957</td>\n",
       "      <td>30.332</td>\n",
       "      <td>9240934</td>\n",
       "      <td>820.853030</td>\n",
       "      <td>AFG</td>\n",
       "      <td>4</td>\n",
       "    </tr>\n",
       "    <tr>\n",
       "      <th>2</th>\n",
       "      <td>Afghanistan</td>\n",
       "      <td>Asia</td>\n",
       "      <td>1962</td>\n",
       "      <td>31.997</td>\n",
       "      <td>10267083</td>\n",
       "      <td>853.100710</td>\n",
       "      <td>AFG</td>\n",
       "      <td>4</td>\n",
       "    </tr>\n",
       "    <tr>\n",
       "      <th>3</th>\n",
       "      <td>Afghanistan</td>\n",
       "      <td>Asia</td>\n",
       "      <td>1967</td>\n",
       "      <td>34.020</td>\n",
       "      <td>11537966</td>\n",
       "      <td>836.197138</td>\n",
       "      <td>AFG</td>\n",
       "      <td>4</td>\n",
       "    </tr>\n",
       "    <tr>\n",
       "      <th>4</th>\n",
       "      <td>Afghanistan</td>\n",
       "      <td>Asia</td>\n",
       "      <td>1972</td>\n",
       "      <td>36.088</td>\n",
       "      <td>13079460</td>\n",
       "      <td>739.981106</td>\n",
       "      <td>AFG</td>\n",
       "      <td>4</td>\n",
       "    </tr>\n",
       "  </tbody>\n",
       "</table>\n",
       "</div>"
      ],
      "text/plain": [
       "       country continent  year  lifeExp       pop   gdpPercap iso_alpha  \\\n",
       "0  Afghanistan      Asia  1952   28.801   8425333  779.445314       AFG   \n",
       "1  Afghanistan      Asia  1957   30.332   9240934  820.853030       AFG   \n",
       "2  Afghanistan      Asia  1962   31.997  10267083  853.100710       AFG   \n",
       "3  Afghanistan      Asia  1967   34.020  11537966  836.197138       AFG   \n",
       "4  Afghanistan      Asia  1972   36.088  13079460  739.981106       AFG   \n",
       "\n",
       "   iso_num  \n",
       "0        4  \n",
       "1        4  \n",
       "2        4  \n",
       "3        4  \n",
       "4        4  "
      ]
     },
     "execution_count": 3,
     "metadata": {},
     "output_type": "execute_result"
    }
   ],
   "source": [
    "# Sample datasets: gapminder\n",
    "df = px.data.gapminder()\n",
    "df.head()"
   ]
  },
  {
   "cell_type": "code",
   "execution_count": 4,
   "metadata": {},
   "outputs": [
    {
     "data": {
      "application/vnd.plotly.v1+json": {
       "config": {
        "plotlyServerURL": "https://plot.ly"
       },
       "data": [
        {
         "hovertemplate": "<b>%{hovertext}</b><br><br>continent=Asia<br>gdpPercap=%{x}<br>lifeExp=%{y}<br>pop=%{marker.size}<extra></extra>",
         "hovertext": [
          "Afghanistan",
          "Bahrain",
          "Bangladesh",
          "Cambodia",
          "China",
          "Hong Kong, China",
          "India",
          "Indonesia",
          "Iran",
          "Iraq",
          "Israel",
          "Japan",
          "Jordan",
          "Korea, Dem. Rep.",
          "Korea, Rep.",
          "Kuwait",
          "Lebanon",
          "Malaysia",
          "Mongolia",
          "Myanmar",
          "Nepal",
          "Oman",
          "Pakistan",
          "Philippines",
          "Saudi Arabia",
          "Singapore",
          "Sri Lanka",
          "Syria",
          "Taiwan",
          "Thailand",
          "Vietnam",
          "West Bank and Gaza",
          "Yemen, Rep."
         ],
         "legendgroup": "Asia",
         "marker": {
          "color": "#636efa",
          "size": {
           "bdata": "A5rmAd3PCgDTqPcIkqLXANiBmU48g2oAq00vQngOUw0CxyMEdpyjATcQYgDEAZkHSV1cAF2OYwE2XewCVzsmAH7VOwAmvnoBD9srADzK2AKeAbkBIecwAFndFgqnum0FjiilATF5RQB/8jYBO7gmAZacYQF13OADFAAVBZxQPQCf7FIB",
           "dtype": "i4"
          },
          "sizemode": "area",
          "sizeref": 366300.86,
          "symbol": "circle"
         },
         "mode": "markers",
         "name": "Asia",
         "orientation": "v",
         "showlegend": true,
         "type": "scatter",
         "x": {
          "bdata": "54R1iKR0jkDGpwAYAxndQPLPDOIDvZVAat/cXx3HmkDRXRJnHV+zQHK/Q1GfZeNAs193umsoo0CA7suZTamrQKmHaHTbqsZAbVUS2Q93sUBuowG80ezYQItUGFsE6t5A3XpND3ansUArajANQ+SYQBMZVvEIzdZASBtHrF8Z50B3hNOCh27EQFwgQfHTUchATsEaZ4svqEAAAAAAAICNQEjfpGlwDZFAmGn7VwzL1UCwrDQp5VukQLWpukf27KhAD0WBPrUl1UCiYpy/5QTnQJ6xL9kwBK9ATIqPT4xYsECOHr+3kQvcQIOvr3VlIr1AkdJsHicTo0BqNLkYs6KnQP2FHjGK0aFA",
          "dtype": "f8"
         },
         "xaxis": "x",
         "y": {
          "bdata": "RIts5/vpRUBxPQrXo+hSQIcW2c73A1BABoGVQ4vcTUAv3SQGgT1SQFpkO99PjVRA6iYxCKwsUECamZmZmalRQARWDi2yvVFA9ihcj8LFTUBI4XoUri9UQDvfT42XplRACtejcD0iUkBeukkMAtNQQB1aZDvfp1NAFIPAyqFlU0BkO99Pjf9RQIGVQ4tsj1JACKwcWmSzUEBGtvP91AhPQBSuR+F65E9AKVyPwvXoUkD0/dR46V5QQHnpJjEI7FFAfT81XroxUkCR7Xw/Nf5TQNNNYhBYGVJA/tR46SaJUkCamZmZmZlTQIGVQ4tsp1FADi2yne+PUkBeukkMAltSQNNNYhBYWU9A",
          "dtype": "f8"
         },
         "yaxis": "y"
        },
        {
         "hovertemplate": "<b>%{hovertext}</b><br><br>continent=Europe<br>gdpPercap=%{x}<br>lifeExp=%{y}<br>pop=%{marker.size}<extra></extra>",
         "hovertext": [
          "Albania",
          "Austria",
          "Belgium",
          "Bosnia and Herzegovina",
          "Bulgaria",
          "Croatia",
          "Czech Republic",
          "Denmark",
          "Finland",
          "France",
          "Germany",
          "Greece",
          "Hungary",
          "Iceland",
          "Ireland",
          "Italy",
          "Montenegro",
          "Netherlands",
          "Norway",
          "Poland",
          "Portugal",
          "Romania",
          "Serbia",
          "Slovak Republic",
          "Slovenia",
          "Spain",
          "Sweden",
          "Switzerland",
          "Turkey",
          "United Kingdom"
         ],
         "legendgroup": "Europe",
         "marker": {
          "color": "#EF553B",
          "size": {
           "bdata": "i/A2AGcefQCikp4ABnZFAOq8bwAAkEQACBScANhvUwC87k8ADBGkA+RW6QRyXaMADOuXAGubBAAesz4AlUN3A8ByCgD12PwA1p1GAOG9SwKUZaIA2OdTAXnhmgBOH1MAnageAL8waQKwzYkAZUZzAHfLPQQuX58D",
           "dtype": "i4"
          },
          "sizemode": "area",
          "sizeref": 366300.86,
          "symbol": "circle"
         },
         "mode": "markers",
         "name": "Europe",
         "orientation": "v",
         "showlegend": true,
         "type": "scatter",
         "x": {
          "bdata": "YBQEjwcxt0BYyjLEz6PhQG+70FyTc+BA8nhafkwWvUDPMSB7ZdzEQBTGFoKcjcxAH7qgvlNM1kCxbVFmzTnhQPmgZ7PiNuBAduCcEYHB3UC+TX/2l2rfQHjuPVya5NpAQni0cTyW0UALYwtBmarhQCxlGeJ/3ONAvJaQD27m20BL58Oz8hLCQJbnwd299+FAVmXfFaYZ6ECjC+pb9g7OQFVNEHVpB9RA09nJ4DwcxUBbI4JxRB3DQGB2Tx6UPdJAcsRafBAq2UAwKqkTRCXcQP+ye/J3iOBAGH0FaU1Q4kCSCI1gI4XAQOPfZ1xoNuBA",
          "dtype": "f8"
         },
         "xaxis": "x",
         "y": {
          "bdata": "UI2XbhIbU0CTGARWDvVTQE5iEFg53FNASgwCK4e2UkC4HoXrUUBSQB1aZDvf71JAyXa+nxofU0Boke18P5VTQHnpJjEI1FNANV66SQwqVEBEi2zn+9lTQPT91Hjp3lNAFIPAyqFVUkCcxCCwcnBUQHE9CtejuFNAbef7qfEiVECYbhKDwKJSQFTjpZvE8FNABoGVQ4sMVEB56SYxCORSQIPAyqFFhlNAWDm0yHYeUkDjpZvEIIBSQN9PjZduqlJAJQaBlUN7U0BOYhBYOTxUQH9qvHSTOFRAwJ8aL91sVEB9PzVeuvFRQDMzMzMz21NA",
          "dtype": "f8"
         },
         "yaxis": "y"
        },
        {
         "hovertemplate": "<b>%{hovertext}</b><br><br>continent=Africa<br>gdpPercap=%{x}<br>lifeExp=%{y}<br>pop=%{marker.size}<extra></extra>",
         "hovertext": [
          "Algeria",
          "Angola",
          "Benin",
          "Botswana",
          "Burkina Faso",
          "Burundi",
          "Cameroon",
          "Central African Republic",
          "Chad",
          "Comoros",
          "Congo, Dem. Rep.",
          "Congo, Rep.",
          "Cote d'Ivoire",
          "Djibouti",
          "Egypt",
          "Equatorial Guinea",
          "Eritrea",
          "Ethiopia",
          "Gabon",
          "Gambia",
          "Ghana",
          "Guinea",
          "Guinea-Bissau",
          "Kenya",
          "Lesotho",
          "Liberia",
          "Libya",
          "Madagascar",
          "Malawi",
          "Mali",
          "Mauritania",
          "Mauritius",
          "Morocco",
          "Mozambique",
          "Namibia",
          "Niger",
          "Nigeria",
          "Reunion",
          "Rwanda",
          "Sao Tome and Principe",
          "Senegal",
          "Sierra Leone",
          "Somalia",
          "South Africa",
          "Sudan",
          "Swaziland",
          "Tanzania",
          "Togo",
          "Tunisia",
          "Uganda",
          "Zambia",
          "Zimbabwe"
         ],
         "legendgroup": "Africa",
         "marker": {
          "color": "#00cc96",
          "size": {
           "bdata": "4J/8AXyFvQDqQ3sA2wIZALuZ2gBpB4AAJQYOAY6qQgBXO5wAMNkKACfS2QMi/jkA4dwSAfaSBwBfvcgEIWkIAFneSgCPeo8EEzMWACfDGQD6BF0BpsqXACl2FgBBXh8C6bUeAFa8MACyHVwApnkkAedaywAzl7cAseUxAEIWEwD3FwMCKHAwAahbHwCRwsQAfGkMCI4tDACsM4cAmwsDAOUvuwAywl0ANSSLAIRanwLBVoUCCkoRAPj2RQLL/1YAPs2cAN4avQHzOrMAZ9q7AA==",
           "dtype": "i4"
          },
          "sizemode": "area",
          "sizeref": 366300.86,
          "symbol": "circle"
         },
         "mode": "markers",
         "name": "Africa",
         "orientation": "v",
         "showlegend": true,
         "type": "scatter",
         "x": {
          "bdata": "ba0vEl5PuEClaVA0O72yQA5qv7UjhZZA26LMBu2MyEDb2y3JIQSTQKHhg40h4XpAFjWYhmHon0BkkSbeIRCGQOI/3UBBoJpAEj5K2y7RjkA2yMlp1FhxQIwPs5cdYaxAWTFcHQAjmECsJ/OP9kSgQKSK4lUuzbVAaJHtfAu9x0DPCMrI9AqEQJEHx9FxloVAIVnABD7LyUCOc5tw/4WHQNRgGoZvvpRAcXkH0zt1jUCc8BKc2hmCQO3Vx0P/3JZAFRqIZVOFmEB15h4SHuh5QMYzaOi/jMdAMv/omxRTkEBSoKqdzLqHQAqfrYNTSpBA5nXEIZssnEA1KQXdfmbFQI4ev7dZ2K1AvceZJny9iUC7YkZ4D8uyQEgHkEZqXYNA3lSkwuh3n0DdCfZfH/a9QAWrjyy1+IpAZof4h735mEAPnZ5348GaQOgk73dT9IpABbhq6CDxjECGcw0z1BrCQCveyDzKVKRADW5rC3uhsUDhQh7B7U2RQKkf5XHCl4tAZMxdS+y0u0AXfnA+hYGQQEDc1avY3JNA2On2SFlbfUA=",
          "dtype": "f8"
         },
         "xaxis": "x",
         "y": {
          "bdata": "JQaBlUMTUkAhsHJokV1FQHe+nxovXUxAd76fGi9dSUD2KFyPwiVKQArXo3A9ykhA16NwPQo3SUADK4cW2V5GQBfZzvdTU0lAfT81XrpJUEBCYOXQIjtHQPCnxks3qUtARIts5/spSEBoke18P2VLQBSDwMqh1VFAJjEIrBzKSUCF61G4HgVNQPCnxks3eUpArkfhehReTEDTTWIQWLlNQIlBYOXQAk5AN4lBYOUATECNbOf7qTFHQK5H4XoUDktAsp3vp8ZLRUAQWDm0yNZGQLByaJHtfFJAZBBYObS4TUAQWDm0yCZIQLKd76fGO0tA0SLb+X4KUEAlBoGVQzNSQNEi2/l+ylFA0SLb+X4KRUCJFtnO93NKQOXQItv5bkxAy6FFtvNtR0A/NV66SRxTQOXQItv5HkdAbxKDwMphUEAOLbKd74dPQGQQWDm0SEVAMQisHFoUSEAIrBxaZKtIQLpJDAIrR01AWDm0yHbOQ0AZBFYOLUJKQPYoXI/CNU1AUI2XbhJ7UkBMN4lBYMVJQP3UeOkmMUVAdZMYBFa+RUA=",
          "dtype": "f8"
         },
         "yaxis": "y"
        },
        {
         "hovertemplate": "<b>%{hovertext}</b><br><br>continent=Americas<br>gdpPercap=%{x}<br>lifeExp=%{y}<br>pop=%{marker.size}<extra></extra>",
         "hovertext": [
          "Argentina",
          "Bolivia",
          "Brazil",
          "Canada",
          "Chile",
          "Colombia",
          "Costa Rica",
          "Cuba",
          "Dominican Republic",
          "Ecuador",
          "El Salvador",
          "Guatemala",
          "Haiti",
          "Honduras",
          "Jamaica",
          "Mexico",
          "Nicaragua",
          "Panama",
          "Paraguay",
          "Peru",
          "Puerto Rico",
          "Trinidad and Tobago",
          "United States",
          "Uruguay",
          "Venezuela"
         ],
         "legendgroup": "Americas",
         "marker": {
          "color": "#ab63fa",
          "size": {
           "bdata": "Z/VmArAliwAXVVMLPX79AUV8+ADe26IC/BM/AJs1rgDGNI4AIOXRACjkaQAA2b8AHr6BAHMxcgDkayoA26R6BlyZVgC9eDEAi7tlAMWKtQFbKDwAYB8QAOsH8xHImjQANgWOAQ==",
           "dtype": "i4"
          },
          "sizemode": "area",
          "sizeref": 366300.86,
          "symbol": "circle"
         },
         "mode": "markers",
         "name": "Americas",
         "orientation": "v",
         "showlegend": true,
         "type": "scatter",
         "x": {
          "bdata": "ICQLmLD1yECcwd8vRtytQGkAb4HmtMFAB7Ezhee74UCGONbF0bnJQPruVpaUXrtAqU2c3IfWwkCBs5QsDXrBQB5Av+9fibdA5fbLJ0PZukCuvOR/WmC2QLQh/8wMQrRAECIZcozGkkAInKVkqbirQOu12VjhmLxAQQ5KmMlkx0BSRIZVpHqlQHui68KXKMNA4KKTpdZMsECIf9jS5/C8QKJ6a2At4NJAdF5jlyCW0UDr/xzm9PjkQDCeQUO7ucRAW5TZIOdLxkA=",
          "dtype": "f8"
         },
         "xaxis": "x",
         "y": {
          "bdata": "FK5H4XrUUkD6fmq8dGNQQClcj8L1GFJAbxKDwMopVEAIrBxaZKNTQDeJQWDlOFJANV66SQyyU0C28/3UeJFTQNejcD0KD1JAVg4tsp2/UkDVeOkmMfhRQH9qvHSTkFFAaJHtfD91TkDqJjEIrIxRQD81XrpJJFJAFK5H4XoMU0Coxks3iTlSQOx8PzVe4lJA46WbxCDwUUBt5/up8dpRQDu0yHa+r1NAI9v5fmp0UUBzaJHtfI9TQH9qvHSTGFNAK4cW2c5vUkA=",
          "dtype": "f8"
         },
         "yaxis": "y"
        },
        {
         "hovertemplate": "<b>%{hovertext}</b><br><br>continent=Oceania<br>gdpPercap=%{x}<br>lifeExp=%{y}<br>pop=%{marker.size}<extra></extra>",
         "hovertext": [
          "Australia",
          "New Zealand"
         ],
         "legendgroup": "Oceania",
         "marker": {
          "color": "#FFA15A",
          "size": {
           "bdata": "AM03ATvNPgA=",
           "dtype": "i4"
          },
          "sizemode": "area",
          "sizeref": 366300.86,
          "symbol": "circle"
         },
         "mode": "markers",
         "name": "Oceania",
         "orientation": "v",
         "showlegend": true,
         "type": "scatter",
         "x": {
          "bdata": "54cRwmvQ4EAEHEKVQJjYQA==",
          "dtype": "f8"
         },
         "xaxis": "x",
         "y": {
          "bdata": "16NwPQpPVECTGARWDg1UQA==",
          "dtype": "f8"
         },
         "yaxis": "y"
        }
       ],
       "layout": {
        "height": 1000,
        "legend": {
         "itemsizing": "constant",
         "title": {
          "text": "continent"
         },
         "tracegroupgap": 0
        },
        "template": {
         "data": {
          "bar": [
           {
            "error_x": {
             "color": "#2a3f5f"
            },
            "error_y": {
             "color": "#2a3f5f"
            },
            "marker": {
             "line": {
              "color": "#E5ECF6",
              "width": 0.5
             },
             "pattern": {
              "fillmode": "overlay",
              "size": 10,
              "solidity": 0.2
             }
            },
            "type": "bar"
           }
          ],
          "barpolar": [
           {
            "marker": {
             "line": {
              "color": "#E5ECF6",
              "width": 0.5
             },
             "pattern": {
              "fillmode": "overlay",
              "size": 10,
              "solidity": 0.2
             }
            },
            "type": "barpolar"
           }
          ],
          "carpet": [
           {
            "aaxis": {
             "endlinecolor": "#2a3f5f",
             "gridcolor": "white",
             "linecolor": "white",
             "minorgridcolor": "white",
             "startlinecolor": "#2a3f5f"
            },
            "baxis": {
             "endlinecolor": "#2a3f5f",
             "gridcolor": "white",
             "linecolor": "white",
             "minorgridcolor": "white",
             "startlinecolor": "#2a3f5f"
            },
            "type": "carpet"
           }
          ],
          "choropleth": [
           {
            "colorbar": {
             "outlinewidth": 0,
             "ticks": ""
            },
            "type": "choropleth"
           }
          ],
          "contour": [
           {
            "colorbar": {
             "outlinewidth": 0,
             "ticks": ""
            },
            "colorscale": [
             [
              0,
              "#0d0887"
             ],
             [
              0.1111111111111111,
              "#46039f"
             ],
             [
              0.2222222222222222,
              "#7201a8"
             ],
             [
              0.3333333333333333,
              "#9c179e"
             ],
             [
              0.4444444444444444,
              "#bd3786"
             ],
             [
              0.5555555555555556,
              "#d8576b"
             ],
             [
              0.6666666666666666,
              "#ed7953"
             ],
             [
              0.7777777777777778,
              "#fb9f3a"
             ],
             [
              0.8888888888888888,
              "#fdca26"
             ],
             [
              1,
              "#f0f921"
             ]
            ],
            "type": "contour"
           }
          ],
          "contourcarpet": [
           {
            "colorbar": {
             "outlinewidth": 0,
             "ticks": ""
            },
            "type": "contourcarpet"
           }
          ],
          "heatmap": [
           {
            "colorbar": {
             "outlinewidth": 0,
             "ticks": ""
            },
            "colorscale": [
             [
              0,
              "#0d0887"
             ],
             [
              0.1111111111111111,
              "#46039f"
             ],
             [
              0.2222222222222222,
              "#7201a8"
             ],
             [
              0.3333333333333333,
              "#9c179e"
             ],
             [
              0.4444444444444444,
              "#bd3786"
             ],
             [
              0.5555555555555556,
              "#d8576b"
             ],
             [
              0.6666666666666666,
              "#ed7953"
             ],
             [
              0.7777777777777778,
              "#fb9f3a"
             ],
             [
              0.8888888888888888,
              "#fdca26"
             ],
             [
              1,
              "#f0f921"
             ]
            ],
            "type": "heatmap"
           }
          ],
          "histogram": [
           {
            "marker": {
             "pattern": {
              "fillmode": "overlay",
              "size": 10,
              "solidity": 0.2
             }
            },
            "type": "histogram"
           }
          ],
          "histogram2d": [
           {
            "colorbar": {
             "outlinewidth": 0,
             "ticks": ""
            },
            "colorscale": [
             [
              0,
              "#0d0887"
             ],
             [
              0.1111111111111111,
              "#46039f"
             ],
             [
              0.2222222222222222,
              "#7201a8"
             ],
             [
              0.3333333333333333,
              "#9c179e"
             ],
             [
              0.4444444444444444,
              "#bd3786"
             ],
             [
              0.5555555555555556,
              "#d8576b"
             ],
             [
              0.6666666666666666,
              "#ed7953"
             ],
             [
              0.7777777777777778,
              "#fb9f3a"
             ],
             [
              0.8888888888888888,
              "#fdca26"
             ],
             [
              1,
              "#f0f921"
             ]
            ],
            "type": "histogram2d"
           }
          ],
          "histogram2dcontour": [
           {
            "colorbar": {
             "outlinewidth": 0,
             "ticks": ""
            },
            "colorscale": [
             [
              0,
              "#0d0887"
             ],
             [
              0.1111111111111111,
              "#46039f"
             ],
             [
              0.2222222222222222,
              "#7201a8"
             ],
             [
              0.3333333333333333,
              "#9c179e"
             ],
             [
              0.4444444444444444,
              "#bd3786"
             ],
             [
              0.5555555555555556,
              "#d8576b"
             ],
             [
              0.6666666666666666,
              "#ed7953"
             ],
             [
              0.7777777777777778,
              "#fb9f3a"
             ],
             [
              0.8888888888888888,
              "#fdca26"
             ],
             [
              1,
              "#f0f921"
             ]
            ],
            "type": "histogram2dcontour"
           }
          ],
          "mesh3d": [
           {
            "colorbar": {
             "outlinewidth": 0,
             "ticks": ""
            },
            "type": "mesh3d"
           }
          ],
          "parcoords": [
           {
            "line": {
             "colorbar": {
              "outlinewidth": 0,
              "ticks": ""
             }
            },
            "type": "parcoords"
           }
          ],
          "pie": [
           {
            "automargin": true,
            "type": "pie"
           }
          ],
          "scatter": [
           {
            "fillpattern": {
             "fillmode": "overlay",
             "size": 10,
             "solidity": 0.2
            },
            "type": "scatter"
           }
          ],
          "scatter3d": [
           {
            "line": {
             "colorbar": {
              "outlinewidth": 0,
              "ticks": ""
             }
            },
            "marker": {
             "colorbar": {
              "outlinewidth": 0,
              "ticks": ""
             }
            },
            "type": "scatter3d"
           }
          ],
          "scattercarpet": [
           {
            "marker": {
             "colorbar": {
              "outlinewidth": 0,
              "ticks": ""
             }
            },
            "type": "scattercarpet"
           }
          ],
          "scattergeo": [
           {
            "marker": {
             "colorbar": {
              "outlinewidth": 0,
              "ticks": ""
             }
            },
            "type": "scattergeo"
           }
          ],
          "scattergl": [
           {
            "marker": {
             "colorbar": {
              "outlinewidth": 0,
              "ticks": ""
             }
            },
            "type": "scattergl"
           }
          ],
          "scattermap": [
           {
            "marker": {
             "colorbar": {
              "outlinewidth": 0,
              "ticks": ""
             }
            },
            "type": "scattermap"
           }
          ],
          "scattermapbox": [
           {
            "marker": {
             "colorbar": {
              "outlinewidth": 0,
              "ticks": ""
             }
            },
            "type": "scattermapbox"
           }
          ],
          "scatterpolar": [
           {
            "marker": {
             "colorbar": {
              "outlinewidth": 0,
              "ticks": ""
             }
            },
            "type": "scatterpolar"
           }
          ],
          "scatterpolargl": [
           {
            "marker": {
             "colorbar": {
              "outlinewidth": 0,
              "ticks": ""
             }
            },
            "type": "scatterpolargl"
           }
          ],
          "scatterternary": [
           {
            "marker": {
             "colorbar": {
              "outlinewidth": 0,
              "ticks": ""
             }
            },
            "type": "scatterternary"
           }
          ],
          "surface": [
           {
            "colorbar": {
             "outlinewidth": 0,
             "ticks": ""
            },
            "colorscale": [
             [
              0,
              "#0d0887"
             ],
             [
              0.1111111111111111,
              "#46039f"
             ],
             [
              0.2222222222222222,
              "#7201a8"
             ],
             [
              0.3333333333333333,
              "#9c179e"
             ],
             [
              0.4444444444444444,
              "#bd3786"
             ],
             [
              0.5555555555555556,
              "#d8576b"
             ],
             [
              0.6666666666666666,
              "#ed7953"
             ],
             [
              0.7777777777777778,
              "#fb9f3a"
             ],
             [
              0.8888888888888888,
              "#fdca26"
             ],
             [
              1,
              "#f0f921"
             ]
            ],
            "type": "surface"
           }
          ],
          "table": [
           {
            "cells": {
             "fill": {
              "color": "#EBF0F8"
             },
             "line": {
              "color": "white"
             }
            },
            "header": {
             "fill": {
              "color": "#C8D4E3"
             },
             "line": {
              "color": "white"
             }
            },
            "type": "table"
           }
          ]
         },
         "layout": {
          "annotationdefaults": {
           "arrowcolor": "#2a3f5f",
           "arrowhead": 0,
           "arrowwidth": 1
          },
          "autotypenumbers": "strict",
          "coloraxis": {
           "colorbar": {
            "outlinewidth": 0,
            "ticks": ""
           }
          },
          "colorscale": {
           "diverging": [
            [
             0,
             "#8e0152"
            ],
            [
             0.1,
             "#c51b7d"
            ],
            [
             0.2,
             "#de77ae"
            ],
            [
             0.3,
             "#f1b6da"
            ],
            [
             0.4,
             "#fde0ef"
            ],
            [
             0.5,
             "#f7f7f7"
            ],
            [
             0.6,
             "#e6f5d0"
            ],
            [
             0.7,
             "#b8e186"
            ],
            [
             0.8,
             "#7fbc41"
            ],
            [
             0.9,
             "#4d9221"
            ],
            [
             1,
             "#276419"
            ]
           ],
           "sequential": [
            [
             0,
             "#0d0887"
            ],
            [
             0.1111111111111111,
             "#46039f"
            ],
            [
             0.2222222222222222,
             "#7201a8"
            ],
            [
             0.3333333333333333,
             "#9c179e"
            ],
            [
             0.4444444444444444,
             "#bd3786"
            ],
            [
             0.5555555555555556,
             "#d8576b"
            ],
            [
             0.6666666666666666,
             "#ed7953"
            ],
            [
             0.7777777777777778,
             "#fb9f3a"
            ],
            [
             0.8888888888888888,
             "#fdca26"
            ],
            [
             1,
             "#f0f921"
            ]
           ],
           "sequentialminus": [
            [
             0,
             "#0d0887"
            ],
            [
             0.1111111111111111,
             "#46039f"
            ],
            [
             0.2222222222222222,
             "#7201a8"
            ],
            [
             0.3333333333333333,
             "#9c179e"
            ],
            [
             0.4444444444444444,
             "#bd3786"
            ],
            [
             0.5555555555555556,
             "#d8576b"
            ],
            [
             0.6666666666666666,
             "#ed7953"
            ],
            [
             0.7777777777777778,
             "#fb9f3a"
            ],
            [
             0.8888888888888888,
             "#fdca26"
            ],
            [
             1,
             "#f0f921"
            ]
           ]
          },
          "colorway": [
           "#636efa",
           "#EF553B",
           "#00cc96",
           "#ab63fa",
           "#FFA15A",
           "#19d3f3",
           "#FF6692",
           "#B6E880",
           "#FF97FF",
           "#FECB52"
          ],
          "font": {
           "color": "#2a3f5f"
          },
          "geo": {
           "bgcolor": "white",
           "lakecolor": "white",
           "landcolor": "#E5ECF6",
           "showlakes": true,
           "showland": true,
           "subunitcolor": "white"
          },
          "hoverlabel": {
           "align": "left"
          },
          "hovermode": "closest",
          "mapbox": {
           "style": "light"
          },
          "paper_bgcolor": "white",
          "plot_bgcolor": "#E5ECF6",
          "polar": {
           "angularaxis": {
            "gridcolor": "white",
            "linecolor": "white",
            "ticks": ""
           },
           "bgcolor": "#E5ECF6",
           "radialaxis": {
            "gridcolor": "white",
            "linecolor": "white",
            "ticks": ""
           }
          },
          "scene": {
           "xaxis": {
            "backgroundcolor": "#E5ECF6",
            "gridcolor": "white",
            "gridwidth": 2,
            "linecolor": "white",
            "showbackground": true,
            "ticks": "",
            "zerolinecolor": "white"
           },
           "yaxis": {
            "backgroundcolor": "#E5ECF6",
            "gridcolor": "white",
            "gridwidth": 2,
            "linecolor": "white",
            "showbackground": true,
            "ticks": "",
            "zerolinecolor": "white"
           },
           "zaxis": {
            "backgroundcolor": "#E5ECF6",
            "gridcolor": "white",
            "gridwidth": 2,
            "linecolor": "white",
            "showbackground": true,
            "ticks": "",
            "zerolinecolor": "white"
           }
          },
          "shapedefaults": {
           "line": {
            "color": "#2a3f5f"
           }
          },
          "ternary": {
           "aaxis": {
            "gridcolor": "white",
            "linecolor": "white",
            "ticks": ""
           },
           "baxis": {
            "gridcolor": "white",
            "linecolor": "white",
            "ticks": ""
           },
           "bgcolor": "#E5ECF6",
           "caxis": {
            "gridcolor": "white",
            "linecolor": "white",
            "ticks": ""
           }
          },
          "title": {
           "x": 0.05
          },
          "xaxis": {
           "automargin": true,
           "gridcolor": "white",
           "linecolor": "white",
           "ticks": "",
           "title": {
            "standoff": 15
           },
           "zerolinecolor": "white",
           "zerolinewidth": 2
          },
          "yaxis": {
           "automargin": true,
           "gridcolor": "white",
           "linecolor": "white",
           "ticks": "",
           "title": {
            "standoff": 15
           },
           "zerolinecolor": "white",
           "zerolinewidth": 2
          }
         }
        },
        "title": {
         "text": "GDP per Capita vs Life Expectancy"
        },
        "xaxis": {
         "anchor": "y",
         "domain": [
          0,
          1
         ],
         "title": {
          "text": "gdpPercap"
         },
         "type": "log"
        },
        "yaxis": {
         "anchor": "x",
         "domain": [
          0,
          1
         ],
         "title": {
          "text": "lifeExp"
         }
        }
       }
      }
     },
     "metadata": {},
     "output_type": "display_data"
    }
   ],
   "source": [
    "# Creating a scatter plot of GDP per Capita vs Life Expectancy\n",
    "fig = px.scatter(df[df['year'] == 2007], x='gdpPercap', y='lifeExp', \n",
    "                 color='continent', size='pop', \n",
    "                 hover_name='country', \n",
    "                 log_x=True, size_max=60, \n",
    "                 title='GDP per Capita vs Life Expectancy',\n",
    "                 height = 1000)\n",
    "\n",
    "\n",
    "fig.show()"
   ]
  },
  {
   "cell_type": "code",
   "execution_count": 5,
   "metadata": {},
   "outputs": [
    {
     "data": {
      "application/vnd.plotly.v1+json": {
       "config": {
        "plotlyServerURL": "https://plot.ly"
       },
       "data": [
        {
         "hovertemplate": "<b>%{hovertext}</b><br><br>country=Albania<br>year=%{x}<br>lifeExp=%{y}<extra></extra>",
         "hovertext": [
          "Albania",
          "Albania",
          "Albania",
          "Albania",
          "Albania",
          "Albania",
          "Albania",
          "Albania",
          "Albania",
          "Albania",
          "Albania",
          "Albania"
         ],
         "legendgroup": "Albania",
         "line": {
          "color": "#636efa",
          "dash": "solid"
         },
         "marker": {
          "symbol": "circle"
         },
         "mode": "lines",
         "name": "Albania",
         "orientation": "v",
         "showlegend": true,
         "type": "scatter",
         "x": {
          "bdata": "oAelB6oHrwe0B7kHvgfDB8gHzQfSB9cH",
          "dtype": "i2"
         },
         "xaxis": "x",
         "y": {
          "bdata": "PQrXo3CdS0CkcD0K16NNQBSuR+F6NFBArkfhehSOUEBcj8L1KOxQQOxRuB6FO1FAexSuR+GaUUAAAAAAAABSQHe+nxov5VFAzczMzMw8UkCNbOf7qelSQFCNl24SG1NA",
          "dtype": "f8"
         },
         "yaxis": "y"
        },
        {
         "hovertemplate": "<b>%{hovertext}</b><br><br>country=Austria<br>year=%{x}<br>lifeExp=%{y}<extra></extra>",
         "hovertext": [
          "Austria",
          "Austria",
          "Austria",
          "Austria",
          "Austria",
          "Austria",
          "Austria",
          "Austria",
          "Austria",
          "Austria",
          "Austria",
          "Austria"
         ],
         "legendgroup": "Austria",
         "line": {
          "color": "#EF553B",
          "dash": "solid"
         },
         "marker": {
          "symbol": "circle"
         },
         "mode": "lines",
         "name": "Austria",
         "orientation": "v",
         "showlegend": true,
         "type": "scatter",
         "x": {
          "bdata": "oAelB6oHrwe0B7kHvgfDB8gHzQfSB9cH",
          "dtype": "i2"
         },
         "xaxis": "x",
         "y": {
          "bdata": "MzMzMzOzUEAfhetRuN5QQMP1KFyPYlFAKVyPwvWIUUC4HoXrUahRQHsUrkfhClJA7FG4HoVLUkBcj8L1KLxSQMP1KFyPAlNAcT0K16NgU0AfhetRuL5TQJMYBFYO9VNA",
          "dtype": "f8"
         },
         "yaxis": "y"
        },
        {
         "hovertemplate": "<b>%{hovertext}</b><br><br>country=Belgium<br>year=%{x}<br>lifeExp=%{y}<extra></extra>",
         "hovertext": [
          "Belgium",
          "Belgium",
          "Belgium",
          "Belgium",
          "Belgium",
          "Belgium",
          "Belgium",
          "Belgium",
          "Belgium",
          "Belgium",
          "Belgium",
          "Belgium"
         ],
         "legendgroup": "Belgium",
         "line": {
          "color": "#00cc96",
          "dash": "solid"
         },
         "marker": {
          "symbol": "circle"
         },
         "mode": "lines",
         "name": "Belgium",
         "orientation": "v",
         "showlegend": true,
         "type": "scatter",
         "x": {
          "bdata": "oAelB6oHrwe0B7kHvgfDB8gHzQfSB9cH",
          "dtype": "i2"
         },
         "xaxis": "x",
         "y": {
          "bdata": "AAAAAAAAUUCPwvUoXE9RQAAAAAAAkFFAXI/C9Si8UUBcj8L1KNxRQDMzMzMzM1JA7FG4HoV7UkBmZmZmZtZSQD0K16NwHVNAUrgehethU0AUrkfhepRTQE5iEFg53FNA",
          "dtype": "f8"
         },
         "yaxis": "y"
        },
        {
         "hovertemplate": "<b>%{hovertext}</b><br><br>country=Bosnia and Herzegovina<br>year=%{x}<br>lifeExp=%{y}<extra></extra>",
         "hovertext": [
          "Bosnia and Herzegovina",
          "Bosnia and Herzegovina",
          "Bosnia and Herzegovina",
          "Bosnia and Herzegovina",
          "Bosnia and Herzegovina",
          "Bosnia and Herzegovina",
          "Bosnia and Herzegovina",
          "Bosnia and Herzegovina",
          "Bosnia and Herzegovina",
          "Bosnia and Herzegovina",
          "Bosnia and Herzegovina",
          "Bosnia and Herzegovina"
         ],
         "legendgroup": "Bosnia and Herzegovina",
         "line": {
          "color": "#ab63fa",
          "dash": "solid"
         },
         "marker": {
          "symbol": "circle"
         },
         "mode": "lines",
         "name": "Bosnia and Herzegovina",
         "orientation": "v",
         "showlegend": true,
         "type": "scatter",
         "x": {
          "bdata": "oAelB6oHrwe0B7kHvgfDB8gHzQfSB9cH",
          "dtype": "i2"
         },
         "xaxis": "x",
         "y": {
          "bdata": "KVyPwvXoSkCamZmZmTlNQNejcD0K905Aw/UoXI8yUEDNzMzMzNxQQNejcD0Kd1FAXI/C9SisUUApXI/C9chRQAisHFpkC1JAVg4tsp1PUkD2KFyPwoVSQEoMAiuHtlJA",
          "dtype": "f8"
         },
         "yaxis": "y"
        },
        {
         "hovertemplate": "<b>%{hovertext}</b><br><br>country=Bulgaria<br>year=%{x}<br>lifeExp=%{y}<extra></extra>",
         "hovertext": [
          "Bulgaria",
          "Bulgaria",
          "Bulgaria",
          "Bulgaria",
          "Bulgaria",
          "Bulgaria",
          "Bulgaria",
          "Bulgaria",
          "Bulgaria",
          "Bulgaria",
          "Bulgaria",
          "Bulgaria"
         ],
         "legendgroup": "Bulgaria",
         "line": {
          "color": "#FFA15A",
          "dash": "solid"
         },
         "marker": {
          "symbol": "circle"
         },
         "mode": "lines",
         "name": "Bulgaria",
         "orientation": "v",
         "showlegend": true,
         "type": "scatter",
         "x": {
          "bdata": "oAelB6oHrwe0B7kHvgfDB8gHzQfSB9cH",
          "dtype": "i2"
         },
         "xaxis": "x",
         "y": {
          "bdata": "zczMzMzMTUDXo3A9CqdQQHE9CtejYFFAexSuR+GaUUCamZmZmblRQKRwPQrXs1FAhetRuB7FUUD2KFyPwtVRQFyPwvUozFFAFK5H4XqUUUApXI/C9QhSQLgehetRQFJA",
          "dtype": "f8"
         },
         "yaxis": "y"
        },
        {
         "hovertemplate": "<b>%{hovertext}</b><br><br>country=Croatia<br>year=%{x}<br>lifeExp=%{y}<extra></extra>",
         "hovertext": [
          "Croatia",
          "Croatia",
          "Croatia",
          "Croatia",
          "Croatia",
          "Croatia",
          "Croatia",
          "Croatia",
          "Croatia",
          "Croatia",
          "Croatia",
          "Croatia"
         ],
         "legendgroup": "Croatia",
         "line": {
          "color": "#19d3f3",
          "dash": "solid"
         },
         "marker": {
          "symbol": "circle"
         },
         "mode": "lines",
         "name": "Croatia",
         "orientation": "v",
         "showlegend": true,
         "type": "scatter",
         "x": {
          "bdata": "oAelB6oHrwe0B7kHvgfDB8gHzQfSB9cH",
          "dtype": "i2"
         },
         "xaxis": "x",
         "y": {
          "bdata": "exSuR+GaTkDhehSuRzFQQLgehetRyFBAAAAAAAAgUUDXo3A9CmdRQClcj8L1qFFAPQrXo3CdUUDhehSuR+FRQH0/NV66IVJA7FG4HoVrUkDy0k1iELhSQB1aZDvf71JA",
          "dtype": "f8"
         },
         "yaxis": "y"
        },
        {
         "hovertemplate": "<b>%{hovertext}</b><br><br>country=Czech Republic<br>year=%{x}<br>lifeExp=%{y}<extra></extra>",
         "hovertext": [
          "Czech Republic",
          "Czech Republic",
          "Czech Republic",
          "Czech Republic",
          "Czech Republic",
          "Czech Republic",
          "Czech Republic",
          "Czech Republic",
          "Czech Republic",
          "Czech Republic",
          "Czech Republic",
          "Czech Republic"
         ],
         "legendgroup": "Czech Republic",
         "line": {
          "color": "#FF6692",
          "dash": "solid"
         },
         "marker": {
          "symbol": "circle"
         },
         "mode": "lines",
         "name": "Czech Republic",
         "orientation": "v",
         "showlegend": true,
         "type": "scatter",
         "x": {
          "bdata": "oAelB6oHrwe0B7kHvgfDB8gHzQfSB9cH",
          "dtype": "i2"
         },
         "xaxis": "x",
         "y": {
          "bdata": "SOF6FK63UEBSuB6F60FRQJqZmZmZeVFAuB6F61GYUUDD9Shcj5JRQD0K16NwrVFAPQrXo3C9UUCF61G4HuVRQJqZmZmZGVJAcT0K16OAUkBxPQrXo+BSQMl2vp8aH1NA",
          "dtype": "f8"
         },
         "yaxis": "y"
        },
        {
         "hovertemplate": "<b>%{hovertext}</b><br><br>country=Denmark<br>year=%{x}<br>lifeExp=%{y}<extra></extra>",
         "hovertext": [
          "Denmark",
          "Denmark",
          "Denmark",
          "Denmark",
          "Denmark",
          "Denmark",
          "Denmark",
          "Denmark",
          "Denmark",
          "Denmark",
          "Denmark",
          "Denmark"
         ],
         "legendgroup": "Denmark",
         "line": {
          "color": "#B6E880",
          "dash": "solid"
         },
         "marker": {
          "symbol": "circle"
         },
         "mode": "lines",
         "name": "Denmark",
         "orientation": "v",
         "showlegend": true,
         "type": "scatter",
         "x": {
          "bdata": "oAelB6oHrwe0B7kHvgfDB8gHzQfSB9cH",
          "dtype": "i2"
         },
         "xaxis": "x",
         "y": {
          "bdata": "UrgeheuxUUCkcD0K1/NRQGZmZmZmFlJAPQrXo3A9UkCuR+F6FF5SQFyPwvUorFJAuB6F61GoUkAzMzMzM7NSQIXrUbge1VJA16NwPQoHU0DsUbgehUtTQGiR7Xw/lVNA",
          "dtype": "f8"
         },
         "yaxis": "y"
        },
        {
         "hovertemplate": "<b>%{hovertext}</b><br><br>country=Finland<br>year=%{x}<br>lifeExp=%{y}<extra></extra>",
         "hovertext": [
          "Finland",
          "Finland",
          "Finland",
          "Finland",
          "Finland",
          "Finland",
          "Finland",
          "Finland",
          "Finland",
          "Finland",
          "Finland",
          "Finland"
         ],
         "legendgroup": "Finland",
         "line": {
          "color": "#FF97FF",
          "dash": "solid"
         },
         "marker": {
          "symbol": "circle"
         },
         "mode": "lines",
         "name": "Finland",
         "orientation": "v",
         "showlegend": true,
         "type": "scatter",
         "x": {
          "bdata": "oAelB6oHrwe0B7kHvgfDB8gHzQfSB9cH",
          "dtype": "i2"
         },
         "xaxis": "x",
         "y": {
          "bdata": "MzMzMzOjUECPwvUoXN9QQAAAAAAAMFFAhetRuB51UUBI4XoUrrdRQOF6FK5HIVJAMzMzMzOjUkCF61G4HrVSQM3MzMzM7FJAuB6F61FIU0BI4XoUrpdTQHnpJjEI1FNA",
          "dtype": "f8"
         },
         "yaxis": "y"
        },
        {
         "hovertemplate": "<b>%{hovertext}</b><br><br>country=France<br>year=%{x}<br>lifeExp=%{y}<extra></extra>",
         "hovertext": [
          "France",
          "France",
          "France",
          "France",
          "France",
          "France",
          "France",
          "France",
          "France",
          "France",
          "France",
          "France"
         ],
         "legendgroup": "France",
         "line": {
          "color": "#FECB52",
          "dash": "solid"
         },
         "marker": {
          "symbol": "circle"
         },
         "mode": "lines",
         "name": "France",
         "orientation": "v",
         "showlegend": true,
         "type": "scatter",
         "x": {
          "bdata": "oAelB6oHrwe0B7kHvgfDB8gHzQfSB9cH",
          "dtype": "i2"
         },
         "xaxis": "x",
         "y": {
          "bdata": "CtejcD3aUEDsUbgehTtRQHE9CtejoFFAMzMzMzPjUUC4HoXrURhSQIXrUbgedVJAKVyPwvW4UkD2KFyPwhVTQD0K16NwXVNAKVyPwvWoU0D2KFyPwuVTQDVeukkMKlRA",
          "dtype": "f8"
         },
         "yaxis": "y"
        },
        {
         "hovertemplate": "<b>%{hovertext}</b><br><br>country=Germany<br>year=%{x}<br>lifeExp=%{y}<extra></extra>",
         "hovertext": [
          "Germany",
          "Germany",
          "Germany",
          "Germany",
          "Germany",
          "Germany",
          "Germany",
          "Germany",
          "Germany",
          "Germany",
          "Germany",
          "Germany"
         ],
         "legendgroup": "Germany",
         "line": {
          "color": "#636efa",
          "dash": "solid"
         },
         "marker": {
          "symbol": "circle"
         },
         "mode": "lines",
         "name": "Germany",
         "orientation": "v",
         "showlegend": true,
         "type": "scatter",
         "x": {
          "bdata": "oAelB6oHrwe0B7kHvgfDB8gHzQfSB9cH",
          "dtype": "i2"
         },
         "xaxis": "x",
         "y": {
          "bdata": "AAAAAADgUEBmZmZmZkZRQDMzMzMzk1FAMzMzMzOzUUAAAAAAAMBRQAAAAAAAIFJAMzMzMzNzUkCR7Xw/NbZSQBSuR+F6BFNA9ihcj8JVU0B7FK5H4apTQESLbOf72VNA",
          "dtype": "f8"
         },
         "yaxis": "y"
        },
        {
         "hovertemplate": "<b>%{hovertext}</b><br><br>country=Greece<br>year=%{x}<br>lifeExp=%{y}<extra></extra>",
         "hovertext": [
          "Greece",
          "Greece",
          "Greece",
          "Greece",
          "Greece",
          "Greece",
          "Greece",
          "Greece",
          "Greece",
          "Greece",
          "Greece",
          "Greece"
         ],
         "legendgroup": "Greece",
         "line": {
          "color": "#EF553B",
          "dash": "solid"
         },
         "marker": {
          "symbol": "circle"
         },
         "mode": "lines",
         "name": "Greece",
         "orientation": "v",
         "showlegend": true,
         "type": "scatter",
         "x": {
          "bdata": "oAelB6oHrwe0B7kHvgfDB8gHzQfSB9cH",
          "dtype": "i2"
         },
         "xaxis": "x",
         "y": {
          "bdata": "16NwPQp3UEDXo3A9CvdQQHE9CtejYFFAAAAAAADAUUD2KFyPwhVSQOxRuB6Fa1JAj8L1KFzPUkB7FK5H4SpTQFK4HoXrQVNAVg4tsp13U0Cq8dJNYpBTQPT91Hjp3lNA",
          "dtype": "f8"
         },
         "yaxis": "y"
        },
        {
         "hovertemplate": "<b>%{hovertext}</b><br><br>country=Hungary<br>year=%{x}<br>lifeExp=%{y}<extra></extra>",
         "hovertext": [
          "Hungary",
          "Hungary",
          "Hungary",
          "Hungary",
          "Hungary",
          "Hungary",
          "Hungary",
          "Hungary",
          "Hungary",
          "Hungary",
          "Hungary",
          "Hungary"
         ],
         "legendgroup": "Hungary",
         "line": {
          "color": "#00cc96",
          "dash": "solid"
         },
         "marker": {
          "symbol": "circle"
         },
         "mode": "lines",
         "name": "Hungary",
         "orientation": "v",
         "showlegend": true,
         "type": "scatter",
         "x": {
          "bdata": "oAelB6oHrwe0B7kHvgfDB8gHzQfSB9cH",
          "dtype": "i2"
         },
         "xaxis": "x",
         "y": {
          "bdata": "UrgehesBUEAK16NwPZpQQD0K16Nw/VBAAAAAAABgUUBxPQrXo3BRQM3MzMzMfFFAKVyPwvVYUUCF61G4HmVRQHsUrkfhSlFAw/UoXI/CUUD2KFyPwiVSQBSDwMqhVVJA",
          "dtype": "f8"
         },
         "yaxis": "y"
        },
        {
         "hovertemplate": "<b>%{hovertext}</b><br><br>country=Iceland<br>year=%{x}<br>lifeExp=%{y}<extra></extra>",
         "hovertext": [
          "Iceland",
          "Iceland",
          "Iceland",
          "Iceland",
          "Iceland",
          "Iceland",
          "Iceland",
          "Iceland",
          "Iceland",
          "Iceland",
          "Iceland",
          "Iceland"
         ],
         "legendgroup": "Iceland",
         "line": {
          "color": "#ab63fa",
          "dash": "solid"
         },
         "marker": {
          "symbol": "circle"
         },
         "mode": "lines",
         "name": "Iceland",
         "orientation": "v",
         "showlegend": true,
         "type": "scatter",
         "x": {
          "bdata": "oAelB6oHrwe0B7kHvgfDB8gHzQfSB9cH",
          "dtype": "i2"
         },
         "xaxis": "x",
         "y": {
          "bdata": "j8L1KFwfUkCuR+F6FF5SQOxRuB6Fa1JAH4XrUbhuUkA9CtejcJ1SQNejcD0KB1NAj8L1KFw/U0AfhetRuE5TQOF6FK5HsVNAzczMzMy8U0AAAAAAACBUQJzEILBycFRA",
          "dtype": "f8"
         },
         "yaxis": "y"
        },
        {
         "hovertemplate": "<b>%{hovertext}</b><br><br>country=Ireland<br>year=%{x}<br>lifeExp=%{y}<extra></extra>",
         "hovertext": [
          "Ireland",
          "Ireland",
          "Ireland",
          "Ireland",
          "Ireland",
          "Ireland",
          "Ireland",
          "Ireland",
          "Ireland",
          "Ireland",
          "Ireland",
          "Ireland"
         ],
         "legendgroup": "Ireland",
         "line": {
          "color": "#FFA15A",
          "dash": "solid"
         },
         "marker": {
          "symbol": "circle"
         },
         "mode": "lines",
         "name": "Ireland",
         "orientation": "v",
         "showlegend": true,
         "type": "scatter",
         "x": {
          "bdata": "oAelB6oHrwe0B7kHvgfDB8gHzQfSB9cH",
          "dtype": "i2"
         },
         "xaxis": "x",
         "y": {
          "bdata": "CtejcD26UECamZmZmTlRQMP1KFyPklFAhetRuB7FUUBSuB6F69FRQFK4HoXrAVJAZmZmZmZGUkDXo3A9CpdSQNnO91Pj3VJAK4cW2c4HU0AnMQisHHJTQHE9CtejuFNA",
          "dtype": "f8"
         },
         "yaxis": "y"
        },
        {
         "hovertemplate": "<b>%{hovertext}</b><br><br>country=Italy<br>year=%{x}<br>lifeExp=%{y}<extra></extra>",
         "hovertext": [
          "Italy",
          "Italy",
          "Italy",
          "Italy",
          "Italy",
          "Italy",
          "Italy",
          "Italy",
          "Italy",
          "Italy",
          "Italy",
          "Italy"
         ],
         "legendgroup": "Italy",
         "line": {
          "color": "#19d3f3",
          "dash": "solid"
         },
         "marker": {
          "symbol": "circle"
         },
         "mode": "lines",
         "name": "Italy",
         "orientation": "v",
         "showlegend": true,
         "type": "scatter",
         "x": {
          "bdata": "oAelB6oHrwe0B7kHvgfDB8gHzQfSB9cH",
          "dtype": "i2"
         },
         "xaxis": "x",
         "y": {
          "bdata": "XI/C9Sh8UECkcD0K1/NQQI/C9ShcT1FApHA9CtfDUUBcj8L1KAxSQB+F61G4XlJAH4XrUbi+UkB7FK5H4RpTQFyPwvUoXFNAFK5H4Xq0U0CPwvUoXA9UQG3n+6nxIlRA",
          "dtype": "f8"
         },
         "yaxis": "y"
        },
        {
         "hovertemplate": "<b>%{hovertext}</b><br><br>country=Montenegro<br>year=%{x}<br>lifeExp=%{y}<extra></extra>",
         "hovertext": [
          "Montenegro",
          "Montenegro",
          "Montenegro",
          "Montenegro",
          "Montenegro",
          "Montenegro",
          "Montenegro",
          "Montenegro",
          "Montenegro",
          "Montenegro",
          "Montenegro",
          "Montenegro"
         ],
         "legendgroup": "Montenegro",
         "line": {
          "color": "#FF6692",
          "dash": "solid"
         },
         "marker": {
          "symbol": "circle"
         },
         "mode": "lines",
         "name": "Montenegro",
         "orientation": "v",
         "showlegend": true,
         "type": "scatter",
         "x": {
          "bdata": "oAelB6oHrwe0B7kHvgfDB8gHzQfSB9cH",
          "dtype": "i2"
         },
         "xaxis": "x",
         "y": {
          "bdata": "okW28/2UTUDTTWIQWLlOQHe+nxov3U9ACKwcWmTLUEBkEFg5tKhRQE5iEFg5RFJAWDm0yHaGUkCPwvUoXLdSQKRwPQrX21JAFK5H4XrcUkASWDm0yH5SQJhuEoPAolJA",
          "dtype": "f8"
         },
         "yaxis": "y"
        },
        {
         "hovertemplate": "<b>%{hovertext}</b><br><br>country=Netherlands<br>year=%{x}<br>lifeExp=%{y}<extra></extra>",
         "hovertext": [
          "Netherlands",
          "Netherlands",
          "Netherlands",
          "Netherlands",
          "Netherlands",
          "Netherlands",
          "Netherlands",
          "Netherlands",
          "Netherlands",
          "Netherlands",
          "Netherlands",
          "Netherlands"
         ],
         "legendgroup": "Netherlands",
         "line": {
          "color": "#B6E880",
          "dash": "solid"
         },
         "marker": {
          "symbol": "circle"
         },
         "mode": "lines",
         "name": "Netherlands",
         "orientation": "v",
         "showlegend": true,
         "type": "scatter",
         "x": {
          "bdata": "oAelB6oHrwe0B7kHvgfDB8gHzQfSB9cH",
          "dtype": "i2"
         },
         "xaxis": "x",
         "y": {
          "bdata": "uB6F61EIUkCPwvUoXD9SQB+F61G4TlJAFK5H4Xp0UkAAAAAAAHBSQI/C9Shcz1JAMzMzMzMDU0CF61G4HjVTQHsUrkfhWlNAUrgeheuBU0BSuB6F66FTQFTjpZvE8FNA",
          "dtype": "f8"
         },
         "yaxis": "y"
        },
        {
         "hovertemplate": "<b>%{hovertext}</b><br><br>country=Norway<br>year=%{x}<br>lifeExp=%{y}<extra></extra>",
         "hovertext": [
          "Norway",
          "Norway",
          "Norway",
          "Norway",
          "Norway",
          "Norway",
          "Norway",
          "Norway",
          "Norway",
          "Norway",
          "Norway",
          "Norway"
         ],
         "legendgroup": "Norway",
         "line": {
          "color": "#FF97FF",
          "dash": "solid"
         },
         "marker": {
          "symbol": "circle"
         },
         "mode": "lines",
         "name": "Norway",
         "orientation": "v",
         "showlegend": true,
         "type": "scatter",
         "x": {
          "bdata": "oAelB6oHrwe0B7kHvgfDB8gHzQfSB9cH",
          "dtype": "i2"
         },
         "xaxis": "x",
         "y": {
          "bdata": "exSuR+EqUkBcj8L1KFxSQK5H4XoUXlJAhetRuB6FUkD2KFyPwpVSQEjhehSu11JArkfhehT+UkApXI/C9fhSQBSuR+F6VFNAFK5H4XqUU0AzMzMzM8NTQAaBlUOLDFRA",
          "dtype": "f8"
         },
         "yaxis": "y"
        },
        {
         "hovertemplate": "<b>%{hovertext}</b><br><br>country=Poland<br>year=%{x}<br>lifeExp=%{y}<extra></extra>",
         "hovertext": [
          "Poland",
          "Poland",
          "Poland",
          "Poland",
          "Poland",
          "Poland",
          "Poland",
          "Poland",
          "Poland",
          "Poland",
          "Poland",
          "Poland"
         ],
         "legendgroup": "Poland",
         "line": {
          "color": "#FECB52",
          "dash": "solid"
         },
         "marker": {
          "symbol": "circle"
         },
         "mode": "lines",
         "name": "Poland",
         "orientation": "v",
         "showlegend": true,
         "type": "scatter",
         "x": {
          "bdata": "oAelB6oHrwe0B7kHvgfDB8gHzQfSB9cH",
          "dtype": "i2"
         },
         "xaxis": "x",
         "y": {
          "bdata": "SOF6FK6nTkDhehSuR3FQQClcj8L16FBA16NwPQpnUUBmZmZmZrZRQHsUrkfhqlFAFK5H4XrUUUAfhetRuL5RQI/C9Shcv1FAAAAAAAAwUkB7FK5H4apSQHnpJjEI5FJA",
          "dtype": "f8"
         },
         "yaxis": "y"
        },
        {
         "hovertemplate": "<b>%{hovertext}</b><br><br>country=Portugal<br>year=%{x}<br>lifeExp=%{y}<extra></extra>",
         "hovertext": [
          "Portugal",
          "Portugal",
          "Portugal",
          "Portugal",
          "Portugal",
          "Portugal",
          "Portugal",
          "Portugal",
          "Portugal",
          "Portugal",
          "Portugal",
          "Portugal"
         ],
         "legendgroup": "Portugal",
         "line": {
          "color": "#636efa",
          "dash": "solid"
         },
         "marker": {
          "symbol": "circle"
         },
         "mode": "lines",
         "name": "Portugal",
         "orientation": "v",
         "showlegend": true,
         "type": "scatter",
         "x": {
          "bdata": "oAelB6oHrwe0B7kHvgfDB8gHzQfSB9cH",
          "dtype": "i2"
         },
         "xaxis": "x",
         "y": {
          "bdata": "KVyPwvXoTUDhehSuR8FOQClcj8L1GFBAZmZmZmamUEBxPQrXo1BRQArXo3A9mlFA4XoUrkcxUkCkcD0K14NSQNejcD0Kt1JArkfhehT+UkDD9Shcj1JTQIPAyqFFhlNA",
          "dtype": "f8"
         },
         "yaxis": "y"
        },
        {
         "hovertemplate": "<b>%{hovertext}</b><br><br>country=Romania<br>year=%{x}<br>lifeExp=%{y}<extra></extra>",
         "hovertext": [
          "Romania",
          "Romania",
          "Romania",
          "Romania",
          "Romania",
          "Romania",
          "Romania",
          "Romania",
          "Romania",
          "Romania",
          "Romania",
          "Romania"
         ],
         "legendgroup": "Romania",
         "line": {
          "color": "#EF553B",
          "dash": "solid"
         },
         "marker": {
          "symbol": "circle"
         },
         "mode": "lines",
         "name": "Romania",
         "orientation": "v",
         "showlegend": true,
         "type": "scatter",
         "x": {
          "bdata": "oAelB6oHrwe0B7kHvgfDB8gHzQfSB9cH",
          "dtype": "i2"
         },
         "xaxis": "x",
         "y": {
          "bdata": "ZmZmZmaGTkBmZmZmZgZQQDMzMzMzs1BAMzMzMzOzUEA9CtejcE1RQD0K16NwXVFACtejcD1qUUBSuB6F62FRQNejcD0KV1FArkfhehRuUUD4U+Olm9RRQFg5tMh2HlJA",
          "dtype": "f8"
         },
         "yaxis": "y"
        },
        {
         "hovertemplate": "<b>%{hovertext}</b><br><br>country=Serbia<br>year=%{x}<br>lifeExp=%{y}<extra></extra>",
         "hovertext": [
          "Serbia",
          "Serbia",
          "Serbia",
          "Serbia",
          "Serbia",
          "Serbia",
          "Serbia",
          "Serbia",
          "Serbia",
          "Serbia",
          "Serbia",
          "Serbia"
         ],
         "legendgroup": "Serbia",
         "line": {
          "color": "#00cc96",
          "dash": "solid"
         },
         "marker": {
          "symbol": "circle"
         },
         "mode": "lines",
         "name": "Serbia",
         "orientation": "v",
         "showlegend": true,
         "type": "scatter",
         "x": {
          "bdata": "oAelB6oHrwe0B7kHvgfDB8gHzQfSB9cH",
          "dtype": "i2"
         },
         "xaxis": "x",
         "y": {
          "bdata": "c2iR7Xz/TEBI4XoUrtdOQESLbOf7IVBA0SLb+X66UEDNzMzMzCxRQDMzMzMzk1FA7Xw/NV6KUUDLoUW2881RQBcEVg4t6lFAAiuHFtkOUkAUg8DKoU1SQOOlm8QggFJA",
          "dtype": "f8"
         },
         "yaxis": "y"
        },
        {
         "hovertemplate": "<b>%{hovertext}</b><br><br>country=Slovak Republic<br>year=%{x}<br>lifeExp=%{y}<extra></extra>",
         "hovertext": [
          "Slovak Republic",
          "Slovak Republic",
          "Slovak Republic",
          "Slovak Republic",
          "Slovak Republic",
          "Slovak Republic",
          "Slovak Republic",
          "Slovak Republic",
          "Slovak Republic",
          "Slovak Republic",
          "Slovak Republic",
          "Slovak Republic"
         ],
         "legendgroup": "Slovak Republic",
         "line": {
          "color": "#ab63fa",
          "dash": "solid"
         },
         "marker": {
          "symbol": "circle"
         },
         "mode": "lines",
         "name": "Slovak Republic",
         "orientation": "v",
         "showlegend": true,
         "type": "scatter",
         "x": {
          "bdata": "oAelB6oHrwe0B7kHvgfDB8gHzQfSB9cH",
          "dtype": "i2"
         },
         "xaxis": "x",
         "y": {
          "bdata": "16NwPQoXUEDNzMzMzNxQQIXrUbgelVFAH4XrUbi+UUBmZmZmZpZRQM3MzMzMnFFAMzMzMzOzUUCF61G4HsVRQLgehetR2FFAPQrXo3AtUkAzMzMzM3NSQN9PjZduqlJA",
          "dtype": "f8"
         },
         "yaxis": "y"
        },
        {
         "hovertemplate": "<b>%{hovertext}</b><br><br>country=Slovenia<br>year=%{x}<br>lifeExp=%{y}<extra></extra>",
         "hovertext": [
          "Slovenia",
          "Slovenia",
          "Slovenia",
          "Slovenia",
          "Slovenia",
          "Slovenia",
          "Slovenia",
          "Slovenia",
          "Slovenia",
          "Slovenia",
          "Slovenia",
          "Slovenia"
         ],
         "legendgroup": "Slovenia",
         "line": {
          "color": "#FFA15A",
          "dash": "solid"
         },
         "marker": {
          "symbol": "circle"
         },
         "mode": "lines",
         "name": "Slovenia",
         "orientation": "v",
         "showlegend": true,
         "type": "scatter",
         "x": {
          "bdata": "oAelB6oHrwe0B7kHvgfDB8gHzQfSB9cH",
          "dtype": "i2"
         },
         "xaxis": "x",
         "y": {
          "bdata": "FK5H4XpkUEBmZmZmZvZQQJqZmZmZSVFA7FG4HoVLUUAUrkfhenRRQK5H4XoUvlFAeekmMQjEUUAAAAAAABBSQClcj8L1aFJAuB6F61HIUkAK16NwPSpTQCUGgZVDe1NA",
          "dtype": "f8"
         },
         "yaxis": "y"
        },
        {
         "hovertemplate": "<b>%{hovertext}</b><br><br>country=Spain<br>year=%{x}<br>lifeExp=%{y}<extra></extra>",
         "hovertext": [
          "Spain",
          "Spain",
          "Spain",
          "Spain",
          "Spain",
          "Spain",
          "Spain",
          "Spain",
          "Spain",
          "Spain",
          "Spain",
          "Spain"
         ],
         "legendgroup": "Spain",
         "line": {
          "color": "#19d3f3",
          "dash": "solid"
         },
         "marker": {
          "symbol": "circle"
         },
         "mode": "lines",
         "name": "Spain",
         "orientation": "v",
         "showlegend": true,
         "type": "scatter",
         "x": {
          "bdata": "oAelB6oHrwe0B7kHvgfDB8gHzQfSB9cH",
          "dtype": "i2"
         },
         "xaxis": "x",
         "y": {
          "bdata": "XI/C9Sg8UEAK16NwPapQQFyPwvUobFFAXI/C9SjcUUCkcD0K10NSQClcj8L1mFJAMzMzMzMTU0CamZmZmTlTQBSuR+F6ZFNA4XoUrkexU0BSuB6F6/FTQE5iEFg5PFRA",
          "dtype": "f8"
         },
         "yaxis": "y"
        },
        {
         "hovertemplate": "<b>%{hovertext}</b><br><br>country=Sweden<br>year=%{x}<br>lifeExp=%{y}<extra></extra>",
         "hovertext": [
          "Sweden",
          "Sweden",
          "Sweden",
          "Sweden",
          "Sweden",
          "Sweden",
          "Sweden",
          "Sweden",
          "Sweden",
          "Sweden",
          "Sweden",
          "Sweden"
         ],
         "legendgroup": "Sweden",
         "line": {
          "color": "#FF6692",
          "dash": "solid"
         },
         "marker": {
          "symbol": "circle"
         },
         "mode": "lines",
         "name": "Sweden",
         "orientation": "v",
         "showlegend": true,
         "type": "scatter",
         "x": {
          "bdata": "oAelB6oHrwe0B7kHvgfDB8gHzQfSB9cH",
          "dtype": "i2"
         },
         "xaxis": "x",
         "y": {
          "bdata": "16NwPQr3UUCPwvUoXB9SQEjhehSuV1JACtejcD2KUkCuR+F6FK5SQFyPwvUo3FJAexSuR+EaU0Bcj8L1KExTQArXo3A9ilNAKVyPwvXYU0DD9ShcjwJUQH9qvHSTOFRA",
          "dtype": "f8"
         },
         "yaxis": "y"
        },
        {
         "hovertemplate": "<b>%{hovertext}</b><br><br>country=Switzerland<br>year=%{x}<br>lifeExp=%{y}<extra></extra>",
         "hovertext": [
          "Switzerland",
          "Switzerland",
          "Switzerland",
          "Switzerland",
          "Switzerland",
          "Switzerland",
          "Switzerland",
          "Switzerland",
          "Switzerland",
          "Switzerland",
          "Switzerland",
          "Switzerland"
         ],
         "legendgroup": "Switzerland",
         "line": {
          "color": "#B6E880",
          "dash": "solid"
         },
         "marker": {
          "symbol": "circle"
         },
         "mode": "lines",
         "name": "Switzerland",
         "orientation": "v",
         "showlegend": true,
         "type": "scatter",
         "x": {
          "bdata": "oAelB6oHrwe0B7kHvgfDB8gHzQfSB9cH",
          "dtype": "i2"
         },
         "xaxis": "x",
         "y": {
          "bdata": "SOF6FK5nUUCkcD0K16NRQBSuR+F61FFA4XoUrkcxUkBSuB6F63FSQClcj8L12FJAPQrXo3ANU0AK16NwPVpTQFK4HoXrgVNASOF6FK7XU0BI4XoUridUQMCfGi/dbFRA",
          "dtype": "f8"
         },
         "yaxis": "y"
        },
        {
         "hovertemplate": "<b>%{hovertext}</b><br><br>country=Turkey<br>year=%{x}<br>lifeExp=%{y}<extra></extra>",
         "hovertext": [
          "Turkey",
          "Turkey",
          "Turkey",
          "Turkey",
          "Turkey",
          "Turkey",
          "Turkey",
          "Turkey",
          "Turkey",
          "Turkey",
          "Turkey",
          "Turkey"
         ],
         "legendgroup": "Turkey",
         "line": {
          "color": "#FF97FF",
          "dash": "solid"
         },
         "marker": {
          "symbol": "circle"
         },
         "mode": "lines",
         "name": "Turkey",
         "orientation": "v",
         "showlegend": true,
         "type": "scatter",
         "x": {
          "bdata": "oAelB6oHrwe0B7kHvgfDB8gHzQfSB9cH",
          "dtype": "i2"
         },
         "xaxis": "x",
         "y": {
          "bdata": "exSuR+HKRUAmMQisHApIQAaBlUOLDEpAYLpJDAIrS0BxPQrXo4BMQDeJQWDlwE1A+FPjpZuETkDn+6nx0o1PQNNNYhBYiVBAPQrXo3A1UUCuR+F6FLZRQH0/NV668VFA",
          "dtype": "f8"
         },
         "yaxis": "y"
        },
        {
         "hovertemplate": "<b>%{hovertext}</b><br><br>country=United Kingdom<br>year=%{x}<br>lifeExp=%{y}<extra></extra>",
         "hovertext": [
          "United Kingdom",
          "United Kingdom",
          "United Kingdom",
          "United Kingdom",
          "United Kingdom",
          "United Kingdom",
          "United Kingdom",
          "United Kingdom",
          "United Kingdom",
          "United Kingdom",
          "United Kingdom",
          "United Kingdom"
         ],
         "legendgroup": "United Kingdom",
         "line": {
          "color": "#FECB52",
          "dash": "solid"
         },
         "marker": {
          "symbol": "circle"
         },
         "mode": "lines",
         "name": "United Kingdom",
         "orientation": "v",
         "showlegend": true,
         "type": "scatter",
         "x": {
          "bdata": "oAelB6oHrwe0B7kHvgfDB8gHzQfSB9cH",
          "dtype": "i2"
         },
         "xaxis": "x",
         "y": {
          "bdata": "7FG4HoVLUUB7FK5H4ZpRQHE9CtejsFFA16NwPQrXUUBxPQrXowBSQHE9CtejMFJAw/UoXI+CUkCcxCCwcsBSQHsUrkfhGlNAy6FFtvNNU0CgGi/dJJ5TQDMzMzMz21NA",
          "dtype": "f8"
         },
         "yaxis": "y"
        }
       ],
       "layout": {
        "height": 800,
        "legend": {
         "title": {
          "text": "country"
         },
         "tracegroupgap": 0
        },
        "template": {
         "data": {
          "bar": [
           {
            "error_x": {
             "color": "#2a3f5f"
            },
            "error_y": {
             "color": "#2a3f5f"
            },
            "marker": {
             "line": {
              "color": "#E5ECF6",
              "width": 0.5
             },
             "pattern": {
              "fillmode": "overlay",
              "size": 10,
              "solidity": 0.2
             }
            },
            "type": "bar"
           }
          ],
          "barpolar": [
           {
            "marker": {
             "line": {
              "color": "#E5ECF6",
              "width": 0.5
             },
             "pattern": {
              "fillmode": "overlay",
              "size": 10,
              "solidity": 0.2
             }
            },
            "type": "barpolar"
           }
          ],
          "carpet": [
           {
            "aaxis": {
             "endlinecolor": "#2a3f5f",
             "gridcolor": "white",
             "linecolor": "white",
             "minorgridcolor": "white",
             "startlinecolor": "#2a3f5f"
            },
            "baxis": {
             "endlinecolor": "#2a3f5f",
             "gridcolor": "white",
             "linecolor": "white",
             "minorgridcolor": "white",
             "startlinecolor": "#2a3f5f"
            },
            "type": "carpet"
           }
          ],
          "choropleth": [
           {
            "colorbar": {
             "outlinewidth": 0,
             "ticks": ""
            },
            "type": "choropleth"
           }
          ],
          "contour": [
           {
            "colorbar": {
             "outlinewidth": 0,
             "ticks": ""
            },
            "colorscale": [
             [
              0,
              "#0d0887"
             ],
             [
              0.1111111111111111,
              "#46039f"
             ],
             [
              0.2222222222222222,
              "#7201a8"
             ],
             [
              0.3333333333333333,
              "#9c179e"
             ],
             [
              0.4444444444444444,
              "#bd3786"
             ],
             [
              0.5555555555555556,
              "#d8576b"
             ],
             [
              0.6666666666666666,
              "#ed7953"
             ],
             [
              0.7777777777777778,
              "#fb9f3a"
             ],
             [
              0.8888888888888888,
              "#fdca26"
             ],
             [
              1,
              "#f0f921"
             ]
            ],
            "type": "contour"
           }
          ],
          "contourcarpet": [
           {
            "colorbar": {
             "outlinewidth": 0,
             "ticks": ""
            },
            "type": "contourcarpet"
           }
          ],
          "heatmap": [
           {
            "colorbar": {
             "outlinewidth": 0,
             "ticks": ""
            },
            "colorscale": [
             [
              0,
              "#0d0887"
             ],
             [
              0.1111111111111111,
              "#46039f"
             ],
             [
              0.2222222222222222,
              "#7201a8"
             ],
             [
              0.3333333333333333,
              "#9c179e"
             ],
             [
              0.4444444444444444,
              "#bd3786"
             ],
             [
              0.5555555555555556,
              "#d8576b"
             ],
             [
              0.6666666666666666,
              "#ed7953"
             ],
             [
              0.7777777777777778,
              "#fb9f3a"
             ],
             [
              0.8888888888888888,
              "#fdca26"
             ],
             [
              1,
              "#f0f921"
             ]
            ],
            "type": "heatmap"
           }
          ],
          "histogram": [
           {
            "marker": {
             "pattern": {
              "fillmode": "overlay",
              "size": 10,
              "solidity": 0.2
             }
            },
            "type": "histogram"
           }
          ],
          "histogram2d": [
           {
            "colorbar": {
             "outlinewidth": 0,
             "ticks": ""
            },
            "colorscale": [
             [
              0,
              "#0d0887"
             ],
             [
              0.1111111111111111,
              "#46039f"
             ],
             [
              0.2222222222222222,
              "#7201a8"
             ],
             [
              0.3333333333333333,
              "#9c179e"
             ],
             [
              0.4444444444444444,
              "#bd3786"
             ],
             [
              0.5555555555555556,
              "#d8576b"
             ],
             [
              0.6666666666666666,
              "#ed7953"
             ],
             [
              0.7777777777777778,
              "#fb9f3a"
             ],
             [
              0.8888888888888888,
              "#fdca26"
             ],
             [
              1,
              "#f0f921"
             ]
            ],
            "type": "histogram2d"
           }
          ],
          "histogram2dcontour": [
           {
            "colorbar": {
             "outlinewidth": 0,
             "ticks": ""
            },
            "colorscale": [
             [
              0,
              "#0d0887"
             ],
             [
              0.1111111111111111,
              "#46039f"
             ],
             [
              0.2222222222222222,
              "#7201a8"
             ],
             [
              0.3333333333333333,
              "#9c179e"
             ],
             [
              0.4444444444444444,
              "#bd3786"
             ],
             [
              0.5555555555555556,
              "#d8576b"
             ],
             [
              0.6666666666666666,
              "#ed7953"
             ],
             [
              0.7777777777777778,
              "#fb9f3a"
             ],
             [
              0.8888888888888888,
              "#fdca26"
             ],
             [
              1,
              "#f0f921"
             ]
            ],
            "type": "histogram2dcontour"
           }
          ],
          "mesh3d": [
           {
            "colorbar": {
             "outlinewidth": 0,
             "ticks": ""
            },
            "type": "mesh3d"
           }
          ],
          "parcoords": [
           {
            "line": {
             "colorbar": {
              "outlinewidth": 0,
              "ticks": ""
             }
            },
            "type": "parcoords"
           }
          ],
          "pie": [
           {
            "automargin": true,
            "type": "pie"
           }
          ],
          "scatter": [
           {
            "fillpattern": {
             "fillmode": "overlay",
             "size": 10,
             "solidity": 0.2
            },
            "type": "scatter"
           }
          ],
          "scatter3d": [
           {
            "line": {
             "colorbar": {
              "outlinewidth": 0,
              "ticks": ""
             }
            },
            "marker": {
             "colorbar": {
              "outlinewidth": 0,
              "ticks": ""
             }
            },
            "type": "scatter3d"
           }
          ],
          "scattercarpet": [
           {
            "marker": {
             "colorbar": {
              "outlinewidth": 0,
              "ticks": ""
             }
            },
            "type": "scattercarpet"
           }
          ],
          "scattergeo": [
           {
            "marker": {
             "colorbar": {
              "outlinewidth": 0,
              "ticks": ""
             }
            },
            "type": "scattergeo"
           }
          ],
          "scattergl": [
           {
            "marker": {
             "colorbar": {
              "outlinewidth": 0,
              "ticks": ""
             }
            },
            "type": "scattergl"
           }
          ],
          "scattermap": [
           {
            "marker": {
             "colorbar": {
              "outlinewidth": 0,
              "ticks": ""
             }
            },
            "type": "scattermap"
           }
          ],
          "scattermapbox": [
           {
            "marker": {
             "colorbar": {
              "outlinewidth": 0,
              "ticks": ""
             }
            },
            "type": "scattermapbox"
           }
          ],
          "scatterpolar": [
           {
            "marker": {
             "colorbar": {
              "outlinewidth": 0,
              "ticks": ""
             }
            },
            "type": "scatterpolar"
           }
          ],
          "scatterpolargl": [
           {
            "marker": {
             "colorbar": {
              "outlinewidth": 0,
              "ticks": ""
             }
            },
            "type": "scatterpolargl"
           }
          ],
          "scatterternary": [
           {
            "marker": {
             "colorbar": {
              "outlinewidth": 0,
              "ticks": ""
             }
            },
            "type": "scatterternary"
           }
          ],
          "surface": [
           {
            "colorbar": {
             "outlinewidth": 0,
             "ticks": ""
            },
            "colorscale": [
             [
              0,
              "#0d0887"
             ],
             [
              0.1111111111111111,
              "#46039f"
             ],
             [
              0.2222222222222222,
              "#7201a8"
             ],
             [
              0.3333333333333333,
              "#9c179e"
             ],
             [
              0.4444444444444444,
              "#bd3786"
             ],
             [
              0.5555555555555556,
              "#d8576b"
             ],
             [
              0.6666666666666666,
              "#ed7953"
             ],
             [
              0.7777777777777778,
              "#fb9f3a"
             ],
             [
              0.8888888888888888,
              "#fdca26"
             ],
             [
              1,
              "#f0f921"
             ]
            ],
            "type": "surface"
           }
          ],
          "table": [
           {
            "cells": {
             "fill": {
              "color": "#EBF0F8"
             },
             "line": {
              "color": "white"
             }
            },
            "header": {
             "fill": {
              "color": "#C8D4E3"
             },
             "line": {
              "color": "white"
             }
            },
            "type": "table"
           }
          ]
         },
         "layout": {
          "annotationdefaults": {
           "arrowcolor": "#2a3f5f",
           "arrowhead": 0,
           "arrowwidth": 1
          },
          "autotypenumbers": "strict",
          "coloraxis": {
           "colorbar": {
            "outlinewidth": 0,
            "ticks": ""
           }
          },
          "colorscale": {
           "diverging": [
            [
             0,
             "#8e0152"
            ],
            [
             0.1,
             "#c51b7d"
            ],
            [
             0.2,
             "#de77ae"
            ],
            [
             0.3,
             "#f1b6da"
            ],
            [
             0.4,
             "#fde0ef"
            ],
            [
             0.5,
             "#f7f7f7"
            ],
            [
             0.6,
             "#e6f5d0"
            ],
            [
             0.7,
             "#b8e186"
            ],
            [
             0.8,
             "#7fbc41"
            ],
            [
             0.9,
             "#4d9221"
            ],
            [
             1,
             "#276419"
            ]
           ],
           "sequential": [
            [
             0,
             "#0d0887"
            ],
            [
             0.1111111111111111,
             "#46039f"
            ],
            [
             0.2222222222222222,
             "#7201a8"
            ],
            [
             0.3333333333333333,
             "#9c179e"
            ],
            [
             0.4444444444444444,
             "#bd3786"
            ],
            [
             0.5555555555555556,
             "#d8576b"
            ],
            [
             0.6666666666666666,
             "#ed7953"
            ],
            [
             0.7777777777777778,
             "#fb9f3a"
            ],
            [
             0.8888888888888888,
             "#fdca26"
            ],
            [
             1,
             "#f0f921"
            ]
           ],
           "sequentialminus": [
            [
             0,
             "#0d0887"
            ],
            [
             0.1111111111111111,
             "#46039f"
            ],
            [
             0.2222222222222222,
             "#7201a8"
            ],
            [
             0.3333333333333333,
             "#9c179e"
            ],
            [
             0.4444444444444444,
             "#bd3786"
            ],
            [
             0.5555555555555556,
             "#d8576b"
            ],
            [
             0.6666666666666666,
             "#ed7953"
            ],
            [
             0.7777777777777778,
             "#fb9f3a"
            ],
            [
             0.8888888888888888,
             "#fdca26"
            ],
            [
             1,
             "#f0f921"
            ]
           ]
          },
          "colorway": [
           "#636efa",
           "#EF553B",
           "#00cc96",
           "#ab63fa",
           "#FFA15A",
           "#19d3f3",
           "#FF6692",
           "#B6E880",
           "#FF97FF",
           "#FECB52"
          ],
          "font": {
           "color": "#2a3f5f"
          },
          "geo": {
           "bgcolor": "white",
           "lakecolor": "white",
           "landcolor": "#E5ECF6",
           "showlakes": true,
           "showland": true,
           "subunitcolor": "white"
          },
          "hoverlabel": {
           "align": "left"
          },
          "hovermode": "closest",
          "mapbox": {
           "style": "light"
          },
          "paper_bgcolor": "white",
          "plot_bgcolor": "#E5ECF6",
          "polar": {
           "angularaxis": {
            "gridcolor": "white",
            "linecolor": "white",
            "ticks": ""
           },
           "bgcolor": "#E5ECF6",
           "radialaxis": {
            "gridcolor": "white",
            "linecolor": "white",
            "ticks": ""
           }
          },
          "scene": {
           "xaxis": {
            "backgroundcolor": "#E5ECF6",
            "gridcolor": "white",
            "gridwidth": 2,
            "linecolor": "white",
            "showbackground": true,
            "ticks": "",
            "zerolinecolor": "white"
           },
           "yaxis": {
            "backgroundcolor": "#E5ECF6",
            "gridcolor": "white",
            "gridwidth": 2,
            "linecolor": "white",
            "showbackground": true,
            "ticks": "",
            "zerolinecolor": "white"
           },
           "zaxis": {
            "backgroundcolor": "#E5ECF6",
            "gridcolor": "white",
            "gridwidth": 2,
            "linecolor": "white",
            "showbackground": true,
            "ticks": "",
            "zerolinecolor": "white"
           }
          },
          "shapedefaults": {
           "line": {
            "color": "#2a3f5f"
           }
          },
          "ternary": {
           "aaxis": {
            "gridcolor": "white",
            "linecolor": "white",
            "ticks": ""
           },
           "baxis": {
            "gridcolor": "white",
            "linecolor": "white",
            "ticks": ""
           },
           "bgcolor": "#E5ECF6",
           "caxis": {
            "gridcolor": "white",
            "linecolor": "white",
            "ticks": ""
           }
          },
          "title": {
           "x": 0.05
          },
          "xaxis": {
           "automargin": true,
           "gridcolor": "white",
           "linecolor": "white",
           "ticks": "",
           "title": {
            "standoff": 15
           },
           "zerolinecolor": "white",
           "zerolinewidth": 2
          },
          "yaxis": {
           "automargin": true,
           "gridcolor": "white",
           "linecolor": "white",
           "ticks": "",
           "title": {
            "standoff": 15
           },
           "zerolinecolor": "white",
           "zerolinewidth": 2
          }
         }
        },
        "title": {
         "text": "Life Expectancy over Years"
        },
        "width": 1000,
        "xaxis": {
         "anchor": "y",
         "domain": [
          0,
          1
         ],
         "title": {
          "text": "year"
         }
        },
        "yaxis": {
         "anchor": "x",
         "domain": [
          0,
          1
         ],
         "title": {
          "text": "lifeExp"
         }
        }
       }
      }
     },
     "metadata": {},
     "output_type": "display_data"
    }
   ],
   "source": [
    "# Creating a line plot of Life Expectancy over the years for each continent\n",
    "fig = px.line(df[df['continent'] == 'Europe'], x='year', y='lifeExp', \n",
    "              color='country', \n",
    "              line_group='country', \n",
    "              hover_name='country', \n",
    "              title='Life Expectancy over Years',\n",
    "              height = 800, width = 1000)\n",
    "\n",
    "\n",
    "fig.show()"
   ]
  },
  {
   "cell_type": "code",
   "execution_count": 6,
   "metadata": {},
   "outputs": [
    {
     "data": {
      "application/vnd.plotly.v1+json": {
       "config": {
        "plotlyServerURL": "https://plot.ly"
       },
       "data": [
        {
         "alignmentgroup": "True",
         "hovertemplate": "continent=%{x}<br>lifeExp=%{y}<extra></extra>",
         "legendgroup": "",
         "marker": {
          "color": "#636efa"
         },
         "name": "",
         "notched": false,
         "offsetgroup": "",
         "orientation": "v",
         "showlegend": false,
         "type": "box",
         "x": [
          "Asia",
          "Asia",
          "Asia",
          "Asia",
          "Asia",
          "Asia",
          "Asia",
          "Asia",
          "Asia",
          "Asia",
          "Asia",
          "Asia",
          "Europe",
          "Europe",
          "Europe",
          "Europe",
          "Europe",
          "Europe",
          "Europe",
          "Europe",
          "Europe",
          "Europe",
          "Europe",
          "Europe",
          "Africa",
          "Africa",
          "Africa",
          "Africa",
          "Africa",
          "Africa",
          "Africa",
          "Africa",
          "Africa",
          "Africa",
          "Africa",
          "Africa",
          "Africa",
          "Africa",
          "Africa",
          "Africa",
          "Africa",
          "Africa",
          "Africa",
          "Africa",
          "Africa",
          "Africa",
          "Africa",
          "Africa",
          "Americas",
          "Americas",
          "Americas",
          "Americas",
          "Americas",
          "Americas",
          "Americas",
          "Americas",
          "Americas",
          "Americas",
          "Americas",
          "Americas",
          "Oceania",
          "Oceania",
          "Oceania",
          "Oceania",
          "Oceania",
          "Oceania",
          "Oceania",
          "Oceania",
          "Oceania",
          "Oceania",
          "Oceania",
          "Oceania",
          "Europe",
          "Europe",
          "Europe",
          "Europe",
          "Europe",
          "Europe",
          "Europe",
          "Europe",
          "Europe",
          "Europe",
          "Europe",
          "Europe",
          "Asia",
          "Asia",
          "Asia",
          "Asia",
          "Asia",
          "Asia",
          "Asia",
          "Asia",
          "Asia",
          "Asia",
          "Asia",
          "Asia",
          "Asia",
          "Asia",
          "Asia",
          "Asia",
          "Asia",
          "Asia",
          "Asia",
          "Asia",
          "Asia",
          "Asia",
          "Asia",
          "Asia",
          "Europe",
          "Europe",
          "Europe",
          "Europe",
          "Europe",
          "Europe",
          "Europe",
          "Europe",
          "Europe",
          "Europe",
          "Europe",
          "Europe",
          "Africa",
          "Africa",
          "Africa",
          "Africa",
          "Africa",
          "Africa",
          "Africa",
          "Africa",
          "Africa",
          "Africa",
          "Africa",
          "Africa",
          "Americas",
          "Americas",
          "Americas",
          "Americas",
          "Americas",
          "Americas",
          "Americas",
          "Americas",
          "Americas",
          "Americas",
          "Americas",
          "Americas",
          "Europe",
          "Europe",
          "Europe",
          "Europe",
          "Europe",
          "Europe",
          "Europe",
          "Europe",
          "Europe",
          "Europe",
          "Europe",
          "Europe",
          "Africa",
          "Africa",
          "Africa",
          "Africa",
          "Africa",
          "Africa",
          "Africa",
          "Africa",
          "Africa",
          "Africa",
          "Africa",
          "Africa",
          "Americas",
          "Americas",
          "Americas",
          "Americas",
          "Americas",
          "Americas",
          "Americas",
          "Americas",
          "Americas",
          "Americas",
          "Americas",
          "Americas",
          "Europe",
          "Europe",
          "Europe",
          "Europe",
          "Europe",
          "Europe",
          "Europe",
          "Europe",
          "Europe",
          "Europe",
          "Europe",
          "Europe",
          "Africa",
          "Africa",
          "Africa",
          "Africa",
          "Africa",
          "Africa",
          "Africa",
          "Africa",
          "Africa",
          "Africa",
          "Africa",
          "Africa",
          "Africa",
          "Africa",
          "Africa",
          "Africa",
          "Africa",
          "Africa",
          "Africa",
          "Africa",
          "Africa",
          "Africa",
          "Africa",
          "Africa",
          "Asia",
          "Asia",
          "Asia",
          "Asia",
          "Asia",
          "Asia",
          "Asia",
          "Asia",
          "Asia",
          "Asia",
          "Asia",
          "Asia",
          "Africa",
          "Africa",
          "Africa",
          "Africa",
          "Africa",
          "Africa",
          "Africa",
          "Africa",
          "Africa",
          "Africa",
          "Africa",
          "Africa",
          "Americas",
          "Americas",
          "Americas",
          "Americas",
          "Americas",
          "Americas",
          "Americas",
          "Americas",
          "Americas",
          "Americas",
          "Americas",
          "Americas",
          "Africa",
          "Africa",
          "Africa",
          "Africa",
          "Africa",
          "Africa",
          "Africa",
          "Africa",
          "Africa",
          "Africa",
          "Africa",
          "Africa",
          "Africa",
          "Africa",
          "Africa",
          "Africa",
          "Africa",
          "Africa",
          "Africa",
          "Africa",
          "Africa",
          "Africa",
          "Africa",
          "Africa",
          "Americas",
          "Americas",
          "Americas",
          "Americas",
          "Americas",
          "Americas",
          "Americas",
          "Americas",
          "Americas",
          "Americas",
          "Americas",
          "Americas",
          "Asia",
          "Asia",
          "Asia",
          "Asia",
          "Asia",
          "Asia",
          "Asia",
          "Asia",
          "Asia",
          "Asia",
          "Asia",
          "Asia",
          "Americas",
          "Americas",
          "Americas",
          "Americas",
          "Americas",
          "Americas",
          "Americas",
          "Americas",
          "Americas",
          "Americas",
          "Americas",
          "Americas",
          "Africa",
          "Africa",
          "Africa",
          "Africa",
          "Africa",
          "Africa",
          "Africa",
          "Africa",
          "Africa",
          "Africa",
          "Africa",
          "Africa",
          "Africa",
          "Africa",
          "Africa",
          "Africa",
          "Africa",
          "Africa",
          "Africa",
          "Africa",
          "Africa",
          "Africa",
          "Africa",
          "Africa",
          "Africa",
          "Africa",
          "Africa",
          "Africa",
          "Africa",
          "Africa",
          "Africa",
          "Africa",
          "Africa",
          "Africa",
          "Africa",
          "Africa",
          "Americas",
          "Americas",
          "Americas",
          "Americas",
          "Americas",
          "Americas",
          "Americas",
          "Americas",
          "Americas",
          "Americas",
          "Americas",
          "Americas",
          "Africa",
          "Africa",
          "Africa",
          "Africa",
          "Africa",
          "Africa",
          "Africa",
          "Africa",
          "Africa",
          "Africa",
          "Africa",
          "Africa",
          "Europe",
          "Europe",
          "Europe",
          "Europe",
          "Europe",
          "Europe",
          "Europe",
          "Europe",
          "Europe",
          "Europe",
          "Europe",
          "Europe",
          "Americas",
          "Americas",
          "Americas",
          "Americas",
          "Americas",
          "Americas",
          "Americas",
          "Americas",
          "Americas",
          "Americas",
          "Americas",
          "Americas",
          "Europe",
          "Europe",
          "Europe",
          "Europe",
          "Europe",
          "Europe",
          "Europe",
          "Europe",
          "Europe",
          "Europe",
          "Europe",
          "Europe",
          "Europe",
          "Europe",
          "Europe",
          "Europe",
          "Europe",
          "Europe",
          "Europe",
          "Europe",
          "Europe",
          "Europe",
          "Europe",
          "Europe",
          "Africa",
          "Africa",
          "Africa",
          "Africa",
          "Africa",
          "Africa",
          "Africa",
          "Africa",
          "Africa",
          "Africa",
          "Africa",
          "Africa",
          "Americas",
          "Americas",
          "Americas",
          "Americas",
          "Americas",
          "Americas",
          "Americas",
          "Americas",
          "Americas",
          "Americas",
          "Americas",
          "Americas",
          "Americas",
          "Americas",
          "Americas",
          "Americas",
          "Americas",
          "Americas",
          "Americas",
          "Americas",
          "Americas",
          "Americas",
          "Americas",
          "Americas",
          "Africa",
          "Africa",
          "Africa",
          "Africa",
          "Africa",
          "Africa",
          "Africa",
          "Africa",
          "Africa",
          "Africa",
          "Africa",
          "Africa",
          "Americas",
          "Americas",
          "Americas",
          "Americas",
          "Americas",
          "Americas",
          "Americas",
          "Americas",
          "Americas",
          "Americas",
          "Americas",
          "Americas",
          "Africa",
          "Africa",
          "Africa",
          "Africa",
          "Africa",
          "Africa",
          "Africa",
          "Africa",
          "Africa",
          "Africa",
          "Africa",
          "Africa",
          "Africa",
          "Africa",
          "Africa",
          "Africa",
          "Africa",
          "Africa",
          "Africa",
          "Africa",
          "Africa",
          "Africa",
          "Africa",
          "Africa",
          "Africa",
          "Africa",
          "Africa",
          "Africa",
          "Africa",
          "Africa",
          "Africa",
          "Africa",
          "Africa",
          "Africa",
          "Africa",
          "Africa",
          "Europe",
          "Europe",
          "Europe",
          "Europe",
          "Europe",
          "Europe",
          "Europe",
          "Europe",
          "Europe",
          "Europe",
          "Europe",
          "Europe",
          "Europe",
          "Europe",
          "Europe",
          "Europe",
          "Europe",
          "Europe",
          "Europe",
          "Europe",
          "Europe",
          "Europe",
          "Europe",
          "Europe",
          "Africa",
          "Africa",
          "Africa",
          "Africa",
          "Africa",
          "Africa",
          "Africa",
          "Africa",
          "Africa",
          "Africa",
          "Africa",
          "Africa",
          "Africa",
          "Africa",
          "Africa",
          "Africa",
          "Africa",
          "Africa",
          "Africa",
          "Africa",
          "Africa",
          "Africa",
          "Africa",
          "Africa",
          "Europe",
          "Europe",
          "Europe",
          "Europe",
          "Europe",
          "Europe",
          "Europe",
          "Europe",
          "Europe",
          "Europe",
          "Europe",
          "Europe",
          "Africa",
          "Africa",
          "Africa",
          "Africa",
          "Africa",
          "Africa",
          "Africa",
          "Africa",
          "Africa",
          "Africa",
          "Africa",
          "Africa",
          "Europe",
          "Europe",
          "Europe",
          "Europe",
          "Europe",
          "Europe",
          "Europe",
          "Europe",
          "Europe",
          "Europe",
          "Europe",
          "Europe",
          "Americas",
          "Americas",
          "Americas",
          "Americas",
          "Americas",
          "Americas",
          "Americas",
          "Americas",
          "Americas",
          "Americas",
          "Americas",
          "Americas",
          "Africa",
          "Africa",
          "Africa",
          "Africa",
          "Africa",
          "Africa",
          "Africa",
          "Africa",
          "Africa",
          "Africa",
          "Africa",
          "Africa",
          "Africa",
          "Africa",
          "Africa",
          "Africa",
          "Africa",
          "Africa",
          "Africa",
          "Africa",
          "Africa",
          "Africa",
          "Africa",
          "Africa",
          "Americas",
          "Americas",
          "Americas",
          "Americas",
          "Americas",
          "Americas",
          "Americas",
          "Americas",
          "Americas",
          "Americas",
          "Americas",
          "Americas",
          "Americas",
          "Americas",
          "Americas",
          "Americas",
          "Americas",
          "Americas",
          "Americas",
          "Americas",
          "Americas",
          "Americas",
          "Americas",
          "Americas",
          "Asia",
          "Asia",
          "Asia",
          "Asia",
          "Asia",
          "Asia",
          "Asia",
          "Asia",
          "Asia",
          "Asia",
          "Asia",
          "Asia",
          "Europe",
          "Europe",
          "Europe",
          "Europe",
          "Europe",
          "Europe",
          "Europe",
          "Europe",
          "Europe",
          "Europe",
          "Europe",
          "Europe",
          "Europe",
          "Europe",
          "Europe",
          "Europe",
          "Europe",
          "Europe",
          "Europe",
          "Europe",
          "Europe",
          "Europe",
          "Europe",
          "Europe",
          "Asia",
          "Asia",
          "Asia",
          "Asia",
          "Asia",
          "Asia",
          "Asia",
          "Asia",
          "Asia",
          "Asia",
          "Asia",
          "Asia",
          "Asia",
          "Asia",
          "Asia",
          "Asia",
          "Asia",
          "Asia",
          "Asia",
          "Asia",
          "Asia",
          "Asia",
          "Asia",
          "Asia",
          "Asia",
          "Asia",
          "Asia",
          "Asia",
          "Asia",
          "Asia",
          "Asia",
          "Asia",
          "Asia",
          "Asia",
          "Asia",
          "Asia",
          "Asia",
          "Asia",
          "Asia",
          "Asia",
          "Asia",
          "Asia",
          "Asia",
          "Asia",
          "Asia",
          "Asia",
          "Asia",
          "Asia",
          "Europe",
          "Europe",
          "Europe",
          "Europe",
          "Europe",
          "Europe",
          "Europe",
          "Europe",
          "Europe",
          "Europe",
          "Europe",
          "Europe",
          "Asia",
          "Asia",
          "Asia",
          "Asia",
          "Asia",
          "Asia",
          "Asia",
          "Asia",
          "Asia",
          "Asia",
          "Asia",
          "Asia",
          "Europe",
          "Europe",
          "Europe",
          "Europe",
          "Europe",
          "Europe",
          "Europe",
          "Europe",
          "Europe",
          "Europe",
          "Europe",
          "Europe",
          "Americas",
          "Americas",
          "Americas",
          "Americas",
          "Americas",
          "Americas",
          "Americas",
          "Americas",
          "Americas",
          "Americas",
          "Americas",
          "Americas",
          "Asia",
          "Asia",
          "Asia",
          "Asia",
          "Asia",
          "Asia",
          "Asia",
          "Asia",
          "Asia",
          "Asia",
          "Asia",
          "Asia",
          "Asia",
          "Asia",
          "Asia",
          "Asia",
          "Asia",
          "Asia",
          "Asia",
          "Asia",
          "Asia",
          "Asia",
          "Asia",
          "Asia",
          "Africa",
          "Africa",
          "Africa",
          "Africa",
          "Africa",
          "Africa",
          "Africa",
          "Africa",
          "Africa",
          "Africa",
          "Africa",
          "Africa",
          "Asia",
          "Asia",
          "Asia",
          "Asia",
          "Asia",
          "Asia",
          "Asia",
          "Asia",
          "Asia",
          "Asia",
          "Asia",
          "Asia",
          "Asia",
          "Asia",
          "Asia",
          "Asia",
          "Asia",
          "Asia",
          "Asia",
          "Asia",
          "Asia",
          "Asia",
          "Asia",
          "Asia",
          "Asia",
          "Asia",
          "Asia",
          "Asia",
          "Asia",
          "Asia",
          "Asia",
          "Asia",
          "Asia",
          "Asia",
          "Asia",
          "Asia",
          "Asia",
          "Asia",
          "Asia",
          "Asia",
          "Asia",
          "Asia",
          "Asia",
          "Asia",
          "Asia",
          "Asia",
          "Asia",
          "Asia",
          "Africa",
          "Africa",
          "Africa",
          "Africa",
          "Africa",
          "Africa",
          "Africa",
          "Africa",
          "Africa",
          "Africa",
          "Africa",
          "Africa",
          "Africa",
          "Africa",
          "Africa",
          "Africa",
          "Africa",
          "Africa",
          "Africa",
          "Africa",
          "Africa",
          "Africa",
          "Africa",
          "Africa",
          "Africa",
          "Africa",
          "Africa",
          "Africa",
          "Africa",
          "Africa",
          "Africa",
          "Africa",
          "Africa",
          "Africa",
          "Africa",
          "Africa",
          "Africa",
          "Africa",
          "Africa",
          "Africa",
          "Africa",
          "Africa",
          "Africa",
          "Africa",
          "Africa",
          "Africa",
          "Africa",
          "Africa",
          "Africa",
          "Africa",
          "Africa",
          "Africa",
          "Africa",
          "Africa",
          "Africa",
          "Africa",
          "Africa",
          "Africa",
          "Africa",
          "Africa",
          "Asia",
          "Asia",
          "Asia",
          "Asia",
          "Asia",
          "Asia",
          "Asia",
          "Asia",
          "Asia",
          "Asia",
          "Asia",
          "Asia",
          "Africa",
          "Africa",
          "Africa",
          "Africa",
          "Africa",
          "Africa",
          "Africa",
          "Africa",
          "Africa",
          "Africa",
          "Africa",
          "Africa",
          "Africa",
          "Africa",
          "Africa",
          "Africa",
          "Africa",
          "Africa",
          "Africa",
          "Africa",
          "Africa",
          "Africa",
          "Africa",
          "Africa",
          "Africa",
          "Africa",
          "Africa",
          "Africa",
          "Africa",
          "Africa",
          "Africa",
          "Africa",
          "Africa",
          "Africa",
          "Africa",
          "Africa",
          "Americas",
          "Americas",
          "Americas",
          "Americas",
          "Americas",
          "Americas",
          "Americas",
          "Americas",
          "Americas",
          "Americas",
          "Americas",
          "Americas",
          "Asia",
          "Asia",
          "Asia",
          "Asia",
          "Asia",
          "Asia",
          "Asia",
          "Asia",
          "Asia",
          "Asia",
          "Asia",
          "Asia",
          "Europe",
          "Europe",
          "Europe",
          "Europe",
          "Europe",
          "Europe",
          "Europe",
          "Europe",
          "Europe",
          "Europe",
          "Europe",
          "Europe",
          "Africa",
          "Africa",
          "Africa",
          "Africa",
          "Africa",
          "Africa",
          "Africa",
          "Africa",
          "Africa",
          "Africa",
          "Africa",
          "Africa",
          "Africa",
          "Africa",
          "Africa",
          "Africa",
          "Africa",
          "Africa",
          "Africa",
          "Africa",
          "Africa",
          "Africa",
          "Africa",
          "Africa",
          "Asia",
          "Asia",
          "Asia",
          "Asia",
          "Asia",
          "Asia",
          "Asia",
          "Asia",
          "Asia",
          "Asia",
          "Asia",
          "Asia",
          "Africa",
          "Africa",
          "Africa",
          "Africa",
          "Africa",
          "Africa",
          "Africa",
          "Africa",
          "Africa",
          "Africa",
          "Africa",
          "Africa",
          "Asia",
          "Asia",
          "Asia",
          "Asia",
          "Asia",
          "Asia",
          "Asia",
          "Asia",
          "Asia",
          "Asia",
          "Asia",
          "Asia",
          "Europe",
          "Europe",
          "Europe",
          "Europe",
          "Europe",
          "Europe",
          "Europe",
          "Europe",
          "Europe",
          "Europe",
          "Europe",
          "Europe",
          "Oceania",
          "Oceania",
          "Oceania",
          "Oceania",
          "Oceania",
          "Oceania",
          "Oceania",
          "Oceania",
          "Oceania",
          "Oceania",
          "Oceania",
          "Oceania",
          "Americas",
          "Americas",
          "Americas",
          "Americas",
          "Americas",
          "Americas",
          "Americas",
          "Americas",
          "Americas",
          "Americas",
          "Americas",
          "Americas",
          "Africa",
          "Africa",
          "Africa",
          "Africa",
          "Africa",
          "Africa",
          "Africa",
          "Africa",
          "Africa",
          "Africa",
          "Africa",
          "Africa",
          "Africa",
          "Africa",
          "Africa",
          "Africa",
          "Africa",
          "Africa",
          "Africa",
          "Africa",
          "Africa",
          "Africa",
          "Africa",
          "Africa",
          "Europe",
          "Europe",
          "Europe",
          "Europe",
          "Europe",
          "Europe",
          "Europe",
          "Europe",
          "Europe",
          "Europe",
          "Europe",
          "Europe",
          "Asia",
          "Asia",
          "Asia",
          "Asia",
          "Asia",
          "Asia",
          "Asia",
          "Asia",
          "Asia",
          "Asia",
          "Asia",
          "Asia",
          "Asia",
          "Asia",
          "Asia",
          "Asia",
          "Asia",
          "Asia",
          "Asia",
          "Asia",
          "Asia",
          "Asia",
          "Asia",
          "Asia",
          "Americas",
          "Americas",
          "Americas",
          "Americas",
          "Americas",
          "Americas",
          "Americas",
          "Americas",
          "Americas",
          "Americas",
          "Americas",
          "Americas",
          "Americas",
          "Americas",
          "Americas",
          "Americas",
          "Americas",
          "Americas",
          "Americas",
          "Americas",
          "Americas",
          "Americas",
          "Americas",
          "Americas",
          "Americas",
          "Americas",
          "Americas",
          "Americas",
          "Americas",
          "Americas",
          "Americas",
          "Americas",
          "Americas",
          "Americas",
          "Americas",
          "Americas",
          "Asia",
          "Asia",
          "Asia",
          "Asia",
          "Asia",
          "Asia",
          "Asia",
          "Asia",
          "Asia",
          "Asia",
          "Asia",
          "Asia",
          "Europe",
          "Europe",
          "Europe",
          "Europe",
          "Europe",
          "Europe",
          "Europe",
          "Europe",
          "Europe",
          "Europe",
          "Europe",
          "Europe",
          "Europe",
          "Europe",
          "Europe",
          "Europe",
          "Europe",
          "Europe",
          "Europe",
          "Europe",
          "Europe",
          "Europe",
          "Europe",
          "Europe",
          "Americas",
          "Americas",
          "Americas",
          "Americas",
          "Americas",
          "Americas",
          "Americas",
          "Americas",
          "Americas",
          "Americas",
          "Americas",
          "Americas",
          "Africa",
          "Africa",
          "Africa",
          "Africa",
          "Africa",
          "Africa",
          "Africa",
          "Africa",
          "Africa",
          "Africa",
          "Africa",
          "Africa",
          "Europe",
          "Europe",
          "Europe",
          "Europe",
          "Europe",
          "Europe",
          "Europe",
          "Europe",
          "Europe",
          "Europe",
          "Europe",
          "Europe",
          "Africa",
          "Africa",
          "Africa",
          "Africa",
          "Africa",
          "Africa",
          "Africa",
          "Africa",
          "Africa",
          "Africa",
          "Africa",
          "Africa",
          "Africa",
          "Africa",
          "Africa",
          "Africa",
          "Africa",
          "Africa",
          "Africa",
          "Africa",
          "Africa",
          "Africa",
          "Africa",
          "Africa",
          "Asia",
          "Asia",
          "Asia",
          "Asia",
          "Asia",
          "Asia",
          "Asia",
          "Asia",
          "Asia",
          "Asia",
          "Asia",
          "Asia",
          "Africa",
          "Africa",
          "Africa",
          "Africa",
          "Africa",
          "Africa",
          "Africa",
          "Africa",
          "Africa",
          "Africa",
          "Africa",
          "Africa",
          "Europe",
          "Europe",
          "Europe",
          "Europe",
          "Europe",
          "Europe",
          "Europe",
          "Europe",
          "Europe",
          "Europe",
          "Europe",
          "Europe",
          "Africa",
          "Africa",
          "Africa",
          "Africa",
          "Africa",
          "Africa",
          "Africa",
          "Africa",
          "Africa",
          "Africa",
          "Africa",
          "Africa",
          "Asia",
          "Asia",
          "Asia",
          "Asia",
          "Asia",
          "Asia",
          "Asia",
          "Asia",
          "Asia",
          "Asia",
          "Asia",
          "Asia",
          "Europe",
          "Europe",
          "Europe",
          "Europe",
          "Europe",
          "Europe",
          "Europe",
          "Europe",
          "Europe",
          "Europe",
          "Europe",
          "Europe",
          "Europe",
          "Europe",
          "Europe",
          "Europe",
          "Europe",
          "Europe",
          "Europe",
          "Europe",
          "Europe",
          "Europe",
          "Europe",
          "Europe",
          "Africa",
          "Africa",
          "Africa",
          "Africa",
          "Africa",
          "Africa",
          "Africa",
          "Africa",
          "Africa",
          "Africa",
          "Africa",
          "Africa",
          "Africa",
          "Africa",
          "Africa",
          "Africa",
          "Africa",
          "Africa",
          "Africa",
          "Africa",
          "Africa",
          "Africa",
          "Africa",
          "Africa",
          "Europe",
          "Europe",
          "Europe",
          "Europe",
          "Europe",
          "Europe",
          "Europe",
          "Europe",
          "Europe",
          "Europe",
          "Europe",
          "Europe",
          "Asia",
          "Asia",
          "Asia",
          "Asia",
          "Asia",
          "Asia",
          "Asia",
          "Asia",
          "Asia",
          "Asia",
          "Asia",
          "Asia",
          "Africa",
          "Africa",
          "Africa",
          "Africa",
          "Africa",
          "Africa",
          "Africa",
          "Africa",
          "Africa",
          "Africa",
          "Africa",
          "Africa",
          "Africa",
          "Africa",
          "Africa",
          "Africa",
          "Africa",
          "Africa",
          "Africa",
          "Africa",
          "Africa",
          "Africa",
          "Africa",
          "Africa",
          "Europe",
          "Europe",
          "Europe",
          "Europe",
          "Europe",
          "Europe",
          "Europe",
          "Europe",
          "Europe",
          "Europe",
          "Europe",
          "Europe",
          "Europe",
          "Europe",
          "Europe",
          "Europe",
          "Europe",
          "Europe",
          "Europe",
          "Europe",
          "Europe",
          "Europe",
          "Europe",
          "Europe",
          "Asia",
          "Asia",
          "Asia",
          "Asia",
          "Asia",
          "Asia",
          "Asia",
          "Asia",
          "Asia",
          "Asia",
          "Asia",
          "Asia",
          "Asia",
          "Asia",
          "Asia",
          "Asia",
          "Asia",
          "Asia",
          "Asia",
          "Asia",
          "Asia",
          "Asia",
          "Asia",
          "Asia",
          "Africa",
          "Africa",
          "Africa",
          "Africa",
          "Africa",
          "Africa",
          "Africa",
          "Africa",
          "Africa",
          "Africa",
          "Africa",
          "Africa",
          "Asia",
          "Asia",
          "Asia",
          "Asia",
          "Asia",
          "Asia",
          "Asia",
          "Asia",
          "Asia",
          "Asia",
          "Asia",
          "Asia",
          "Africa",
          "Africa",
          "Africa",
          "Africa",
          "Africa",
          "Africa",
          "Africa",
          "Africa",
          "Africa",
          "Africa",
          "Africa",
          "Africa",
          "Americas",
          "Americas",
          "Americas",
          "Americas",
          "Americas",
          "Americas",
          "Americas",
          "Americas",
          "Americas",
          "Americas",
          "Americas",
          "Americas",
          "Africa",
          "Africa",
          "Africa",
          "Africa",
          "Africa",
          "Africa",
          "Africa",
          "Africa",
          "Africa",
          "Africa",
          "Africa",
          "Africa",
          "Europe",
          "Europe",
          "Europe",
          "Europe",
          "Europe",
          "Europe",
          "Europe",
          "Europe",
          "Europe",
          "Europe",
          "Europe",
          "Europe",
          "Africa",
          "Africa",
          "Africa",
          "Africa",
          "Africa",
          "Africa",
          "Africa",
          "Africa",
          "Africa",
          "Africa",
          "Africa",
          "Africa",
          "Europe",
          "Europe",
          "Europe",
          "Europe",
          "Europe",
          "Europe",
          "Europe",
          "Europe",
          "Europe",
          "Europe",
          "Europe",
          "Europe",
          "Americas",
          "Americas",
          "Americas",
          "Americas",
          "Americas",
          "Americas",
          "Americas",
          "Americas",
          "Americas",
          "Americas",
          "Americas",
          "Americas",
          "Americas",
          "Americas",
          "Americas",
          "Americas",
          "Americas",
          "Americas",
          "Americas",
          "Americas",
          "Americas",
          "Americas",
          "Americas",
          "Americas",
          "Americas",
          "Americas",
          "Americas",
          "Americas",
          "Americas",
          "Americas",
          "Americas",
          "Americas",
          "Americas",
          "Americas",
          "Americas",
          "Americas",
          "Asia",
          "Asia",
          "Asia",
          "Asia",
          "Asia",
          "Asia",
          "Asia",
          "Asia",
          "Asia",
          "Asia",
          "Asia",
          "Asia",
          "Asia",
          "Asia",
          "Asia",
          "Asia",
          "Asia",
          "Asia",
          "Asia",
          "Asia",
          "Asia",
          "Asia",
          "Asia",
          "Asia",
          "Asia",
          "Asia",
          "Asia",
          "Asia",
          "Asia",
          "Asia",
          "Asia",
          "Asia",
          "Asia",
          "Asia",
          "Asia",
          "Asia",
          "Africa",
          "Africa",
          "Africa",
          "Africa",
          "Africa",
          "Africa",
          "Africa",
          "Africa",
          "Africa",
          "Africa",
          "Africa",
          "Africa",
          "Africa",
          "Africa",
          "Africa",
          "Africa",
          "Africa",
          "Africa",
          "Africa",
          "Africa",
          "Africa",
          "Africa",
          "Africa",
          "Africa"
         ],
         "x0": " ",
         "xaxis": "x",
         "y": {
          "bdata": "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",
          "dtype": "f8"
         },
         "y0": " ",
         "yaxis": "y"
        }
       ],
       "layout": {
        "boxmode": "group",
        "height": 600,
        "legend": {
         "tracegroupgap": 0
        },
        "template": {
         "data": {
          "bar": [
           {
            "error_x": {
             "color": "#2a3f5f"
            },
            "error_y": {
             "color": "#2a3f5f"
            },
            "marker": {
             "line": {
              "color": "#E5ECF6",
              "width": 0.5
             },
             "pattern": {
              "fillmode": "overlay",
              "size": 10,
              "solidity": 0.2
             }
            },
            "type": "bar"
           }
          ],
          "barpolar": [
           {
            "marker": {
             "line": {
              "color": "#E5ECF6",
              "width": 0.5
             },
             "pattern": {
              "fillmode": "overlay",
              "size": 10,
              "solidity": 0.2
             }
            },
            "type": "barpolar"
           }
          ],
          "carpet": [
           {
            "aaxis": {
             "endlinecolor": "#2a3f5f",
             "gridcolor": "white",
             "linecolor": "white",
             "minorgridcolor": "white",
             "startlinecolor": "#2a3f5f"
            },
            "baxis": {
             "endlinecolor": "#2a3f5f",
             "gridcolor": "white",
             "linecolor": "white",
             "minorgridcolor": "white",
             "startlinecolor": "#2a3f5f"
            },
            "type": "carpet"
           }
          ],
          "choropleth": [
           {
            "colorbar": {
             "outlinewidth": 0,
             "ticks": ""
            },
            "type": "choropleth"
           }
          ],
          "contour": [
           {
            "colorbar": {
             "outlinewidth": 0,
             "ticks": ""
            },
            "colorscale": [
             [
              0,
              "#0d0887"
             ],
             [
              0.1111111111111111,
              "#46039f"
             ],
             [
              0.2222222222222222,
              "#7201a8"
             ],
             [
              0.3333333333333333,
              "#9c179e"
             ],
             [
              0.4444444444444444,
              "#bd3786"
             ],
             [
              0.5555555555555556,
              "#d8576b"
             ],
             [
              0.6666666666666666,
              "#ed7953"
             ],
             [
              0.7777777777777778,
              "#fb9f3a"
             ],
             [
              0.8888888888888888,
              "#fdca26"
             ],
             [
              1,
              "#f0f921"
             ]
            ],
            "type": "contour"
           }
          ],
          "contourcarpet": [
           {
            "colorbar": {
             "outlinewidth": 0,
             "ticks": ""
            },
            "type": "contourcarpet"
           }
          ],
          "heatmap": [
           {
            "colorbar": {
             "outlinewidth": 0,
             "ticks": ""
            },
            "colorscale": [
             [
              0,
              "#0d0887"
             ],
             [
              0.1111111111111111,
              "#46039f"
             ],
             [
              0.2222222222222222,
              "#7201a8"
             ],
             [
              0.3333333333333333,
              "#9c179e"
             ],
             [
              0.4444444444444444,
              "#bd3786"
             ],
             [
              0.5555555555555556,
              "#d8576b"
             ],
             [
              0.6666666666666666,
              "#ed7953"
             ],
             [
              0.7777777777777778,
              "#fb9f3a"
             ],
             [
              0.8888888888888888,
              "#fdca26"
             ],
             [
              1,
              "#f0f921"
             ]
            ],
            "type": "heatmap"
           }
          ],
          "histogram": [
           {
            "marker": {
             "pattern": {
              "fillmode": "overlay",
              "size": 10,
              "solidity": 0.2
             }
            },
            "type": "histogram"
           }
          ],
          "histogram2d": [
           {
            "colorbar": {
             "outlinewidth": 0,
             "ticks": ""
            },
            "colorscale": [
             [
              0,
              "#0d0887"
             ],
             [
              0.1111111111111111,
              "#46039f"
             ],
             [
              0.2222222222222222,
              "#7201a8"
             ],
             [
              0.3333333333333333,
              "#9c179e"
             ],
             [
              0.4444444444444444,
              "#bd3786"
             ],
             [
              0.5555555555555556,
              "#d8576b"
             ],
             [
              0.6666666666666666,
              "#ed7953"
             ],
             [
              0.7777777777777778,
              "#fb9f3a"
             ],
             [
              0.8888888888888888,
              "#fdca26"
             ],
             [
              1,
              "#f0f921"
             ]
            ],
            "type": "histogram2d"
           }
          ],
          "histogram2dcontour": [
           {
            "colorbar": {
             "outlinewidth": 0,
             "ticks": ""
            },
            "colorscale": [
             [
              0,
              "#0d0887"
             ],
             [
              0.1111111111111111,
              "#46039f"
             ],
             [
              0.2222222222222222,
              "#7201a8"
             ],
             [
              0.3333333333333333,
              "#9c179e"
             ],
             [
              0.4444444444444444,
              "#bd3786"
             ],
             [
              0.5555555555555556,
              "#d8576b"
             ],
             [
              0.6666666666666666,
              "#ed7953"
             ],
             [
              0.7777777777777778,
              "#fb9f3a"
             ],
             [
              0.8888888888888888,
              "#fdca26"
             ],
             [
              1,
              "#f0f921"
             ]
            ],
            "type": "histogram2dcontour"
           }
          ],
          "mesh3d": [
           {
            "colorbar": {
             "outlinewidth": 0,
             "ticks": ""
            },
            "type": "mesh3d"
           }
          ],
          "parcoords": [
           {
            "line": {
             "colorbar": {
              "outlinewidth": 0,
              "ticks": ""
             }
            },
            "type": "parcoords"
           }
          ],
          "pie": [
           {
            "automargin": true,
            "type": "pie"
           }
          ],
          "scatter": [
           {
            "fillpattern": {
             "fillmode": "overlay",
             "size": 10,
             "solidity": 0.2
            },
            "type": "scatter"
           }
          ],
          "scatter3d": [
           {
            "line": {
             "colorbar": {
              "outlinewidth": 0,
              "ticks": ""
             }
            },
            "marker": {
             "colorbar": {
              "outlinewidth": 0,
              "ticks": ""
             }
            },
            "type": "scatter3d"
           }
          ],
          "scattercarpet": [
           {
            "marker": {
             "colorbar": {
              "outlinewidth": 0,
              "ticks": ""
             }
            },
            "type": "scattercarpet"
           }
          ],
          "scattergeo": [
           {
            "marker": {
             "colorbar": {
              "outlinewidth": 0,
              "ticks": ""
             }
            },
            "type": "scattergeo"
           }
          ],
          "scattergl": [
           {
            "marker": {
             "colorbar": {
              "outlinewidth": 0,
              "ticks": ""
             }
            },
            "type": "scattergl"
           }
          ],
          "scattermap": [
           {
            "marker": {
             "colorbar": {
              "outlinewidth": 0,
              "ticks": ""
             }
            },
            "type": "scattermap"
           }
          ],
          "scattermapbox": [
           {
            "marker": {
             "colorbar": {
              "outlinewidth": 0,
              "ticks": ""
             }
            },
            "type": "scattermapbox"
           }
          ],
          "scatterpolar": [
           {
            "marker": {
             "colorbar": {
              "outlinewidth": 0,
              "ticks": ""
             }
            },
            "type": "scatterpolar"
           }
          ],
          "scatterpolargl": [
           {
            "marker": {
             "colorbar": {
              "outlinewidth": 0,
              "ticks": ""
             }
            },
            "type": "scatterpolargl"
           }
          ],
          "scatterternary": [
           {
            "marker": {
             "colorbar": {
              "outlinewidth": 0,
              "ticks": ""
             }
            },
            "type": "scatterternary"
           }
          ],
          "surface": [
           {
            "colorbar": {
             "outlinewidth": 0,
             "ticks": ""
            },
            "colorscale": [
             [
              0,
              "#0d0887"
             ],
             [
              0.1111111111111111,
              "#46039f"
             ],
             [
              0.2222222222222222,
              "#7201a8"
             ],
             [
              0.3333333333333333,
              "#9c179e"
             ],
             [
              0.4444444444444444,
              "#bd3786"
             ],
             [
              0.5555555555555556,
              "#d8576b"
             ],
             [
              0.6666666666666666,
              "#ed7953"
             ],
             [
              0.7777777777777778,
              "#fb9f3a"
             ],
             [
              0.8888888888888888,
              "#fdca26"
             ],
             [
              1,
              "#f0f921"
             ]
            ],
            "type": "surface"
           }
          ],
          "table": [
           {
            "cells": {
             "fill": {
              "color": "#EBF0F8"
             },
             "line": {
              "color": "white"
             }
            },
            "header": {
             "fill": {
              "color": "#C8D4E3"
             },
             "line": {
              "color": "white"
             }
            },
            "type": "table"
           }
          ]
         },
         "layout": {
          "annotationdefaults": {
           "arrowcolor": "#2a3f5f",
           "arrowhead": 0,
           "arrowwidth": 1
          },
          "autotypenumbers": "strict",
          "coloraxis": {
           "colorbar": {
            "outlinewidth": 0,
            "ticks": ""
           }
          },
          "colorscale": {
           "diverging": [
            [
             0,
             "#8e0152"
            ],
            [
             0.1,
             "#c51b7d"
            ],
            [
             0.2,
             "#de77ae"
            ],
            [
             0.3,
             "#f1b6da"
            ],
            [
             0.4,
             "#fde0ef"
            ],
            [
             0.5,
             "#f7f7f7"
            ],
            [
             0.6,
             "#e6f5d0"
            ],
            [
             0.7,
             "#b8e186"
            ],
            [
             0.8,
             "#7fbc41"
            ],
            [
             0.9,
             "#4d9221"
            ],
            [
             1,
             "#276419"
            ]
           ],
           "sequential": [
            [
             0,
             "#0d0887"
            ],
            [
             0.1111111111111111,
             "#46039f"
            ],
            [
             0.2222222222222222,
             "#7201a8"
            ],
            [
             0.3333333333333333,
             "#9c179e"
            ],
            [
             0.4444444444444444,
             "#bd3786"
            ],
            [
             0.5555555555555556,
             "#d8576b"
            ],
            [
             0.6666666666666666,
             "#ed7953"
            ],
            [
             0.7777777777777778,
             "#fb9f3a"
            ],
            [
             0.8888888888888888,
             "#fdca26"
            ],
            [
             1,
             "#f0f921"
            ]
           ],
           "sequentialminus": [
            [
             0,
             "#0d0887"
            ],
            [
             0.1111111111111111,
             "#46039f"
            ],
            [
             0.2222222222222222,
             "#7201a8"
            ],
            [
             0.3333333333333333,
             "#9c179e"
            ],
            [
             0.4444444444444444,
             "#bd3786"
            ],
            [
             0.5555555555555556,
             "#d8576b"
            ],
            [
             0.6666666666666666,
             "#ed7953"
            ],
            [
             0.7777777777777778,
             "#fb9f3a"
            ],
            [
             0.8888888888888888,
             "#fdca26"
            ],
            [
             1,
             "#f0f921"
            ]
           ]
          },
          "colorway": [
           "#636efa",
           "#EF553B",
           "#00cc96",
           "#ab63fa",
           "#FFA15A",
           "#19d3f3",
           "#FF6692",
           "#B6E880",
           "#FF97FF",
           "#FECB52"
          ],
          "font": {
           "color": "#2a3f5f"
          },
          "geo": {
           "bgcolor": "white",
           "lakecolor": "white",
           "landcolor": "#E5ECF6",
           "showlakes": true,
           "showland": true,
           "subunitcolor": "white"
          },
          "hoverlabel": {
           "align": "left"
          },
          "hovermode": "closest",
          "mapbox": {
           "style": "light"
          },
          "paper_bgcolor": "white",
          "plot_bgcolor": "#E5ECF6",
          "polar": {
           "angularaxis": {
            "gridcolor": "white",
            "linecolor": "white",
            "ticks": ""
           },
           "bgcolor": "#E5ECF6",
           "radialaxis": {
            "gridcolor": "white",
            "linecolor": "white",
            "ticks": ""
           }
          },
          "scene": {
           "xaxis": {
            "backgroundcolor": "#E5ECF6",
            "gridcolor": "white",
            "gridwidth": 2,
            "linecolor": "white",
            "showbackground": true,
            "ticks": "",
            "zerolinecolor": "white"
           },
           "yaxis": {
            "backgroundcolor": "#E5ECF6",
            "gridcolor": "white",
            "gridwidth": 2,
            "linecolor": "white",
            "showbackground": true,
            "ticks": "",
            "zerolinecolor": "white"
           },
           "zaxis": {
            "backgroundcolor": "#E5ECF6",
            "gridcolor": "white",
            "gridwidth": 2,
            "linecolor": "white",
            "showbackground": true,
            "ticks": "",
            "zerolinecolor": "white"
           }
          },
          "shapedefaults": {
           "line": {
            "color": "#2a3f5f"
           }
          },
          "ternary": {
           "aaxis": {
            "gridcolor": "white",
            "linecolor": "white",
            "ticks": ""
           },
           "baxis": {
            "gridcolor": "white",
            "linecolor": "white",
            "ticks": ""
           },
           "bgcolor": "#E5ECF6",
           "caxis": {
            "gridcolor": "white",
            "linecolor": "white",
            "ticks": ""
           }
          },
          "title": {
           "x": 0.05
          },
          "xaxis": {
           "automargin": true,
           "gridcolor": "white",
           "linecolor": "white",
           "ticks": "",
           "title": {
            "standoff": 15
           },
           "zerolinecolor": "white",
           "zerolinewidth": 2
          },
          "yaxis": {
           "automargin": true,
           "gridcolor": "white",
           "linecolor": "white",
           "ticks": "",
           "title": {
            "standoff": 15
           },
           "zerolinecolor": "white",
           "zerolinewidth": 2
          }
         }
        },
        "title": {
         "text": "Life Expectancy per Continent"
        },
        "width": 1000,
        "xaxis": {
         "anchor": "y",
         "domain": [
          0,
          1
         ],
         "title": {
          "text": "continent"
         }
        },
        "yaxis": {
         "anchor": "x",
         "domain": [
          0,
          1
         ],
         "title": {
          "text": "lifeExp"
         }
        }
       }
      }
     },
     "metadata": {},
     "output_type": "display_data"
    }
   ],
   "source": [
    "# Creating a box plot of life expectancy per continent\n",
    "fig = px.box(df, x='continent', y='lifeExp', \n",
    "             title='Life Expectancy per Continent',\n",
    "             height = 600, width = 1000)\n",
    "fig.show()"
   ]
  },
  {
   "cell_type": "code",
   "execution_count": 7,
   "metadata": {},
   "outputs": [
    {
     "data": {
      "application/vnd.plotly.v1+json": {
       "config": {
        "plotlyServerURL": "https://plot.ly"
       },
       "data": [
        {
         "dimensions": [
          {
           "axis": {
            "matches": true
           },
           "label": "gdpPercap",
           "values": {
            "bdata": "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",
            "dtype": "f8"
           }
          },
          {
           "axis": {
            "matches": true
           },
           "label": "lifeExp",
           "values": {
            "bdata": "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",
            "dtype": "f8"
           }
          },
          {
           "axis": {
            "matches": true
           },
           "label": "pop",
           "values": {
            "bdata": "dY+AAGYBjQDLqZwALg6wAKSTxwB0DuMAmI/EALWb0wDh/fgA1ylTAbWQgQEDmuYBf9YBAJ8dAgBXnwIAxhUDAJCFAwDCiQQAb8QFANTvBgBTFAgAISIJAA0ECgDdzwoAy2/LAlzGDwN5TGMD/JW+A3+zNwQSPcsE5jOMBRFRLwaD/sYGWKRZB1b1FQjTqPcITJ9HACg3UQAj1FwAwzNqAO6vcQAvfGoAJfhuAE++fwDO4JoAMsuzAPM+xQCSotcAZ+gnIQAT/iUQ2K4n8IT5LLCIYTMY+zs4qBOfO7gPnUAQCHBFeHRRSYBaUUzYgZlOTHAgAKzAKQDwbjIAMM44APTMPgAU8UUAdFRQAH42VQBA9FgArh5jAOwvZwA8g2oAAEUsFkDYYBiAfQ8bgPIoHsC7yyGAEsolADkzKgDt9y4AqvkzwC0pOYM4pD2rTS9CoAPkBOAuXwUgDOcFGHGEBtCdOgcIQiYIGNQjCWDyFgqAEQQLsL3gCyCFlAx4DlMNwIwHAYAALgGQB10BEPCUAfAh0wFnZB0C7zyRAiDGFwOVmZkD807GA7Lu/AMCxyME5ghTAMNYXwBEem4Acv6BAMKGmQCkUbUAhkTYANVt/AARjRABFwM9ARg9bgF2nKMBsrsYAFGrHQD4QiMA0RkpAFU9LwDuVzUA9d86AIwiQABmU0sA+2ZUANkAXAA3EGIAkUInBQEkdQXNRrYFv3gCBjGQYwZZjskGvnoPBz33Rgc1HWkHk/GBB/HekgfEAZkHqkYJAD9kCwC3Pg4AkiYTAO+eGAD0kB0AF9AjAMoHKwARAzsAmxBFAE78UABJXVwA0EaHADWbjwB2lqYAMYXAADmL4QDIGvkAnkcNAaLyIgHPBzwB0VxJAcX6UgFdjmMBc6I/AWAGWQFTJJMBOMPLAeg+/wEg+CsCMBFYAvAZewIKa5wCeI7AAn7z2wI2XewCAHECAG4/AwB6dwUAG8YIAM7YDACFZhEAltkWAJ/cHABvoxUA4e8aAEk4IABXOyYAKfcVADQjGQCAyhwAjl4hANLkKAALiy8AHBovAMkjLwAaIjEA9Fc0AFQeOAB+1TsA2vhmAGMXdgCR5ocAfvOaADaVrgBFAcQAvF3cAAk0+QCOiBcBu3A4Ad3MWQEmvnoBlzcMANZ1DQBoag8APIoRADQmFADAUBcAgMsaAJ2/HgBiSiMAUxEmADrOKAAP2ysARJgyAQSaSwEEomgBv7+KAdZcsgGXFOEBei4RAiJFRALqsGoC++iTAoHFtwI8ytgCSB2MAKK9kwCZp50A+tarALFmvQCOmtQAWgjxAPxkEQFBJzYBGfheAf3NigGeAbkBub8HADmTCADElQkAF+gKAHqmDAD1Uw8AONoTABpSGABIOR0Ac9giAHZnKQAh5zAAAOZ2AohHyAJ/QCoDa1KdA2HUIQTug6gEyJlzBUEGRQbsCygHIo4UCITAJAlZ3RYKI2NWAYLUjQEQus4BuH8bAt1SbwKS48oChq8vA3zMkwNmLAEEfJt4BJBn8gSnum0FLR89AEJwQwC1bEsAFrpVADTEYgD5B3wAkLurAGEU3wDBkgIBv/BDARrddQGOKKUBWDIRACkQFgC4tBoAAC0eANDXIAA0eyMA3XYoADikKgAZYDEAxQQ6AJANQAAxeUUABs15AGJKiwCwBp8ANBmzAJ2exgDkZ9cA5yPrAMiy+wB0WwwBn1EdAc+3KgF/8jYB7d43AJRSPwA9xUkArK5WAHRAZgBXCnkAvpePAF+NqwD2tMkAOB7mAObGBQE7uCYB2neCAPcXmwBa3rUANEPQALdU6AAsHwABDk8aAed6LQFGqDsBvQZKAd+fVgGWnGEButlEAf0bfgElhr4BOSsHAnlOVwI9pqECGAvpAgZZJwPXq2ADZdWWA9xavgN13OADt36QAY97ugEssAMC5itaAqZhqQKCFAMDZalYA/unvgP4NSsEZGqIBHOP0gQUABUFubkPAGdVEABOShEAbG8RACSgEAAjPhMA1MEVAErOGQDLHSAAPh8rAIq4MwCcUD0A9b1LAOrkUwCRYl0AMdtmAOMFcQAWPIAAEl2TAIwxqwC9+ssAQX7xAMlbHQGf7FIB",
            "dtype": "i4"
           }
          }
         ],
         "hovertemplate": "continent=Asia<br>%{xaxis.title.text}=%{x}<br>%{yaxis.title.text}=%{y}<extra></extra>",
         "legendgroup": "Asia",
         "marker": {
          "color": "#636efa",
          "symbol": "circle"
         },
         "name": "Asia",
         "showlegend": true,
         "type": "splom"
        },
        {
         "dimensions": [
          {
           "axis": {
            "matches": true
           },
           "label": "gdpPercap",
           "values": {
            "bdata": "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",
            "dtype": "f8"
           }
          },
          {
           "axis": {
            "matches": true
           },
           "label": "lifeExp",
           "values": {
            "bdata": "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",
            "dtype": "f8"
           }
          },
          {
           "axis": {
            "matches": true
           },
           "label": "pop",
           "values": {
            "bdata": "iZITAJmHFgCJXhoAPEYeAAKKIgD4SCYAwWsqAPnsLgAiwjIAxk40ACCJNQCL8DYAnLVpAGRKagAIy2wAZpBwAIkdcwAufHMAVZRzABelcwDZxXgA9CJ7AFhVfABnHn0AJTeFALcpiQBgqYwAFNKRACwmlABo3pUAL2WWAHiblgC2SJkA66KbACJZnQCikp4AWJYqAKDvLgAIGjMA6LM2APhFOgDwWD4Alas/ACE1QgAN8UAA2Ak3ACiPPwAGdkUAlAFvALa/dACSRHoA0s1+AMjcggBeO4YAwq6HALbmiABKHoQACRR7AOfodADqvG8A9Tw7AMrmPAANND4AHrI/AB55QADR5UEAuFdDANZsRAC9kkQAs9FDAPxfRAAAkEQAPz2LAB4rkQA6y5IAZRKWAA58lgD7DpsA2DidAK1XnQC2Z50AIy2dAKd/nAAIFJwAsCFCAJd6RADz50YAkNVJAGwqTACjpE0AchdOAHA7TgDB6E4AT59QAOUCUgDYb1MAhGo+AKD6QQCziEQAMEdGAKnLRgBWT0gANadJAJFASwCP60wARlhOAE89TwC87k8AE+KHAk8hpAIgDs8C6Fz0AiBeFQPbOysDHZc+AxTZUAPjdWsDxIV+AytikgMMEaQDYBUfBD2qOwRtK2UERUqNBKAgsQSFo6gEIk2rBBrjoQQE080EwWPjBE+S6ATkVukEAgB2ANqJewDp6IAAmQCFADShhwA/CY4AcFSVANoymAC1jZ0A5ECgAFfNoQByXaMAAAWRAJghlgCYjJkAPv+bAOuZngBzT6IAf1qjAATwoQCM6J0ATFKcAPHbmQAM65cA+kECAPaEAgAlxwIAFAgDAHsxAwB/YgMADZIDAMS7AwDE8wMAWCMEAB5lBABrmwQA3AstAAzrKwCwLisAhEAsABAmLgDc7DEAwBk1ALwDNgCBSTYAIfU3APMwOwAesz4AUFPXAjB17gJAzgcD3KIjA3yNPQNtZVcDVKpeA2egYQOPUmMDLRFtA1flcwOVQ3cDilAGAM3BBgCgPQcAK6UHAD4NCADJiwgAdJUIAIGwCAA1fAkAq5EKAGb9CgDAcgoApGqeAM8/qAD5I7QAVjbAANJlywA9YdMAAVzaAD7G3wBkiucA8BruAM4D9gD12PwA8MYyAGJINQCHhjcAI8U5AEwDPADFsT0AY8k+ACPgPwCVZ0EAqDlDACc1RQDWnUYA952IAVLWrgERy84BogHlAbkk+AFGRxACNckoAqbgPwKJfUkC7dNNArhiTQLhvUsC4hiCAPKLhgCYoYkAmOaKANLgiACIcJMAQnKWAJlLlwAAfJcAf/maAEs1nwCUZaIA8MD9AM8NEAGRCx0BTkMmAXhJOwHle0oB9iJVAaMqWgHj2lsBmkZYAfHcVQHY51MBc61oAN/ybgA8NnQAlqF5AMjZfgAfi4QAeNSJAL/ZjABd8JUAUrmdAEdKmgB54ZoA+Uo2ALWoOgBIqEAAfshDABkXRgCbqkkA6wZNANZVTwBo6lAAYiNSAASNUgBOH1MAbroWAI5kFwByJxgAQCEZAC7bGQDnpxoAhGYcAA6xHQBqgR4A3LEeAGmxHgCdqB4A7qKzAc5YxwEtb9sBY0H1AQmhDgLYAywCTpRDAr5FUQL+eVsCUiVgAsWtZAK/MGkCwbZsANpccAB0YXMAGw54ALXvewAA6X0AjAh/ABuAgAATCoUAU8SHAD+hiACwzYkAmHhJAHA3TgDQdFYAmINcAHitYQCIYWAAHrJiAFZ4ZQD3vWoAocRtAN1UcABlRnMAHUpTARu1hwEXisYB9dD9AdkYPALBCIcCFy7SArDnJgNIvncD3wfCA4ANAwR3yz0EMIABA3DCEAPgKy0DmJtGA5iyVwM4OVkD+KxbA3R4ZQNt+HIDyleBA+8wkgMuX58D",
            "dtype": "i4"
           }
          }
         ],
         "hovertemplate": "continent=Europe<br>%{xaxis.title.text}=%{x}<br>%{yaxis.title.text}=%{y}<extra></extra>",
         "legendgroup": "Europe",
         "marker": {
          "color": "#EF553B",
          "symbol": "circle"
         },
         "name": "Europe",
         "showlegend": true,
         "type": "splom"
        },
        {
         "dimensions": [
          {
           "axis": {
            "matches": true
           },
           "label": "gdpPercap",
           "values": {
            "bdata": "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",
            "dtype": "f8"
           }
          },
          {
           "axis": {
            "matches": true
           },
           "label": "lifeExp",
           "values": {
            "bdata": "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",
            "dtype": "f8"
           }
          },
          {
           "axis": {
            "matches": true
           },
           "label": "pop",
           "values": {
            "bdata": "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",
            "dtype": "i4"
           }
          }
         ],
         "hovertemplate": "continent=Africa<br>%{xaxis.title.text}=%{x}<br>%{yaxis.title.text}=%{y}<extra></extra>",
         "legendgroup": "Africa",
         "marker": {
          "color": "#00cc96",
          "symbol": "circle"
         },
         "name": "Africa",
         "showlegend": true,
         "type": "splom"
        },
        {
         "dimensions": [
          {
           "axis": {
            "matches": true
           },
           "label": "gdpPercap",
           "values": {
            "bdata": "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",
            "dtype": "f8"
           }
          },
          {
           "axis": {
            "matches": true
           },
           "label": "lifeExp",
           "values": {
            "bdata": "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",
            "dtype": "f8"
           }
          },
          {
           "axis": {
            "matches": true
           },
           "label": "pop",
           "values": {
            "bdata": "3McQAao7KwHHw0QB0fJdARccegGUvZsBvra/ATZ/4gEjLAYCx2soAvHiSAJn9WYC8/4rANoBMQC+1jYA2ac9AHCrRQCkgk0A8BdWAFHwXQCLL2kAhGN1AM7cgACwJYsAwK9fA0M76APeRIgEn4g/BXqyAgbfStAGe9GvB9wPhQgmAUwJn9ELCuRFuQoXVVMLMJzhAOqNAwF5syEBN689AdQIVAGwGmsB7IyAAcQdlQHuO7MBM27OATzK5gE9fv0Bk1BhAOqMawCqenkAHC2HABRHlABxvaEAiEevAPosvgCCG88A+cbeAFZ37ABFfPgAM3W8AOkJ3QDdjAMBO5MtASr6VwEM6X4BpKenARV62AFh5AkC5pw+AmO8cQLe26ICbSIOAOz4EACjhhQA7T0YACz/GwApLCAAL/4kAMO4KgBgazAAm641ADaEOgD8Ez8A9atbAHBUZQBlsW4ARDJ8AHTBhgDEiZEAKF+VAF8/nAC8n6MAX5anAHdPqwCbNa4A0gMmALKaLAD6sTQA+sg9AGFHRwAQ6lAA3RFbAEGNZQCNK3AAJfR5AFL+gwDGNI4AUSY2ABHtPQDrb0cAaORSABscYAASEW8AGqd/AMalkQDqAaQAi8K1AJIpxQAg5dEA8SsfAF3yIwAn7SkAn1QxADfYOQDaWEEA+UdEANLiSQAZfFAAjz9YABHzYAAo5GkAjQIwACyONwDaOEAAVZNHAI2TTgAGB1cA7pZhAMbKbwAlgIEAY5iVAJqSqgAA2b8A0NkwAPWFNQDCNDsAueNBAL2wRwAK5koAP1JPACvVVwCaiWAACX5pAGMVdAAevoEAjScXAJYDGwCy5B8AUSgmAJo+LQCDni4AyP03AOu2QgBjeU0AtYlZAFDjZQBzMXIAr8IVAHJsFwBoaBkA6GUcADB7HgAO6SAAxREjAE6AIwB6SyQA758mANOoKADkayoAPffLAXxLFgLNdnMCp1rcAqZAVgNo5swDSCdFBHySxgS2d0AFaj63BTe4GwbbpHoG3skRAOy7FABFRRgAEnccAPxOIQDm+iYAX3YtAOEHMwATTz0AJFZGAOCITgBcmVYAMFgOAFI6EADtjBIALnIVAACqGACmEhwAURIfAEdjIgAF6yUAw7kpABujLQC9eDEApL0XAJYFGwDVqh4AcekiAFjjJwAuii0AJ14zALBNOwBpa0QAS6VOAEvKWQCLu2UAZHZ6APSOiwAUeKAAaB+5AIzu1ABT/fMASZEUAVQqNAHxQlYBWqB5ARx4mAHFirUBOPshACB8IgCuWiUAgWsoAJxxKwB8Ai8AmQgyAPSONACYtDYARl05AJbkOgBbKDwAQh0KAOSrCwDKig0Am6YOAF/hDgCh2g8APwkRAKgtEgC1DxIAtV0RAAjQEABgHxAAaBFkCYBEQAoQWB4LwBrYC0DCggyYlCANu+fWDU3jeA7t5E8PkE1EEIaUJRHrB/MRpWAiAH8AJQBCpicAo/ApANYsKwCw2CsADRMtACF3LgDODTAAdskxAA1RMwDImjQAUABTAExGZgAPQnwA8CeUAAG3rwBLDM4AnlruAKZJEQFbOjUB/mdVAbaZcgE2BY4B",
            "dtype": "i4"
           }
          }
         ],
         "hovertemplate": "continent=Americas<br>%{xaxis.title.text}=%{x}<br>%{yaxis.title.text}=%{y}<extra></extra>",
         "legendgroup": "Americas",
         "marker": {
          "color": "#ab63fa",
          "symbol": "circle"
         },
         "name": "Americas",
         "showlegend": true,
         "type": "splom"
        },
        {
         "dimensions": [
          {
           "axis": {
            "matches": true
           },
           "label": "gdpPercap",
           "values": {
            "bdata": "GHjuPcybw0Do3sMl02LFQGOcvwmd3MdAufyH9A9fzEBfe2ZJKGXQQKn7AKSM59FAICQLmEAF00DKFd7lOGDVQOYivhMx4NZAG0zD8Htd2kDUDn9N8PfdQOeHEcJr0OBAzxQ6r0mexEC6g9iZsuvHQFg5tMjWu8lAqYx/n/U/zEBmTpfFBFfPQCv2l93btM9Aklz+Qxo40UCDaRg+zI/SQEok0cvU7tFAhCo1e5qO1ECqglFJc6XWQAQcQpVAmNhA",
            "dtype": "f8"
           }
          },
          {
           "axis": {
            "matches": true
           },
           "label": "lifeExp",
           "values": {
            "bdata": "SOF6FK5HUUCF61G4HpVRQOxRuB6Fu1FAZmZmZmbGUUDsUbgehftRQI/C9ShcX1JAj8L1KFyvUkAUrkfhehRTQKRwPQrXY1NAhetRuB61U0BI4XoUrhdUQNejcD0KT1RAKVyPwvVYUUBxPQrXo5BRQI/C9Shcz1FA4XoUrkfhUUApXI/C9fhRQK5H4XoUDlJA9ihcj8J1UkAUrkfhepRSQIXrUbgeFVNAMzMzMzNjU0DXo3A9CsdTQJMYBFYODVRA",
            "dtype": "f8"
           }
          },
          {
           "axis": {
            "matches": true
           },
           "label": "pop",
           "values": {
            "bdata": "DJ6EALkzlADYt6QACCi1AKgQyQD0wNYASLHnAOEQ+AD5wAoBe0gbAahCKgEAzTcBKnAeAJ8EIgDm+CUA1qApAMyxLADkSjAAmv0wAK6dMgBqdDQAGxg4AMWhOwA7zT4A",
            "dtype": "i4"
           }
          }
         ],
         "hovertemplate": "continent=Oceania<br>%{xaxis.title.text}=%{x}<br>%{yaxis.title.text}=%{y}<extra></extra>",
         "legendgroup": "Oceania",
         "marker": {
          "color": "#FFA15A",
          "symbol": "circle"
         },
         "name": "Oceania",
         "showlegend": true,
         "type": "splom"
        }
       ],
       "layout": {
        "dragmode": "select",
        "height": 600,
        "legend": {
         "title": {
          "text": "continent"
         },
         "tracegroupgap": 0
        },
        "template": {
         "data": {
          "bar": [
           {
            "error_x": {
             "color": "#2a3f5f"
            },
            "error_y": {
             "color": "#2a3f5f"
            },
            "marker": {
             "line": {
              "color": "#E5ECF6",
              "width": 0.5
             },
             "pattern": {
              "fillmode": "overlay",
              "size": 10,
              "solidity": 0.2
             }
            },
            "type": "bar"
           }
          ],
          "barpolar": [
           {
            "marker": {
             "line": {
              "color": "#E5ECF6",
              "width": 0.5
             },
             "pattern": {
              "fillmode": "overlay",
              "size": 10,
              "solidity": 0.2
             }
            },
            "type": "barpolar"
           }
          ],
          "carpet": [
           {
            "aaxis": {
             "endlinecolor": "#2a3f5f",
             "gridcolor": "white",
             "linecolor": "white",
             "minorgridcolor": "white",
             "startlinecolor": "#2a3f5f"
            },
            "baxis": {
             "endlinecolor": "#2a3f5f",
             "gridcolor": "white",
             "linecolor": "white",
             "minorgridcolor": "white",
             "startlinecolor": "#2a3f5f"
            },
            "type": "carpet"
           }
          ],
          "choropleth": [
           {
            "colorbar": {
             "outlinewidth": 0,
             "ticks": ""
            },
            "type": "choropleth"
           }
          ],
          "contour": [
           {
            "colorbar": {
             "outlinewidth": 0,
             "ticks": ""
            },
            "colorscale": [
             [
              0,
              "#0d0887"
             ],
             [
              0.1111111111111111,
              "#46039f"
             ],
             [
              0.2222222222222222,
              "#7201a8"
             ],
             [
              0.3333333333333333,
              "#9c179e"
             ],
             [
              0.4444444444444444,
              "#bd3786"
             ],
             [
              0.5555555555555556,
              "#d8576b"
             ],
             [
              0.6666666666666666,
              "#ed7953"
             ],
             [
              0.7777777777777778,
              "#fb9f3a"
             ],
             [
              0.8888888888888888,
              "#fdca26"
             ],
             [
              1,
              "#f0f921"
             ]
            ],
            "type": "contour"
           }
          ],
          "contourcarpet": [
           {
            "colorbar": {
             "outlinewidth": 0,
             "ticks": ""
            },
            "type": "contourcarpet"
           }
          ],
          "heatmap": [
           {
            "colorbar": {
             "outlinewidth": 0,
             "ticks": ""
            },
            "colorscale": [
             [
              0,
              "#0d0887"
             ],
             [
              0.1111111111111111,
              "#46039f"
             ],
             [
              0.2222222222222222,
              "#7201a8"
             ],
             [
              0.3333333333333333,
              "#9c179e"
             ],
             [
              0.4444444444444444,
              "#bd3786"
             ],
             [
              0.5555555555555556,
              "#d8576b"
             ],
             [
              0.6666666666666666,
              "#ed7953"
             ],
             [
              0.7777777777777778,
              "#fb9f3a"
             ],
             [
              0.8888888888888888,
              "#fdca26"
             ],
             [
              1,
              "#f0f921"
             ]
            ],
            "type": "heatmap"
           }
          ],
          "histogram": [
           {
            "marker": {
             "pattern": {
              "fillmode": "overlay",
              "size": 10,
              "solidity": 0.2
             }
            },
            "type": "histogram"
           }
          ],
          "histogram2d": [
           {
            "colorbar": {
             "outlinewidth": 0,
             "ticks": ""
            },
            "colorscale": [
             [
              0,
              "#0d0887"
             ],
             [
              0.1111111111111111,
              "#46039f"
             ],
             [
              0.2222222222222222,
              "#7201a8"
             ],
             [
              0.3333333333333333,
              "#9c179e"
             ],
             [
              0.4444444444444444,
              "#bd3786"
             ],
             [
              0.5555555555555556,
              "#d8576b"
             ],
             [
              0.6666666666666666,
              "#ed7953"
             ],
             [
              0.7777777777777778,
              "#fb9f3a"
             ],
             [
              0.8888888888888888,
              "#fdca26"
             ],
             [
              1,
              "#f0f921"
             ]
            ],
            "type": "histogram2d"
           }
          ],
          "histogram2dcontour": [
           {
            "colorbar": {
             "outlinewidth": 0,
             "ticks": ""
            },
            "colorscale": [
             [
              0,
              "#0d0887"
             ],
             [
              0.1111111111111111,
              "#46039f"
             ],
             [
              0.2222222222222222,
              "#7201a8"
             ],
             [
              0.3333333333333333,
              "#9c179e"
             ],
             [
              0.4444444444444444,
              "#bd3786"
             ],
             [
              0.5555555555555556,
              "#d8576b"
             ],
             [
              0.6666666666666666,
              "#ed7953"
             ],
             [
              0.7777777777777778,
              "#fb9f3a"
             ],
             [
              0.8888888888888888,
              "#fdca26"
             ],
             [
              1,
              "#f0f921"
             ]
            ],
            "type": "histogram2dcontour"
           }
          ],
          "mesh3d": [
           {
            "colorbar": {
             "outlinewidth": 0,
             "ticks": ""
            },
            "type": "mesh3d"
           }
          ],
          "parcoords": [
           {
            "line": {
             "colorbar": {
              "outlinewidth": 0,
              "ticks": ""
             }
            },
            "type": "parcoords"
           }
          ],
          "pie": [
           {
            "automargin": true,
            "type": "pie"
           }
          ],
          "scatter": [
           {
            "fillpattern": {
             "fillmode": "overlay",
             "size": 10,
             "solidity": 0.2
            },
            "type": "scatter"
           }
          ],
          "scatter3d": [
           {
            "line": {
             "colorbar": {
              "outlinewidth": 0,
              "ticks": ""
             }
            },
            "marker": {
             "colorbar": {
              "outlinewidth": 0,
              "ticks": ""
             }
            },
            "type": "scatter3d"
           }
          ],
          "scattercarpet": [
           {
            "marker": {
             "colorbar": {
              "outlinewidth": 0,
              "ticks": ""
             }
            },
            "type": "scattercarpet"
           }
          ],
          "scattergeo": [
           {
            "marker": {
             "colorbar": {
              "outlinewidth": 0,
              "ticks": ""
             }
            },
            "type": "scattergeo"
           }
          ],
          "scattergl": [
           {
            "marker": {
             "colorbar": {
              "outlinewidth": 0,
              "ticks": ""
             }
            },
            "type": "scattergl"
           }
          ],
          "scattermap": [
           {
            "marker": {
             "colorbar": {
              "outlinewidth": 0,
              "ticks": ""
             }
            },
            "type": "scattermap"
           }
          ],
          "scattermapbox": [
           {
            "marker": {
             "colorbar": {
              "outlinewidth": 0,
              "ticks": ""
             }
            },
            "type": "scattermapbox"
           }
          ],
          "scatterpolar": [
           {
            "marker": {
             "colorbar": {
              "outlinewidth": 0,
              "ticks": ""
             }
            },
            "type": "scatterpolar"
           }
          ],
          "scatterpolargl": [
           {
            "marker": {
             "colorbar": {
              "outlinewidth": 0,
              "ticks": ""
             }
            },
            "type": "scatterpolargl"
           }
          ],
          "scatterternary": [
           {
            "marker": {
             "colorbar": {
              "outlinewidth": 0,
              "ticks": ""
             }
            },
            "type": "scatterternary"
           }
          ],
          "surface": [
           {
            "colorbar": {
             "outlinewidth": 0,
             "ticks": ""
            },
            "colorscale": [
             [
              0,
              "#0d0887"
             ],
             [
              0.1111111111111111,
              "#46039f"
             ],
             [
              0.2222222222222222,
              "#7201a8"
             ],
             [
              0.3333333333333333,
              "#9c179e"
             ],
             [
              0.4444444444444444,
              "#bd3786"
             ],
             [
              0.5555555555555556,
              "#d8576b"
             ],
             [
              0.6666666666666666,
              "#ed7953"
             ],
             [
              0.7777777777777778,
              "#fb9f3a"
             ],
             [
              0.8888888888888888,
              "#fdca26"
             ],
             [
              1,
              "#f0f921"
             ]
            ],
            "type": "surface"
           }
          ],
          "table": [
           {
            "cells": {
             "fill": {
              "color": "#EBF0F8"
             },
             "line": {
              "color": "white"
             }
            },
            "header": {
             "fill": {
              "color": "#C8D4E3"
             },
             "line": {
              "color": "white"
             }
            },
            "type": "table"
           }
          ]
         },
         "layout": {
          "annotationdefaults": {
           "arrowcolor": "#2a3f5f",
           "arrowhead": 0,
           "arrowwidth": 1
          },
          "autotypenumbers": "strict",
          "coloraxis": {
           "colorbar": {
            "outlinewidth": 0,
            "ticks": ""
           }
          },
          "colorscale": {
           "diverging": [
            [
             0,
             "#8e0152"
            ],
            [
             0.1,
             "#c51b7d"
            ],
            [
             0.2,
             "#de77ae"
            ],
            [
             0.3,
             "#f1b6da"
            ],
            [
             0.4,
             "#fde0ef"
            ],
            [
             0.5,
             "#f7f7f7"
            ],
            [
             0.6,
             "#e6f5d0"
            ],
            [
             0.7,
             "#b8e186"
            ],
            [
             0.8,
             "#7fbc41"
            ],
            [
             0.9,
             "#4d9221"
            ],
            [
             1,
             "#276419"
            ]
           ],
           "sequential": [
            [
             0,
             "#0d0887"
            ],
            [
             0.1111111111111111,
             "#46039f"
            ],
            [
             0.2222222222222222,
             "#7201a8"
            ],
            [
             0.3333333333333333,
             "#9c179e"
            ],
            [
             0.4444444444444444,
             "#bd3786"
            ],
            [
             0.5555555555555556,
             "#d8576b"
            ],
            [
             0.6666666666666666,
             "#ed7953"
            ],
            [
             0.7777777777777778,
             "#fb9f3a"
            ],
            [
             0.8888888888888888,
             "#fdca26"
            ],
            [
             1,
             "#f0f921"
            ]
           ],
           "sequentialminus": [
            [
             0,
             "#0d0887"
            ],
            [
             0.1111111111111111,
             "#46039f"
            ],
            [
             0.2222222222222222,
             "#7201a8"
            ],
            [
             0.3333333333333333,
             "#9c179e"
            ],
            [
             0.4444444444444444,
             "#bd3786"
            ],
            [
             0.5555555555555556,
             "#d8576b"
            ],
            [
             0.6666666666666666,
             "#ed7953"
            ],
            [
             0.7777777777777778,
             "#fb9f3a"
            ],
            [
             0.8888888888888888,
             "#fdca26"
            ],
            [
             1,
             "#f0f921"
            ]
           ]
          },
          "colorway": [
           "#636efa",
           "#EF553B",
           "#00cc96",
           "#ab63fa",
           "#FFA15A",
           "#19d3f3",
           "#FF6692",
           "#B6E880",
           "#FF97FF",
           "#FECB52"
          ],
          "font": {
           "color": "#2a3f5f"
          },
          "geo": {
           "bgcolor": "white",
           "lakecolor": "white",
           "landcolor": "#E5ECF6",
           "showlakes": true,
           "showland": true,
           "subunitcolor": "white"
          },
          "hoverlabel": {
           "align": "left"
          },
          "hovermode": "closest",
          "mapbox": {
           "style": "light"
          },
          "paper_bgcolor": "white",
          "plot_bgcolor": "#E5ECF6",
          "polar": {
           "angularaxis": {
            "gridcolor": "white",
            "linecolor": "white",
            "ticks": ""
           },
           "bgcolor": "#E5ECF6",
           "radialaxis": {
            "gridcolor": "white",
            "linecolor": "white",
            "ticks": ""
           }
          },
          "scene": {
           "xaxis": {
            "backgroundcolor": "#E5ECF6",
            "gridcolor": "white",
            "gridwidth": 2,
            "linecolor": "white",
            "showbackground": true,
            "ticks": "",
            "zerolinecolor": "white"
           },
           "yaxis": {
            "backgroundcolor": "#E5ECF6",
            "gridcolor": "white",
            "gridwidth": 2,
            "linecolor": "white",
            "showbackground": true,
            "ticks": "",
            "zerolinecolor": "white"
           },
           "zaxis": {
            "backgroundcolor": "#E5ECF6",
            "gridcolor": "white",
            "gridwidth": 2,
            "linecolor": "white",
            "showbackground": true,
            "ticks": "",
            "zerolinecolor": "white"
           }
          },
          "shapedefaults": {
           "line": {
            "color": "#2a3f5f"
           }
          },
          "ternary": {
           "aaxis": {
            "gridcolor": "white",
            "linecolor": "white",
            "ticks": ""
           },
           "baxis": {
            "gridcolor": "white",
            "linecolor": "white",
            "ticks": ""
           },
           "bgcolor": "#E5ECF6",
           "caxis": {
            "gridcolor": "white",
            "linecolor": "white",
            "ticks": ""
           }
          },
          "title": {
           "x": 0.05
          },
          "xaxis": {
           "automargin": true,
           "gridcolor": "white",
           "linecolor": "white",
           "ticks": "",
           "title": {
            "standoff": 15
           },
           "zerolinecolor": "white",
           "zerolinewidth": 2
          },
          "yaxis": {
           "automargin": true,
           "gridcolor": "white",
           "linecolor": "white",
           "ticks": "",
           "title": {
            "standoff": 15
           },
           "zerolinecolor": "white",
           "zerolinewidth": 2
          }
         }
        },
        "title": {
         "text": "Scatter Matrix of GDP, Life Expectancy, and Population"
        },
        "width": 800
       }
      }
     },
     "metadata": {},
     "output_type": "display_data"
    }
   ],
   "source": [
    "# Creating a scatter matrix plot for a few selected columns\n",
    "fig = px.scatter_matrix(df, dimensions=['gdpPercap', 'lifeExp', 'pop'], \n",
    "                        color='continent', \n",
    "                        title='Scatter Matrix of GDP, Life Expectancy, and Population',\n",
    "                        height = 600,\n",
    "                        width = 800)\n",
    "fig.show()"
   ]
  },
  {
   "cell_type": "code",
   "execution_count": 8,
   "metadata": {},
   "outputs": [
    {
     "data": {
      "application/vnd.plotly.v1+json": {
       "config": {
        "plotlyServerURL": "https://plot.ly"
       },
       "data": [
        {
         "coloraxis": "coloraxis",
         "hovertemplate": "gdpPercap=%{x}<br>lifeExp=%{y}<br>count=%{z}<extra></extra>",
         "name": "",
         "type": "histogram2d",
         "x": {
          "bdata": "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",
          "dtype": "f8"
         },
         "xaxis": "x",
         "xbingroup": "x",
         "y": {
          "bdata": "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",
          "dtype": "f8"
         },
         "yaxis": "y",
         "ybingroup": "y"
        },
        {
         "bingroup": "x",
         "hovertemplate": "gdpPercap=%{x}<br>count=%{y}<extra></extra>",
         "legendgroup": "",
         "marker": {
          "color": "#0d0887"
         },
         "name": "",
         "opacity": 0.5,
         "showlegend": false,
         "type": "histogram",
         "x": {
          "bdata": "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",
          "dtype": "f8"
         },
         "xaxis": "x3",
         "yaxis": "y3"
        },
        {
         "bingroup": "y",
         "hovertemplate": "lifeExp=%{y}<br>count=%{x}<extra></extra>",
         "legendgroup": "",
         "marker": {
          "color": "#0d0887"
         },
         "name": "",
         "opacity": 0.5,
         "showlegend": false,
         "type": "histogram",
         "xaxis": "x2",
         "y": {
          "bdata": "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",
          "dtype": "f8"
         },
         "yaxis": "y2"
        }
       ],
       "layout": {
        "barmode": "overlay",
        "coloraxis": {
         "colorbar": {
          "title": {
           "text": "count"
          }
         },
         "colorscale": [
          [
           0,
           "#0d0887"
          ],
          [
           0.1111111111111111,
           "#46039f"
          ],
          [
           0.2222222222222222,
           "#7201a8"
          ],
          [
           0.3333333333333333,
           "#9c179e"
          ],
          [
           0.4444444444444444,
           "#bd3786"
          ],
          [
           0.5555555555555556,
           "#d8576b"
          ],
          [
           0.6666666666666666,
           "#ed7953"
          ],
          [
           0.7777777777777778,
           "#fb9f3a"
          ],
          [
           0.8888888888888888,
           "#fdca26"
          ],
          [
           1,
           "#f0f921"
          ]
         ]
        },
        "height": 800,
        "legend": {
         "tracegroupgap": 0
        },
        "template": {
         "data": {
          "bar": [
           {
            "error_x": {
             "color": "#2a3f5f"
            },
            "error_y": {
             "color": "#2a3f5f"
            },
            "marker": {
             "line": {
              "color": "#E5ECF6",
              "width": 0.5
             },
             "pattern": {
              "fillmode": "overlay",
              "size": 10,
              "solidity": 0.2
             }
            },
            "type": "bar"
           }
          ],
          "barpolar": [
           {
            "marker": {
             "line": {
              "color": "#E5ECF6",
              "width": 0.5
             },
             "pattern": {
              "fillmode": "overlay",
              "size": 10,
              "solidity": 0.2
             }
            },
            "type": "barpolar"
           }
          ],
          "carpet": [
           {
            "aaxis": {
             "endlinecolor": "#2a3f5f",
             "gridcolor": "white",
             "linecolor": "white",
             "minorgridcolor": "white",
             "startlinecolor": "#2a3f5f"
            },
            "baxis": {
             "endlinecolor": "#2a3f5f",
             "gridcolor": "white",
             "linecolor": "white",
             "minorgridcolor": "white",
             "startlinecolor": "#2a3f5f"
            },
            "type": "carpet"
           }
          ],
          "choropleth": [
           {
            "colorbar": {
             "outlinewidth": 0,
             "ticks": ""
            },
            "type": "choropleth"
           }
          ],
          "contour": [
           {
            "colorbar": {
             "outlinewidth": 0,
             "ticks": ""
            },
            "colorscale": [
             [
              0,
              "#0d0887"
             ],
             [
              0.1111111111111111,
              "#46039f"
             ],
             [
              0.2222222222222222,
              "#7201a8"
             ],
             [
              0.3333333333333333,
              "#9c179e"
             ],
             [
              0.4444444444444444,
              "#bd3786"
             ],
             [
              0.5555555555555556,
              "#d8576b"
             ],
             [
              0.6666666666666666,
              "#ed7953"
             ],
             [
              0.7777777777777778,
              "#fb9f3a"
             ],
             [
              0.8888888888888888,
              "#fdca26"
             ],
             [
              1,
              "#f0f921"
             ]
            ],
            "type": "contour"
           }
          ],
          "contourcarpet": [
           {
            "colorbar": {
             "outlinewidth": 0,
             "ticks": ""
            },
            "type": "contourcarpet"
           }
          ],
          "heatmap": [
           {
            "colorbar": {
             "outlinewidth": 0,
             "ticks": ""
            },
            "colorscale": [
             [
              0,
              "#0d0887"
             ],
             [
              0.1111111111111111,
              "#46039f"
             ],
             [
              0.2222222222222222,
              "#7201a8"
             ],
             [
              0.3333333333333333,
              "#9c179e"
             ],
             [
              0.4444444444444444,
              "#bd3786"
             ],
             [
              0.5555555555555556,
              "#d8576b"
             ],
             [
              0.6666666666666666,
              "#ed7953"
             ],
             [
              0.7777777777777778,
              "#fb9f3a"
             ],
             [
              0.8888888888888888,
              "#fdca26"
             ],
             [
              1,
              "#f0f921"
             ]
            ],
            "type": "heatmap"
           }
          ],
          "histogram": [
           {
            "marker": {
             "pattern": {
              "fillmode": "overlay",
              "size": 10,
              "solidity": 0.2
             }
            },
            "type": "histogram"
           }
          ],
          "histogram2d": [
           {
            "colorbar": {
             "outlinewidth": 0,
             "ticks": ""
            },
            "colorscale": [
             [
              0,
              "#0d0887"
             ],
             [
              0.1111111111111111,
              "#46039f"
             ],
             [
              0.2222222222222222,
              "#7201a8"
             ],
             [
              0.3333333333333333,
              "#9c179e"
             ],
             [
              0.4444444444444444,
              "#bd3786"
             ],
             [
              0.5555555555555556,
              "#d8576b"
             ],
             [
              0.6666666666666666,
              "#ed7953"
             ],
             [
              0.7777777777777778,
              "#fb9f3a"
             ],
             [
              0.8888888888888888,
              "#fdca26"
             ],
             [
              1,
              "#f0f921"
             ]
            ],
            "type": "histogram2d"
           }
          ],
          "histogram2dcontour": [
           {
            "colorbar": {
             "outlinewidth": 0,
             "ticks": ""
            },
            "colorscale": [
             [
              0,
              "#0d0887"
             ],
             [
              0.1111111111111111,
              "#46039f"
             ],
             [
              0.2222222222222222,
              "#7201a8"
             ],
             [
              0.3333333333333333,
              "#9c179e"
             ],
             [
              0.4444444444444444,
              "#bd3786"
             ],
             [
              0.5555555555555556,
              "#d8576b"
             ],
             [
              0.6666666666666666,
              "#ed7953"
             ],
             [
              0.7777777777777778,
              "#fb9f3a"
             ],
             [
              0.8888888888888888,
              "#fdca26"
             ],
             [
              1,
              "#f0f921"
             ]
            ],
            "type": "histogram2dcontour"
           }
          ],
          "mesh3d": [
           {
            "colorbar": {
             "outlinewidth": 0,
             "ticks": ""
            },
            "type": "mesh3d"
           }
          ],
          "parcoords": [
           {
            "line": {
             "colorbar": {
              "outlinewidth": 0,
              "ticks": ""
             }
            },
            "type": "parcoords"
           }
          ],
          "pie": [
           {
            "automargin": true,
            "type": "pie"
           }
          ],
          "scatter": [
           {
            "fillpattern": {
             "fillmode": "overlay",
             "size": 10,
             "solidity": 0.2
            },
            "type": "scatter"
           }
          ],
          "scatter3d": [
           {
            "line": {
             "colorbar": {
              "outlinewidth": 0,
              "ticks": ""
             }
            },
            "marker": {
             "colorbar": {
              "outlinewidth": 0,
              "ticks": ""
             }
            },
            "type": "scatter3d"
           }
          ],
          "scattercarpet": [
           {
            "marker": {
             "colorbar": {
              "outlinewidth": 0,
              "ticks": ""
             }
            },
            "type": "scattercarpet"
           }
          ],
          "scattergeo": [
           {
            "marker": {
             "colorbar": {
              "outlinewidth": 0,
              "ticks": ""
             }
            },
            "type": "scattergeo"
           }
          ],
          "scattergl": [
           {
            "marker": {
             "colorbar": {
              "outlinewidth": 0,
              "ticks": ""
             }
            },
            "type": "scattergl"
           }
          ],
          "scattermap": [
           {
            "marker": {
             "colorbar": {
              "outlinewidth": 0,
              "ticks": ""
             }
            },
            "type": "scattermap"
           }
          ],
          "scattermapbox": [
           {
            "marker": {
             "colorbar": {
              "outlinewidth": 0,
              "ticks": ""
             }
            },
            "type": "scattermapbox"
           }
          ],
          "scatterpolar": [
           {
            "marker": {
             "colorbar": {
              "outlinewidth": 0,
              "ticks": ""
             }
            },
            "type": "scatterpolar"
           }
          ],
          "scatterpolargl": [
           {
            "marker": {
             "colorbar": {
              "outlinewidth": 0,
              "ticks": ""
             }
            },
            "type": "scatterpolargl"
           }
          ],
          "scatterternary": [
           {
            "marker": {
             "colorbar": {
              "outlinewidth": 0,
              "ticks": ""
             }
            },
            "type": "scatterternary"
           }
          ],
          "surface": [
           {
            "colorbar": {
             "outlinewidth": 0,
             "ticks": ""
            },
            "colorscale": [
             [
              0,
              "#0d0887"
             ],
             [
              0.1111111111111111,
              "#46039f"
             ],
             [
              0.2222222222222222,
              "#7201a8"
             ],
             [
              0.3333333333333333,
              "#9c179e"
             ],
             [
              0.4444444444444444,
              "#bd3786"
             ],
             [
              0.5555555555555556,
              "#d8576b"
             ],
             [
              0.6666666666666666,
              "#ed7953"
             ],
             [
              0.7777777777777778,
              "#fb9f3a"
             ],
             [
              0.8888888888888888,
              "#fdca26"
             ],
             [
              1,
              "#f0f921"
             ]
            ],
            "type": "surface"
           }
          ],
          "table": [
           {
            "cells": {
             "fill": {
              "color": "#EBF0F8"
             },
             "line": {
              "color": "white"
             }
            },
            "header": {
             "fill": {
              "color": "#C8D4E3"
             },
             "line": {
              "color": "white"
             }
            },
            "type": "table"
           }
          ]
         },
         "layout": {
          "annotationdefaults": {
           "arrowcolor": "#2a3f5f",
           "arrowhead": 0,
           "arrowwidth": 1
          },
          "autotypenumbers": "strict",
          "coloraxis": {
           "colorbar": {
            "outlinewidth": 0,
            "ticks": ""
           }
          },
          "colorscale": {
           "diverging": [
            [
             0,
             "#8e0152"
            ],
            [
             0.1,
             "#c51b7d"
            ],
            [
             0.2,
             "#de77ae"
            ],
            [
             0.3,
             "#f1b6da"
            ],
            [
             0.4,
             "#fde0ef"
            ],
            [
             0.5,
             "#f7f7f7"
            ],
            [
             0.6,
             "#e6f5d0"
            ],
            [
             0.7,
             "#b8e186"
            ],
            [
             0.8,
             "#7fbc41"
            ],
            [
             0.9,
             "#4d9221"
            ],
            [
             1,
             "#276419"
            ]
           ],
           "sequential": [
            [
             0,
             "#0d0887"
            ],
            [
             0.1111111111111111,
             "#46039f"
            ],
            [
             0.2222222222222222,
             "#7201a8"
            ],
            [
             0.3333333333333333,
             "#9c179e"
            ],
            [
             0.4444444444444444,
             "#bd3786"
            ],
            [
             0.5555555555555556,
             "#d8576b"
            ],
            [
             0.6666666666666666,
             "#ed7953"
            ],
            [
             0.7777777777777778,
             "#fb9f3a"
            ],
            [
             0.8888888888888888,
             "#fdca26"
            ],
            [
             1,
             "#f0f921"
            ]
           ],
           "sequentialminus": [
            [
             0,
             "#0d0887"
            ],
            [
             0.1111111111111111,
             "#46039f"
            ],
            [
             0.2222222222222222,
             "#7201a8"
            ],
            [
             0.3333333333333333,
             "#9c179e"
            ],
            [
             0.4444444444444444,
             "#bd3786"
            ],
            [
             0.5555555555555556,
             "#d8576b"
            ],
            [
             0.6666666666666666,
             "#ed7953"
            ],
            [
             0.7777777777777778,
             "#fb9f3a"
            ],
            [
             0.8888888888888888,
             "#fdca26"
            ],
            [
             1,
             "#f0f921"
            ]
           ]
          },
          "colorway": [
           "#636efa",
           "#EF553B",
           "#00cc96",
           "#ab63fa",
           "#FFA15A",
           "#19d3f3",
           "#FF6692",
           "#B6E880",
           "#FF97FF",
           "#FECB52"
          ],
          "font": {
           "color": "#2a3f5f"
          },
          "geo": {
           "bgcolor": "white",
           "lakecolor": "white",
           "landcolor": "#E5ECF6",
           "showlakes": true,
           "showland": true,
           "subunitcolor": "white"
          },
          "hoverlabel": {
           "align": "left"
          },
          "hovermode": "closest",
          "mapbox": {
           "style": "light"
          },
          "paper_bgcolor": "white",
          "plot_bgcolor": "#E5ECF6",
          "polar": {
           "angularaxis": {
            "gridcolor": "white",
            "linecolor": "white",
            "ticks": ""
           },
           "bgcolor": "#E5ECF6",
           "radialaxis": {
            "gridcolor": "white",
            "linecolor": "white",
            "ticks": ""
           }
          },
          "scene": {
           "xaxis": {
            "backgroundcolor": "#E5ECF6",
            "gridcolor": "white",
            "gridwidth": 2,
            "linecolor": "white",
            "showbackground": true,
            "ticks": "",
            "zerolinecolor": "white"
           },
           "yaxis": {
            "backgroundcolor": "#E5ECF6",
            "gridcolor": "white",
            "gridwidth": 2,
            "linecolor": "white",
            "showbackground": true,
            "ticks": "",
            "zerolinecolor": "white"
           },
           "zaxis": {
            "backgroundcolor": "#E5ECF6",
            "gridcolor": "white",
            "gridwidth": 2,
            "linecolor": "white",
            "showbackground": true,
            "ticks": "",
            "zerolinecolor": "white"
           }
          },
          "shapedefaults": {
           "line": {
            "color": "#2a3f5f"
           }
          },
          "ternary": {
           "aaxis": {
            "gridcolor": "white",
            "linecolor": "white",
            "ticks": ""
           },
           "baxis": {
            "gridcolor": "white",
            "linecolor": "white",
            "ticks": ""
           },
           "bgcolor": "#E5ECF6",
           "caxis": {
            "gridcolor": "white",
            "linecolor": "white",
            "ticks": ""
           }
          },
          "title": {
           "x": 0.05
          },
          "xaxis": {
           "automargin": true,
           "gridcolor": "white",
           "linecolor": "white",
           "ticks": "",
           "title": {
            "standoff": 15
           },
           "zerolinecolor": "white",
           "zerolinewidth": 2
          },
          "yaxis": {
           "automargin": true,
           "gridcolor": "white",
           "linecolor": "white",
           "ticks": "",
           "title": {
            "standoff": 15
           },
           "zerolinecolor": "white",
           "zerolinewidth": 2
          }
         }
        },
        "title": {
         "text": "Density Heatmap of GDP per Capita and Life Expectancy"
        },
        "width": 800,
        "xaxis": {
         "anchor": "y",
         "domain": [
          0,
          0.7363
         ],
         "title": {
          "text": "gdpPercap"
         }
        },
        "xaxis2": {
         "anchor": "y2",
         "domain": [
          0.7413,
          1
         ],
         "matches": "x2",
         "showgrid": true,
         "showline": false,
         "showticklabels": false,
         "ticks": ""
        },
        "xaxis3": {
         "anchor": "y3",
         "domain": [
          0,
          0.7363
         ],
         "matches": "x",
         "showgrid": true,
         "showticklabels": false
        },
        "xaxis4": {
         "anchor": "y4",
         "domain": [
          0.7413,
          1
         ],
         "matches": "x2",
         "showgrid": true,
         "showline": false,
         "showticklabels": false,
         "ticks": ""
        },
        "yaxis": {
         "anchor": "x",
         "domain": [
          0,
          0.7326
         ],
         "title": {
          "text": "lifeExp"
         }
        },
        "yaxis2": {
         "anchor": "x2",
         "domain": [
          0,
          0.7326
         ],
         "matches": "y",
         "showgrid": true,
         "showticklabels": false
        },
        "yaxis3": {
         "anchor": "x3",
         "domain": [
          0.7426,
          1
         ],
         "matches": "y3",
         "showgrid": true,
         "showline": false,
         "showticklabels": false,
         "ticks": ""
        },
        "yaxis4": {
         "anchor": "x4",
         "domain": [
          0.7426,
          1
         ],
         "matches": "y3",
         "showgrid": true,
         "showline": false,
         "showticklabels": false,
         "ticks": ""
        }
       }
      }
     },
     "metadata": {},
     "output_type": "display_data"
    }
   ],
   "source": [
    "# Creating a density heatmap of life expectancy and GDP per capita\n",
    "fig = px.density_heatmap(df, x='gdpPercap', y='lifeExp', \n",
    "                         marginal_x='histogram', marginal_y='histogram', \n",
    "                         title='Density Heatmap of GDP per Capita and Life Expectancy',\n",
    "                         height = 800, width = 800)\n",
    "fig.show()"
   ]
  },
  {
   "cell_type": "code",
   "execution_count": 9,
   "metadata": {},
   "outputs": [
    {
     "data": {
      "application/vnd.plotly.v1+json": {
       "config": {
        "plotlyServerURL": "https://plot.ly"
       },
       "data": [
        {
         "hovertemplate": "<b>%{hovertext}</b><br><br>continent=Asia<br>gdpPercap=%{x}<br>lifeExp=%{y}<br>pop=%{marker.size}<extra></extra>",
         "hovertext": [
          "Afghanistan",
          "Afghanistan",
          "Afghanistan",
          "Afghanistan",
          "Afghanistan",
          "Afghanistan",
          "Afghanistan",
          "Afghanistan",
          "Afghanistan",
          "Afghanistan",
          "Afghanistan",
          "Afghanistan",
          "Bahrain",
          "Bahrain",
          "Bahrain",
          "Bahrain",
          "Bahrain",
          "Bahrain",
          "Bahrain",
          "Bahrain",
          "Bahrain",
          "Bahrain",
          "Bahrain",
          "Bahrain",
          "Bangladesh",
          "Bangladesh",
          "Bangladesh",
          "Bangladesh",
          "Bangladesh",
          "Bangladesh",
          "Bangladesh",
          "Bangladesh",
          "Bangladesh",
          "Bangladesh",
          "Bangladesh",
          "Bangladesh",
          "Cambodia",
          "Cambodia",
          "Cambodia",
          "Cambodia",
          "Cambodia",
          "Cambodia",
          "Cambodia",
          "Cambodia",
          "Cambodia",
          "Cambodia",
          "Cambodia",
          "Cambodia",
          "China",
          "China",
          "China",
          "China",
          "China",
          "China",
          "China",
          "China",
          "China",
          "China",
          "China",
          "China",
          "Hong Kong, China",
          "Hong Kong, China",
          "Hong Kong, China",
          "Hong Kong, China",
          "Hong Kong, China",
          "Hong Kong, China",
          "Hong Kong, China",
          "Hong Kong, China",
          "Hong Kong, China",
          "Hong Kong, China",
          "Hong Kong, China",
          "Hong Kong, China",
          "India",
          "India",
          "India",
          "India",
          "India",
          "India",
          "India",
          "India",
          "India",
          "India",
          "India",
          "India",
          "Indonesia",
          "Indonesia",
          "Indonesia",
          "Indonesia",
          "Indonesia",
          "Indonesia",
          "Indonesia",
          "Indonesia",
          "Indonesia",
          "Indonesia",
          "Indonesia",
          "Indonesia",
          "Iran",
          "Iran",
          "Iran",
          "Iran",
          "Iran",
          "Iran",
          "Iran",
          "Iran",
          "Iran",
          "Iran",
          "Iran",
          "Iran",
          "Iraq",
          "Iraq",
          "Iraq",
          "Iraq",
          "Iraq",
          "Iraq",
          "Iraq",
          "Iraq",
          "Iraq",
          "Iraq",
          "Iraq",
          "Iraq",
          "Israel",
          "Israel",
          "Israel",
          "Israel",
          "Israel",
          "Israel",
          "Israel",
          "Israel",
          "Israel",
          "Israel",
          "Israel",
          "Israel",
          "Japan",
          "Japan",
          "Japan",
          "Japan",
          "Japan",
          "Japan",
          "Japan",
          "Japan",
          "Japan",
          "Japan",
          "Japan",
          "Japan",
          "Jordan",
          "Jordan",
          "Jordan",
          "Jordan",
          "Jordan",
          "Jordan",
          "Jordan",
          "Jordan",
          "Jordan",
          "Jordan",
          "Jordan",
          "Jordan",
          "Korea, Dem. Rep.",
          "Korea, Dem. Rep.",
          "Korea, Dem. Rep.",
          "Korea, Dem. Rep.",
          "Korea, Dem. Rep.",
          "Korea, Dem. Rep.",
          "Korea, Dem. Rep.",
          "Korea, Dem. Rep.",
          "Korea, Dem. Rep.",
          "Korea, Dem. Rep.",
          "Korea, Dem. Rep.",
          "Korea, Dem. Rep.",
          "Korea, Rep.",
          "Korea, Rep.",
          "Korea, Rep.",
          "Korea, Rep.",
          "Korea, Rep.",
          "Korea, Rep.",
          "Korea, Rep.",
          "Korea, Rep.",
          "Korea, Rep.",
          "Korea, Rep.",
          "Korea, Rep.",
          "Korea, Rep.",
          "Kuwait",
          "Kuwait",
          "Kuwait",
          "Kuwait",
          "Kuwait",
          "Kuwait",
          "Kuwait",
          "Kuwait",
          "Kuwait",
          "Kuwait",
          "Kuwait",
          "Kuwait",
          "Lebanon",
          "Lebanon",
          "Lebanon",
          "Lebanon",
          "Lebanon",
          "Lebanon",
          "Lebanon",
          "Lebanon",
          "Lebanon",
          "Lebanon",
          "Lebanon",
          "Lebanon",
          "Malaysia",
          "Malaysia",
          "Malaysia",
          "Malaysia",
          "Malaysia",
          "Malaysia",
          "Malaysia",
          "Malaysia",
          "Malaysia",
          "Malaysia",
          "Malaysia",
          "Malaysia",
          "Mongolia",
          "Mongolia",
          "Mongolia",
          "Mongolia",
          "Mongolia",
          "Mongolia",
          "Mongolia",
          "Mongolia",
          "Mongolia",
          "Mongolia",
          "Mongolia",
          "Mongolia",
          "Myanmar",
          "Myanmar",
          "Myanmar",
          "Myanmar",
          "Myanmar",
          "Myanmar",
          "Myanmar",
          "Myanmar",
          "Myanmar",
          "Myanmar",
          "Myanmar",
          "Myanmar",
          "Nepal",
          "Nepal",
          "Nepal",
          "Nepal",
          "Nepal",
          "Nepal",
          "Nepal",
          "Nepal",
          "Nepal",
          "Nepal",
          "Nepal",
          "Nepal",
          "Oman",
          "Oman",
          "Oman",
          "Oman",
          "Oman",
          "Oman",
          "Oman",
          "Oman",
          "Oman",
          "Oman",
          "Oman",
          "Oman",
          "Pakistan",
          "Pakistan",
          "Pakistan",
          "Pakistan",
          "Pakistan",
          "Pakistan",
          "Pakistan",
          "Pakistan",
          "Pakistan",
          "Pakistan",
          "Pakistan",
          "Pakistan",
          "Philippines",
          "Philippines",
          "Philippines",
          "Philippines",
          "Philippines",
          "Philippines",
          "Philippines",
          "Philippines",
          "Philippines",
          "Philippines",
          "Philippines",
          "Philippines",
          "Saudi Arabia",
          "Saudi Arabia",
          "Saudi Arabia",
          "Saudi Arabia",
          "Saudi Arabia",
          "Saudi Arabia",
          "Saudi Arabia",
          "Saudi Arabia",
          "Saudi Arabia",
          "Saudi Arabia",
          "Saudi Arabia",
          "Saudi Arabia",
          "Singapore",
          "Singapore",
          "Singapore",
          "Singapore",
          "Singapore",
          "Singapore",
          "Singapore",
          "Singapore",
          "Singapore",
          "Singapore",
          "Singapore",
          "Singapore",
          "Sri Lanka",
          "Sri Lanka",
          "Sri Lanka",
          "Sri Lanka",
          "Sri Lanka",
          "Sri Lanka",
          "Sri Lanka",
          "Sri Lanka",
          "Sri Lanka",
          "Sri Lanka",
          "Sri Lanka",
          "Sri Lanka",
          "Syria",
          "Syria",
          "Syria",
          "Syria",
          "Syria",
          "Syria",
          "Syria",
          "Syria",
          "Syria",
          "Syria",
          "Syria",
          "Syria",
          "Taiwan",
          "Taiwan",
          "Taiwan",
          "Taiwan",
          "Taiwan",
          "Taiwan",
          "Taiwan",
          "Taiwan",
          "Taiwan",
          "Taiwan",
          "Taiwan",
          "Taiwan",
          "Thailand",
          "Thailand",
          "Thailand",
          "Thailand",
          "Thailand",
          "Thailand",
          "Thailand",
          "Thailand",
          "Thailand",
          "Thailand",
          "Thailand",
          "Thailand",
          "Vietnam",
          "Vietnam",
          "Vietnam",
          "Vietnam",
          "Vietnam",
          "Vietnam",
          "Vietnam",
          "Vietnam",
          "Vietnam",
          "Vietnam",
          "Vietnam",
          "Vietnam",
          "West Bank and Gaza",
          "West Bank and Gaza",
          "West Bank and Gaza",
          "West Bank and Gaza",
          "West Bank and Gaza",
          "West Bank and Gaza",
          "West Bank and Gaza",
          "West Bank and Gaza",
          "West Bank and Gaza",
          "West Bank and Gaza",
          "West Bank and Gaza",
          "West Bank and Gaza",
          "Yemen, Rep.",
          "Yemen, Rep.",
          "Yemen, Rep.",
          "Yemen, Rep.",
          "Yemen, Rep.",
          "Yemen, Rep.",
          "Yemen, Rep.",
          "Yemen, Rep.",
          "Yemen, Rep.",
          "Yemen, Rep.",
          "Yemen, Rep.",
          "Yemen, Rep."
         ],
         "legendgroup": "Asia",
         "marker": {
          "color": "#636efa",
          "size": {
           "bdata": "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",
           "dtype": "i4"
          },
          "sizemode": "area",
          "sizeref": 3296707.74,
          "symbol": "circle"
         },
         "mode": "markers",
         "name": "Asia",
         "scene": "scene",
         "showlegend": true,
         "type": "scatter3d",
         "x": {
          "bdata": "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",
          "dtype": "f8"
         },
         "y": {
          "bdata": "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",
          "dtype": "f8"
         },
         "z": {
          "bdata": "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",
          "dtype": "i4"
         }
        },
        {
         "hovertemplate": "<b>%{hovertext}</b><br><br>continent=Europe<br>gdpPercap=%{x}<br>lifeExp=%{y}<br>pop=%{marker.size}<extra></extra>",
         "hovertext": [
          "Albania",
          "Albania",
          "Albania",
          "Albania",
          "Albania",
          "Albania",
          "Albania",
          "Albania",
          "Albania",
          "Albania",
          "Albania",
          "Albania",
          "Austria",
          "Austria",
          "Austria",
          "Austria",
          "Austria",
          "Austria",
          "Austria",
          "Austria",
          "Austria",
          "Austria",
          "Austria",
          "Austria",
          "Belgium",
          "Belgium",
          "Belgium",
          "Belgium",
          "Belgium",
          "Belgium",
          "Belgium",
          "Belgium",
          "Belgium",
          "Belgium",
          "Belgium",
          "Belgium",
          "Bosnia and Herzegovina",
          "Bosnia and Herzegovina",
          "Bosnia and Herzegovina",
          "Bosnia and Herzegovina",
          "Bosnia and Herzegovina",
          "Bosnia and Herzegovina",
          "Bosnia and Herzegovina",
          "Bosnia and Herzegovina",
          "Bosnia and Herzegovina",
          "Bosnia and Herzegovina",
          "Bosnia and Herzegovina",
          "Bosnia and Herzegovina",
          "Bulgaria",
          "Bulgaria",
          "Bulgaria",
          "Bulgaria",
          "Bulgaria",
          "Bulgaria",
          "Bulgaria",
          "Bulgaria",
          "Bulgaria",
          "Bulgaria",
          "Bulgaria",
          "Bulgaria",
          "Croatia",
          "Croatia",
          "Croatia",
          "Croatia",
          "Croatia",
          "Croatia",
          "Croatia",
          "Croatia",
          "Croatia",
          "Croatia",
          "Croatia",
          "Croatia",
          "Czech Republic",
          "Czech Republic",
          "Czech Republic",
          "Czech Republic",
          "Czech Republic",
          "Czech Republic",
          "Czech Republic",
          "Czech Republic",
          "Czech Republic",
          "Czech Republic",
          "Czech Republic",
          "Czech Republic",
          "Denmark",
          "Denmark",
          "Denmark",
          "Denmark",
          "Denmark",
          "Denmark",
          "Denmark",
          "Denmark",
          "Denmark",
          "Denmark",
          "Denmark",
          "Denmark",
          "Finland",
          "Finland",
          "Finland",
          "Finland",
          "Finland",
          "Finland",
          "Finland",
          "Finland",
          "Finland",
          "Finland",
          "Finland",
          "Finland",
          "France",
          "France",
          "France",
          "France",
          "France",
          "France",
          "France",
          "France",
          "France",
          "France",
          "France",
          "France",
          "Germany",
          "Germany",
          "Germany",
          "Germany",
          "Germany",
          "Germany",
          "Germany",
          "Germany",
          "Germany",
          "Germany",
          "Germany",
          "Germany",
          "Greece",
          "Greece",
          "Greece",
          "Greece",
          "Greece",
          "Greece",
          "Greece",
          "Greece",
          "Greece",
          "Greece",
          "Greece",
          "Greece",
          "Hungary",
          "Hungary",
          "Hungary",
          "Hungary",
          "Hungary",
          "Hungary",
          "Hungary",
          "Hungary",
          "Hungary",
          "Hungary",
          "Hungary",
          "Hungary",
          "Iceland",
          "Iceland",
          "Iceland",
          "Iceland",
          "Iceland",
          "Iceland",
          "Iceland",
          "Iceland",
          "Iceland",
          "Iceland",
          "Iceland",
          "Iceland",
          "Ireland",
          "Ireland",
          "Ireland",
          "Ireland",
          "Ireland",
          "Ireland",
          "Ireland",
          "Ireland",
          "Ireland",
          "Ireland",
          "Ireland",
          "Ireland",
          "Italy",
          "Italy",
          "Italy",
          "Italy",
          "Italy",
          "Italy",
          "Italy",
          "Italy",
          "Italy",
          "Italy",
          "Italy",
          "Italy",
          "Montenegro",
          "Montenegro",
          "Montenegro",
          "Montenegro",
          "Montenegro",
          "Montenegro",
          "Montenegro",
          "Montenegro",
          "Montenegro",
          "Montenegro",
          "Montenegro",
          "Montenegro",
          "Netherlands",
          "Netherlands",
          "Netherlands",
          "Netherlands",
          "Netherlands",
          "Netherlands",
          "Netherlands",
          "Netherlands",
          "Netherlands",
          "Netherlands",
          "Netherlands",
          "Netherlands",
          "Norway",
          "Norway",
          "Norway",
          "Norway",
          "Norway",
          "Norway",
          "Norway",
          "Norway",
          "Norway",
          "Norway",
          "Norway",
          "Norway",
          "Poland",
          "Poland",
          "Poland",
          "Poland",
          "Poland",
          "Poland",
          "Poland",
          "Poland",
          "Poland",
          "Poland",
          "Poland",
          "Poland",
          "Portugal",
          "Portugal",
          "Portugal",
          "Portugal",
          "Portugal",
          "Portugal",
          "Portugal",
          "Portugal",
          "Portugal",
          "Portugal",
          "Portugal",
          "Portugal",
          "Romania",
          "Romania",
          "Romania",
          "Romania",
          "Romania",
          "Romania",
          "Romania",
          "Romania",
          "Romania",
          "Romania",
          "Romania",
          "Romania",
          "Serbia",
          "Serbia",
          "Serbia",
          "Serbia",
          "Serbia",
          "Serbia",
          "Serbia",
          "Serbia",
          "Serbia",
          "Serbia",
          "Serbia",
          "Serbia",
          "Slovak Republic",
          "Slovak Republic",
          "Slovak Republic",
          "Slovak Republic",
          "Slovak Republic",
          "Slovak Republic",
          "Slovak Republic",
          "Slovak Republic",
          "Slovak Republic",
          "Slovak Republic",
          "Slovak Republic",
          "Slovak Republic",
          "Slovenia",
          "Slovenia",
          "Slovenia",
          "Slovenia",
          "Slovenia",
          "Slovenia",
          "Slovenia",
          "Slovenia",
          "Slovenia",
          "Slovenia",
          "Slovenia",
          "Slovenia",
          "Spain",
          "Spain",
          "Spain",
          "Spain",
          "Spain",
          "Spain",
          "Spain",
          "Spain",
          "Spain",
          "Spain",
          "Spain",
          "Spain",
          "Sweden",
          "Sweden",
          "Sweden",
          "Sweden",
          "Sweden",
          "Sweden",
          "Sweden",
          "Sweden",
          "Sweden",
          "Sweden",
          "Sweden",
          "Sweden",
          "Switzerland",
          "Switzerland",
          "Switzerland",
          "Switzerland",
          "Switzerland",
          "Switzerland",
          "Switzerland",
          "Switzerland",
          "Switzerland",
          "Switzerland",
          "Switzerland",
          "Switzerland",
          "Turkey",
          "Turkey",
          "Turkey",
          "Turkey",
          "Turkey",
          "Turkey",
          "Turkey",
          "Turkey",
          "Turkey",
          "Turkey",
          "Turkey",
          "Turkey",
          "United Kingdom",
          "United Kingdom",
          "United Kingdom",
          "United Kingdom",
          "United Kingdom",
          "United Kingdom",
          "United Kingdom",
          "United Kingdom",
          "United Kingdom",
          "United Kingdom",
          "United Kingdom",
          "United Kingdom"
         ],
         "legendgroup": "Europe",
         "marker": {
          "color": "#EF553B",
          "size": {
           "bdata": "iZITAJmHFgCJXhoAPEYeAAKKIgD4SCYAwWsqAPnsLgAiwjIAxk40ACCJNQCL8DYAnLVpAGRKagAIy2wAZpBwAIkdcwAufHMAVZRzABelcwDZxXgA9CJ7AFhVfABnHn0AJTeFALcpiQBgqYwAFNKRACwmlABo3pUAL2WWAHiblgC2SJkA66KbACJZnQCikp4AWJYqAKDvLgAIGjMA6LM2APhFOgDwWD4Alas/ACE1QgAN8UAA2Ak3ACiPPwAGdkUAlAFvALa/dACSRHoA0s1+AMjcggBeO4YAwq6HALbmiABKHoQACRR7AOfodADqvG8A9Tw7AMrmPAANND4AHrI/AB55QADR5UEAuFdDANZsRAC9kkQAs9FDAPxfRAAAkEQAPz2LAB4rkQA6y5IAZRKWAA58lgD7DpsA2DidAK1XnQC2Z50AIy2dAKd/nAAIFJwAsCFCAJd6RADz50YAkNVJAGwqTACjpE0AchdOAHA7TgDB6E4AT59QAOUCUgDYb1MAhGo+AKD6QQCziEQAMEdGAKnLRgBWT0gANadJAJFASwCP60wARlhOAE89TwC87k8AE+KHAk8hpAIgDs8C6Fz0AiBeFQPbOysDHZc+AxTZUAPjdWsDxIV+AytikgMMEaQDYBUfBD2qOwRtK2UERUqNBKAgsQSFo6gEIk2rBBrjoQQE080EwWPjBE+S6ATkVukEAgB2ANqJewDp6IAAmQCFADShhwA/CY4AcFSVANoymAC1jZ0A5ECgAFfNoQByXaMAAAWRAJghlgCYjJkAPv+bAOuZngBzT6IAf1qjAATwoQCM6J0ATFKcAPHbmQAM65cA+kECAPaEAgAlxwIAFAgDAHsxAwB/YgMADZIDAMS7AwDE8wMAWCMEAB5lBABrmwQA3AstAAzrKwCwLisAhEAsABAmLgDc7DEAwBk1ALwDNgCBSTYAIfU3APMwOwAesz4AUFPXAjB17gJAzgcD3KIjA3yNPQNtZVcDVKpeA2egYQOPUmMDLRFtA1flcwOVQ3cDilAGAM3BBgCgPQcAK6UHAD4NCADJiwgAdJUIAIGwCAA1fAkAq5EKAGb9CgDAcgoApGqeAM8/qAD5I7QAVjbAANJlywA9YdMAAVzaAD7G3wBkiucA8BruAM4D9gD12PwA8MYyAGJINQCHhjcAI8U5AEwDPADFsT0AY8k+ACPgPwCVZ0EAqDlDACc1RQDWnUYA952IAVLWrgERy84BogHlAbkk+AFGRxACNckoAqbgPwKJfUkC7dNNArhiTQLhvUsC4hiCAPKLhgCYoYkAmOaKANLgiACIcJMAQnKWAJlLlwAAfJcAf/maAEs1nwCUZaIA8MD9AM8NEAGRCx0BTkMmAXhJOwHle0oB9iJVAaMqWgHj2lsBmkZYAfHcVQHY51MBc61oAN/ybgA8NnQAlqF5AMjZfgAfi4QAeNSJAL/ZjABd8JUAUrmdAEdKmgB54ZoA+Uo2ALWoOgBIqEAAfshDABkXRgCbqkkA6wZNANZVTwBo6lAAYiNSAASNUgBOH1MAbroWAI5kFwByJxgAQCEZAC7bGQDnpxoAhGYcAA6xHQBqgR4A3LEeAGmxHgCdqB4A7qKzAc5YxwEtb9sBY0H1AQmhDgLYAywCTpRDAr5FUQL+eVsCUiVgAsWtZAK/MGkCwbZsANpccAB0YXMAGw54ALXvewAA6X0AjAh/ABuAgAATCoUAU8SHAD+hiACwzYkAmHhJAHA3TgDQdFYAmINcAHitYQCIYWAAHrJiAFZ4ZQD3vWoAocRtAN1UcABlRnMAHUpTARu1hwEXisYB9dD9AdkYPALBCIcCFy7SArDnJgNIvncD3wfCA4ANAwR3yz0EMIABA3DCEAPgKy0DmJtGA5iyVwM4OVkD+KxbA3R4ZQNt+HIDyleBA+8wkgMuX58D",
           "dtype": "i4"
          },
          "sizemode": "area",
          "sizeref": 3296707.74,
          "symbol": "circle"
         },
         "mode": "markers",
         "name": "Europe",
         "scene": "scene",
         "showlegend": true,
         "type": "scatter3d",
         "x": {
          "bdata": "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",
          "dtype": "f8"
         },
         "y": {
          "bdata": "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",
          "dtype": "f8"
         },
         "z": {
          "bdata": "iZITAJmHFgCJXhoAPEYeAAKKIgD4SCYAwWsqAPnsLgAiwjIAxk40ACCJNQCL8DYAnLVpAGRKagAIy2wAZpBwAIkdcwAufHMAVZRzABelcwDZxXgA9CJ7AFhVfABnHn0AJTeFALcpiQBgqYwAFNKRACwmlABo3pUAL2WWAHiblgC2SJkA66KbACJZnQCikp4AWJYqAKDvLgAIGjMA6LM2APhFOgDwWD4Alas/ACE1QgAN8UAA2Ak3ACiPPwAGdkUAlAFvALa/dACSRHoA0s1+AMjcggBeO4YAwq6HALbmiABKHoQACRR7AOfodADqvG8A9Tw7AMrmPAANND4AHrI/AB55QADR5UEAuFdDANZsRAC9kkQAs9FDAPxfRAAAkEQAPz2LAB4rkQA6y5IAZRKWAA58lgD7DpsA2DidAK1XnQC2Z50AIy2dAKd/nAAIFJwAsCFCAJd6RADz50YAkNVJAGwqTACjpE0AchdOAHA7TgDB6E4AT59QAOUCUgDYb1MAhGo+AKD6QQCziEQAMEdGAKnLRgBWT0gANadJAJFASwCP60wARlhOAE89TwC87k8AE+KHAk8hpAIgDs8C6Fz0AiBeFQPbOysDHZc+AxTZUAPjdWsDxIV+AytikgMMEaQDYBUfBD2qOwRtK2UERUqNBKAgsQSFo6gEIk2rBBrjoQQE080EwWPjBE+S6ATkVukEAgB2ANqJewDp6IAAmQCFADShhwA/CY4AcFSVANoymAC1jZ0A5ECgAFfNoQByXaMAAAWRAJghlgCYjJkAPv+bAOuZngBzT6IAf1qjAATwoQCM6J0ATFKcAPHbmQAM65cA+kECAPaEAgAlxwIAFAgDAHsxAwB/YgMADZIDAMS7AwDE8wMAWCMEAB5lBABrmwQA3AstAAzrKwCwLisAhEAsABAmLgDc7DEAwBk1ALwDNgCBSTYAIfU3APMwOwAesz4AUFPXAjB17gJAzgcD3KIjA3yNPQNtZVcDVKpeA2egYQOPUmMDLRFtA1flcwOVQ3cDilAGAM3BBgCgPQcAK6UHAD4NCADJiwgAdJUIAIGwCAA1fAkAq5EKAGb9CgDAcgoApGqeAM8/qAD5I7QAVjbAANJlywA9YdMAAVzaAD7G3wBkiucA8BruAM4D9gD12PwA8MYyAGJINQCHhjcAI8U5AEwDPADFsT0AY8k+ACPgPwCVZ0EAqDlDACc1RQDWnUYA952IAVLWrgERy84BogHlAbkk+AFGRxACNckoAqbgPwKJfUkC7dNNArhiTQLhvUsC4hiCAPKLhgCYoYkAmOaKANLgiACIcJMAQnKWAJlLlwAAfJcAf/maAEs1nwCUZaIA8MD9AM8NEAGRCx0BTkMmAXhJOwHle0oB9iJVAaMqWgHj2lsBmkZYAfHcVQHY51MBc61oAN/ybgA8NnQAlqF5AMjZfgAfi4QAeNSJAL/ZjABd8JUAUrmdAEdKmgB54ZoA+Uo2ALWoOgBIqEAAfshDABkXRgCbqkkA6wZNANZVTwBo6lAAYiNSAASNUgBOH1MAbroWAI5kFwByJxgAQCEZAC7bGQDnpxoAhGYcAA6xHQBqgR4A3LEeAGmxHgCdqB4A7qKzAc5YxwEtb9sBY0H1AQmhDgLYAywCTpRDAr5FUQL+eVsCUiVgAsWtZAK/MGkCwbZsANpccAB0YXMAGw54ALXvewAA6X0AjAh/ABuAgAATCoUAU8SHAD+hiACwzYkAmHhJAHA3TgDQdFYAmINcAHitYQCIYWAAHrJiAFZ4ZQD3vWoAocRtAN1UcABlRnMAHUpTARu1hwEXisYB9dD9AdkYPALBCIcCFy7SArDnJgNIvncD3wfCA4ANAwR3yz0EMIABA3DCEAPgKy0DmJtGA5iyVwM4OVkD+KxbA3R4ZQNt+HIDyleBA+8wkgMuX58D",
          "dtype": "i4"
         }
        },
        {
         "hovertemplate": "<b>%{hovertext}</b><br><br>continent=Africa<br>gdpPercap=%{x}<br>lifeExp=%{y}<br>pop=%{marker.size}<extra></extra>",
         "hovertext": [
          "Algeria",
          "Algeria",
          "Algeria",
          "Algeria",
          "Algeria",
          "Algeria",
          "Algeria",
          "Algeria",
          "Algeria",
          "Algeria",
          "Algeria",
          "Algeria",
          "Angola",
          "Angola",
          "Angola",
          "Angola",
          "Angola",
          "Angola",
          "Angola",
          "Angola",
          "Angola",
          "Angola",
          "Angola",
          "Angola",
          "Benin",
          "Benin",
          "Benin",
          "Benin",
          "Benin",
          "Benin",
          "Benin",
          "Benin",
          "Benin",
          "Benin",
          "Benin",
          "Benin",
          "Botswana",
          "Botswana",
          "Botswana",
          "Botswana",
          "Botswana",
          "Botswana",
          "Botswana",
          "Botswana",
          "Botswana",
          "Botswana",
          "Botswana",
          "Botswana",
          "Burkina Faso",
          "Burkina Faso",
          "Burkina Faso",
          "Burkina Faso",
          "Burkina Faso",
          "Burkina Faso",
          "Burkina Faso",
          "Burkina Faso",
          "Burkina Faso",
          "Burkina Faso",
          "Burkina Faso",
          "Burkina Faso",
          "Burundi",
          "Burundi",
          "Burundi",
          "Burundi",
          "Burundi",
          "Burundi",
          "Burundi",
          "Burundi",
          "Burundi",
          "Burundi",
          "Burundi",
          "Burundi",
          "Cameroon",
          "Cameroon",
          "Cameroon",
          "Cameroon",
          "Cameroon",
          "Cameroon",
          "Cameroon",
          "Cameroon",
          "Cameroon",
          "Cameroon",
          "Cameroon",
          "Cameroon",
          "Central African Republic",
          "Central African Republic",
          "Central African Republic",
          "Central African Republic",
          "Central African Republic",
          "Central African Republic",
          "Central African Republic",
          "Central African Republic",
          "Central African Republic",
          "Central African Republic",
          "Central African Republic",
          "Central African Republic",
          "Chad",
          "Chad",
          "Chad",
          "Chad",
          "Chad",
          "Chad",
          "Chad",
          "Chad",
          "Chad",
          "Chad",
          "Chad",
          "Chad",
          "Comoros",
          "Comoros",
          "Comoros",
          "Comoros",
          "Comoros",
          "Comoros",
          "Comoros",
          "Comoros",
          "Comoros",
          "Comoros",
          "Comoros",
          "Comoros",
          "Congo, Dem. Rep.",
          "Congo, Dem. Rep.",
          "Congo, Dem. Rep.",
          "Congo, Dem. Rep.",
          "Congo, Dem. Rep.",
          "Congo, Dem. Rep.",
          "Congo, Dem. Rep.",
          "Congo, Dem. Rep.",
          "Congo, Dem. Rep.",
          "Congo, Dem. Rep.",
          "Congo, Dem. Rep.",
          "Congo, Dem. Rep.",
          "Congo, Rep.",
          "Congo, Rep.",
          "Congo, Rep.",
          "Congo, Rep.",
          "Congo, Rep.",
          "Congo, Rep.",
          "Congo, Rep.",
          "Congo, Rep.",
          "Congo, Rep.",
          "Congo, Rep.",
          "Congo, Rep.",
          "Congo, Rep.",
          "Cote d'Ivoire",
          "Cote d'Ivoire",
          "Cote d'Ivoire",
          "Cote d'Ivoire",
          "Cote d'Ivoire",
          "Cote d'Ivoire",
          "Cote d'Ivoire",
          "Cote d'Ivoire",
          "Cote d'Ivoire",
          "Cote d'Ivoire",
          "Cote d'Ivoire",
          "Cote d'Ivoire",
          "Djibouti",
          "Djibouti",
          "Djibouti",
          "Djibouti",
          "Djibouti",
          "Djibouti",
          "Djibouti",
          "Djibouti",
          "Djibouti",
          "Djibouti",
          "Djibouti",
          "Djibouti",
          "Egypt",
          "Egypt",
          "Egypt",
          "Egypt",
          "Egypt",
          "Egypt",
          "Egypt",
          "Egypt",
          "Egypt",
          "Egypt",
          "Egypt",
          "Egypt",
          "Equatorial Guinea",
          "Equatorial Guinea",
          "Equatorial Guinea",
          "Equatorial Guinea",
          "Equatorial Guinea",
          "Equatorial Guinea",
          "Equatorial Guinea",
          "Equatorial Guinea",
          "Equatorial Guinea",
          "Equatorial Guinea",
          "Equatorial Guinea",
          "Equatorial Guinea",
          "Eritrea",
          "Eritrea",
          "Eritrea",
          "Eritrea",
          "Eritrea",
          "Eritrea",
          "Eritrea",
          "Eritrea",
          "Eritrea",
          "Eritrea",
          "Eritrea",
          "Eritrea",
          "Ethiopia",
          "Ethiopia",
          "Ethiopia",
          "Ethiopia",
          "Ethiopia",
          "Ethiopia",
          "Ethiopia",
          "Ethiopia",
          "Ethiopia",
          "Ethiopia",
          "Ethiopia",
          "Ethiopia",
          "Gabon",
          "Gabon",
          "Gabon",
          "Gabon",
          "Gabon",
          "Gabon",
          "Gabon",
          "Gabon",
          "Gabon",
          "Gabon",
          "Gabon",
          "Gabon",
          "Gambia",
          "Gambia",
          "Gambia",
          "Gambia",
          "Gambia",
          "Gambia",
          "Gambia",
          "Gambia",
          "Gambia",
          "Gambia",
          "Gambia",
          "Gambia",
          "Ghana",
          "Ghana",
          "Ghana",
          "Ghana",
          "Ghana",
          "Ghana",
          "Ghana",
          "Ghana",
          "Ghana",
          "Ghana",
          "Ghana",
          "Ghana",
          "Guinea",
          "Guinea",
          "Guinea",
          "Guinea",
          "Guinea",
          "Guinea",
          "Guinea",
          "Guinea",
          "Guinea",
          "Guinea",
          "Guinea",
          "Guinea",
          "Guinea-Bissau",
          "Guinea-Bissau",
          "Guinea-Bissau",
          "Guinea-Bissau",
          "Guinea-Bissau",
          "Guinea-Bissau",
          "Guinea-Bissau",
          "Guinea-Bissau",
          "Guinea-Bissau",
          "Guinea-Bissau",
          "Guinea-Bissau",
          "Guinea-Bissau",
          "Kenya",
          "Kenya",
          "Kenya",
          "Kenya",
          "Kenya",
          "Kenya",
          "Kenya",
          "Kenya",
          "Kenya",
          "Kenya",
          "Kenya",
          "Kenya",
          "Lesotho",
          "Lesotho",
          "Lesotho",
          "Lesotho",
          "Lesotho",
          "Lesotho",
          "Lesotho",
          "Lesotho",
          "Lesotho",
          "Lesotho",
          "Lesotho",
          "Lesotho",
          "Liberia",
          "Liberia",
          "Liberia",
          "Liberia",
          "Liberia",
          "Liberia",
          "Liberia",
          "Liberia",
          "Liberia",
          "Liberia",
          "Liberia",
          "Liberia",
          "Libya",
          "Libya",
          "Libya",
          "Libya",
          "Libya",
          "Libya",
          "Libya",
          "Libya",
          "Libya",
          "Libya",
          "Libya",
          "Libya",
          "Madagascar",
          "Madagascar",
          "Madagascar",
          "Madagascar",
          "Madagascar",
          "Madagascar",
          "Madagascar",
          "Madagascar",
          "Madagascar",
          "Madagascar",
          "Madagascar",
          "Madagascar",
          "Malawi",
          "Malawi",
          "Malawi",
          "Malawi",
          "Malawi",
          "Malawi",
          "Malawi",
          "Malawi",
          "Malawi",
          "Malawi",
          "Malawi",
          "Malawi",
          "Mali",
          "Mali",
          "Mali",
          "Mali",
          "Mali",
          "Mali",
          "Mali",
          "Mali",
          "Mali",
          "Mali",
          "Mali",
          "Mali",
          "Mauritania",
          "Mauritania",
          "Mauritania",
          "Mauritania",
          "Mauritania",
          "Mauritania",
          "Mauritania",
          "Mauritania",
          "Mauritania",
          "Mauritania",
          "Mauritania",
          "Mauritania",
          "Mauritius",
          "Mauritius",
          "Mauritius",
          "Mauritius",
          "Mauritius",
          "Mauritius",
          "Mauritius",
          "Mauritius",
          "Mauritius",
          "Mauritius",
          "Mauritius",
          "Mauritius",
          "Morocco",
          "Morocco",
          "Morocco",
          "Morocco",
          "Morocco",
          "Morocco",
          "Morocco",
          "Morocco",
          "Morocco",
          "Morocco",
          "Morocco",
          "Morocco",
          "Mozambique",
          "Mozambique",
          "Mozambique",
          "Mozambique",
          "Mozambique",
          "Mozambique",
          "Mozambique",
          "Mozambique",
          "Mozambique",
          "Mozambique",
          "Mozambique",
          "Mozambique",
          "Namibia",
          "Namibia",
          "Namibia",
          "Namibia",
          "Namibia",
          "Namibia",
          "Namibia",
          "Namibia",
          "Namibia",
          "Namibia",
          "Namibia",
          "Namibia",
          "Niger",
          "Niger",
          "Niger",
          "Niger",
          "Niger",
          "Niger",
          "Niger",
          "Niger",
          "Niger",
          "Niger",
          "Niger",
          "Niger",
          "Nigeria",
          "Nigeria",
          "Nigeria",
          "Nigeria",
          "Nigeria",
          "Nigeria",
          "Nigeria",
          "Nigeria",
          "Nigeria",
          "Nigeria",
          "Nigeria",
          "Nigeria",
          "Reunion",
          "Reunion",
          "Reunion",
          "Reunion",
          "Reunion",
          "Reunion",
          "Reunion",
          "Reunion",
          "Reunion",
          "Reunion",
          "Reunion",
          "Reunion",
          "Rwanda",
          "Rwanda",
          "Rwanda",
          "Rwanda",
          "Rwanda",
          "Rwanda",
          "Rwanda",
          "Rwanda",
          "Rwanda",
          "Rwanda",
          "Rwanda",
          "Rwanda",
          "Sao Tome and Principe",
          "Sao Tome and Principe",
          "Sao Tome and Principe",
          "Sao Tome and Principe",
          "Sao Tome and Principe",
          "Sao Tome and Principe",
          "Sao Tome and Principe",
          "Sao Tome and Principe",
          "Sao Tome and Principe",
          "Sao Tome and Principe",
          "Sao Tome and Principe",
          "Sao Tome and Principe",
          "Senegal",
          "Senegal",
          "Senegal",
          "Senegal",
          "Senegal",
          "Senegal",
          "Senegal",
          "Senegal",
          "Senegal",
          "Senegal",
          "Senegal",
          "Senegal",
          "Sierra Leone",
          "Sierra Leone",
          "Sierra Leone",
          "Sierra Leone",
          "Sierra Leone",
          "Sierra Leone",
          "Sierra Leone",
          "Sierra Leone",
          "Sierra Leone",
          "Sierra Leone",
          "Sierra Leone",
          "Sierra Leone",
          "Somalia",
          "Somalia",
          "Somalia",
          "Somalia",
          "Somalia",
          "Somalia",
          "Somalia",
          "Somalia",
          "Somalia",
          "Somalia",
          "Somalia",
          "Somalia",
          "South Africa",
          "South Africa",
          "South Africa",
          "South Africa",
          "South Africa",
          "South Africa",
          "South Africa",
          "South Africa",
          "South Africa",
          "South Africa",
          "South Africa",
          "South Africa",
          "Sudan",
          "Sudan",
          "Sudan",
          "Sudan",
          "Sudan",
          "Sudan",
          "Sudan",
          "Sudan",
          "Sudan",
          "Sudan",
          "Sudan",
          "Sudan",
          "Swaziland",
          "Swaziland",
          "Swaziland",
          "Swaziland",
          "Swaziland",
          "Swaziland",
          "Swaziland",
          "Swaziland",
          "Swaziland",
          "Swaziland",
          "Swaziland",
          "Swaziland",
          "Tanzania",
          "Tanzania",
          "Tanzania",
          "Tanzania",
          "Tanzania",
          "Tanzania",
          "Tanzania",
          "Tanzania",
          "Tanzania",
          "Tanzania",
          "Tanzania",
          "Tanzania",
          "Togo",
          "Togo",
          "Togo",
          "Togo",
          "Togo",
          "Togo",
          "Togo",
          "Togo",
          "Togo",
          "Togo",
          "Togo",
          "Togo",
          "Tunisia",
          "Tunisia",
          "Tunisia",
          "Tunisia",
          "Tunisia",
          "Tunisia",
          "Tunisia",
          "Tunisia",
          "Tunisia",
          "Tunisia",
          "Tunisia",
          "Tunisia",
          "Uganda",
          "Uganda",
          "Uganda",
          "Uganda",
          "Uganda",
          "Uganda",
          "Uganda",
          "Uganda",
          "Uganda",
          "Uganda",
          "Uganda",
          "Uganda",
          "Zambia",
          "Zambia",
          "Zambia",
          "Zambia",
          "Zambia",
          "Zambia",
          "Zambia",
          "Zambia",
          "Zambia",
          "Zambia",
          "Zambia",
          "Zambia",
          "Zimbabwe",
          "Zimbabwe",
          "Zimbabwe",
          "Zimbabwe",
          "Zimbabwe",
          "Zimbabwe",
          "Zimbabwe",
          "Zimbabwe",
          "Zimbabwe",
          "Zimbabwe",
          "Zimbabwe",
          "Zimbabwe"
         ],
         "legendgroup": "Africa",
         "marker": {
          "color": "#00cc96",
          "size": {
           "bdata": "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",
           "dtype": "i4"
          },
          "sizemode": "area",
          "sizeref": 3296707.74,
          "symbol": "circle"
         },
         "mode": "markers",
         "name": "Africa",
         "scene": "scene",
         "showlegend": true,
         "type": "scatter3d",
         "x": {
          "bdata": "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",
          "dtype": "f8"
         },
         "y": {
          "bdata": "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",
          "dtype": "f8"
         },
         "z": {
          "bdata": "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",
          "dtype": "i4"
         }
        },
        {
         "hovertemplate": "<b>%{hovertext}</b><br><br>continent=Americas<br>gdpPercap=%{x}<br>lifeExp=%{y}<br>pop=%{marker.size}<extra></extra>",
         "hovertext": [
          "Argentina",
          "Argentina",
          "Argentina",
          "Argentina",
          "Argentina",
          "Argentina",
          "Argentina",
          "Argentina",
          "Argentina",
          "Argentina",
          "Argentina",
          "Argentina",
          "Bolivia",
          "Bolivia",
          "Bolivia",
          "Bolivia",
          "Bolivia",
          "Bolivia",
          "Bolivia",
          "Bolivia",
          "Bolivia",
          "Bolivia",
          "Bolivia",
          "Bolivia",
          "Brazil",
          "Brazil",
          "Brazil",
          "Brazil",
          "Brazil",
          "Brazil",
          "Brazil",
          "Brazil",
          "Brazil",
          "Brazil",
          "Brazil",
          "Brazil",
          "Canada",
          "Canada",
          "Canada",
          "Canada",
          "Canada",
          "Canada",
          "Canada",
          "Canada",
          "Canada",
          "Canada",
          "Canada",
          "Canada",
          "Chile",
          "Chile",
          "Chile",
          "Chile",
          "Chile",
          "Chile",
          "Chile",
          "Chile",
          "Chile",
          "Chile",
          "Chile",
          "Chile",
          "Colombia",
          "Colombia",
          "Colombia",
          "Colombia",
          "Colombia",
          "Colombia",
          "Colombia",
          "Colombia",
          "Colombia",
          "Colombia",
          "Colombia",
          "Colombia",
          "Costa Rica",
          "Costa Rica",
          "Costa Rica",
          "Costa Rica",
          "Costa Rica",
          "Costa Rica",
          "Costa Rica",
          "Costa Rica",
          "Costa Rica",
          "Costa Rica",
          "Costa Rica",
          "Costa Rica",
          "Cuba",
          "Cuba",
          "Cuba",
          "Cuba",
          "Cuba",
          "Cuba",
          "Cuba",
          "Cuba",
          "Cuba",
          "Cuba",
          "Cuba",
          "Cuba",
          "Dominican Republic",
          "Dominican Republic",
          "Dominican Republic",
          "Dominican Republic",
          "Dominican Republic",
          "Dominican Republic",
          "Dominican Republic",
          "Dominican Republic",
          "Dominican Republic",
          "Dominican Republic",
          "Dominican Republic",
          "Dominican Republic",
          "Ecuador",
          "Ecuador",
          "Ecuador",
          "Ecuador",
          "Ecuador",
          "Ecuador",
          "Ecuador",
          "Ecuador",
          "Ecuador",
          "Ecuador",
          "Ecuador",
          "Ecuador",
          "El Salvador",
          "El Salvador",
          "El Salvador",
          "El Salvador",
          "El Salvador",
          "El Salvador",
          "El Salvador",
          "El Salvador",
          "El Salvador",
          "El Salvador",
          "El Salvador",
          "El Salvador",
          "Guatemala",
          "Guatemala",
          "Guatemala",
          "Guatemala",
          "Guatemala",
          "Guatemala",
          "Guatemala",
          "Guatemala",
          "Guatemala",
          "Guatemala",
          "Guatemala",
          "Guatemala",
          "Haiti",
          "Haiti",
          "Haiti",
          "Haiti",
          "Haiti",
          "Haiti",
          "Haiti",
          "Haiti",
          "Haiti",
          "Haiti",
          "Haiti",
          "Haiti",
          "Honduras",
          "Honduras",
          "Honduras",
          "Honduras",
          "Honduras",
          "Honduras",
          "Honduras",
          "Honduras",
          "Honduras",
          "Honduras",
          "Honduras",
          "Honduras",
          "Jamaica",
          "Jamaica",
          "Jamaica",
          "Jamaica",
          "Jamaica",
          "Jamaica",
          "Jamaica",
          "Jamaica",
          "Jamaica",
          "Jamaica",
          "Jamaica",
          "Jamaica",
          "Mexico",
          "Mexico",
          "Mexico",
          "Mexico",
          "Mexico",
          "Mexico",
          "Mexico",
          "Mexico",
          "Mexico",
          "Mexico",
          "Mexico",
          "Mexico",
          "Nicaragua",
          "Nicaragua",
          "Nicaragua",
          "Nicaragua",
          "Nicaragua",
          "Nicaragua",
          "Nicaragua",
          "Nicaragua",
          "Nicaragua",
          "Nicaragua",
          "Nicaragua",
          "Nicaragua",
          "Panama",
          "Panama",
          "Panama",
          "Panama",
          "Panama",
          "Panama",
          "Panama",
          "Panama",
          "Panama",
          "Panama",
          "Panama",
          "Panama",
          "Paraguay",
          "Paraguay",
          "Paraguay",
          "Paraguay",
          "Paraguay",
          "Paraguay",
          "Paraguay",
          "Paraguay",
          "Paraguay",
          "Paraguay",
          "Paraguay",
          "Paraguay",
          "Peru",
          "Peru",
          "Peru",
          "Peru",
          "Peru",
          "Peru",
          "Peru",
          "Peru",
          "Peru",
          "Peru",
          "Peru",
          "Peru",
          "Puerto Rico",
          "Puerto Rico",
          "Puerto Rico",
          "Puerto Rico",
          "Puerto Rico",
          "Puerto Rico",
          "Puerto Rico",
          "Puerto Rico",
          "Puerto Rico",
          "Puerto Rico",
          "Puerto Rico",
          "Puerto Rico",
          "Trinidad and Tobago",
          "Trinidad and Tobago",
          "Trinidad and Tobago",
          "Trinidad and Tobago",
          "Trinidad and Tobago",
          "Trinidad and Tobago",
          "Trinidad and Tobago",
          "Trinidad and Tobago",
          "Trinidad and Tobago",
          "Trinidad and Tobago",
          "Trinidad and Tobago",
          "Trinidad and Tobago",
          "United States",
          "United States",
          "United States",
          "United States",
          "United States",
          "United States",
          "United States",
          "United States",
          "United States",
          "United States",
          "United States",
          "United States",
          "Uruguay",
          "Uruguay",
          "Uruguay",
          "Uruguay",
          "Uruguay",
          "Uruguay",
          "Uruguay",
          "Uruguay",
          "Uruguay",
          "Uruguay",
          "Uruguay",
          "Uruguay",
          "Venezuela",
          "Venezuela",
          "Venezuela",
          "Venezuela",
          "Venezuela",
          "Venezuela",
          "Venezuela",
          "Venezuela",
          "Venezuela",
          "Venezuela",
          "Venezuela",
          "Venezuela"
         ],
         "legendgroup": "Americas",
         "marker": {
          "color": "#ab63fa",
          "size": {
           "bdata": "3McQAao7KwHHw0QB0fJdARccegGUvZsBvra/ATZ/4gEjLAYCx2soAvHiSAJn9WYC8/4rANoBMQC+1jYA2ac9AHCrRQCkgk0A8BdWAFHwXQCLL2kAhGN1AM7cgACwJYsAwK9fA0M76APeRIgEn4g/BXqyAgbfStAGe9GvB9wPhQgmAUwJn9ELCuRFuQoXVVMLMJzhAOqNAwF5syEBN689AdQIVAGwGmsB7IyAAcQdlQHuO7MBM27OATzK5gE9fv0Bk1BhAOqMawCqenkAHC2HABRHlABxvaEAiEevAPosvgCCG88A+cbeAFZ37ABFfPgAM3W8AOkJ3QDdjAMBO5MtASr6VwEM6X4BpKenARV62AFh5AkC5pw+AmO8cQLe26ICbSIOAOz4EACjhhQA7T0YACz/GwApLCAAL/4kAMO4KgBgazAAm641ADaEOgD8Ez8A9atbAHBUZQBlsW4ARDJ8AHTBhgDEiZEAKF+VAF8/nAC8n6MAX5anAHdPqwCbNa4A0gMmALKaLAD6sTQA+sg9AGFHRwAQ6lAA3RFbAEGNZQCNK3AAJfR5AFL+gwDGNI4AUSY2ABHtPQDrb0cAaORSABscYAASEW8AGqd/AMalkQDqAaQAi8K1AJIpxQAg5dEA8SsfAF3yIwAn7SkAn1QxADfYOQDaWEEA+UdEANLiSQAZfFAAjz9YABHzYAAo5GkAjQIwACyONwDaOEAAVZNHAI2TTgAGB1cA7pZhAMbKbwAlgIEAY5iVAJqSqgAA2b8A0NkwAPWFNQDCNDsAueNBAL2wRwAK5koAP1JPACvVVwCaiWAACX5pAGMVdAAevoEAjScXAJYDGwCy5B8AUSgmAJo+LQCDni4AyP03AOu2QgBjeU0AtYlZAFDjZQBzMXIAr8IVAHJsFwBoaBkA6GUcADB7HgAO6SAAxREjAE6AIwB6SyQA758mANOoKADkayoAPffLAXxLFgLNdnMCp1rcAqZAVgNo5swDSCdFBHySxgS2d0AFaj63BTe4GwbbpHoG3skRAOy7FABFRRgAEnccAPxOIQDm+iYAX3YtAOEHMwATTz0AJFZGAOCITgBcmVYAMFgOAFI6EADtjBIALnIVAACqGACmEhwAURIfAEdjIgAF6yUAw7kpABujLQC9eDEApL0XAJYFGwDVqh4AcekiAFjjJwAuii0AJ14zALBNOwBpa0QAS6VOAEvKWQCLu2UAZHZ6APSOiwAUeKAAaB+5AIzu1ABT/fMASZEUAVQqNAHxQlYBWqB5ARx4mAHFirUBOPshACB8IgCuWiUAgWsoAJxxKwB8Ai8AmQgyAPSONACYtDYARl05AJbkOgBbKDwAQh0KAOSrCwDKig0Am6YOAF/hDgCh2g8APwkRAKgtEgC1DxIAtV0RAAjQEABgHxAAaBFkCYBEQAoQWB4LwBrYC0DCggyYlCANu+fWDU3jeA7t5E8PkE1EEIaUJRHrB/MRpWAiAH8AJQBCpicAo/ApANYsKwCw2CsADRMtACF3LgDODTAAdskxAA1RMwDImjQAUABTAExGZgAPQnwA8CeUAAG3rwBLDM4AnlruAKZJEQFbOjUB/mdVAbaZcgE2BY4B",
           "dtype": "i4"
          },
          "sizemode": "area",
          "sizeref": 3296707.74,
          "symbol": "circle"
         },
         "mode": "markers",
         "name": "Americas",
         "scene": "scene",
         "showlegend": true,
         "type": "scatter3d",
         "x": {
          "bdata": "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",
          "dtype": "f8"
         },
         "y": {
          "bdata": "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",
          "dtype": "f8"
         },
         "z": {
          "bdata": "3McQAao7KwHHw0QB0fJdARccegGUvZsBvra/ATZ/4gEjLAYCx2soAvHiSAJn9WYC8/4rANoBMQC+1jYA2ac9AHCrRQCkgk0A8BdWAFHwXQCLL2kAhGN1AM7cgACwJYsAwK9fA0M76APeRIgEn4g/BXqyAgbfStAGe9GvB9wPhQgmAUwJn9ELCuRFuQoXVVMLMJzhAOqNAwF5syEBN689AdQIVAGwGmsB7IyAAcQdlQHuO7MBM27OATzK5gE9fv0Bk1BhAOqMawCqenkAHC2HABRHlABxvaEAiEevAPosvgCCG88A+cbeAFZ37ABFfPgAM3W8AOkJ3QDdjAMBO5MtASr6VwEM6X4BpKenARV62AFh5AkC5pw+AmO8cQLe26ICbSIOAOz4EACjhhQA7T0YACz/GwApLCAAL/4kAMO4KgBgazAAm641ADaEOgD8Ez8A9atbAHBUZQBlsW4ARDJ8AHTBhgDEiZEAKF+VAF8/nAC8n6MAX5anAHdPqwCbNa4A0gMmALKaLAD6sTQA+sg9AGFHRwAQ6lAA3RFbAEGNZQCNK3AAJfR5AFL+gwDGNI4AUSY2ABHtPQDrb0cAaORSABscYAASEW8AGqd/AMalkQDqAaQAi8K1AJIpxQAg5dEA8SsfAF3yIwAn7SkAn1QxADfYOQDaWEEA+UdEANLiSQAZfFAAjz9YABHzYAAo5GkAjQIwACyONwDaOEAAVZNHAI2TTgAGB1cA7pZhAMbKbwAlgIEAY5iVAJqSqgAA2b8A0NkwAPWFNQDCNDsAueNBAL2wRwAK5koAP1JPACvVVwCaiWAACX5pAGMVdAAevoEAjScXAJYDGwCy5B8AUSgmAJo+LQCDni4AyP03AOu2QgBjeU0AtYlZAFDjZQBzMXIAr8IVAHJsFwBoaBkA6GUcADB7HgAO6SAAxREjAE6AIwB6SyQA758mANOoKADkayoAPffLAXxLFgLNdnMCp1rcAqZAVgNo5swDSCdFBHySxgS2d0AFaj63BTe4GwbbpHoG3skRAOy7FABFRRgAEnccAPxOIQDm+iYAX3YtAOEHMwATTz0AJFZGAOCITgBcmVYAMFgOAFI6EADtjBIALnIVAACqGACmEhwAURIfAEdjIgAF6yUAw7kpABujLQC9eDEApL0XAJYFGwDVqh4AcekiAFjjJwAuii0AJ14zALBNOwBpa0QAS6VOAEvKWQCLu2UAZHZ6APSOiwAUeKAAaB+5AIzu1ABT/fMASZEUAVQqNAHxQlYBWqB5ARx4mAHFirUBOPshACB8IgCuWiUAgWsoAJxxKwB8Ai8AmQgyAPSONACYtDYARl05AJbkOgBbKDwAQh0KAOSrCwDKig0Am6YOAF/hDgCh2g8APwkRAKgtEgC1DxIAtV0RAAjQEABgHxAAaBFkCYBEQAoQWB4LwBrYC0DCggyYlCANu+fWDU3jeA7t5E8PkE1EEIaUJRHrB/MRpWAiAH8AJQBCpicAo/ApANYsKwCw2CsADRMtACF3LgDODTAAdskxAA1RMwDImjQAUABTAExGZgAPQnwA8CeUAAG3rwBLDM4AnlruAKZJEQFbOjUB/mdVAbaZcgE2BY4B",
          "dtype": "i4"
         }
        },
        {
         "hovertemplate": "<b>%{hovertext}</b><br><br>continent=Oceania<br>gdpPercap=%{x}<br>lifeExp=%{y}<br>pop=%{marker.size}<extra></extra>",
         "hovertext": [
          "Australia",
          "Australia",
          "Australia",
          "Australia",
          "Australia",
          "Australia",
          "Australia",
          "Australia",
          "Australia",
          "Australia",
          "Australia",
          "Australia",
          "New Zealand",
          "New Zealand",
          "New Zealand",
          "New Zealand",
          "New Zealand",
          "New Zealand",
          "New Zealand",
          "New Zealand",
          "New Zealand",
          "New Zealand",
          "New Zealand",
          "New Zealand"
         ],
         "legendgroup": "Oceania",
         "marker": {
          "color": "#FFA15A",
          "size": {
           "bdata": "DJ6EALkzlADYt6QACCi1AKgQyQD0wNYASLHnAOEQ+AD5wAoBe0gbAahCKgEAzTcBKnAeAJ8EIgDm+CUA1qApAMyxLADkSjAAmv0wAK6dMgBqdDQAGxg4AMWhOwA7zT4A",
           "dtype": "i4"
          },
          "sizemode": "area",
          "sizeref": 3296707.74,
          "symbol": "circle"
         },
         "mode": "markers",
         "name": "Oceania",
         "scene": "scene",
         "showlegend": true,
         "type": "scatter3d",
         "x": {
          "bdata": "GHjuPcybw0Do3sMl02LFQGOcvwmd3MdAufyH9A9fzEBfe2ZJKGXQQKn7AKSM59FAICQLmEAF00DKFd7lOGDVQOYivhMx4NZAG0zD8Htd2kDUDn9N8PfdQOeHEcJr0OBAzxQ6r0mexEC6g9iZsuvHQFg5tMjWu8lAqYx/n/U/zEBmTpfFBFfPQCv2l93btM9Aklz+Qxo40UCDaRg+zI/SQEok0cvU7tFAhCo1e5qO1ECqglFJc6XWQAQcQpVAmNhA",
          "dtype": "f8"
         },
         "y": {
          "bdata": "SOF6FK5HUUCF61G4HpVRQOxRuB6Fu1FAZmZmZmbGUUDsUbgehftRQI/C9ShcX1JAj8L1KFyvUkAUrkfhehRTQKRwPQrXY1NAhetRuB61U0BI4XoUrhdUQNejcD0KT1RAKVyPwvVYUUBxPQrXo5BRQI/C9Shcz1FA4XoUrkfhUUApXI/C9fhRQK5H4XoUDlJA9ihcj8J1UkAUrkfhepRSQIXrUbgeFVNAMzMzMzNjU0DXo3A9CsdTQJMYBFYODVRA",
          "dtype": "f8"
         },
         "z": {
          "bdata": "DJ6EALkzlADYt6QACCi1AKgQyQD0wNYASLHnAOEQ+AD5wAoBe0gbAahCKgEAzTcBKnAeAJ8EIgDm+CUA1qApAMyxLADkSjAAmv0wAK6dMgBqdDQAGxg4AMWhOwA7zT4A",
          "dtype": "i4"
         }
        }
       ],
       "layout": {
        "height": 800,
        "legend": {
         "itemsizing": "constant",
         "title": {
          "text": "continent"
         },
         "tracegroupgap": 0
        },
        "scene": {
         "domain": {
          "x": [
           0,
           1
          ],
          "y": [
           0,
           1
          ]
         },
         "xaxis": {
          "title": {
           "text": "gdpPercap"
          },
          "type": "log"
         },
         "yaxis": {
          "title": {
           "text": "lifeExp"
          }
         },
         "zaxis": {
          "title": {
           "text": "pop"
          }
         }
        },
        "template": {
         "data": {
          "bar": [
           {
            "error_x": {
             "color": "#2a3f5f"
            },
            "error_y": {
             "color": "#2a3f5f"
            },
            "marker": {
             "line": {
              "color": "#E5ECF6",
              "width": 0.5
             },
             "pattern": {
              "fillmode": "overlay",
              "size": 10,
              "solidity": 0.2
             }
            },
            "type": "bar"
           }
          ],
          "barpolar": [
           {
            "marker": {
             "line": {
              "color": "#E5ECF6",
              "width": 0.5
             },
             "pattern": {
              "fillmode": "overlay",
              "size": 10,
              "solidity": 0.2
             }
            },
            "type": "barpolar"
           }
          ],
          "carpet": [
           {
            "aaxis": {
             "endlinecolor": "#2a3f5f",
             "gridcolor": "white",
             "linecolor": "white",
             "minorgridcolor": "white",
             "startlinecolor": "#2a3f5f"
            },
            "baxis": {
             "endlinecolor": "#2a3f5f",
             "gridcolor": "white",
             "linecolor": "white",
             "minorgridcolor": "white",
             "startlinecolor": "#2a3f5f"
            },
            "type": "carpet"
           }
          ],
          "choropleth": [
           {
            "colorbar": {
             "outlinewidth": 0,
             "ticks": ""
            },
            "type": "choropleth"
           }
          ],
          "contour": [
           {
            "colorbar": {
             "outlinewidth": 0,
             "ticks": ""
            },
            "colorscale": [
             [
              0,
              "#0d0887"
             ],
             [
              0.1111111111111111,
              "#46039f"
             ],
             [
              0.2222222222222222,
              "#7201a8"
             ],
             [
              0.3333333333333333,
              "#9c179e"
             ],
             [
              0.4444444444444444,
              "#bd3786"
             ],
             [
              0.5555555555555556,
              "#d8576b"
             ],
             [
              0.6666666666666666,
              "#ed7953"
             ],
             [
              0.7777777777777778,
              "#fb9f3a"
             ],
             [
              0.8888888888888888,
              "#fdca26"
             ],
             [
              1,
              "#f0f921"
             ]
            ],
            "type": "contour"
           }
          ],
          "contourcarpet": [
           {
            "colorbar": {
             "outlinewidth": 0,
             "ticks": ""
            },
            "type": "contourcarpet"
           }
          ],
          "heatmap": [
           {
            "colorbar": {
             "outlinewidth": 0,
             "ticks": ""
            },
            "colorscale": [
             [
              0,
              "#0d0887"
             ],
             [
              0.1111111111111111,
              "#46039f"
             ],
             [
              0.2222222222222222,
              "#7201a8"
             ],
             [
              0.3333333333333333,
              "#9c179e"
             ],
             [
              0.4444444444444444,
              "#bd3786"
             ],
             [
              0.5555555555555556,
              "#d8576b"
             ],
             [
              0.6666666666666666,
              "#ed7953"
             ],
             [
              0.7777777777777778,
              "#fb9f3a"
             ],
             [
              0.8888888888888888,
              "#fdca26"
             ],
             [
              1,
              "#f0f921"
             ]
            ],
            "type": "heatmap"
           }
          ],
          "histogram": [
           {
            "marker": {
             "pattern": {
              "fillmode": "overlay",
              "size": 10,
              "solidity": 0.2
             }
            },
            "type": "histogram"
           }
          ],
          "histogram2d": [
           {
            "colorbar": {
             "outlinewidth": 0,
             "ticks": ""
            },
            "colorscale": [
             [
              0,
              "#0d0887"
             ],
             [
              0.1111111111111111,
              "#46039f"
             ],
             [
              0.2222222222222222,
              "#7201a8"
             ],
             [
              0.3333333333333333,
              "#9c179e"
             ],
             [
              0.4444444444444444,
              "#bd3786"
             ],
             [
              0.5555555555555556,
              "#d8576b"
             ],
             [
              0.6666666666666666,
              "#ed7953"
             ],
             [
              0.7777777777777778,
              "#fb9f3a"
             ],
             [
              0.8888888888888888,
              "#fdca26"
             ],
             [
              1,
              "#f0f921"
             ]
            ],
            "type": "histogram2d"
           }
          ],
          "histogram2dcontour": [
           {
            "colorbar": {
             "outlinewidth": 0,
             "ticks": ""
            },
            "colorscale": [
             [
              0,
              "#0d0887"
             ],
             [
              0.1111111111111111,
              "#46039f"
             ],
             [
              0.2222222222222222,
              "#7201a8"
             ],
             [
              0.3333333333333333,
              "#9c179e"
             ],
             [
              0.4444444444444444,
              "#bd3786"
             ],
             [
              0.5555555555555556,
              "#d8576b"
             ],
             [
              0.6666666666666666,
              "#ed7953"
             ],
             [
              0.7777777777777778,
              "#fb9f3a"
             ],
             [
              0.8888888888888888,
              "#fdca26"
             ],
             [
              1,
              "#f0f921"
             ]
            ],
            "type": "histogram2dcontour"
           }
          ],
          "mesh3d": [
           {
            "colorbar": {
             "outlinewidth": 0,
             "ticks": ""
            },
            "type": "mesh3d"
           }
          ],
          "parcoords": [
           {
            "line": {
             "colorbar": {
              "outlinewidth": 0,
              "ticks": ""
             }
            },
            "type": "parcoords"
           }
          ],
          "pie": [
           {
            "automargin": true,
            "type": "pie"
           }
          ],
          "scatter": [
           {
            "fillpattern": {
             "fillmode": "overlay",
             "size": 10,
             "solidity": 0.2
            },
            "type": "scatter"
           }
          ],
          "scatter3d": [
           {
            "line": {
             "colorbar": {
              "outlinewidth": 0,
              "ticks": ""
             }
            },
            "marker": {
             "colorbar": {
              "outlinewidth": 0,
              "ticks": ""
             }
            },
            "type": "scatter3d"
           }
          ],
          "scattercarpet": [
           {
            "marker": {
             "colorbar": {
              "outlinewidth": 0,
              "ticks": ""
             }
            },
            "type": "scattercarpet"
           }
          ],
          "scattergeo": [
           {
            "marker": {
             "colorbar": {
              "outlinewidth": 0,
              "ticks": ""
             }
            },
            "type": "scattergeo"
           }
          ],
          "scattergl": [
           {
            "marker": {
             "colorbar": {
              "outlinewidth": 0,
              "ticks": ""
             }
            },
            "type": "scattergl"
           }
          ],
          "scattermap": [
           {
            "marker": {
             "colorbar": {
              "outlinewidth": 0,
              "ticks": ""
             }
            },
            "type": "scattermap"
           }
          ],
          "scattermapbox": [
           {
            "marker": {
             "colorbar": {
              "outlinewidth": 0,
              "ticks": ""
             }
            },
            "type": "scattermapbox"
           }
          ],
          "scatterpolar": [
           {
            "marker": {
             "colorbar": {
              "outlinewidth": 0,
              "ticks": ""
             }
            },
            "type": "scatterpolar"
           }
          ],
          "scatterpolargl": [
           {
            "marker": {
             "colorbar": {
              "outlinewidth": 0,
              "ticks": ""
             }
            },
            "type": "scatterpolargl"
           }
          ],
          "scatterternary": [
           {
            "marker": {
             "colorbar": {
              "outlinewidth": 0,
              "ticks": ""
             }
            },
            "type": "scatterternary"
           }
          ],
          "surface": [
           {
            "colorbar": {
             "outlinewidth": 0,
             "ticks": ""
            },
            "colorscale": [
             [
              0,
              "#0d0887"
             ],
             [
              0.1111111111111111,
              "#46039f"
             ],
             [
              0.2222222222222222,
              "#7201a8"
             ],
             [
              0.3333333333333333,
              "#9c179e"
             ],
             [
              0.4444444444444444,
              "#bd3786"
             ],
             [
              0.5555555555555556,
              "#d8576b"
             ],
             [
              0.6666666666666666,
              "#ed7953"
             ],
             [
              0.7777777777777778,
              "#fb9f3a"
             ],
             [
              0.8888888888888888,
              "#fdca26"
             ],
             [
              1,
              "#f0f921"
             ]
            ],
            "type": "surface"
           }
          ],
          "table": [
           {
            "cells": {
             "fill": {
              "color": "#EBF0F8"
             },
             "line": {
              "color": "white"
             }
            },
            "header": {
             "fill": {
              "color": "#C8D4E3"
             },
             "line": {
              "color": "white"
             }
            },
            "type": "table"
           }
          ]
         },
         "layout": {
          "annotationdefaults": {
           "arrowcolor": "#2a3f5f",
           "arrowhead": 0,
           "arrowwidth": 1
          },
          "autotypenumbers": "strict",
          "coloraxis": {
           "colorbar": {
            "outlinewidth": 0,
            "ticks": ""
           }
          },
          "colorscale": {
           "diverging": [
            [
             0,
             "#8e0152"
            ],
            [
             0.1,
             "#c51b7d"
            ],
            [
             0.2,
             "#de77ae"
            ],
            [
             0.3,
             "#f1b6da"
            ],
            [
             0.4,
             "#fde0ef"
            ],
            [
             0.5,
             "#f7f7f7"
            ],
            [
             0.6,
             "#e6f5d0"
            ],
            [
             0.7,
             "#b8e186"
            ],
            [
             0.8,
             "#7fbc41"
            ],
            [
             0.9,
             "#4d9221"
            ],
            [
             1,
             "#276419"
            ]
           ],
           "sequential": [
            [
             0,
             "#0d0887"
            ],
            [
             0.1111111111111111,
             "#46039f"
            ],
            [
             0.2222222222222222,
             "#7201a8"
            ],
            [
             0.3333333333333333,
             "#9c179e"
            ],
            [
             0.4444444444444444,
             "#bd3786"
            ],
            [
             0.5555555555555556,
             "#d8576b"
            ],
            [
             0.6666666666666666,
             "#ed7953"
            ],
            [
             0.7777777777777778,
             "#fb9f3a"
            ],
            [
             0.8888888888888888,
             "#fdca26"
            ],
            [
             1,
             "#f0f921"
            ]
           ],
           "sequentialminus": [
            [
             0,
             "#0d0887"
            ],
            [
             0.1111111111111111,
             "#46039f"
            ],
            [
             0.2222222222222222,
             "#7201a8"
            ],
            [
             0.3333333333333333,
             "#9c179e"
            ],
            [
             0.4444444444444444,
             "#bd3786"
            ],
            [
             0.5555555555555556,
             "#d8576b"
            ],
            [
             0.6666666666666666,
             "#ed7953"
            ],
            [
             0.7777777777777778,
             "#fb9f3a"
            ],
            [
             0.8888888888888888,
             "#fdca26"
            ],
            [
             1,
             "#f0f921"
            ]
           ]
          },
          "colorway": [
           "#636efa",
           "#EF553B",
           "#00cc96",
           "#ab63fa",
           "#FFA15A",
           "#19d3f3",
           "#FF6692",
           "#B6E880",
           "#FF97FF",
           "#FECB52"
          ],
          "font": {
           "color": "#2a3f5f"
          },
          "geo": {
           "bgcolor": "white",
           "lakecolor": "white",
           "landcolor": "#E5ECF6",
           "showlakes": true,
           "showland": true,
           "subunitcolor": "white"
          },
          "hoverlabel": {
           "align": "left"
          },
          "hovermode": "closest",
          "mapbox": {
           "style": "light"
          },
          "paper_bgcolor": "white",
          "plot_bgcolor": "#E5ECF6",
          "polar": {
           "angularaxis": {
            "gridcolor": "white",
            "linecolor": "white",
            "ticks": ""
           },
           "bgcolor": "#E5ECF6",
           "radialaxis": {
            "gridcolor": "white",
            "linecolor": "white",
            "ticks": ""
           }
          },
          "scene": {
           "xaxis": {
            "backgroundcolor": "#E5ECF6",
            "gridcolor": "white",
            "gridwidth": 2,
            "linecolor": "white",
            "showbackground": true,
            "ticks": "",
            "zerolinecolor": "white"
           },
           "yaxis": {
            "backgroundcolor": "#E5ECF6",
            "gridcolor": "white",
            "gridwidth": 2,
            "linecolor": "white",
            "showbackground": true,
            "ticks": "",
            "zerolinecolor": "white"
           },
           "zaxis": {
            "backgroundcolor": "#E5ECF6",
            "gridcolor": "white",
            "gridwidth": 2,
            "linecolor": "white",
            "showbackground": true,
            "ticks": "",
            "zerolinecolor": "white"
           }
          },
          "shapedefaults": {
           "line": {
            "color": "#2a3f5f"
           }
          },
          "ternary": {
           "aaxis": {
            "gridcolor": "white",
            "linecolor": "white",
            "ticks": ""
           },
           "baxis": {
            "gridcolor": "white",
            "linecolor": "white",
            "ticks": ""
           },
           "bgcolor": "#E5ECF6",
           "caxis": {
            "gridcolor": "white",
            "linecolor": "white",
            "ticks": ""
           }
          },
          "title": {
           "x": 0.05
          },
          "xaxis": {
           "automargin": true,
           "gridcolor": "white",
           "linecolor": "white",
           "ticks": "",
           "title": {
            "standoff": 15
           },
           "zerolinecolor": "white",
           "zerolinewidth": 2
          },
          "yaxis": {
           "automargin": true,
           "gridcolor": "white",
           "linecolor": "white",
           "ticks": "",
           "title": {
            "standoff": 15
           },
           "zerolinecolor": "white",
           "zerolinewidth": 2
          }
         }
        },
        "title": {
         "text": "3D Scatter Plot of GDP per Capita, Life Expectancy, and Population"
        },
        "width": 800
       }
      }
     },
     "metadata": {},
     "output_type": "display_data"
    }
   ],
   "source": [
    "# Creating a 3D scatter plot of life expectancy, GDP per capita, and population\n",
    "fig = px.scatter_3d(df, x='gdpPercap', y='lifeExp', z='pop', \n",
    "                    color='continent', size='pop', \n",
    "                    hover_name='country', log_x=True, \n",
    "                    title='3D Scatter Plot of GDP per Capita, Life Expectancy, and Population',\n",
    "                    height = 800,\n",
    "                    width  = 800)\n",
    "fig.show()\n"
   ]
  },
  {
   "cell_type": "code",
   "execution_count": 10,
   "metadata": {},
   "outputs": [
    {
     "data": {
      "application/vnd.plotly.v1+json": {
       "config": {
        "plotlyServerURL": "https://plot.ly"
       },
       "data": [
        {
         "coloraxis": "coloraxis",
         "geo": "geo",
         "hovertemplate": "<b>%{hovertext}</b><br><br>iso_alpha=%{location}<br>lifeExp=%{z}<extra></extra>",
         "hovertext": [
          "Afghanistan",
          "Albania",
          "Algeria",
          "Angola",
          "Argentina",
          "Australia",
          "Austria",
          "Bahrain",
          "Bangladesh",
          "Belgium",
          "Benin",
          "Bolivia",
          "Bosnia and Herzegovina",
          "Botswana",
          "Brazil",
          "Bulgaria",
          "Burkina Faso",
          "Burundi",
          "Cambodia",
          "Cameroon",
          "Canada",
          "Central African Republic",
          "Chad",
          "Chile",
          "China",
          "Colombia",
          "Comoros",
          "Congo, Dem. Rep.",
          "Congo, Rep.",
          "Costa Rica",
          "Cote d'Ivoire",
          "Croatia",
          "Cuba",
          "Czech Republic",
          "Denmark",
          "Djibouti",
          "Dominican Republic",
          "Ecuador",
          "Egypt",
          "El Salvador",
          "Equatorial Guinea",
          "Eritrea",
          "Ethiopia",
          "Finland",
          "France",
          "Gabon",
          "Gambia",
          "Germany",
          "Ghana",
          "Greece",
          "Guatemala",
          "Guinea",
          "Guinea-Bissau",
          "Haiti",
          "Honduras",
          "Hong Kong, China",
          "Hungary",
          "Iceland",
          "India",
          "Indonesia",
          "Iran",
          "Iraq",
          "Ireland",
          "Israel",
          "Italy",
          "Jamaica",
          "Japan",
          "Jordan",
          "Kenya",
          "Korea, Dem. Rep.",
          "Korea, Rep.",
          "Kuwait",
          "Lebanon",
          "Lesotho",
          "Liberia",
          "Libya",
          "Madagascar",
          "Malawi",
          "Malaysia",
          "Mali",
          "Mauritania",
          "Mauritius",
          "Mexico",
          "Mongolia",
          "Montenegro",
          "Morocco",
          "Mozambique",
          "Myanmar",
          "Namibia",
          "Nepal",
          "Netherlands",
          "New Zealand",
          "Nicaragua",
          "Niger",
          "Nigeria",
          "Norway",
          "Oman",
          "Pakistan",
          "Panama",
          "Paraguay",
          "Peru",
          "Philippines",
          "Poland",
          "Portugal",
          "Puerto Rico",
          "Reunion",
          "Romania",
          "Rwanda",
          "Sao Tome and Principe",
          "Saudi Arabia",
          "Senegal",
          "Serbia",
          "Sierra Leone",
          "Singapore",
          "Slovak Republic",
          "Slovenia",
          "Somalia",
          "South Africa",
          "Spain",
          "Sri Lanka",
          "Sudan",
          "Swaziland",
          "Sweden",
          "Switzerland",
          "Syria",
          "Taiwan",
          "Tanzania",
          "Thailand",
          "Togo",
          "Trinidad and Tobago",
          "Tunisia",
          "Turkey",
          "Uganda",
          "United Kingdom",
          "United States",
          "Uruguay",
          "Venezuela",
          "Vietnam",
          "West Bank and Gaza",
          "Yemen, Rep.",
          "Zambia",
          "Zimbabwe"
         ],
         "locations": [
          "AFG",
          "ALB",
          "DZA",
          "AGO",
          "ARG",
          "AUS",
          "AUT",
          "BHR",
          "BGD",
          "BEL",
          "BEN",
          "BOL",
          "BIH",
          "BWA",
          "BRA",
          "BGR",
          "BFA",
          "BDI",
          "KHM",
          "CMR",
          "CAN",
          "CAF",
          "TCD",
          "CHL",
          "CHN",
          "COL",
          "COM",
          "COD",
          "COG",
          "CRI",
          "CIV",
          "HRV",
          "CUB",
          "CZE",
          "DNK",
          "DJI",
          "DOM",
          "ECU",
          "EGY",
          "SLV",
          "GNQ",
          "ERI",
          "ETH",
          "FIN",
          "FRA",
          "GAB",
          "GMB",
          "DEU",
          "GHA",
          "GRC",
          "GTM",
          "GIN",
          "GNB",
          "HTI",
          "HND",
          "HKG",
          "HUN",
          "ISL",
          "IND",
          "IDN",
          "IRN",
          "IRQ",
          "IRL",
          "ISR",
          "ITA",
          "JAM",
          "JPN",
          "JOR",
          "KEN",
          "KOR",
          "KOR",
          "KWT",
          "LBN",
          "LSO",
          "LBR",
          "LBY",
          "MDG",
          "MWI",
          "MYS",
          "MLI",
          "MRT",
          "MUS",
          "MEX",
          "MNG",
          "MNE",
          "MAR",
          "MOZ",
          "MMR",
          "NAM",
          "NPL",
          "NLD",
          "NZL",
          "NIC",
          "NER",
          "NGA",
          "NOR",
          "OMN",
          "PAK",
          "PAN",
          "PRY",
          "PER",
          "PHL",
          "POL",
          "PRT",
          "PRI",
          "REU",
          "ROU",
          "RWA",
          "STP",
          "SAU",
          "SEN",
          "SRB",
          "SLE",
          "SGP",
          "SVK",
          "SVN",
          "SOM",
          "ZAF",
          "ESP",
          "LKA",
          "SDN",
          "SWZ",
          "SWE",
          "CHE",
          "SYR",
          "TWN",
          "TZA",
          "THA",
          "TGO",
          "TTO",
          "TUN",
          "TUR",
          "UGA",
          "GBR",
          "USA",
          "URY",
          "VEN",
          "VNM",
          "PSE",
          "YEM",
          "ZMB",
          "ZWE"
         ],
         "name": "",
         "type": "choropleth",
         "z": {
          "bdata": "RIts5/vpRUBQjZduEhtTQCUGgZVDE1JAIbByaJFdRUAUrkfhetRSQNejcD0KT1RAkxgEVg71U0BxPQrXo+hSQIcW2c73A1BATmIQWDncU0B3vp8aL11MQPp+arx0Y1BASgwCK4e2UkB3vp8aL11JQClcj8L1GFJAuB6F61FAUkD2KFyPwiVKQArXo3A9ykhABoGVQ4vcTUDXo3A9CjdJQG8Sg8DKKVRAAyuHFtleRkAX2c73U1NJQAisHFpko1NAL90kBoE9UkA3iUFg5ThSQH0/NV66SVBAQmDl0CI7R0Dwp8ZLN6lLQDVeukkMslNARIts5/spSEAdWmQ73+9SQLbz/dR4kVNAyXa+nxofU0Boke18P5VTQGiR7Xw/ZUtA16NwPQoPUkBWDi2ynb9SQBSDwMqh1VFA1XjpJjH4UUAmMQisHMpJQIXrUbgeBU1A8KfGSzd5SkB56SYxCNRTQDVeukkMKlRArkfhehReTEDTTWIQWLlNQESLbOf72VNAiUFg5dACTkD0/dR46d5TQH9qvHSTkFFAN4lBYOUATECNbOf7qTFHQGiR7Xw/dU5A6iYxCKyMUUBaZDvfT41UQBSDwMqhVVJAnMQgsHJwVEDqJjEIrCxQQJqZmZmZqVFABFYOLbK9UUD2KFyPwsVNQHE9CtejuFNASOF6FK4vVEBt5/up8SJUQD81XrpJJFJAO99PjZemVEAK16NwPSJSQK5H4XoUDktAXrpJDALTUEAdWmQ736dTQBSDwMqhZVNAZDvfT43/UUCyne+nxktFQBBYObTI1kZAsHJoke18UkBkEFg5tLhNQBBYObTIJkhAgZVDi2yPUkCyne+nxjtLQNEi2/l+ClBAJQaBlUMzUkAUrkfhegxTQAisHFpks1BAmG4Sg8CiUkDRItv5fspRQNEi2/l+CkVARrbz/dQIT0CJFtnO93NKQBSuR+F65E9AVOOlm8TwU0CTGARWDg1UQKjGSzeJOVJA5dAi2/luTEDLoUW2821HQAaBlUOLDFRAKVyPwvXoUkD0/dR46V5QQOx8PzVe4lJA46WbxCDwUUBt5/up8dpRQHnpJjEI7FFAeekmMQjkUkCDwMqhRYZTQDu0yHa+r1NAPzVeukkcU0BYObTIdh5SQOXQItv5HkdAbxKDwMphUEB9PzVeujFSQA4tsp3vh09A46WbxCCAUkBkEFg5tEhFQJHtfD81/lNA30+Nl26qUkAlBoGVQ3tTQDEIrBxaFEhACKwcWmSrSEBOYhBYOTxUQNNNYhBYGVJAukkMAitHTUBYObTIds5DQH9qvHSTOFRAwJ8aL91sVED+1HjpJolSQJqZmZmZmVNAGQRWDi1CSkCBlUOLbKdRQPYoXI/CNU1AI9v5fmp0UUBQjZduEntSQH0/NV668VFATDeJQWDFSUAzMzMzM9tTQHNoke18j1NAf2q8dJMYU0ArhxbZzm9SQA4tsp3vj1JAXrpJDAJbUkDTTWIQWFlPQP3UeOkmMUVAdZMYBFa+RUA=",
          "dtype": "f8"
         }
        }
       ],
       "layout": {
        "coloraxis": {
         "colorbar": {
          "title": {
           "text": "lifeExp"
          }
         },
         "colorscale": [
          [
           0,
           "#0d0887"
          ],
          [
           0.1111111111111111,
           "#46039f"
          ],
          [
           0.2222222222222222,
           "#7201a8"
          ],
          [
           0.3333333333333333,
           "#9c179e"
          ],
          [
           0.4444444444444444,
           "#bd3786"
          ],
          [
           0.5555555555555556,
           "#d8576b"
          ],
          [
           0.6666666666666666,
           "#ed7953"
          ],
          [
           0.7777777777777778,
           "#fb9f3a"
          ],
          [
           0.8888888888888888,
           "#fdca26"
          ],
          [
           1,
           "#f0f921"
          ]
         ]
        },
        "geo": {
         "center": {},
         "domain": {
          "x": [
           0,
           1
          ],
          "y": [
           0,
           1
          ]
         }
        },
        "height": 600,
        "legend": {
         "tracegroupgap": 0
        },
        "template": {
         "data": {
          "bar": [
           {
            "error_x": {
             "color": "#2a3f5f"
            },
            "error_y": {
             "color": "#2a3f5f"
            },
            "marker": {
             "line": {
              "color": "#E5ECF6",
              "width": 0.5
             },
             "pattern": {
              "fillmode": "overlay",
              "size": 10,
              "solidity": 0.2
             }
            },
            "type": "bar"
           }
          ],
          "barpolar": [
           {
            "marker": {
             "line": {
              "color": "#E5ECF6",
              "width": 0.5
             },
             "pattern": {
              "fillmode": "overlay",
              "size": 10,
              "solidity": 0.2
             }
            },
            "type": "barpolar"
           }
          ],
          "carpet": [
           {
            "aaxis": {
             "endlinecolor": "#2a3f5f",
             "gridcolor": "white",
             "linecolor": "white",
             "minorgridcolor": "white",
             "startlinecolor": "#2a3f5f"
            },
            "baxis": {
             "endlinecolor": "#2a3f5f",
             "gridcolor": "white",
             "linecolor": "white",
             "minorgridcolor": "white",
             "startlinecolor": "#2a3f5f"
            },
            "type": "carpet"
           }
          ],
          "choropleth": [
           {
            "colorbar": {
             "outlinewidth": 0,
             "ticks": ""
            },
            "type": "choropleth"
           }
          ],
          "contour": [
           {
            "colorbar": {
             "outlinewidth": 0,
             "ticks": ""
            },
            "colorscale": [
             [
              0,
              "#0d0887"
             ],
             [
              0.1111111111111111,
              "#46039f"
             ],
             [
              0.2222222222222222,
              "#7201a8"
             ],
             [
              0.3333333333333333,
              "#9c179e"
             ],
             [
              0.4444444444444444,
              "#bd3786"
             ],
             [
              0.5555555555555556,
              "#d8576b"
             ],
             [
              0.6666666666666666,
              "#ed7953"
             ],
             [
              0.7777777777777778,
              "#fb9f3a"
             ],
             [
              0.8888888888888888,
              "#fdca26"
             ],
             [
              1,
              "#f0f921"
             ]
            ],
            "type": "contour"
           }
          ],
          "contourcarpet": [
           {
            "colorbar": {
             "outlinewidth": 0,
             "ticks": ""
            },
            "type": "contourcarpet"
           }
          ],
          "heatmap": [
           {
            "colorbar": {
             "outlinewidth": 0,
             "ticks": ""
            },
            "colorscale": [
             [
              0,
              "#0d0887"
             ],
             [
              0.1111111111111111,
              "#46039f"
             ],
             [
              0.2222222222222222,
              "#7201a8"
             ],
             [
              0.3333333333333333,
              "#9c179e"
             ],
             [
              0.4444444444444444,
              "#bd3786"
             ],
             [
              0.5555555555555556,
              "#d8576b"
             ],
             [
              0.6666666666666666,
              "#ed7953"
             ],
             [
              0.7777777777777778,
              "#fb9f3a"
             ],
             [
              0.8888888888888888,
              "#fdca26"
             ],
             [
              1,
              "#f0f921"
             ]
            ],
            "type": "heatmap"
           }
          ],
          "histogram": [
           {
            "marker": {
             "pattern": {
              "fillmode": "overlay",
              "size": 10,
              "solidity": 0.2
             }
            },
            "type": "histogram"
           }
          ],
          "histogram2d": [
           {
            "colorbar": {
             "outlinewidth": 0,
             "ticks": ""
            },
            "colorscale": [
             [
              0,
              "#0d0887"
             ],
             [
              0.1111111111111111,
              "#46039f"
             ],
             [
              0.2222222222222222,
              "#7201a8"
             ],
             [
              0.3333333333333333,
              "#9c179e"
             ],
             [
              0.4444444444444444,
              "#bd3786"
             ],
             [
              0.5555555555555556,
              "#d8576b"
             ],
             [
              0.6666666666666666,
              "#ed7953"
             ],
             [
              0.7777777777777778,
              "#fb9f3a"
             ],
             [
              0.8888888888888888,
              "#fdca26"
             ],
             [
              1,
              "#f0f921"
             ]
            ],
            "type": "histogram2d"
           }
          ],
          "histogram2dcontour": [
           {
            "colorbar": {
             "outlinewidth": 0,
             "ticks": ""
            },
            "colorscale": [
             [
              0,
              "#0d0887"
             ],
             [
              0.1111111111111111,
              "#46039f"
             ],
             [
              0.2222222222222222,
              "#7201a8"
             ],
             [
              0.3333333333333333,
              "#9c179e"
             ],
             [
              0.4444444444444444,
              "#bd3786"
             ],
             [
              0.5555555555555556,
              "#d8576b"
             ],
             [
              0.6666666666666666,
              "#ed7953"
             ],
             [
              0.7777777777777778,
              "#fb9f3a"
             ],
             [
              0.8888888888888888,
              "#fdca26"
             ],
             [
              1,
              "#f0f921"
             ]
            ],
            "type": "histogram2dcontour"
           }
          ],
          "mesh3d": [
           {
            "colorbar": {
             "outlinewidth": 0,
             "ticks": ""
            },
            "type": "mesh3d"
           }
          ],
          "parcoords": [
           {
            "line": {
             "colorbar": {
              "outlinewidth": 0,
              "ticks": ""
             }
            },
            "type": "parcoords"
           }
          ],
          "pie": [
           {
            "automargin": true,
            "type": "pie"
           }
          ],
          "scatter": [
           {
            "fillpattern": {
             "fillmode": "overlay",
             "size": 10,
             "solidity": 0.2
            },
            "type": "scatter"
           }
          ],
          "scatter3d": [
           {
            "line": {
             "colorbar": {
              "outlinewidth": 0,
              "ticks": ""
             }
            },
            "marker": {
             "colorbar": {
              "outlinewidth": 0,
              "ticks": ""
             }
            },
            "type": "scatter3d"
           }
          ],
          "scattercarpet": [
           {
            "marker": {
             "colorbar": {
              "outlinewidth": 0,
              "ticks": ""
             }
            },
            "type": "scattercarpet"
           }
          ],
          "scattergeo": [
           {
            "marker": {
             "colorbar": {
              "outlinewidth": 0,
              "ticks": ""
             }
            },
            "type": "scattergeo"
           }
          ],
          "scattergl": [
           {
            "marker": {
             "colorbar": {
              "outlinewidth": 0,
              "ticks": ""
             }
            },
            "type": "scattergl"
           }
          ],
          "scattermap": [
           {
            "marker": {
             "colorbar": {
              "outlinewidth": 0,
              "ticks": ""
             }
            },
            "type": "scattermap"
           }
          ],
          "scattermapbox": [
           {
            "marker": {
             "colorbar": {
              "outlinewidth": 0,
              "ticks": ""
             }
            },
            "type": "scattermapbox"
           }
          ],
          "scatterpolar": [
           {
            "marker": {
             "colorbar": {
              "outlinewidth": 0,
              "ticks": ""
             }
            },
            "type": "scatterpolar"
           }
          ],
          "scatterpolargl": [
           {
            "marker": {
             "colorbar": {
              "outlinewidth": 0,
              "ticks": ""
             }
            },
            "type": "scatterpolargl"
           }
          ],
          "scatterternary": [
           {
            "marker": {
             "colorbar": {
              "outlinewidth": 0,
              "ticks": ""
             }
            },
            "type": "scatterternary"
           }
          ],
          "surface": [
           {
            "colorbar": {
             "outlinewidth": 0,
             "ticks": ""
            },
            "colorscale": [
             [
              0,
              "#0d0887"
             ],
             [
              0.1111111111111111,
              "#46039f"
             ],
             [
              0.2222222222222222,
              "#7201a8"
             ],
             [
              0.3333333333333333,
              "#9c179e"
             ],
             [
              0.4444444444444444,
              "#bd3786"
             ],
             [
              0.5555555555555556,
              "#d8576b"
             ],
             [
              0.6666666666666666,
              "#ed7953"
             ],
             [
              0.7777777777777778,
              "#fb9f3a"
             ],
             [
              0.8888888888888888,
              "#fdca26"
             ],
             [
              1,
              "#f0f921"
             ]
            ],
            "type": "surface"
           }
          ],
          "table": [
           {
            "cells": {
             "fill": {
              "color": "#EBF0F8"
             },
             "line": {
              "color": "white"
             }
            },
            "header": {
             "fill": {
              "color": "#C8D4E3"
             },
             "line": {
              "color": "white"
             }
            },
            "type": "table"
           }
          ]
         },
         "layout": {
          "annotationdefaults": {
           "arrowcolor": "#2a3f5f",
           "arrowhead": 0,
           "arrowwidth": 1
          },
          "autotypenumbers": "strict",
          "coloraxis": {
           "colorbar": {
            "outlinewidth": 0,
            "ticks": ""
           }
          },
          "colorscale": {
           "diverging": [
            [
             0,
             "#8e0152"
            ],
            [
             0.1,
             "#c51b7d"
            ],
            [
             0.2,
             "#de77ae"
            ],
            [
             0.3,
             "#f1b6da"
            ],
            [
             0.4,
             "#fde0ef"
            ],
            [
             0.5,
             "#f7f7f7"
            ],
            [
             0.6,
             "#e6f5d0"
            ],
            [
             0.7,
             "#b8e186"
            ],
            [
             0.8,
             "#7fbc41"
            ],
            [
             0.9,
             "#4d9221"
            ],
            [
             1,
             "#276419"
            ]
           ],
           "sequential": [
            [
             0,
             "#0d0887"
            ],
            [
             0.1111111111111111,
             "#46039f"
            ],
            [
             0.2222222222222222,
             "#7201a8"
            ],
            [
             0.3333333333333333,
             "#9c179e"
            ],
            [
             0.4444444444444444,
             "#bd3786"
            ],
            [
             0.5555555555555556,
             "#d8576b"
            ],
            [
             0.6666666666666666,
             "#ed7953"
            ],
            [
             0.7777777777777778,
             "#fb9f3a"
            ],
            [
             0.8888888888888888,
             "#fdca26"
            ],
            [
             1,
             "#f0f921"
            ]
           ],
           "sequentialminus": [
            [
             0,
             "#0d0887"
            ],
            [
             0.1111111111111111,
             "#46039f"
            ],
            [
             0.2222222222222222,
             "#7201a8"
            ],
            [
             0.3333333333333333,
             "#9c179e"
            ],
            [
             0.4444444444444444,
             "#bd3786"
            ],
            [
             0.5555555555555556,
             "#d8576b"
            ],
            [
             0.6666666666666666,
             "#ed7953"
            ],
            [
             0.7777777777777778,
             "#fb9f3a"
            ],
            [
             0.8888888888888888,
             "#fdca26"
            ],
            [
             1,
             "#f0f921"
            ]
           ]
          },
          "colorway": [
           "#636efa",
           "#EF553B",
           "#00cc96",
           "#ab63fa",
           "#FFA15A",
           "#19d3f3",
           "#FF6692",
           "#B6E880",
           "#FF97FF",
           "#FECB52"
          ],
          "font": {
           "color": "#2a3f5f"
          },
          "geo": {
           "bgcolor": "white",
           "lakecolor": "white",
           "landcolor": "#E5ECF6",
           "showlakes": true,
           "showland": true,
           "subunitcolor": "white"
          },
          "hoverlabel": {
           "align": "left"
          },
          "hovermode": "closest",
          "mapbox": {
           "style": "light"
          },
          "paper_bgcolor": "white",
          "plot_bgcolor": "#E5ECF6",
          "polar": {
           "angularaxis": {
            "gridcolor": "white",
            "linecolor": "white",
            "ticks": ""
           },
           "bgcolor": "#E5ECF6",
           "radialaxis": {
            "gridcolor": "white",
            "linecolor": "white",
            "ticks": ""
           }
          },
          "scene": {
           "xaxis": {
            "backgroundcolor": "#E5ECF6",
            "gridcolor": "white",
            "gridwidth": 2,
            "linecolor": "white",
            "showbackground": true,
            "ticks": "",
            "zerolinecolor": "white"
           },
           "yaxis": {
            "backgroundcolor": "#E5ECF6",
            "gridcolor": "white",
            "gridwidth": 2,
            "linecolor": "white",
            "showbackground": true,
            "ticks": "",
            "zerolinecolor": "white"
           },
           "zaxis": {
            "backgroundcolor": "#E5ECF6",
            "gridcolor": "white",
            "gridwidth": 2,
            "linecolor": "white",
            "showbackground": true,
            "ticks": "",
            "zerolinecolor": "white"
           }
          },
          "shapedefaults": {
           "line": {
            "color": "#2a3f5f"
           }
          },
          "ternary": {
           "aaxis": {
            "gridcolor": "white",
            "linecolor": "white",
            "ticks": ""
           },
           "baxis": {
            "gridcolor": "white",
            "linecolor": "white",
            "ticks": ""
           },
           "bgcolor": "#E5ECF6",
           "caxis": {
            "gridcolor": "white",
            "linecolor": "white",
            "ticks": ""
           }
          },
          "title": {
           "x": 0.05
          },
          "xaxis": {
           "automargin": true,
           "gridcolor": "white",
           "linecolor": "white",
           "ticks": "",
           "title": {
            "standoff": 15
           },
           "zerolinecolor": "white",
           "zerolinewidth": 2
          },
          "yaxis": {
           "automargin": true,
           "gridcolor": "white",
           "linecolor": "white",
           "ticks": "",
           "title": {
            "standoff": 15
           },
           "zerolinecolor": "white",
           "zerolinewidth": 2
          }
         }
        },
        "title": {
         "text": "Choropleth Map of Life Expectancy in 2007"
        },
        "width": 1000
       }
      }
     },
     "metadata": {},
     "output_type": "display_data"
    }
   ],
   "source": [
    "df_2007 = df[df['year'] == 2007]    \n",
    "\n",
    "# Creating a choropleth map showing life expectancy in 2007\n",
    "fig = px.choropleth(df_2007, locations='iso_alpha', color='lifeExp', \n",
    "                    hover_name='country', \n",
    "                    color_continuous_scale=px.colors.sequential.Plasma, \n",
    "                    title='Choropleth Map of Life Expectancy in 2007',\n",
    "                    height = 600,\n",
    "                    width = 1000)\n",
    "\n",
    "fig.show()"
   ]
  },
  {
   "cell_type": "code",
   "execution_count": null,
   "metadata": {},
   "outputs": [],
   "source": [
    "# Creating a scatter geo plot showing life expectancy in 2007\n",
    "fig = px.scatter_geo(df_2007, locations='iso_alpha', color='continent', \n",
    "                     hover_name='country', size='pop', \n",
    "                     projection='natural earth', \n",
    "                     title='Scatter Geo Plot of Life Expectancy in 2007',\n",
    "                     height = 600,\n",
    "                     width = 1000)\n",
    "\n",
    "fig.show()"
   ]
  },
  {
   "cell_type": "code",
   "execution_count": null,
   "metadata": {},
   "outputs": [],
   "source": [
    "# Creating an animated scatter plot showing life expectancy over the years\n",
    "fig = px.scatter(df, x='gdpPercap', y='lifeExp', \n",
    "                 color='continent', size='pop', \n",
    "                 hover_name='country', \n",
    "                 log_x=True, size_max=60, \n",
    "                 animation_frame='year', animation_group='country', \n",
    "                 title='Animated GDP per Capita vs Life Expectancy over Years',\n",
    "                 height = 800,\n",
    "                 width = 800)\n",
    "fig.show()\n"
   ]
  }
 ],
 "metadata": {
  "kernelspec": {
   "display_name": "Python 3",
   "language": "python",
   "name": "python3"
  },
  "language_info": {
   "codemirror_mode": {
    "name": "ipython",
    "version": 3
   },
   "file_extension": ".py",
   "mimetype": "text/x-python",
   "name": "python",
   "nbconvert_exporter": "python",
   "pygments_lexer": "ipython3",
   "version": "3.13.1"
  }
 },
 "nbformat": 4,
 "nbformat_minor": 2
}

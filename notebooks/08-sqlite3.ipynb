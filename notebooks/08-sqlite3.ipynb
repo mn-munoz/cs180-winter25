{
 "cells": [
  {
   "cell_type": "markdown",
   "id": "1457d47f",
   "metadata": {},
   "source": [
    "Add colab link"
   ]
  },
  {
   "cell_type": "markdown",
   "id": "8f1c8328",
   "metadata": {},
   "source": [
    "<a href=\"https://colab.research.google.com/github/rhodes-byu/cs180-winter25/blob/main/notebooks/08-sqlite3.ipynb\" target=\"_parent\"><img src=\"https://colab.research.google.com/assets/colab-badge.svg\" alt=\"Open In Colab\"/></a><p><b>After clicking the \"Open in Colab\" link, copy the notebook to your own Google Drive before getting started, or it will not save your work</b></p>"
   ]
  },
  {
   "cell_type": "markdown",
   "id": "6d7301b0",
   "metadata": {},
   "source": [
    "# Getting Started with SQLite3 in Python\n",
    "\n",
    "This notebook provides a step-by-step guide to using SQLite3 in Python. SQLite is a lightweight, file-based database that is ideal for small to medium applications.\n",
    "\n",
    "## What We Will Cover\n",
    "- How to install SQLite3\n",
    "- How to create a database and connect to it\n",
    "- How to create tables and insert data\n",
    "- How to query, update, and delete data\n",
    "- How to use SQLite3 with Pandas"
   ]
  },
  {
   "cell_type": "code",
   "execution_count": 2,
   "id": "fc8069a2",
   "metadata": {},
   "outputs": [],
   "source": [
    "import sqlite3\n",
    "import pandas as pd"
   ]
  },
  {
   "cell_type": "code",
   "execution_count": 3,
   "id": "862bc54e",
   "metadata": {},
   "outputs": [
    {
     "name": "stdout",
     "output_type": "stream",
     "text": [
      "  % Total    % Received % Xferd  Average Speed   Time    Time     Time  Current\n",
      "                                 Dload  Upload   Total   Spent    Left  Speed\n",
      "100  640k  100  640k    0     0  3708k      0 --:--:-- --:--:-- --:--:-- 3720k\n"
     ]
    }
   ],
   "source": [
    "!curl -o sales.db \"https://raw.githubusercontent.com/rhodes-byu/cs180-winter25/refs/heads/main/databases/sales.db\""
   ]
  },
  {
   "cell_type": "markdown",
   "id": "86b9afd8",
   "metadata": {},
   "source": [
    "### Establish a connection to the database"
   ]
  },
  {
   "cell_type": "code",
   "execution_count": 4,
   "id": "2b57dae6",
   "metadata": {},
   "outputs": [
    {
     "name": "stdout",
     "output_type": "stream",
     "text": [
      "<class 'sqlite3.Connection'>\n"
     ]
    }
   ],
   "source": [
    "conn = sqlite3.connect('sales.db')\n",
    "print(type(conn))"
   ]
  },
  {
   "cell_type": "code",
   "execution_count": 5,
   "id": "98e2dbdc",
   "metadata": {},
   "outputs": [
    {
     "name": "stdout",
     "output_type": "stream",
     "text": [
      "<class 'sqlite3.Cursor'>\n"
     ]
    }
   ],
   "source": [
    "cursor = conn.cursor()\n",
    "print(type(cursor))"
   ]
  },
  {
   "cell_type": "markdown",
   "id": "727364f8",
   "metadata": {},
   "source": [
    "### Executions of queries"
   ]
  },
  {
   "cell_type": "code",
   "execution_count": 28,
   "id": "0f993a98",
   "metadata": {},
   "outputs": [
    {
     "data": {
      "text/plain": [
       "<sqlite3.Cursor at 0x10f9b45c0>"
      ]
     },
     "execution_count": 28,
     "metadata": {},
     "output_type": "execute_result"
    }
   ],
   "source": [
    "cursor.execute('SELECT * FROM Artist')"
   ]
  },
  {
   "cell_type": "code",
   "execution_count": 29,
   "id": "90c81fa0",
   "metadata": {},
   "outputs": [],
   "source": [
    "# Fetchall returns a list of tuples with each tuple representing a row in the table \n",
    "artists = cursor.fetchall()\n",
    "\n",
    "# artists = cursor.fetchmany(5)\n",
    "# Alternative: Fetchmany(n) returns a list of n tuples\n",
    "# Used for larger dataets (query batches at a time)"
   ]
  },
  {
   "cell_type": "code",
   "execution_count": 30,
   "id": "b1e76bcc",
   "metadata": {},
   "outputs": [
    {
     "data": {
      "text/plain": [
       "[(1, 'AC/DC'),\n",
       " (2, 'Accept'),\n",
       " (3, 'Aerosmith'),\n",
       " (4, 'Alanis Morissette'),\n",
       " (5, 'Alice In Chains')]"
      ]
     },
     "execution_count": 30,
     "metadata": {},
     "output_type": "execute_result"
    }
   ],
   "source": [
    "artists[:5]"
   ]
  },
  {
   "cell_type": "markdown",
   "id": "a0ed2a03",
   "metadata": {},
   "source": [
    "Note: the fetchall can only be called once. If you call it again, it will return an empty list\n"
   ]
  },
  {
   "cell_type": "code",
   "execution_count": 31,
   "id": "e1197047",
   "metadata": {},
   "outputs": [
    {
     "data": {
      "text/plain": [
       "[]"
      ]
     },
     "execution_count": 31,
     "metadata": {},
     "output_type": "execute_result"
    }
   ],
   "source": [
    "cursor.fetchall()"
   ]
  },
  {
   "cell_type": "markdown",
   "id": "38293500",
   "metadata": {},
   "source": [
    "A longer query example."
   ]
  },
  {
   "cell_type": "code",
   "execution_count": 32,
   "id": "65899edb",
   "metadata": {},
   "outputs": [
    {
     "data": {
      "text/plain": [
       "<sqlite3.Cursor at 0x10f9b45c0>"
      ]
     },
     "execution_count": 32,
     "metadata": {},
     "output_type": "execute_result"
    }
   ],
   "source": [
    "query = '''\n",
    "SELECT Artist.Name AS ArtistName, Album.Title AS AlbumTitle\n",
    "FROM Artist\n",
    "JOIN Album ON Artist.ArtistId = Album.ArtistId\n",
    "'''\n",
    "\n",
    "cursor.execute(query)"
   ]
  },
  {
   "cell_type": "code",
   "execution_count": 33,
   "id": "1df181d2",
   "metadata": {},
   "outputs": [
    {
     "data": {
      "text/plain": [
       "[('AC/DC', 'For Those About To Rock We Salute You'),\n",
       " ('Accept', 'Balls to the Wall'),\n",
       " ('Accept', 'Restless and Wild'),\n",
       " ('AC/DC', 'Let There Be Rock'),\n",
       " ('Aerosmith', 'Big Ones'),\n",
       " ('Alanis Morissette', 'Jagged Little Pill'),\n",
       " ('Alice In Chains', 'Facelift'),\n",
       " ('Antônio Carlos Jobim', 'Warner 25 Anos'),\n",
       " ('Apocalyptica', 'Plays Metallica By Four Cellos'),\n",
       " ('Audioslave', 'Audioslave'),\n",
       " ('Audioslave', 'Out Of Exile'),\n",
       " ('BackBeat', 'BackBeat Soundtrack'),\n",
       " ('Billy Cobham', 'The Best Of Billy Cobham'),\n",
       " ('Black Label Society', 'Alcohol Fueled Brewtality Live! [Disc 1]'),\n",
       " ('Black Label Society', 'Alcohol Fueled Brewtality Live! [Disc 2]'),\n",
       " ('Black Sabbath', 'Black Sabbath'),\n",
       " ('Black Sabbath', 'Black Sabbath Vol. 4 (Remaster)'),\n",
       " ('Body Count', 'Body Count'),\n",
       " ('Bruce Dickinson', 'Chemical Wedding'),\n",
       " ('Buddy Guy', 'The Best Of Buddy Guy - The Millenium Collection'),\n",
       " ('Caetano Veloso', 'Prenda Minha'),\n",
       " ('Caetano Veloso', 'Sozinho Remix Ao Vivo'),\n",
       " ('Chico Buarque', 'Minha Historia'),\n",
       " ('Chico Science & Nação Zumbi', 'Afrociberdelia'),\n",
       " ('Chico Science & Nação Zumbi', 'Da Lama Ao Caos'),\n",
       " ('Cidade Negra', 'Acústico MTV [Live]'),\n",
       " ('Cidade Negra', 'Cidade Negra - Hits'),\n",
       " ('Cláudio Zoli', 'Na Pista'),\n",
       " ('Various Artists', 'Axé Bahia 2001'),\n",
       " ('Led Zeppelin', 'BBC Sessions [Disc 1] [Live]'),\n",
       " ('Frank Zappa & Captain Beefheart', 'Bongo Fury'),\n",
       " ('Various Artists', 'Carnaval 2001'),\n",
       " ('Marcos Valle', 'Chill: Brazil (Disc 1)'),\n",
       " ('Antônio Carlos Jobim', 'Chill: Brazil (Disc 2)'),\n",
       " ('Metallica', 'Garage Inc. (Disc 1)'),\n",
       " ('Queen', 'Greatest Hits II'),\n",
       " ('Kiss', 'Greatest Kiss'),\n",
       " ('Spyro Gyra', 'Heart of the Night'),\n",
       " ('Green Day', 'International Superhits'),\n",
       " ('David Coverdale', 'Into The Light'),\n",
       " ('Gonzaguinha', 'Meus Momentos'),\n",
       " ('Os Mutantes', 'Minha História'),\n",
       " ('Deep Purple', 'MK III The Final Concerts [Disc 1]'),\n",
       " ('Led Zeppelin', 'Physical Graffiti [Disc 1]'),\n",
       " ('Various Artists', 'Sambas De Enredo 2001'),\n",
       " ('Santana', 'Supernatural'),\n",
       " ('Ed Motta', 'The Best of Ed Motta'),\n",
       " ('Miles Davis', 'The Essential Miles Davis [Disc 1]'),\n",
       " ('Miles Davis', 'The Essential Miles Davis [Disc 2]'),\n",
       " ('Deep Purple', 'The Final Concerts (Disc 2)'),\n",
       " ('Gene Krupa', \"Up An' Atom\"),\n",
       " ('Toquinho & Vinícius', 'Vinícius De Moraes - Sem Limite'),\n",
       " ('Various Artists', 'Vozes do MPB'),\n",
       " ('Creedence Clearwater Revival', 'Chronicle, Vol. 1'),\n",
       " ('Creedence Clearwater Revival', 'Chronicle, Vol. 2'),\n",
       " ('Cássia Eller', 'Cássia Eller - Coleção Sem Limite [Disc 2]'),\n",
       " ('Cássia Eller', 'Cássia Eller - Sem Limite [Disc 1]'),\n",
       " ('Deep Purple', 'Come Taste The Band'),\n",
       " ('Deep Purple', 'Deep Purple In Rock'),\n",
       " ('Deep Purple', 'Fireball'),\n",
       " ('Deep Purple',\n",
       "  \"Knocking at Your Back Door: The Best Of Deep Purple in the 80's\"),\n",
       " ('Deep Purple', 'Machine Head'),\n",
       " ('Deep Purple', 'Purpendicular'),\n",
       " ('Deep Purple', 'Slaves And Masters'),\n",
       " ('Deep Purple', 'Stormbringer'),\n",
       " ('Deep Purple', 'The Battle Rages On'),\n",
       " ('Def Leppard', \"Vault: Def Leppard's Greatest Hits\"),\n",
       " ('Dennis Chambers', 'Outbreak'),\n",
       " ('Djavan', 'Djavan Ao Vivo - Vol. 02'),\n",
       " ('Djavan', 'Djavan Ao Vivo - Vol. 1'),\n",
       " ('Elis Regina', 'Elis Regina-Minha História'),\n",
       " ('Eric Clapton', 'The Cream Of Clapton'),\n",
       " ('Eric Clapton', 'Unplugged'),\n",
       " ('Faith No More', 'Album Of The Year'),\n",
       " ('Faith No More', 'Angel Dust'),\n",
       " ('Faith No More', 'King For A Day Fool For A Lifetime'),\n",
       " ('Faith No More', 'The Real Thing'),\n",
       " ('Falamansa', 'Deixa Entrar'),\n",
       " ('Foo Fighters', 'In Your Honor [Disc 1]'),\n",
       " ('Foo Fighters', 'In Your Honor [Disc 2]'),\n",
       " ('Foo Fighters', 'One By One'),\n",
       " ('Foo Fighters', 'The Colour And The Shape'),\n",
       " ('Frank Sinatra', 'My Way: The Best Of Frank Sinatra [Disc 1]'),\n",
       " ('Funk Como Le Gusta', 'Roda De Funk'),\n",
       " ('Gilberto Gil', 'As Canções de Eu Tu Eles'),\n",
       " ('Gilberto Gil', 'Quanta Gente Veio Ver (Live)'),\n",
       " ('Gilberto Gil', 'Quanta Gente Veio ver--Bônus De Carnaval'),\n",
       " ('Godsmack', 'Faceless'),\n",
       " ('Green Day', 'American Idiot'),\n",
       " (\"Guns N' Roses\", 'Appetite for Destruction'),\n",
       " (\"Guns N' Roses\", 'Use Your Illusion I'),\n",
       " (\"Guns N' Roses\", 'Use Your Illusion II'),\n",
       " ('Incognito', 'Blue Moods'),\n",
       " ('Iron Maiden', 'A Matter of Life and Death'),\n",
       " ('Iron Maiden', 'A Real Dead One'),\n",
       " ('Iron Maiden', 'A Real Live One'),\n",
       " ('Iron Maiden', 'Brave New World'),\n",
       " ('Iron Maiden', 'Dance Of Death'),\n",
       " ('Iron Maiden', 'Fear Of The Dark'),\n",
       " ('Iron Maiden', 'Iron Maiden'),\n",
       " ('Iron Maiden', 'Killers'),\n",
       " ('Iron Maiden', 'Live After Death'),\n",
       " ('Iron Maiden', 'Live At Donington 1992 (Disc 1)'),\n",
       " ('Iron Maiden', 'Live At Donington 1992 (Disc 2)'),\n",
       " ('Iron Maiden', 'No Prayer For The Dying'),\n",
       " ('Iron Maiden', 'Piece Of Mind'),\n",
       " ('Iron Maiden', 'Powerslave'),\n",
       " ('Iron Maiden', 'Rock In Rio [CD1]'),\n",
       " ('Iron Maiden', 'Rock In Rio [CD2]'),\n",
       " ('Iron Maiden', 'Seventh Son of a Seventh Son'),\n",
       " ('Iron Maiden', 'Somewhere in Time'),\n",
       " ('Iron Maiden', 'The Number of The Beast'),\n",
       " ('Iron Maiden', 'The X Factor'),\n",
       " ('Iron Maiden', 'Virtual XI'),\n",
       " ('James Brown', 'Sex Machine'),\n",
       " ('Jamiroquai', 'Emergency On Planet Earth'),\n",
       " ('Jamiroquai', 'Synkronized'),\n",
       " ('Jamiroquai', 'The Return Of The Space Cowboy'),\n",
       " ('JET', 'Get Born'),\n",
       " ('Jimi Hendrix', 'Are You Experienced?'),\n",
       " ('Joe Satriani', 'Surfing with the Alien (Remastered)'),\n",
       " ('Jorge Ben', 'Jorge Ben Jor 25 Anos'),\n",
       " ('Jota Quest', 'Jota Quest-1995'),\n",
       " ('João Suplicy', 'Cafezinho'),\n",
       " ('Judas Priest', 'Living After Midnight'),\n",
       " ('Kiss', 'Unplugged [Live]'),\n",
       " ('Led Zeppelin', 'BBC Sessions [Disc 2] [Live]'),\n",
       " ('Led Zeppelin', 'Coda'),\n",
       " ('Led Zeppelin', 'Houses Of The Holy'),\n",
       " ('Led Zeppelin', 'In Through The Out Door'),\n",
       " ('Led Zeppelin', 'IV'),\n",
       " ('Led Zeppelin', 'Led Zeppelin I'),\n",
       " ('Led Zeppelin', 'Led Zeppelin II'),\n",
       " ('Led Zeppelin', 'Led Zeppelin III'),\n",
       " ('Led Zeppelin', 'Physical Graffiti [Disc 2]'),\n",
       " ('Led Zeppelin', 'Presence'),\n",
       " ('Led Zeppelin', 'The Song Remains The Same (Disc 1)'),\n",
       " ('Led Zeppelin', 'The Song Remains The Same (Disc 2)'),\n",
       " ('Legião Urbana', 'A TempestadeTempestade Ou O Livro Dos Dias'),\n",
       " ('Legião Urbana', 'Mais Do Mesmo'),\n",
       " ('Lenny Kravitz', 'Greatest Hits'),\n",
       " ('Lulu Santos', 'Lulu Santos - RCA 100 Anos De Música - Álbum 01'),\n",
       " ('Lulu Santos', 'Lulu Santos - RCA 100 Anos De Música - Álbum 02'),\n",
       " ('Marillion', 'Misplaced Childhood'),\n",
       " ('Marisa Monte', 'Barulhinho Bom'),\n",
       " ('Marvin Gaye', 'Seek And Shall Find: More Of The Best (1963-1981)'),\n",
       " ('Men At Work', 'The Best Of Men At Work'),\n",
       " ('Metallica', 'Black Album'),\n",
       " ('Metallica', 'Garage Inc. (Disc 2)'),\n",
       " ('Metallica', \"Kill 'Em All\"),\n",
       " ('Metallica', 'Load'),\n",
       " ('Metallica', 'Master Of Puppets'),\n",
       " ('Metallica', 'ReLoad'),\n",
       " ('Metallica', 'Ride The Lightning'),\n",
       " ('Metallica', 'St. Anger'),\n",
       " ('Metallica', '...And Justice For All'),\n",
       " ('Miles Davis', 'Miles Ahead'),\n",
       " ('Milton Nascimento', 'Milton Nascimento Ao Vivo'),\n",
       " ('Milton Nascimento', 'Minas'),\n",
       " ('Motörhead', 'Ace Of Spades'),\n",
       " ('Mônica Marianno', 'Demorou...'),\n",
       " ('Mötley Crüe', 'Motley Crue Greatest Hits'),\n",
       " ('Nirvana', 'From The Muddy Banks Of The Wishkah [Live]'),\n",
       " ('Nirvana', 'Nevermind'),\n",
       " ('O Terço', 'Compositores'),\n",
       " ('Olodum', 'Olodum'),\n",
       " ('Os Paralamas Do Sucesso', 'Acústico MTV'),\n",
       " ('Os Paralamas Do Sucesso', 'Arquivo II'),\n",
       " ('Os Paralamas Do Sucesso', 'Arquivo Os Paralamas Do Sucesso'),\n",
       " ('Ozzy Osbourne', 'Bark at the Moon (Remastered)'),\n",
       " ('Ozzy Osbourne', 'Blizzard of Ozz'),\n",
       " ('Ozzy Osbourne', 'Diary of a Madman (Remastered)'),\n",
       " ('Ozzy Osbourne', 'No More Tears (Remastered)'),\n",
       " ('Ozzy Osbourne', 'Tribute'),\n",
       " ('Page & Plant', 'Walking Into Clarksdale'),\n",
       " ('Passengers', 'Original Soundtracks 1'),\n",
       " (\"Paul D'Ianno\", 'The Beast Live'),\n",
       " ('Pearl Jam', 'Live On Two Legs [Live]'),\n",
       " ('Pearl Jam', 'Pearl Jam'),\n",
       " ('Pearl Jam', 'Riot Act'),\n",
       " ('Pearl Jam', 'Ten'),\n",
       " ('Pearl Jam', 'Vs.'),\n",
       " ('Pink Floyd', 'Dark Side Of The Moon'),\n",
       " ('Planet Hemp', 'Os Cães Ladram Mas A Caravana Não Pára'),\n",
       " ('Queen', 'Greatest Hits I'),\n",
       " ('Queen', 'News Of The World'),\n",
       " ('R.E.M. Feat. Kate Pearson', 'Out Of Time'),\n",
       " ('R.E.M.', 'Green'),\n",
       " ('R.E.M.', 'New Adventures In Hi-Fi'),\n",
       " ('R.E.M.', 'The Best Of R.E.M.: The IRS Years'),\n",
       " ('Raimundos', 'Cesta Básica'),\n",
       " ('Raul Seixas', 'Raul Seixas'),\n",
       " ('Red Hot Chili Peppers', 'Blood Sugar Sex Magik'),\n",
       " ('Red Hot Chili Peppers', 'By The Way'),\n",
       " ('Red Hot Chili Peppers', 'Californication'),\n",
       " ('Rush', 'Retrospective I (1974-1980)'),\n",
       " ('Santana', 'Santana - As Years Go By'),\n",
       " ('Santana', 'Santana Live'),\n",
       " ('Skank', 'Maquinarama'),\n",
       " ('Skank', 'O Samba Poconé'),\n",
       " ('Smashing Pumpkins', 'Judas 0: B-Sides and Rarities'),\n",
       " ('Smashing Pumpkins', 'Rotten Apples: Greatest Hits'),\n",
       " ('Soundgarden', 'A-Sides'),\n",
       " ('Spyro Gyra', 'Morning Dance'),\n",
       " ('Stevie Ray Vaughan & Double Trouble', 'In Step'),\n",
       " ('Stone Temple Pilots', 'Core'),\n",
       " ('System Of A Down', 'Mezmerize'),\n",
       " ('Terry Bozzio, Tony Levin & Steve Stevens', '[1997] Black Light Syndrome'),\n",
       " ('The Black Crowes', 'Live [Disc 1]'),\n",
       " ('The Black Crowes', 'Live [Disc 2]'),\n",
       " ('The Clash', 'The Singles'),\n",
       " ('The Cult', 'Beyond Good And Evil'),\n",
       " ('The Cult',\n",
       "  'Pure Cult: The Best Of The Cult (For Rockers, Ravers, Lovers & Sinners) [UK]'),\n",
       " ('The Doors', 'The Doors'),\n",
       " ('The Police', 'The Police Greatest Hits'),\n",
       " ('The Rolling Stones', 'Hot Rocks, 1964-1971 (Disc 1)'),\n",
       " ('The Rolling Stones', 'No Security'),\n",
       " ('The Rolling Stones', 'Voodoo Lounge'),\n",
       " ('The Tea Party', 'Tangents'),\n",
       " ('The Tea Party', 'Transmission'),\n",
       " ('The Who', 'My Generation - The Very Best Of The Who'),\n",
       " ('Tim Maia', 'Serie Sem Limite (Disc 1)'),\n",
       " ('Tim Maia', 'Serie Sem Limite (Disc 2)'),\n",
       " ('Titãs', 'Acústico'),\n",
       " ('Titãs', 'Volume Dois'),\n",
       " ('Battlestar Galactica', 'Battlestar Galactica: The Story So Far'),\n",
       " ('Battlestar Galactica', 'Battlestar Galactica, Season 3'),\n",
       " ('Heroes', 'Heroes, Season 1'),\n",
       " ('Lost', 'Lost, Season 3'),\n",
       " ('Lost', 'Lost, Season 1'),\n",
       " ('Lost', 'Lost, Season 2'),\n",
       " ('U2', 'Achtung Baby'),\n",
       " ('U2', \"All That You Can't Leave Behind\"),\n",
       " ('U2', 'B-Sides 1980-1990'),\n",
       " ('U2', 'How To Dismantle An Atomic Bomb'),\n",
       " ('U2', 'Pop'),\n",
       " ('U2', 'Rattle And Hum'),\n",
       " ('U2', 'The Best Of 1980-1990'),\n",
       " ('U2', 'War'),\n",
       " ('U2', 'Zooropa'),\n",
       " ('UB40', 'UB40 The Best Of - Volume Two [UK]'),\n",
       " ('Van Halen', 'Diver Down'),\n",
       " ('Van Halen', 'The Best Of Van Halen, Vol. I'),\n",
       " ('Van Halen', 'Van Halen'),\n",
       " ('Van Halen', 'Van Halen III'),\n",
       " ('Velvet Revolver', 'Contraband'),\n",
       " ('Vinícius De Moraes', 'Vinicius De Moraes'),\n",
       " ('Zeca Pagodinho', 'Ao Vivo [IMPORT]'),\n",
       " ('The Office', 'The Office, Season 1'),\n",
       " ('The Office', 'The Office, Season 2'),\n",
       " ('The Office', 'The Office, Season 3'),\n",
       " ('Dread Zeppelin', 'Un-Led-Ed'),\n",
       " ('Battlestar Galactica (Classic)',\n",
       "  'Battlestar Galactica (Classic), Season 1'),\n",
       " ('Aquaman', 'Aquaman'),\n",
       " ('U2', 'Instant Karma: The Amnesty International Campaign to Save Darfur'),\n",
       " ('Ozzy Osbourne', 'Speak of the Devil'),\n",
       " ('Scorpions',\n",
       "  '20th Century Masters - The Millennium Collection: The Best of Scorpions'),\n",
       " ('House Of Pain', 'House of Pain'),\n",
       " ('O Rappa',\n",
       "  'Radio Brasil (O Som da Jovem Vanguarda) - Seleccao de Henrique Amaro'),\n",
       " ('Cake', 'Cake: B-Sides and Rarities'),\n",
       " ('Lost', 'LOST, Season 4'),\n",
       " ('Aisha Duo', 'Quiet Songs'),\n",
       " ('Habib Koité and Bamada', 'Muso Ko'),\n",
       " ('Karsh Kale', 'Realize'),\n",
       " ('The Posies', 'Every Kind of Light'),\n",
       " ('Luciana Souza/Romero Lubambo', 'Duos II'),\n",
       " ('Aaron Goldberg', 'Worlds'),\n",
       " ('Nicolaus Esterhazy Sinfonia', 'The Best of Beethoven'),\n",
       " ('Temple of the Dog', 'Temple of the Dog'),\n",
       " ('Chris Cornell', 'Carry On'),\n",
       " ('Audioslave', 'Revelations'),\n",
       " ('Alberto Turco & Nova Schola Gregoriana',\n",
       "  'Adorate Deum: Gregorian Chant from the Proper of the Mass'),\n",
       " ('Richard Marlow & The Choir of Trinity College, Cambridge',\n",
       "  'Allegri: Miserere'),\n",
       " ('English Concert & Trevor Pinnock', 'Pachelbel: Canon & Gigue'),\n",
       " ('Anne-Sophie Mutter, Herbert Von Karajan & Wiener Philharmoniker',\n",
       "  'Vivaldi: The Four Seasons'),\n",
       " ('Hilary Hahn, Jeffrey Kahane, Los Angeles Chamber Orchestra & Margaret Batjer',\n",
       "  'Bach: Violin Concertos'),\n",
       " ('Wilhelm Kempff', 'Bach: Goldberg Variations'),\n",
       " ('Yo-Yo Ma', 'Bach: The Cello Suites'),\n",
       " ('Scholars Baroque Ensemble', 'Handel: The Messiah (Highlights)'),\n",
       " ('Academy of St. Martin in the Fields & Sir Neville Marriner',\n",
       "  'The World of Classical Favourites'),\n",
       " ('Academy of St. Martin in the Fields Chamber Ensemble & Sir Neville Marriner',\n",
       "  'Sir Neville Marriner: A Celebration'),\n",
       " ('Berliner Philharmoniker, Claudio Abbado & Sabine Meyer',\n",
       "  'Mozart: Wind Concertos'),\n",
       " ('Royal Philharmonic Orchestra & Sir Thomas Beecham',\n",
       "  'Haydn: Symphonies 99 - 104'),\n",
       " ('Orchestre Révolutionnaire et Romantique & John Eliot Gardiner',\n",
       "  'Beethoven: Symhonies Nos. 5 & 6'),\n",
       " ('Britten Sinfonia, Ivor Bolton & Lesley Garrett', 'A Soprano Inspired'),\n",
       " ('Chicago Symphony Chorus, Chicago Symphony Orchestra & Sir Georg Solti',\n",
       "  'Great Opera Choruses'),\n",
       " ('Sir Georg Solti & Wiener Philharmoniker', 'Wagner: Favourite Overtures'),\n",
       " ('Academy of St. Martin in the Fields, John Birch, Sir Neville Marriner & Sylvia McNair',\n",
       "  'Fauré: Requiem, Ravel: Pavane & Others'),\n",
       " ('London Symphony Orchestra & Sir Charles Mackerras',\n",
       "  'Tchaikovsky: The Nutcracker'),\n",
       " ('Barry Wordsworth & BBC Concert Orchestra', 'The Last Night of the Proms'),\n",
       " ('Herbert Von Karajan, Mirella Freni & Wiener Philharmoniker',\n",
       "  'Puccini: Madama Butterfly - Highlights'),\n",
       " ('Eugene Ormandy',\n",
       "  'Holst: The Planets, Op. 32 & Vaughan Williams: Fantasies'),\n",
       " ('Luciano Pavarotti', \"Pavarotti's Opera Made Easy\"),\n",
       " ('Leonard Bernstein & New York Philharmonic',\n",
       "  \"Great Performances - Barber's Adagio and Other Romantic Favorites for Strings\"),\n",
       " ('Boston Symphony Orchestra & Seiji Ozawa', 'Carmina Burana'),\n",
       " ('Aaron Copland & London Symphony Orchestra',\n",
       "  'A Copland Celebration, Vol. I'),\n",
       " ('Ton Koopman', 'Bach: Toccata & Fugue in D Minor'),\n",
       " ('Sergei Prokofiev & Yuri Temirkanov', 'Prokofiev: Symphony No.1'),\n",
       " ('Chicago Symphony Orchestra & Fritz Reiner', 'Scheherazade'),\n",
       " ('Orchestra of The Age of Enlightenment', 'Bach: The Brandenburg Concertos'),\n",
       " ('Emanuel Ax, Eugene Ormandy & Philadelphia Orchestra',\n",
       "  'Chopin: Piano Concertos Nos. 1 & 2'),\n",
       " ('James Levine', 'Mascagni: Cavalleria Rusticana'),\n",
       " ('Berliner Philharmoniker & Hans Rosbaud', 'Sibelius: Finlandia'),\n",
       " ('Maurizio Pollini', 'Beethoven Piano Sonatas: Moonlight & Pastorale'),\n",
       " ('Gustav Mahler',\n",
       "  'Great Recordings of the Century - Mahler: Das Lied von der Erde'),\n",
       " ('Felix Schmidt, London Symphony Orchestra & Rafael Frühbeck de Burgos',\n",
       "  'Elgar: Cello Concerto & Vaughan Williams: Fantasias'),\n",
       " ('Edo de Waart & San Francisco Symphony', 'Adams, John: The Chairman Dances'),\n",
       " ('Antal Doráti & London Symphony Orchestra',\n",
       "  \"Tchaikovsky: 1812 Festival Overture, Op.49, Capriccio Italien & Beethoven: Wellington's Victory\"),\n",
       " ('Choir Of Westminster Abbey & Simon Preston',\n",
       "  'Palestrina: Missa Papae Marcelli & Allegri: Miserere'),\n",
       " ('Michael Tilson Thomas & San Francisco Symphony',\n",
       "  'Prokofiev: Romeo & Juliet'),\n",
       " ('Eugene Ormandy', 'Strauss: Waltzes'),\n",
       " ('Michael Tilson Thomas & San Francisco Symphony',\n",
       "  'Berlioz: Symphonie Fantastique'),\n",
       " ('Chor der Wiener Staatsoper, Herbert Von Karajan & Wiener Philharmoniker',\n",
       "  'Bizet: Carmen Highlights'),\n",
       " (\"The King's Singers\", 'English Renaissance'),\n",
       " ('English Concert & Trevor Pinnock',\n",
       "  'Handel: Music for the Royal Fireworks (Original Version 1749)'),\n",
       " ('Berliner Philharmoniker & Herbert Von Karajan',\n",
       "  'Grieg: Peer Gynt Suites & Sibelius: Pelléas et Mélisande'),\n",
       " ('Sir Georg Solti, Sumi Jo & Wiener Philharmoniker',\n",
       "  'Mozart Gala: Famous Arias'),\n",
       " (\"Christopher O'Riley\", 'SCRIABIN: Vers la flamme'),\n",
       " ('Fretwork', 'Armada: Music from the Courts of England and Spain'),\n",
       " ('Berliner Philharmoniker & Herbert Von Karajan',\n",
       "  'Mozart: Symphonies Nos. 40 & 41'),\n",
       " ('Amy Winehouse', 'Back to Black'),\n",
       " ('Amy Winehouse', 'Frank'),\n",
       " ('Calexico', 'Carried to Dust (Bonus Track Version)'),\n",
       " ('Otto Klemperer & Philharmonia Orchestra',\n",
       "  \"Beethoven: Symphony No. 6 'Pastoral' Etc.\"),\n",
       " ('Yehudi Menuhin', 'Bartok: Violin & Viola Concertos'),\n",
       " ('Philharmonia Orchestra & Sir Neville Marriner',\n",
       "  \"Mendelssohn: A Midsummer Night's Dream\"),\n",
       " ('Academy of St. Martin in the Fields, Sir Neville Marriner & Thurston Dart',\n",
       "  'Bach: Orchestral Suites Nos. 1 - 4'),\n",
       " ('Les Arts Florissants & William Christie',\n",
       "  'Charpentier: Divertissements, Airs & Concerts'),\n",
       " ('The 12 Cellists of The Berlin Philharmonic', 'South American Getaway'),\n",
       " ('Adrian Leaper & Doreen de Feis', 'Górecki: Symphony No. 3'),\n",
       " ('Roger Norrington, London Classical Players', 'Purcell: The Fairy Queen'),\n",
       " (\"Charles Dutoit & L'Orchestre Symphonique de Montréal\",\n",
       "  'The Ultimate Relexation Album'),\n",
       " ('Equale Brass Ensemble, John Eliot Gardiner & Munich Monteverdi Orchestra and Choir',\n",
       "  'Purcell: Music for the Queen Mary'),\n",
       " (\"Kent Nagano and Orchestre de l'Opéra de Lyon\",\n",
       "  'Weill: The Seven Deadly Sins'),\n",
       " ('Julian Bream',\n",
       "  'J.S. Bach: Chaconne, Suite in E Minor, Partita in E Major & Prelude, Fugue and Allegro'),\n",
       " ('Berliner Philharmoniker & Herbert Von Karajan',\n",
       "  'Prokofiev: Symphony No.5 & Stravinksy: Le Sacre Du Printemps'),\n",
       " ('Martin Roscoe', 'Szymanowski: Piano Works, Vol. 1'),\n",
       " ('Göteborgs Symfoniker & Neeme Järvi', 'Nielsen: The Six Symphonies'),\n",
       " ('Itzhak Perlman', \"Great Recordings of the Century: Paganini's 24 Caprices\"),\n",
       " ('Michele Campanella', \"Liszt - 12 Études D'Execution Transcendante\"),\n",
       " ('Gerald Moore',\n",
       "  'Great Recordings of the Century - Shubert: Schwanengesang, 4 Lieder'),\n",
       " ('Mela Tenenbaum, Pro Musica Prague & Richard Kapp',\n",
       "  'Locatelli: Concertos for Violin, Strings and Continuo, Vol. 3'),\n",
       " ('Eugene Ormandy', 'Respighi:Pines of Rome'),\n",
       " ('Emerson String Quartet',\n",
       "  \"Schubert: The Late String Quartets & String Quintet (3 CD's)\"),\n",
       " ('C. Monteverdi, Nigel Rogers - Chiaroscuro; London Baroque; London Cornett & Sackbu',\n",
       "  \"Monteverdi: L'Orfeo\"),\n",
       " ('Nash Ensemble', 'Mozart: Chamber Music'),\n",
       " ('Philip Glass Ensemble',\n",
       "  'Koyaanisqatsi (Soundtrack from the Motion Picture)')]"
      ]
     },
     "execution_count": 33,
     "metadata": {},
     "output_type": "execute_result"
    }
   ],
   "source": [
    "artist_album = cursor.fetchall()\n",
    "artist_album"
   ]
  },
  {
   "cell_type": "markdown",
   "id": "e73d3ad4",
   "metadata": {},
   "source": [
    "### Printing all available tables"
   ]
  },
  {
   "cell_type": "code",
   "execution_count": 34,
   "id": "a0ef7db1",
   "metadata": {},
   "outputs": [
    {
     "data": {
      "text/plain": [
       "[('Customer',),\n",
       " ('Employee',),\n",
       " ('Invoice',),\n",
       " ('InvoiceLine',),\n",
       " ('MediaType',),\n",
       " ('Track',),\n",
       " ('PlaylistTrack',),\n",
       " ('Playlist',),\n",
       " ('Genre',),\n",
       " ('Album',),\n",
       " ('Artist',)]"
      ]
     },
     "execution_count": 34,
     "metadata": {},
     "output_type": "execute_result"
    }
   ],
   "source": [
    "cursor.execute(\"SELECT name FROM sqlite_master WHERE type='table';\")\n",
    "tables = cursor.fetchall()\n",
    "tables"
   ]
  },
  {
   "cell_type": "code",
   "execution_count": null,
   "id": "80cadf21",
   "metadata": {},
   "outputs": [],
   "source": [
    "# Close the connection\n",
    "conn.close()"
   ]
  },
  {
   "cell_type": "markdown",
   "id": "cec42294",
   "metadata": {},
   "source": [
    "The `sqlite_master` table in SQLite contains information about all the tables, indexes, triggers, and views in the database. Here are the columns available in the `sqlite_master` table:\n",
    "\n",
    "- **type**: The type of database object, which can be one of 'table', 'index', 'trigger', or 'view'.\n",
    "- **name**: The name of the database object.\n",
    "- **tbl_name**: The name of the table associated with the object (for indexes, triggers, and views).\n",
    "- **rootpage**: The page number of the root b-tree page for tables and indexes.\n",
    "- **sql**: The SQL statement that was used to create the object.\n"
   ]
  },
  {
   "cell_type": "markdown",
   "id": "23ae5736",
   "metadata": {},
   "source": [
    "# Creating a Database"
   ]
  },
  {
   "cell_type": "code",
   "execution_count": 12,
   "id": "8e92b837",
   "metadata": {},
   "outputs": [],
   "source": [
    "# Connect to SQLite database (or create it if it doesn't exist)\n",
    "conn = sqlite3.connect('example.db')\n",
    "\n",
    "# Create a cursor object to interact with the database\n",
    "cursor = conn.cursor()"
   ]
  },
  {
   "cell_type": "markdown",
   "id": "358eb0c3",
   "metadata": {},
   "source": [
    "\n",
    "## Creating a Table\n",
    "\n",
    "Tables store data in a structured format with rows and columns. Below, we create a simple `users` table.\n"
   ]
  },
  {
   "cell_type": "code",
   "execution_count": 13,
   "id": "a7bad7ee",
   "metadata": {},
   "outputs": [],
   "source": [
    "# Create a table named 'users'\n",
    "cursor.execute('''\n",
    "CREATE TABLE IF NOT EXISTS users (\n",
    "    id INTEGER PRIMARY KEY AUTOINCREMENT,\n",
    "    name TEXT NOT NULL,\n",
    "    age INTEGER,\n",
    "    email TEXT UNIQUE\n",
    ")\n",
    "''')\n",
    "\n",
    "# Commit the changes\n",
    "conn.commit()"
   ]
  },
  {
   "cell_type": "markdown",
   "id": "f3a6735b",
   "metadata": {
    "vscode": {
     "languageId": "markdown"
    }
   },
   "source": [
    "In SQLite3, you only need to call `conn.commit()` after executing queries that modify the database. This ensures that the changes you made are permanently saved. Below are the common types of queries that require a commit:\n",
    "\n",
    "- **INSERT Statements:** Adding new records.\n",
    "- **UPDATE Statements:** Modifying existing records.\n",
    "- **DELETE Statements:** Removing records.\n",
    "- **DDL (Data Definition Language) Statements:** These include operations such as:\n",
    "  - `CREATE TABLE`\n",
    "  - `DROP TABLE`\n",
    "  - `ALTER TABLE`\n",
    "\n",
    "For queries that only retrieve data (like **SELECT** statements), calling `conn.commit()` is not necessary because they do not alter the state of the database.\n"
   ]
  },
  {
   "cell_type": "markdown",
   "id": "41245dc1",
   "metadata": {},
   "source": [
    "\n",
    "## Inserting Data\n",
    "\n",
    "We can use the `INSERT INTO` statement to add records to the table.\n"
   ]
  },
  {
   "cell_type": "code",
   "execution_count": null,
   "id": "f65d3144",
   "metadata": {},
   "outputs": [],
   "source": [
    "# Insert data into the users table\n",
    "\n",
    "try:\n",
    "    cursor.execute(\"INSERT INTO users (name, age, email) VALUES ('Alice', 25, 'alice@example.com')\")\n",
    "except sqlite3.IntegrityError as e:\n",
    "    print('Error inserting data:', e)\n",
    "\n",
    "try:\n",
    "    cursor.execute(\"INSERT INTO users (name, age, email) VALUES ('Bob', 30, 'bob@example.com')\")\n",
    "except sqlite3.IntegrityError as e:\n",
    "    print('Error inserting data:', e)\n",
    "\n",
    "# Commit changes\n",
    "conn.commit()\n"
   ]
  },
  {
   "cell_type": "markdown",
   "id": "2ba7bba5",
   "metadata": {},
   "source": [
    "### Incerting multiple lines at a time using `executemany`."
   ]
  },
  {
   "cell_type": "code",
   "execution_count": null,
   "id": "eeeb91a7",
   "metadata": {},
   "outputs": [],
   "source": [
    "# Data to be inserted\n",
    "users = [\n",
    "    ('Charlie', 28, 'charlie@example.com'),\n",
    "    ('David', 35, 'david@example.com'),\n",
    "    ('Eve', 22, 'eve@example.com')\n",
    "]\n",
    "\n",
    "# Insert multiple rows using executemany\n",
    "try:\n",
    "    cursor.executemany(\"INSERT INTO users (name, age, email) VALUES (?, ?, ?)\", users)\n",
    "except sqlite3.IntegrityError as e:\n",
    "    print('Error inserting data:', e)\n",
    "\n",
    "# Commit changes\n",
    "conn.commit()"
   ]
  },
  {
   "cell_type": "markdown",
   "id": "c70288f2",
   "metadata": {},
   "source": [
    "Note the usage of ? as placeholders. The tuple of ?'s must match the number of columns."
   ]
  },
  {
   "cell_type": "code",
   "execution_count": null,
   "id": "b6f11f57",
   "metadata": {},
   "outputs": [],
   "source": [
    "cursor.execute(\"SELECT * FROM users\")\n",
    "cursor.fetchall()"
   ]
  },
  {
   "cell_type": "markdown",
   "id": "fb41c553",
   "metadata": {},
   "source": [
    "\n",
    "## Updating Data\n",
    "\n",
    "To update existing records, we use the `UPDATE` statement.\n"
   ]
  },
  {
   "cell_type": "code",
   "execution_count": 17,
   "id": "90c7199a",
   "metadata": {},
   "outputs": [],
   "source": [
    "# Update a user's age\n",
    "cursor.execute(\"UPDATE users SET age = 26 WHERE email = 'alice@example.com'\")\n",
    "\n",
    "# Commit changes\n",
    "conn.commit()"
   ]
  },
  {
   "cell_type": "code",
   "execution_count": null,
   "id": "5a063d10",
   "metadata": {},
   "outputs": [],
   "source": [
    "cursor.execute(\"SELECT * FROM users\")\n",
    "cursor.fetchall()"
   ]
  },
  {
   "cell_type": "markdown",
   "id": "28422e5d",
   "metadata": {},
   "source": [
    "\n",
    "## Deleting Data\n",
    "\n",
    "To remove records, we use the `DELETE` statement.\n"
   ]
  },
  {
   "cell_type": "code",
   "execution_count": 19,
   "id": "c24b0fce",
   "metadata": {},
   "outputs": [],
   "source": [
    "# Delete a user\n",
    "cursor.execute(\"DELETE FROM users WHERE name = 'Bob'\")\n",
    "\n",
    "# Commit changes\n",
    "conn.commit()"
   ]
  },
  {
   "cell_type": "markdown",
   "id": "29923e70",
   "metadata": {},
   "source": [
    "\n",
    "## Closing the Connection\n",
    "\n",
    "Always close the database connection when you're done to free up resources.\n"
   ]
  },
  {
   "cell_type": "code",
   "execution_count": null,
   "id": "a1c49642",
   "metadata": {},
   "outputs": [],
   "source": [
    "# Close the connection\n",
    "conn.close()"
   ]
  },
  {
   "cell_type": "markdown",
   "id": "c260506d",
   "metadata": {},
   "source": [
    "## Pandas and SQLite"
   ]
  },
  {
   "cell_type": "code",
   "execution_count": 21,
   "id": "5904fe8a",
   "metadata": {},
   "outputs": [],
   "source": [
    "conn = sqlite3.connect('sales.db')"
   ]
  },
  {
   "cell_type": "code",
   "execution_count": null,
   "id": "c290aa62",
   "metadata": {},
   "outputs": [],
   "source": [
    "cursor.execute(\"SELECT name FROM sqlite_master WHERE type='table';\")\n",
    "tables = cursor.fetchall()\n",
    "tables"
   ]
  },
  {
   "cell_type": "code",
   "execution_count": null,
   "id": "8662cbf2",
   "metadata": {},
   "outputs": [],
   "source": [
    "# Read the users table into a Pandas DataFrame\n",
    "df = pd.read_sql_query(\"SELECT * FROM Artist\", conn)\n",
    "df.head()\n"
   ]
  },
  {
   "cell_type": "code",
   "execution_count": 24,
   "id": "cedc0f1b",
   "metadata": {},
   "outputs": [],
   "source": [
    "query = \"SELECT * FROM InvoiceLine\""
   ]
  },
  {
   "cell_type": "code",
   "execution_count": null,
   "id": "a2498506",
   "metadata": {},
   "outputs": [],
   "source": [
    "# Execute the query\n",
    "result = pd.read_sql_query(query, conn)\n",
    "\n",
    "# Display the result\n",
    "result.head()"
   ]
  },
  {
   "cell_type": "code",
   "execution_count": 26,
   "id": "5ac37549",
   "metadata": {},
   "outputs": [],
   "source": [
    "query = \"\"\"\n",
    "SELECT InvoiceID, Track.Name AS NAME, SUM(Quantity) as TotalSold\n",
    "FROM InvoiceLine\n",
    "JOIN Track ON InvoiceLine.TrackID = Track.TrackID\n",
    "GROUP BY Track.Name\n",
    "HAVING SUM(Quantity) > 2\n",
    "ORDER BY TotalSold DESC;\n",
    "\"\"\""
   ]
  },
  {
   "cell_type": "code",
   "execution_count": null,
   "id": "506854d7",
   "metadata": {},
   "outputs": [],
   "source": [
    "pd.read_sql_query(query, conn)"
   ]
  },
  {
   "cell_type": "markdown",
   "id": "30cfd15f",
   "metadata": {},
   "source": [
    "# Now it's your turn!"
   ]
  },
  {
   "cell_type": "markdown",
   "id": "8eec43b1",
   "metadata": {
    "vscode": {
     "languageId": "markdown"
    }
   },
   "source": [
    "Below are the questions designed to explore and analyze the data in the `sales.db` database:\n",
    "\n",
    "1. **How many records are there in the `Invoice` table?**\n",
    "\n",
    "2. **What are the names of all the artists in the `Artist` table?**\n",
    "\n",
    "3. **What is the total revenue generated from all invoices?**\n",
    "\n",
    "4. **Which customer has made the most purchases?**\n",
    "\n",
    "5. **What are the top 5 most sold tracks?**\n",
    "\n",
    "6. **What is the average unit price of tracks sold?**\n",
    "\n",
    "7. **How many customers are there in each country?**\n",
    "\n",
    "8. **Which employee has generated the most revenue from their sales?**\n",
    "\n",
    "9. **What are the top 3 genres by the number of tracks?**\n"
   ]
  },
  {
   "cell_type": "markdown",
   "id": "8a944d21",
   "metadata": {
    "vscode": {
     "languageId": "markdown"
    }
   },
   "source": [
    "### Answer Below:"
   ]
  }
 ],
 "metadata": {
  "kernelspec": {
   "display_name": "Python 3",
   "language": "python",
   "name": "python3"
  },
  "language_info": {
   "codemirror_mode": {
    "name": "ipython",
    "version": 3
   },
   "file_extension": ".py",
   "mimetype": "text/x-python",
   "name": "python",
   "nbconvert_exporter": "python",
   "pygments_lexer": "ipython3",
   "version": "3.13.1"
  }
 },
 "nbformat": 4,
 "nbformat_minor": 5
}

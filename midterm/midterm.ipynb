{
 "cells": [
  {
   "cell_type": "code",
   "execution_count": 6,
   "metadata": {},
   "outputs": [
    {
     "data": {
      "text/html": [
       "<div>\n",
       "<style scoped>\n",
       "    .dataframe tbody tr th:only-of-type {\n",
       "        vertical-align: middle;\n",
       "    }\n",
       "\n",
       "    .dataframe tbody tr th {\n",
       "        vertical-align: top;\n",
       "    }\n",
       "\n",
       "    .dataframe thead th {\n",
       "        text-align: right;\n",
       "    }\n",
       "</style>\n",
       "<table border=\"1\" class=\"dataframe\">\n",
       "  <thead>\n",
       "    <tr style=\"text-align: right;\">\n",
       "      <th></th>\n",
       "      <th>temperature</th>\n",
       "      <th>luminosity</th>\n",
       "      <th>radius</th>\n",
       "      <th>absolute_magnitude</th>\n",
       "      <th>star_color</th>\n",
       "      <th>spectral_class</th>\n",
       "      <th>star_type</th>\n",
       "    </tr>\n",
       "  </thead>\n",
       "  <tbody>\n",
       "    <tr>\n",
       "      <th>0</th>\n",
       "      <td>3068</td>\n",
       "      <td>0.002400</td>\n",
       "      <td>0.1700</td>\n",
       "      <td>16.12</td>\n",
       "      <td>Red</td>\n",
       "      <td>M</td>\n",
       "      <td>Brown Dwarf</td>\n",
       "    </tr>\n",
       "    <tr>\n",
       "      <th>1</th>\n",
       "      <td>3042</td>\n",
       "      <td>0.000500</td>\n",
       "      <td>0.1542</td>\n",
       "      <td>16.60</td>\n",
       "      <td>Red</td>\n",
       "      <td>M</td>\n",
       "      <td>Brown Dwarf</td>\n",
       "    </tr>\n",
       "    <tr>\n",
       "      <th>2</th>\n",
       "      <td>2600</td>\n",
       "      <td>0.000300</td>\n",
       "      <td>0.1020</td>\n",
       "      <td>18.70</td>\n",
       "      <td>Red</td>\n",
       "      <td>M</td>\n",
       "      <td>Brown Dwarf</td>\n",
       "    </tr>\n",
       "    <tr>\n",
       "      <th>3</th>\n",
       "      <td>2800</td>\n",
       "      <td>0.000200</td>\n",
       "      <td>0.1600</td>\n",
       "      <td>16.65</td>\n",
       "      <td>Red</td>\n",
       "      <td>M</td>\n",
       "      <td>Brown Dwarf</td>\n",
       "    </tr>\n",
       "    <tr>\n",
       "      <th>4</th>\n",
       "      <td>1939</td>\n",
       "      <td>0.000138</td>\n",
       "      <td>0.1030</td>\n",
       "      <td>20.06</td>\n",
       "      <td>Red</td>\n",
       "      <td>M</td>\n",
       "      <td>Brown Dwarf</td>\n",
       "    </tr>\n",
       "    <tr>\n",
       "      <th>...</th>\n",
       "      <td>...</td>\n",
       "      <td>...</td>\n",
       "      <td>...</td>\n",
       "      <td>...</td>\n",
       "      <td>...</td>\n",
       "      <td>...</td>\n",
       "      <td>...</td>\n",
       "    </tr>\n",
       "    <tr>\n",
       "      <th>235</th>\n",
       "      <td>38940</td>\n",
       "      <td>374830.000000</td>\n",
       "      <td>1356.0000</td>\n",
       "      <td>-9.93</td>\n",
       "      <td>Blue</td>\n",
       "      <td>O</td>\n",
       "      <td>Hyper Giant</td>\n",
       "    </tr>\n",
       "    <tr>\n",
       "      <th>236</th>\n",
       "      <td>30839</td>\n",
       "      <td>834042.000000</td>\n",
       "      <td>1194.0000</td>\n",
       "      <td>-10.63</td>\n",
       "      <td>Blue</td>\n",
       "      <td>O</td>\n",
       "      <td>Hyper Giant</td>\n",
       "    </tr>\n",
       "    <tr>\n",
       "      <th>237</th>\n",
       "      <td>8829</td>\n",
       "      <td>537493.000000</td>\n",
       "      <td>1423.0000</td>\n",
       "      <td>-10.73</td>\n",
       "      <td>White</td>\n",
       "      <td>A</td>\n",
       "      <td>Hyper Giant</td>\n",
       "    </tr>\n",
       "    <tr>\n",
       "      <th>238</th>\n",
       "      <td>9235</td>\n",
       "      <td>404940.000000</td>\n",
       "      <td>1112.0000</td>\n",
       "      <td>-11.23</td>\n",
       "      <td>White</td>\n",
       "      <td>A</td>\n",
       "      <td>Hyper Giant</td>\n",
       "    </tr>\n",
       "    <tr>\n",
       "      <th>239</th>\n",
       "      <td>37882</td>\n",
       "      <td>294903.000000</td>\n",
       "      <td>1783.0000</td>\n",
       "      <td>-7.80</td>\n",
       "      <td>Blue</td>\n",
       "      <td>O</td>\n",
       "      <td>Hyper Giant</td>\n",
       "    </tr>\n",
       "  </tbody>\n",
       "</table>\n",
       "<p>240 rows × 7 columns</p>\n",
       "</div>"
      ],
      "text/plain": [
       "     temperature     luminosity     radius  absolute_magnitude star_color  \\\n",
       "0           3068       0.002400     0.1700               16.12        Red   \n",
       "1           3042       0.000500     0.1542               16.60        Red   \n",
       "2           2600       0.000300     0.1020               18.70        Red   \n",
       "3           2800       0.000200     0.1600               16.65        Red   \n",
       "4           1939       0.000138     0.1030               20.06        Red   \n",
       "..           ...            ...        ...                 ...        ...   \n",
       "235        38940  374830.000000  1356.0000               -9.93       Blue   \n",
       "236        30839  834042.000000  1194.0000              -10.63       Blue   \n",
       "237         8829  537493.000000  1423.0000              -10.73      White   \n",
       "238         9235  404940.000000  1112.0000              -11.23      White   \n",
       "239        37882  294903.000000  1783.0000               -7.80       Blue   \n",
       "\n",
       "    spectral_class    star_type  \n",
       "0                M  Brown Dwarf  \n",
       "1                M  Brown Dwarf  \n",
       "2                M  Brown Dwarf  \n",
       "3                M  Brown Dwarf  \n",
       "4                M  Brown Dwarf  \n",
       "..             ...          ...  \n",
       "235              O  Hyper Giant  \n",
       "236              O  Hyper Giant  \n",
       "237              A  Hyper Giant  \n",
       "238              A  Hyper Giant  \n",
       "239              O  Hyper Giant  \n",
       "\n",
       "[240 rows x 7 columns]"
      ]
     },
     "execution_count": 6,
     "metadata": {},
     "output_type": "execute_result"
    }
   ],
   "source": [
    "import pandas as pd\n",
    "import numpy as np\n",
    "\n",
    "stars = pd.read_csv('star_stats.csv')\n",
    "stars"
   ]
  },
  {
   "cell_type": "code",
   "execution_count": 7,
   "metadata": {},
   "outputs": [
    {
     "data": {
      "text/plain": [
       "star_type\n",
       "Brown Dwarf      40\n",
       "Red Dwarf        40\n",
       "White Dwarf      40\n",
       "Main Sequence    40\n",
       "Super Giant      40\n",
       "Hyper Giant      40\n",
       "Name: count, dtype: int64"
      ]
     },
     "execution_count": 7,
     "metadata": {},
     "output_type": "execute_result"
    }
   ],
   "source": [
    "stars['star_type'].value_counts()"
   ]
  },
  {
   "cell_type": "code",
   "execution_count": null,
   "metadata": {},
   "outputs": [
    {
     "data": {
      "image/png": "[encoded data removed]",
      "text/plain": [
       "<Figure size 640x480 with 1 Axes>"
      ]
     },
     "metadata": {},
     "output_type": "display_data"
    }
   ],
   "source": [
    "import seaborn as sns\n",
    "import matplotlib.pyplot as plt\n",
    "%matplotlib inline\n",
    "\n",
    "sns.scatterplot(x='temperature', y='luminosity', data=stars, hue='star_type')\n",
    "\n",
    "plt.xscale(\"log\")\n",
    "plt.yscale(\"log\")"
   ]
  },
  {
   "cell_type": "code",
   "execution_count": 61,
   "metadata": {},
   "outputs": [
    {
     "data": {
      "application/vnd.plotly.v1+json": {
       "config": {
        "plotlyServerURL": "https://plot.ly"
       },
       "data": [
        {
         "hovertemplate": "<b>%{hovertext}</b><br><br>star_type=Brown Dwarf<br>temperature=%{x}<br>luminosity=%{y}<extra></extra>",
         "hovertext": [
          "Red",
          "Red",
          "Red",
          "Red",
          "Red",
          "Red",
          "Red",
          "Red",
          "Red",
          "Red",
          "Red",
          "Red",
          "Red",
          "Red",
          "Red",
          "Red",
          "Red",
          "Red",
          "Red",
          "Red",
          "Red",
          "Red",
          "Red",
          "Red",
          "Red",
          "Red",
          "Red",
          "Red",
          "Red",
          "Red",
          "Red",
          "Red",
          "Red",
          "Red",
          "Red",
          "Red",
          "Red",
          "Red",
          "Red",
          "Red"
         ],
         "legendgroup": "Brown Dwarf",
         "marker": {
          "color": "#636efa",
          "symbol": "circle"
         },
         "mode": "markers",
         "name": "Brown Dwarf",
         "orientation": "v",
         "showlegend": true,
         "type": "scatter",
         "x": {
          "bdata": "/AviCygK8AqTBxgLTQooCloKjAoNDWgNpwsTC3cL3wyBCwEL1go3C/sMyw2SDEoMtw2ZDHcLLQsoC6sKDwtiC1sNkgx9DUkLmAucDdoKww0=",
          "dtype": "i2"
         },
         "xaxis": "x",
         "y": {
          "bdata": "YTJVMCqpYz/8qfHSTWJAP2EyVTAqqTM/LUMc6+I2Kj8cJET5ghYiP5T2Bl+YTEU/smMjEK/rRz8tQxzr4jY6PyMtlbcjnEY/D9b/OcyXJz/HuriNBvB2P9wRTgte9EU/aR1VTRB1Lz+An3HhQEg2P9L7xteeWSI/WBzO/GoOUD/xaOOItfg0P1gczvxqDlA/D9b/OcyXNz8P1v85zJdHPwOV8e8zLjw/fnTqymd5Tj+L4H8r2bFBP2EyVTAqqSM/8WjjiLX4RD+eDI6SV+dIP6ciFcYWgkw/ngyOklfnKD+3Xz5ZMVxNP4KOVrWkozw/tVII5BJHLj9ENpAuNq1EP1gczvxqDjA/bTfBN02fPT+gqGxYU1lEP6Im+nyUETc/x5xn7Es2Pj8lyXN9Hw5CP2ms/Z3t0Us/hAzk2eVbTz8=",
          "dtype": "f8"
         },
         "yaxis": "y"
        },
        {
         "hovertemplate": "<b>%{hovertext}</b><br><br>star_type=Red Dwarf<br>temperature=%{x}<br>luminosity=%{y}<extra></extra>",
         "hovertext": [
          "Red",
          "Red",
          "Red",
          "Red",
          "Red",
          "Red",
          "Red",
          "Red",
          "Red",
          "Red",
          "Red",
          "Red",
          "Red",
          "Red",
          "Red",
          "Red",
          "Red",
          "Red",
          "Red",
          "Red",
          "Red",
          "Red",
          "Red",
          "Red",
          "Red",
          "Red",
          "Red",
          "Red",
          "Red",
          "Red",
          "Red",
          "Red",
          "Red",
          "Red",
          "Red",
          "Red",
          "Red",
          "Red",
          "Red",
          "Red"
         ],
         "legendgroup": "Red Dwarf",
         "marker": {
          "color": "#EF553B",
          "symbol": "circle"
         },
         "mode": "markers",
         "name": "Red Dwarf",
         "orientation": "v",
         "showlegend": true,
         "type": "scatter",
         "x": {
          "bdata": "EA45DD4MLA5aCgwN7wpsDngMcQ0RDRcO6AxODN4NbAxKCw4NPQpWDBcMFw4cDK0L1g2rDBMMDg78DNUNhg25DLILjAzDDQ4ORgyoDfwMhw0=",
          "dtype": "i2"
         },
         "xaxis": "x",
         "y": {
          "bdata": "4JwRpb3BZz8H8BZIUPyIPy1DHOviNjo/ukkMAiuHdj9hMlUwKqlDP8WPMXctIW8/kst/SL99XT9xAz4/jBBuP2SSkbOwp20/K4cW2c73oz8bL90kBoGVP7pJDAIrh5Y/nMQgsHJogT8vbqMBvAWCP/yp8dJNYnA//Knx0k1iUD9fB84ZUdprP/p+arx0k1g/YTJVMCqpQz+u2F92Tx5WP54MjpJX5yg/2ubG9IQlLj/8qfHSTWKAP6g1zTtO0YE/kst/SL99TT9IUPwYc9diP4Lix5i7loA/L26jAbwFUj9fB84ZUdprP5T2Bl+YTFU/oWez6nO1dT9hMlUwKqljP5LLf0i/fX0/LUMc6+I2Wj+u2F92Tx52P67YX3ZPHmY/OIQqNXugVT97FK5H4XpUPzm0yHa+n3o/rthfdk8eZj8=",
          "dtype": "f8"
         },
         "yaxis": "y"
        },
        {
         "hovertemplate": "<b>%{hovertext}</b><br><br>star_type=White Dwarf<br>temperature=%{x}<br>luminosity=%{y}<extra></extra>",
         "hovertext": [
          "Blue White",
          "White",
          "White",
          "White",
          "Blue White",
          "Yellowish White",
          "Blue white",
          "Yellowish White",
          "Yellowish White",
          "Pale yellow orange",
          "White-Yellow",
          "White",
          "white",
          "Blue White",
          "Blue White",
          "Blue White",
          "Blue White",
          "Blue White",
          "white",
          "Blue ",
          "Blue White",
          "Blue",
          "Blue",
          "Blue White",
          "Blue white ",
          "Blue white",
          "Blue white",
          "white",
          "White",
          "Blue White",
          "Blue",
          "Blue",
          "Blue",
          "Blue",
          "Blue",
          "Blue",
          "Blue",
          "Blue",
          "Blue",
          "Blue"
         ],
         "legendgroup": "White Dwarf",
         "marker": {
          "color": "#00cc96",
          "symbol": "circle"
         },
         "mode": "markers",
         "name": "White Dwarf",
         "orientation": "v",
         "showlegend": true,
         "type": "scatter",
         "x": {
          "bdata": "qGE8HjQcNCF0QL4yeiEUHg4uPhy8G04p4iIwQxQ3yyXqLuQqmDWUTWw0HFJyR7g4fC7cInAyjDkrHrgylkFAPYY6HDSkR9BN1F00WgBGoEs=",
          "dtype": "i2"
         },
         "xaxis": "x",
         "y": {
          "bdata": "eekmMQisrD9YHM78ag5AP4CfceFASCY//Knx0k1iQD85tMh2vp+KP4CfceFASBY/0NA/wcWKSj9LsDic+dUcP2EyVTAqqSM/8WjjiLX4FD8aFw6EZAEzP9L7xteeWSI/0vvG155ZQj9YHM78ag5QP9wRTgte9EU/kst/SL99PT/lJ9U+HY9JP1bxRuaRP0g/D9b/OcyXJz8vbqMBvAVSP76kMVpHVUM/+n5qvHSTWD+U9gZfmExVP3ReY5eo3ko/3BFOC170RT/S+8bXnlkyP2tI3GPpQ0c/S7A4nPnVHD/S+8bXnlkiP0uwOJz51Uw/x7q4jQbwVj8FwHgGDf1TP76kMVpHVVM/XaeRlsrbUT/cEU4LXvRVP+Un1T4dj1k/W3wKgPEMWj84hCo1e6BVPwE1tWytL1I/exSuR+F6VD8=",
          "dtype": "f8"
         },
         "yaxis": "y"
        },
        {
         "hovertemplate": "<b>%{hovertext}</b><br><br>star_type=Main Sequence<br>temperature=%{x}<br>luminosity=%{y}<extra></extra>",
         "hovertext": [
          "Blue",
          "Blue-white",
          "Blue-white",
          "Whitish",
          "yellow-white",
          "Whitish",
          "yellow-white",
          "yellow-white",
          "yellow-white",
          "yellow-white",
          "yellow-white",
          "yellowish",
          "yellowish",
          "Yellowish",
          "Blue-white",
          "Blue-white",
          "Orange-Red",
          "yellow-white",
          "Blue-white",
          "Blue",
          "Blue-white",
          "Blue-White",
          "Blue-white",
          "Blue-white",
          "Blue-white",
          "Blue-white",
          "Blue-white",
          "Blue-white",
          "Blue-white",
          "Blue",
          "Blue-white",
          "Blue-white",
          "Blue-white",
          "Blue-white",
          "Blue",
          "Blue",
          "Blue-white",
          "Blue-white",
          "Blue-white",
          "yellow-white"
         ],
         "legendgroup": "Main Sequence",
         "marker": {
          "color": "#ab63fa",
          "symbol": "circle"
         },
         "mode": "markers",
         "name": "Main Sequence",
         "orientation": "v",
         "showlegend": true,
         "type": "scatter",
         "x": {
          "bdata": "WJgAADB1AACsOwAA5CUAAKgWAAB0HwAAZRoAAOwYAAAwFwAA0xUAALQUAACuEQAA7Q8AAHQTAABGIwAA8isAAPgTAAAoHgAAQi8AAAyNAAB4cwAA8SIAAOw2AAAGQAAA7mEAABxwAAAcZgAAmE4AAN8yAACokwAATlcAABwnAAAhMwAA/FUAAI6FAADMfgAAaCQAAMhLAAD0QgAAOiAAAA==",
          "dtype": "i4"
         },
         "xaxis": "x",
         "y": {
          "bdata": "AAAAAADnCEEAAAAAACrcQAAAAAAAwJFAAAAAAACAUkDsUbgehevpP2ZmZmZmZiFA4XoUrkfh9j+amZmZmZn1P4PAyqFFtvU/aJHtfD816j/hehSuR+HiPy/dJAaBlcM/w/UoXI/CtT8MAiuHFtnWPwAAAAAAgEZAAAAAAAAAhUApXI/C9SjkP65H4XoUrh9AAAAAAACIhUAAAAAAgCsIQQAAAAAA8wZBAAAAAAAAQ0AAAAAAABCRQAAAAAAA+JNAAAAAAABSzEAAAAAAgGXQQAAAAAAAXMxAAAAAAABwskAAAAAAADCPQAAAAACgxAhBAAAAAABRyEAAAAAAAECBQAAAAAAAoIhAAAAAAABcukAAAAAAwDEIQQAAAABANwVBAAAAAAAAPUAAAAAAAFTFQAAAAAAAmItAAAAAAACAIkA=",
          "dtype": "f8"
         },
         "yaxis": "y"
        },
        {
         "hovertemplate": "<b>%{hovertext}</b><br><br>star_type=Super Giant<br>temperature=%{x}<br>luminosity=%{y}<extra></extra>",
         "hovertext": [
          "Red",
          "Red",
          "Red",
          "Red",
          "Red",
          "Red",
          "Red",
          "Red",
          "Red",
          "Blue",
          "Blue",
          "Blue",
          "Blue",
          "Blue",
          "Blue",
          "Blue",
          "Blue",
          "Blue",
          "Blue",
          "Blue",
          "Blue",
          "Blue",
          "Blue",
          "Blue",
          "Blue",
          "Blue",
          "Blue",
          "Blue",
          "Blue",
          "Blue",
          "Blue",
          "Blue",
          "Blue",
          "Blue",
          "Blue",
          "Blue",
          "Blue",
          "Blue",
          "Blue",
          "Blue"
         ],
         "legendgroup": "Super Giant",
         "marker": {
          "color": "#FFA15A",
          "symbol": "circle"
         },
         "mode": "markers",
         "name": "Super Giant",
         "orientation": "v",
         "showlegend": true,
         "type": "scatter",
         "x": {
          "bdata": "8g4AACUNAADGDAAAgAwAAMALAAAQDgAA9w0AAPYNAAApDgAA1oMAABSCAABAnAAA2FkAAOBCAABYKwAApTcAADZgAABdMgAAGV8AAI2CAAAuYwAALy0AAIMxAAB4FgAA3yIAAHIcAADTTQAABWcAAOdDAACdJAAAflwAAM0xAACnJAAAkFsAAJNBAAAuSQAApCYAALIqAAA3WgAA6lQAAA==",
          "dtype": "i4"
         },
         "xaxis": "x",
         "y": {
          "bdata": "AAAAAABqCEEAAAAAgMAUQQAAAACATwJBAAAAAMDNB0EAAAAAABcRQQAAAAAAiBNBAAAAAIAH/kAAAAAAAGoIQQAAAAAAdgZBAAAAAADbCkEAAAAAAEwNQQAAAACQzyhBAAAAAIAB/0AAAAAAwK8MQQAAAAAAWPtAAAAAAMAyDEEAAAAA4CcWQQAAAAAAdgZBAAAAAIBVAUEAAAAAAHwVQQAAAADAOAtBAAAAAMCjDkEAAAAAgJYbQQAAAABA6A1BAAAAAMAsDUEAAAAAgPv/QAAAAAAAjgJBAAAAAIArCEEAAAAA0O0UQQAAAAAg6RlBAAAAABDSDUEAAAAAoEsUQQAAAABw7hRBAAAAAKxmIEEAAAAAUB4OQQAAAABgcAtBAAAAANgfIkEAAAAAdOwnQQAAAACwOhVBAAAAALTaJkE=",
          "dtype": "f8"
         },
         "yaxis": "y"
        },
        {
         "hovertemplate": "<b>%{hovertext}</b><br><br>star_type=Hyper Giant<br>temperature=%{x}<br>luminosity=%{y}<extra></extra>",
         "hovertext": [
          "Red",
          "Red",
          "Red",
          "Orange",
          "Red",
          "Red",
          "Red",
          "Red",
          "Red",
          "Red",
          "Red",
          "Red",
          "Red",
          "Red",
          "Red",
          "Red",
          "Red",
          "Red",
          "Red",
          "Red",
          "Red",
          "Red",
          "Orange",
          "Blue",
          "Red",
          "Red",
          "Blue",
          "Blue-white",
          "Blue-white",
          "Blue-white",
          "Blue-white",
          "Blue",
          "Blue",
          "Blue-white",
          "Blue-white",
          "Blue",
          "Blue",
          "White",
          "White",
          "Blue"
         ],
         "legendgroup": "Hyper Giant",
         "marker": {
          "color": "#19d3f3",
          "symbol": "circle"
         },
         "mode": "markers",
         "name": "Hyper Giant",
         "orientation": "v",
         "showlegend": true,
         "type": "scatter",
         "x": {
          "bdata": "og0AAKYOAAD6DgAApQ4AAEIOAAB6DQAATA4AAHoNAACoDgAAzw0AAIMNAAAVDgAAHw4AAEcNAAAaDgAA4Q0AAK8PAAApDgAAwhoAAMQOAADyDQAArA0AAL8QAACQZQAAEA4AAB4OAABQRgAA+CoAAEQvAACqXwAAUV4AAFqVAADpfgAAW2wAAJBVAAAcmAAAd3gAAH0iAAATJAAA+pMAAA==",
          "dtype": "i4"
         },
         "xaxis": "x",
         "y": {
          "bdata": "AAAAAMB6EEEAAAAA4EURQQAAAAAAmhBBAAAAAODIIEEAAAAAwOsSQQAAAABgDRBBAAAAAOAnFkEAAAAAgD0FQQAAAABAgwlBAAAAAMDNB0EAAAAAAGr4QAAAAAAAw/5AAAAAAABqCEEAAAAAgJD8QAAAAAAAHQBBAAAAAECzAUEAAAAAQDYRQQAAAAAAEfJAAAAAAED0C0EAAAAAAGoIQQAAAAAAiBNBAAAAAIDYAEEAAAAA4DkjQQAAAACASRNBAAAAAABMDUEAAAAAQLMBQQAAAAAAaghBAAAAAIDABEEAAAAAAEz9QAAAAABQVQ5BAAAAAERgF0EAAAAA+KYQQQAAAADcySNBAAAAABjsKUEAAAAAlNcmQQAAAAC44BZBAAAAAPRzKUEAAAAAKmcgQQAAAAAwtxhBAAAAANz/EUE=",
          "dtype": "f8"
         },
         "yaxis": "y"
        }
       ],
       "layout": {
        "height": 800,
        "legend": {
         "title": {
          "text": "star_type"
         },
         "tracegroupgap": 0
        },
        "template": {
         "data": {
          "bar": [
           {
            "error_x": {
             "color": "#2a3f5f"
            },
            "error_y": {
             "color": "#2a3f5f"
            },
            "marker": {
             "line": {
              "color": "#E5ECF6",
              "width": 0.5
             },
             "pattern": {
              "fillmode": "overlay",
              "size": 10,
              "solidity": 0.2
             }
            },
            "type": "bar"
           }
          ],
          "barpolar": [
           {
            "marker": {
             "line": {
              "color": "#E5ECF6",
              "width": 0.5
             },
             "pattern": {
              "fillmode": "overlay",
              "size": 10,
              "solidity": 0.2
             }
            },
            "type": "barpolar"
           }
          ],
          "carpet": [
           {
            "aaxis": {
             "endlinecolor": "#2a3f5f",
             "gridcolor": "white",
             "linecolor": "white",
             "minorgridcolor": "white",
             "startlinecolor": "#2a3f5f"
            },
            "baxis": {
             "endlinecolor": "#2a3f5f",
             "gridcolor": "white",
             "linecolor": "white",
             "minorgridcolor": "white",
             "startlinecolor": "#2a3f5f"
            },
            "type": "carpet"
           }
          ],
          "choropleth": [
           {
            "colorbar": {
             "outlinewidth": 0,
             "ticks": ""
            },
            "type": "choropleth"
           }
          ],
          "contour": [
           {
            "colorbar": {
             "outlinewidth": 0,
             "ticks": ""
            },
            "colorscale": [
             [
              0,
              "#0d0887"
             ],
             [
              0.1111111111111111,
              "#46039f"
             ],
             [
              0.2222222222222222,
              "#7201a8"
             ],
             [
              0.3333333333333333,
              "#9c179e"
             ],
             [
              0.4444444444444444,
              "#bd3786"
             ],
             [
              0.5555555555555556,
              "#d8576b"
             ],
             [
              0.6666666666666666,
              "#ed7953"
             ],
             [
              0.7777777777777778,
              "#fb9f3a"
             ],
             [
              0.8888888888888888,
              "#fdca26"
             ],
             [
              1,
              "#f0f921"
             ]
            ],
            "type": "contour"
           }
          ],
          "contourcarpet": [
           {
            "colorbar": {
             "outlinewidth": 0,
             "ticks": ""
            },
            "type": "contourcarpet"
           }
          ],
          "heatmap": [
           {
            "colorbar": {
             "outlinewidth": 0,
             "ticks": ""
            },
            "colorscale": [
             [
              0,
              "#0d0887"
             ],
             [
              0.1111111111111111,
              "#46039f"
             ],
             [
              0.2222222222222222,
              "#7201a8"
             ],
             [
              0.3333333333333333,
              "#9c179e"
             ],
             [
              0.4444444444444444,
              "#bd3786"
             ],
             [
              0.5555555555555556,
              "#d8576b"
             ],
             [
              0.6666666666666666,
              "#ed7953"
             ],
             [
              0.7777777777777778,
              "#fb9f3a"
             ],
             [
              0.8888888888888888,
              "#fdca26"
             ],
             [
              1,
              "#f0f921"
             ]
            ],
            "type": "heatmap"
           }
          ],
          "histogram": [
           {
            "marker": {
             "pattern": {
              "fillmode": "overlay",
              "size": 10,
              "solidity": 0.2
             }
            },
            "type": "histogram"
           }
          ],
          "histogram2d": [
           {
            "colorbar": {
             "outlinewidth": 0,
             "ticks": ""
            },
            "colorscale": [
             [
              0,
              "#0d0887"
             ],
             [
              0.1111111111111111,
              "#46039f"
             ],
             [
              0.2222222222222222,
              "#7201a8"
             ],
             [
              0.3333333333333333,
              "#9c179e"
             ],
             [
              0.4444444444444444,
              "#bd3786"
             ],
             [
              0.5555555555555556,
              "#d8576b"
             ],
             [
              0.6666666666666666,
              "#ed7953"
             ],
             [
              0.7777777777777778,
              "#fb9f3a"
             ],
             [
              0.8888888888888888,
              "#fdca26"
             ],
             [
              1,
              "#f0f921"
             ]
            ],
            "type": "histogram2d"
           }
          ],
          "histogram2dcontour": [
           {
            "colorbar": {
             "outlinewidth": 0,
             "ticks": ""
            },
            "colorscale": [
             [
              0,
              "#0d0887"
             ],
             [
              0.1111111111111111,
              "#46039f"
             ],
             [
              0.2222222222222222,
              "#7201a8"
             ],
             [
              0.3333333333333333,
              "#9c179e"
             ],
             [
              0.4444444444444444,
              "#bd3786"
             ],
             [
              0.5555555555555556,
              "#d8576b"
             ],
             [
              0.6666666666666666,
              "#ed7953"
             ],
             [
              0.7777777777777778,
              "#fb9f3a"
             ],
             [
              0.8888888888888888,
              "#fdca26"
             ],
             [
              1,
              "#f0f921"
             ]
            ],
            "type": "histogram2dcontour"
           }
          ],
          "mesh3d": [
           {
            "colorbar": {
             "outlinewidth": 0,
             "ticks": ""
            },
            "type": "mesh3d"
           }
          ],
          "parcoords": [
           {
            "line": {
             "colorbar": {
              "outlinewidth": 0,
              "ticks": ""
             }
            },
            "type": "parcoords"
           }
          ],
          "pie": [
           {
            "automargin": true,
            "type": "pie"
           }
          ],
          "scatter": [
           {
            "fillpattern": {
             "fillmode": "overlay",
             "size": 10,
             "solidity": 0.2
            },
            "type": "scatter"
           }
          ],
          "scatter3d": [
           {
            "line": {
             "colorbar": {
              "outlinewidth": 0,
              "ticks": ""
             }
            },
            "marker": {
             "colorbar": {
              "outlinewidth": 0,
              "ticks": ""
             }
            },
            "type": "scatter3d"
           }
          ],
          "scattercarpet": [
           {
            "marker": {
             "colorbar": {
              "outlinewidth": 0,
              "ticks": ""
             }
            },
            "type": "scattercarpet"
           }
          ],
          "scattergeo": [
           {
            "marker": {
             "colorbar": {
              "outlinewidth": 0,
              "ticks": ""
             }
            },
            "type": "scattergeo"
           }
          ],
          "scattergl": [
           {
            "marker": {
             "colorbar": {
              "outlinewidth": 0,
              "ticks": ""
             }
            },
            "type": "scattergl"
           }
          ],
          "scattermap": [
           {
            "marker": {
             "colorbar": {
              "outlinewidth": 0,
              "ticks": ""
             }
            },
            "type": "scattermap"
           }
          ],
          "scattermapbox": [
           {
            "marker": {
             "colorbar": {
              "outlinewidth": 0,
              "ticks": ""
             }
            },
            "type": "scattermapbox"
           }
          ],
          "scatterpolar": [
           {
            "marker": {
             "colorbar": {
              "outlinewidth": 0,
              "ticks": ""
             }
            },
            "type": "scatterpolar"
           }
          ],
          "scatterpolargl": [
           {
            "marker": {
             "colorbar": {
              "outlinewidth": 0,
              "ticks": ""
             }
            },
            "type": "scatterpolargl"
           }
          ],
          "scatterternary": [
           {
            "marker": {
             "colorbar": {
              "outlinewidth": 0,
              "ticks": ""
             }
            },
            "type": "scatterternary"
           }
          ],
          "surface": [
           {
            "colorbar": {
             "outlinewidth": 0,
             "ticks": ""
            },
            "colorscale": [
             [
              0,
              "#0d0887"
             ],
             [
              0.1111111111111111,
              "#46039f"
             ],
             [
              0.2222222222222222,
              "#7201a8"
             ],
             [
              0.3333333333333333,
              "#9c179e"
             ],
             [
              0.4444444444444444,
              "#bd3786"
             ],
             [
              0.5555555555555556,
              "#d8576b"
             ],
             [
              0.6666666666666666,
              "#ed7953"
             ],
             [
              0.7777777777777778,
              "#fb9f3a"
             ],
             [
              0.8888888888888888,
              "#fdca26"
             ],
             [
              1,
              "#f0f921"
             ]
            ],
            "type": "surface"
           }
          ],
          "table": [
           {
            "cells": {
             "fill": {
              "color": "#EBF0F8"
             },
             "line": {
              "color": "white"
             }
            },
            "header": {
             "fill": {
              "color": "#C8D4E3"
             },
             "line": {
              "color": "white"
             }
            },
            "type": "table"
           }
          ]
         },
         "layout": {
          "annotationdefaults": {
           "arrowcolor": "#2a3f5f",
           "arrowhead": 0,
           "arrowwidth": 1
          },
          "autotypenumbers": "strict",
          "coloraxis": {
           "colorbar": {
            "outlinewidth": 0,
            "ticks": ""
           }
          },
          "colorscale": {
           "diverging": [
            [
             0,
             "#8e0152"
            ],
            [
             0.1,
             "#c51b7d"
            ],
            [
             0.2,
             "#de77ae"
            ],
            [
             0.3,
             "#f1b6da"
            ],
            [
             0.4,
             "#fde0ef"
            ],
            [
             0.5,
             "#f7f7f7"
            ],
            [
             0.6,
             "#e6f5d0"
            ],
            [
             0.7,
             "#b8e186"
            ],
            [
             0.8,
             "#7fbc41"
            ],
            [
             0.9,
             "#4d9221"
            ],
            [
             1,
             "#276419"
            ]
           ],
           "sequential": [
            [
             0,
             "#0d0887"
            ],
            [
             0.1111111111111111,
             "#46039f"
            ],
            [
             0.2222222222222222,
             "#7201a8"
            ],
            [
             0.3333333333333333,
             "#9c179e"
            ],
            [
             0.4444444444444444,
             "#bd3786"
            ],
            [
             0.5555555555555556,
             "#d8576b"
            ],
            [
             0.6666666666666666,
             "#ed7953"
            ],
            [
             0.7777777777777778,
             "#fb9f3a"
            ],
            [
             0.8888888888888888,
             "#fdca26"
            ],
            [
             1,
             "#f0f921"
            ]
           ],
           "sequentialminus": [
            [
             0,
             "#0d0887"
            ],
            [
             0.1111111111111111,
             "#46039f"
            ],
            [
             0.2222222222222222,
             "#7201a8"
            ],
            [
             0.3333333333333333,
             "#9c179e"
            ],
            [
             0.4444444444444444,
             "#bd3786"
            ],
            [
             0.5555555555555556,
             "#d8576b"
            ],
            [
             0.6666666666666666,
             "#ed7953"
            ],
            [
             0.7777777777777778,
             "#fb9f3a"
            ],
            [
             0.8888888888888888,
             "#fdca26"
            ],
            [
             1,
             "#f0f921"
            ]
           ]
          },
          "colorway": [
           "#636efa",
           "#EF553B",
           "#00cc96",
           "#ab63fa",
           "#FFA15A",
           "#19d3f3",
           "#FF6692",
           "#B6E880",
           "#FF97FF",
           "#FECB52"
          ],
          "font": {
           "color": "#2a3f5f"
          },
          "geo": {
           "bgcolor": "white",
           "lakecolor": "white",
           "landcolor": "#E5ECF6",
           "showlakes": true,
           "showland": true,
           "subunitcolor": "white"
          },
          "hoverlabel": {
           "align": "left"
          },
          "hovermode": "closest",
          "mapbox": {
           "style": "light"
          },
          "paper_bgcolor": "white",
          "plot_bgcolor": "#E5ECF6",
          "polar": {
           "angularaxis": {
            "gridcolor": "white",
            "linecolor": "white",
            "ticks": ""
           },
           "bgcolor": "#E5ECF6",
           "radialaxis": {
            "gridcolor": "white",
            "linecolor": "white",
            "ticks": ""
           }
          },
          "scene": {
           "xaxis": {
            "backgroundcolor": "#E5ECF6",
            "gridcolor": "white",
            "gridwidth": 2,
            "linecolor": "white",
            "showbackground": true,
            "ticks": "",
            "zerolinecolor": "white"
           },
           "yaxis": {
            "backgroundcolor": "#E5ECF6",
            "gridcolor": "white",
            "gridwidth": 2,
            "linecolor": "white",
            "showbackground": true,
            "ticks": "",
            "zerolinecolor": "white"
           },
           "zaxis": {
            "backgroundcolor": "#E5ECF6",
            "gridcolor": "white",
            "gridwidth": 2,
            "linecolor": "white",
            "showbackground": true,
            "ticks": "",
            "zerolinecolor": "white"
           }
          },
          "shapedefaults": {
           "line": {
            "color": "#2a3f5f"
           }
          },
          "ternary": {
           "aaxis": {
            "gridcolor": "white",
            "linecolor": "white",
            "ticks": ""
           },
           "baxis": {
            "gridcolor": "white",
            "linecolor": "white",
            "ticks": ""
           },
           "bgcolor": "#E5ECF6",
           "caxis": {
            "gridcolor": "white",
            "linecolor": "white",
            "ticks": ""
           }
          },
          "title": {
           "x": 0.05
          },
          "xaxis": {
           "automargin": true,
           "gridcolor": "white",
           "linecolor": "white",
           "ticks": "",
           "title": {
            "standoff": 15
           },
           "zerolinecolor": "white",
           "zerolinewidth": 2
          },
          "yaxis": {
           "automargin": true,
           "gridcolor": "white",
           "linecolor": "white",
           "ticks": "",
           "title": {
            "standoff": 15
           },
           "zerolinecolor": "white",
           "zerolinewidth": 2
          }
         }
        },
        "title": {
         "text": "temperature vs luminosity"
        },
        "xaxis": {
         "anchor": "y",
         "domain": [
          0,
          1
         ],
         "title": {
          "text": "temperature"
         },
         "type": "log"
        },
        "yaxis": {
         "anchor": "x",
         "domain": [
          0,
          1
         ],
         "title": {
          "text": "luminosity"
         },
         "type": "log"
        }
       }
      }
     },
     "metadata": {},
     "output_type": "display_data"
    }
   ],
   "source": [
    "import plotly.express as px\n",
    "\n",
    "fig = px.scatter(stars, x='temperature', y='luminosity', \n",
    "                 color='star_type', \n",
    "                 hover_name='star_color', \n",
    "                 log_x=True, \n",
    "                 log_y= True, \n",
    "                 title='temperature vs luminosity',\n",
    "                 height = 800)\n",
    "\n",
    "\n",
    "fig.show()"
   ]
  },
  {
   "cell_type": "code",
   "execution_count": 73,
   "metadata": {},
   "outputs": [
    {
     "data": {
      "text/plain": [
       "np.float64(110.93381641588215)"
      ]
     },
     "execution_count": 73,
     "metadata": {},
     "output_type": "execute_result"
    },
    {
     "data": {
      "image/png": "[encoded data removed]",
      "text/plain": [
       "<Figure size 640x480 with 1 Axes>"
      ]
     },
     "metadata": {},
     "output_type": "display_data"
    }
   ],
   "source": [
    "# sns.kdeplot(data = stars, x = 'temperature')\n",
    "# stars['temperature'].mean()\n",
    "# sns.kdeplot(data = stars, x = 'luminosity')\n",
    "# stars['luminosity'].mean()\n",
    "\n",
    "# sns.kdeplot(data = stars, x = 'radius')\n",
    "# np.var(stars['radius'])\n",
    "# stars['radius'].var()\n",
    "\n",
    "sns.kdeplot(data = stars, x = 'absolute_magnitude')\n",
    "stars['absolute_magnitude'].var()"
   ]
  },
  {
   "cell_type": "code",
   "execution_count": 93,
   "metadata": {},
   "outputs": [
    {
     "data": {
      "application/vnd.plotly.v1+json": {
       "config": {
        "plotlyServerURL": "https://plot.ly"
       },
       "data": [
        {
         "hovertemplate": "<b>%{hovertext}</b><br><br>star_type=Brown Dwarf<br>temperature=%{x}<br>radius=%{y}<extra></extra>",
         "hovertext": [
          "Brown Dwarf",
          "Brown Dwarf",
          "Brown Dwarf",
          "Brown Dwarf",
          "Brown Dwarf",
          "Brown Dwarf",
          "Brown Dwarf",
          "Brown Dwarf",
          "Brown Dwarf",
          "Brown Dwarf",
          "Brown Dwarf",
          "Brown Dwarf",
          "Brown Dwarf",
          "Brown Dwarf",
          "Brown Dwarf",
          "Brown Dwarf",
          "Brown Dwarf",
          "Brown Dwarf",
          "Brown Dwarf",
          "Brown Dwarf",
          "Brown Dwarf",
          "Brown Dwarf",
          "Brown Dwarf",
          "Brown Dwarf",
          "Brown Dwarf",
          "Brown Dwarf",
          "Brown Dwarf",
          "Brown Dwarf",
          "Brown Dwarf",
          "Brown Dwarf",
          "Brown Dwarf",
          "Brown Dwarf",
          "Brown Dwarf",
          "Brown Dwarf",
          "Brown Dwarf",
          "Brown Dwarf",
          "Brown Dwarf",
          "Brown Dwarf",
          "Brown Dwarf",
          "Brown Dwarf"
         ],
         "legendgroup": "Brown Dwarf",
         "marker": {
          "color": "#636efa",
          "symbol": "circle"
         },
         "mode": "markers",
         "name": "Brown Dwarf",
         "orientation": "v",
         "showlegend": true,
         "type": "scatter",
         "x": {
          "bdata": "/AviCygK8AqTBxgLTQooCloKjAoNDWgNpwsTC3cL3wyBCwEL1go3C/sMyw2SDEoMtw2ZDHcLLQsoC6sKDwtiC1sNkgx9DUkLmAucDdoKww0=",
          "dtype": "i2"
         },
         "xaxis": "x",
         "y": {
          "bdata": "w/UoXI/CxT+Uh4Va07zDP+kmMQisHLo/exSuR+F6xD+R7Xw/NV66Pylcj8L1KLw/qMZLN4lBwD/6fmq8dJO4Pylcj8L1KLw/pHA9CtejwD/Jdr6fGi+tP1K4HoXrUcg/qvHSTWIQuD851sVtNIC3PxkEVg4tsr0/TDeJQWDlwD8CK4cW2c63P8NkqmBUUrc/aJHtfD81vj+4HoXrUbi+P9QrZRniWLc/B/AWSFD8uD8pXI/C9Si8PyS5/If027c/gZVDi2znuz9g5dAi2/m+PyS5/If027c/+Q/pt68Dtz9NFYxK6gS0PyegibDh6bU/BoGVQ4tstz8ZBFYOLbK9P1TjpZvEIMA/v30dOGdEuT+1FfvL7smzP9Sa5h2n6Lg/EFg5tMh2vj94CyQofoy5P3npJjEIrLw/UI2XbhKDwD8=",
          "dtype": "f8"
         },
         "yaxis": "y"
        },
        {
         "hovertemplate": "<b>%{hovertext}</b><br><br>star_type=Red Dwarf<br>temperature=%{x}<br>radius=%{y}<extra></extra>",
         "hovertext": [
          "Red Dwarf",
          "Red Dwarf",
          "Red Dwarf",
          "Red Dwarf",
          "Red Dwarf",
          "Red Dwarf",
          "Red Dwarf",
          "Red Dwarf",
          "Red Dwarf",
          "Red Dwarf",
          "Red Dwarf",
          "Red Dwarf",
          "Red Dwarf",
          "Red Dwarf",
          "Red Dwarf",
          "Red Dwarf",
          "Red Dwarf",
          "Red Dwarf",
          "Red Dwarf",
          "Red Dwarf",
          "Red Dwarf",
          "Red Dwarf",
          "Red Dwarf",
          "Red Dwarf",
          "Red Dwarf",
          "Red Dwarf",
          "Red Dwarf",
          "Red Dwarf",
          "Red Dwarf",
          "Red Dwarf",
          "Red Dwarf",
          "Red Dwarf",
          "Red Dwarf",
          "Red Dwarf",
          "Red Dwarf",
          "Red Dwarf",
          "Red Dwarf",
          "Red Dwarf",
          "Red Dwarf",
          "Red Dwarf"
         ],
         "legendgroup": "Red Dwarf",
         "marker": {
          "color": "#EF553B",
          "symbol": "circle"
         },
         "mode": "markers",
         "name": "Red Dwarf",
         "orientation": "v",
         "showlegend": true,
         "type": "scatter",
         "x": {
          "bdata": "EA45DD4MLA5aCgwN7wpsDngMcQ0RDRcO6AxODN4NbAxKCw4NPQpWDBcMFw4cDK0L1g2rDBMMDg78DNUNhg25DLILjAzDDQ4ORgyoDfwMhw0=",
          "dtype": "i2"
         },
         "xaxis": "x",
         "y": {
          "bdata": "UrgehetR4D9uowG8BRLYP0oMAiuHFsk/9P3UeOkm2T/sUbgehevBP7gehetRuM4/exSuR+F6xD8UrkfhehTePwXFjzF3Lck/EFg5tMh21j9GtvP91HjRP1K4HoXrUdg/CtejcD0Kxz9mZmZmZmbWPzm0yHa+n9I/ZmZmZmZm1j+4HoXrUbjOP9nO91PjpdM/SgwCK4cWuT/P91PjpZvEP7ByaJHtfN8/UrgehetR2D/Xo3A9CtfTP8P1KFyPwtU/16NwPQrX4z9cj8L1KFznP7gehetRuM4/7FG4HoXr4T/D9Shcj8LVP/yp8dJNYtA/i2zn+6nxwj9xPQrXo3DdP+xRuB6F69E//tR46SYx2D/RItv5fmrUP3E9CtejcOU/UI2XbhKD0D8bL90kBoHVP76fGi/dJN4/mpmZmZmZ5T8=",
          "dtype": "f8"
         },
         "yaxis": "y"
        },
        {
         "hovertemplate": "<b>%{hovertext}</b><br><br>star_type=White Dwarf<br>temperature=%{x}<br>radius=%{y}<extra></extra>",
         "hovertext": [
          "White Dwarf",
          "White Dwarf",
          "White Dwarf",
          "White Dwarf",
          "White Dwarf",
          "White Dwarf",
          "White Dwarf",
          "White Dwarf",
          "White Dwarf",
          "White Dwarf",
          "White Dwarf",
          "White Dwarf",
          "White Dwarf",
          "White Dwarf",
          "White Dwarf",
          "White Dwarf",
          "White Dwarf",
          "White Dwarf",
          "White Dwarf",
          "White Dwarf",
          "White Dwarf",
          "White Dwarf",
          "White Dwarf",
          "White Dwarf",
          "White Dwarf",
          "White Dwarf",
          "White Dwarf",
          "White Dwarf",
          "White Dwarf",
          "White Dwarf",
          "White Dwarf",
          "White Dwarf",
          "White Dwarf",
          "White Dwarf",
          "White Dwarf",
          "White Dwarf",
          "White Dwarf",
          "White Dwarf",
          "White Dwarf",
          "White Dwarf"
         ],
         "legendgroup": "White Dwarf",
         "marker": {
          "color": "#00cc96",
          "symbol": "circle"
         },
         "mode": "markers",
         "name": "White Dwarf",
         "orientation": "v",
         "showlegend": true,
         "type": "scatter",
         "x": {
          "bdata": "qGE8HjQcNCF0QL4yeiEUHg4uPhy8G04p4iIwQxQ3yyXqLuQqmDWUTWw0HFJyR7g4fC7cInAyjDkrHrgylkFAPYY6HDSkR9BN1F00WgBGoEs=",
          "dtype": "i2"
         },
         "xaxis": "x",
         "y": {
          "bdata": "FYxK6gQ0gT/2C3bDtkWJP7pJDAIrh4Y/exSuR+F6hD956SYxCKyMP9eGinH+JoQ/6Gor9pfdgz8tQxzr4jaKP7pJDAIrh4Y/ObTIdr6fij/6fmq8dJOIP0hQ/Bhz14I/2/l+arx0gz+4HoXrUbiOP7WmeccpOoI/NBE2PL1Shj9IUPwYc9eCP6g1zTtO0YE/ahg+IqZEgj/A7J48LNSKP0jcY+lDF4Q/x7q4jQbwhj83bFuU2SCDP5zc71AU6IM/h22LMhtkgj9UNUHUfQCCP5jdk4eFWoM/ahg+IqZEgj96/N6mP/uBPxIxJZLoZYQ/gLdAguLHiD/UK2UZ4liHP03zjlN0JIc/4JwRpb3Bhz8TYcPTK2WJP4Za07zjFI0/pgpGJXUCij+U9gZfmEyFP6Fns+pztYU/xqLp7GRwhD8=",
          "dtype": "f8"
         },
         "yaxis": "y"
        },
        {
         "hovertemplate": "<b>%{hovertext}</b><br><br>star_type=Main Sequence<br>temperature=%{x}<br>radius=%{y}<extra></extra>",
         "hovertext": [
          "Main Sequence",
          "Main Sequence",
          "Main Sequence",
          "Main Sequence",
          "Main Sequence",
          "Main Sequence",
          "Main Sequence",
          "Main Sequence",
          "Main Sequence",
          "Main Sequence",
          "Main Sequence",
          "Main Sequence",
          "Main Sequence",
          "Main Sequence",
          "Main Sequence",
          "Main Sequence",
          "Main Sequence",
          "Main Sequence",
          "Main Sequence",
          "Main Sequence",
          "Main Sequence",
          "Main Sequence",
          "Main Sequence",
          "Main Sequence",
          "Main Sequence",
          "Main Sequence",
          "Main Sequence",
          "Main Sequence",
          "Main Sequence",
          "Main Sequence",
          "Main Sequence",
          "Main Sequence",
          "Main Sequence",
          "Main Sequence",
          "Main Sequence",
          "Main Sequence",
          "Main Sequence",
          "Main Sequence",
          "Main Sequence",
          "Main Sequence"
         ],
         "legendgroup": "Main Sequence",
         "marker": {
          "color": "#ab63fa",
          "symbol": "circle"
         },
         "mode": "markers",
         "name": "Main Sequence",
         "orientation": "v",
         "showlegend": true,
         "type": "scatter",
         "x": {
          "bdata": "WJgAADB1AACsOwAA5CUAAKgWAAB0HwAAZRoAAOwYAAAwFwAA0xUAALQUAACuEQAA7Q8AAHQTAABGIwAA8isAAPgTAAAoHgAAQi8AAAyNAAB4cwAA8SIAAOw2AAAGQAAA7mEAABxwAAAcZgAAmE4AAN8yAACokwAATlcAABwnAAAhMwAA/FUAAI6FAADMfgAAaCQAAMhLAAD0QgAAOiAAAA==",
          "dtype": "i4"
         },
         "xaxis": "x",
         "y": {
          "bdata": "MzMzMzMzJUAzMzMzMzMZQM3MzMzMzBxAH4XrUbgeB0DNzMzMzMzsP83MzMzMzPw/7FG4HoXr8T9cj8L1KFzvPxkEVg4tsvE/rkfhehSu7z8fhetRuB7tP65H4XoUrus/cT0K16Nw6T8UrkfhehTyPwrXo3A9CgVA7FG4HoXrG0DVeOkmMQjsP3E9CtejcPU/CtejcD0KHEBmZmZmZmYkQBSuR+F6FBhATDeJQWDlA0B7FK5H4foWQLgehetRuBZArkfhehSuF0CamZmZmZkZQPYoXI/C9RVAH4XrUbgeG0DXo3A9CtcYQHE9CtejcBtAcT0K16NwGUAGgZVDi2wXQCuHFtnO9xdAj8L1KFyPGkCPwvUoXI8ZQKabxCCw8hhAj8L1KFyP/j8fhetRuB4YQOkmMQisnBZA4XoUrkfh/j8=",
          "dtype": "f8"
         },
         "yaxis": "y"
        },
        {
         "hovertemplate": "<b>%{hovertext}</b><br><br>star_type=Super Giant<br>temperature=%{x}<br>radius=%{y}<extra></extra>",
         "hovertext": [
          "Super Giant",
          "Super Giant",
          "Super Giant",
          "Super Giant",
          "Super Giant",
          "Super Giant",
          "Super Giant",
          "Super Giant",
          "Super Giant",
          "Super Giant",
          "Super Giant",
          "Super Giant",
          "Super Giant",
          "Super Giant",
          "Super Giant",
          "Super Giant",
          "Super Giant",
          "Super Giant",
          "Super Giant",
          "Super Giant",
          "Super Giant",
          "Super Giant",
          "Super Giant",
          "Super Giant",
          "Super Giant",
          "Super Giant",
          "Super Giant",
          "Super Giant",
          "Super Giant",
          "Super Giant",
          "Super Giant",
          "Super Giant",
          "Super Giant",
          "Super Giant",
          "Super Giant",
          "Super Giant",
          "Super Giant",
          "Super Giant",
          "Super Giant",
          "Super Giant"
         ],
         "legendgroup": "Super Giant",
         "marker": {
          "color": "#FFA15A",
          "symbol": "circle"
         },
         "mode": "markers",
         "name": "Super Giant",
         "orientation": "v",
         "showlegend": true,
         "type": "scatter",
         "x": {
          "bdata": "8g4AACUNAADGDAAAgAwAAMALAAAQDgAA9w0AAPYNAAApDgAA1oMAABSCAABAnAAA2FkAAOBCAABYKwAApTcAADZgAABdMgAAGV8AAI2CAAAuYwAALy0AAIMxAAB4FgAA3yIAAHIcAADTTQAABWcAAOdDAACdJAAAflwAAM0xAACnJAAAkFsAAJNBAAAuSQAApCYAALIqAAA3WgAA6lQAAA==",
          "dtype": "i4"
         },
         "xaxis": "x",
         "y": {
          "bdata": "AAAAAAAAM0AAAAAAAAA3QAAAAAAAAFZAAAAAAAAAMUAAAAAAAAA5QAAAAAAAAD1AAAAAAACARkAAAAAAAEBWQAAAAAAAAFVAAAAAAAAAOkAAAAAAAAAoQAAAAAAAACxAAAAAAAAAQkAAAAAAAMBUQAAAAAAAAChAAAAAAAAARUAAAAAAAIBPQAAAAAAAAEJAAAAAAACATEAAAAAAAMBQQAAAAAAAgExAAAAAAAAAQkAAAAAAAMBUQAAAAAAAQFhAAAAAAACAQUAAAAAAAAA4QAAAAAAAQFJAAAAAAACAQ0AAAAAAAAA+QAAAAAAAADhAAAAAAACAQUAAAAAAAABTQAAAAAAAgFhAAAAAAABAVEAAAAAAAABPQAAAAAAAAEdAAAAAAAAAVEAAAAAAAAA5QAAAAAAAgFVAAAAAAAAAV0A=",
          "dtype": "f8"
         },
         "yaxis": "y"
        },
        {
         "hovertemplate": "<b>%{hovertext}</b><br><br>star_type=Hyper Giant<br>temperature=%{x}<br>radius=%{y}<extra></extra>",
         "hovertext": [
          "Hyper Giant",
          "Hyper Giant",
          "Hyper Giant",
          "Hyper Giant",
          "Hyper Giant",
          "Hyper Giant",
          "Hyper Giant",
          "Hyper Giant",
          "Hyper Giant",
          "Hyper Giant",
          "Hyper Giant",
          "Hyper Giant",
          "Hyper Giant",
          "Hyper Giant",
          "Hyper Giant",
          "Hyper Giant",
          "Hyper Giant",
          "Hyper Giant",
          "Hyper Giant",
          "Hyper Giant",
          "Hyper Giant",
          "Hyper Giant",
          "Hyper Giant",
          "Hyper Giant",
          "Hyper Giant",
          "Hyper Giant",
          "Hyper Giant",
          "Hyper Giant",
          "Hyper Giant",
          "Hyper Giant",
          "Hyper Giant",
          "Hyper Giant",
          "Hyper Giant",
          "Hyper Giant",
          "Hyper Giant",
          "Hyper Giant",
          "Hyper Giant",
          "Hyper Giant",
          "Hyper Giant",
          "Hyper Giant"
         ],
         "legendgroup": "Hyper Giant",
         "marker": {
          "color": "#19d3f3",
          "symbol": "circle"
         },
         "mode": "markers",
         "name": "Hyper Giant",
         "orientation": "v",
         "showlegend": true,
         "type": "scatter",
         "x": {
          "bdata": "og0AAKYOAAD6DgAApQ4AAEIOAAB6DQAATA4AAHoNAACoDgAAzw0AAIMNAAAVDgAAHw4AAEcNAAAaDgAA4Q0AAK8PAAApDgAAwhoAAMQOAADyDQAArA0AAL8QAACQZQAAEA4AAB4OAABQRgAA+CoAAEQvAACqXwAAUV4AAFqVAADpfgAAW2wAAJBVAAAcmAAAd3gAAH0iAAATJAAA+pMAAA==",
          "dtype": "i4"
         },
         "xaxis": "x",
         "y": {
          "bdata": "AAAAAADAl0AAAAAAALCTQAAAAAAAfJJAAAAAAADAmUAAAAAAALCUQAAAAAAAFJVAAAAAAAAkmkAAAAAAABCUQAAAAAAA2I1AAAAAAAAomEAAAAAAACSUQAAAAAAAkJFAAAAAAACMmUAAAAAAADiXQAAAAAAAyJdAAAAAAACwlEAAAAAAAPiXQAAAAAAAYItAAAAAAADslkAAAAAAALCUQAAAAAAAIJdAAAAAAAAwlkAAAAAAAIyUQAAAAAAAPJpAAAAAAACYkkAAAAAAAESYQAAAAAAAVJBAAAAAAADMm0AzMzMzMyeGQAAAAAAAupFAAAAAAABYl0AAAAAAADCVQAAAAAAAcp5AAAAAAACQk0AAAAAAAKiRQAAAAAAAMJVAAAAAAACokkAAAAAAADyWQAAAAAAAYJFAAAAAAADcm0A=",
          "dtype": "f8"
         },
         "yaxis": "y"
        }
       ],
       "layout": {
        "height": 800,
        "legend": {
         "title": {
          "text": "star_type"
         },
         "tracegroupgap": 0
        },
        "template": {
         "data": {
          "bar": [
           {
            "error_x": {
             "color": "#2a3f5f"
            },
            "error_y": {
             "color": "#2a3f5f"
            },
            "marker": {
             "line": {
              "color": "#E5ECF6",
              "width": 0.5
             },
             "pattern": {
              "fillmode": "overlay",
              "size": 10,
              "solidity": 0.2
             }
            },
            "type": "bar"
           }
          ],
          "barpolar": [
           {
            "marker": {
             "line": {
              "color": "#E5ECF6",
              "width": 0.5
             },
             "pattern": {
              "fillmode": "overlay",
              "size": 10,
              "solidity": 0.2
             }
            },
            "type": "barpolar"
           }
          ],
          "carpet": [
           {
            "aaxis": {
             "endlinecolor": "#2a3f5f",
             "gridcolor": "white",
             "linecolor": "white",
             "minorgridcolor": "white",
             "startlinecolor": "#2a3f5f"
            },
            "baxis": {
             "endlinecolor": "#2a3f5f",
             "gridcolor": "white",
             "linecolor": "white",
             "minorgridcolor": "white",
             "startlinecolor": "#2a3f5f"
            },
            "type": "carpet"
           }
          ],
          "choropleth": [
           {
            "colorbar": {
             "outlinewidth": 0,
             "ticks": ""
            },
            "type": "choropleth"
           }
          ],
          "contour": [
           {
            "colorbar": {
             "outlinewidth": 0,
             "ticks": ""
            },
            "colorscale": [
             [
              0,
              "#0d0887"
             ],
             [
              0.1111111111111111,
              "#46039f"
             ],
             [
              0.2222222222222222,
              "#7201a8"
             ],
             [
              0.3333333333333333,
              "#9c179e"
             ],
             [
              0.4444444444444444,
              "#bd3786"
             ],
             [
              0.5555555555555556,
              "#d8576b"
             ],
             [
              0.6666666666666666,
              "#ed7953"
             ],
             [
              0.7777777777777778,
              "#fb9f3a"
             ],
             [
              0.8888888888888888,
              "#fdca26"
             ],
             [
              1,
              "#f0f921"
             ]
            ],
            "type": "contour"
           }
          ],
          "contourcarpet": [
           {
            "colorbar": {
             "outlinewidth": 0,
             "ticks": ""
            },
            "type": "contourcarpet"
           }
          ],
          "heatmap": [
           {
            "colorbar": {
             "outlinewidth": 0,
             "ticks": ""
            },
            "colorscale": [
             [
              0,
              "#0d0887"
             ],
             [
              0.1111111111111111,
              "#46039f"
             ],
             [
              0.2222222222222222,
              "#7201a8"
             ],
             [
              0.3333333333333333,
              "#9c179e"
             ],
             [
              0.4444444444444444,
              "#bd3786"
             ],
             [
              0.5555555555555556,
              "#d8576b"
             ],
             [
              0.6666666666666666,
              "#ed7953"
             ],
             [
              0.7777777777777778,
              "#fb9f3a"
             ],
             [
              0.8888888888888888,
              "#fdca26"
             ],
             [
              1,
              "#f0f921"
             ]
            ],
            "type": "heatmap"
           }
          ],
          "histogram": [
           {
            "marker": {
             "pattern": {
              "fillmode": "overlay",
              "size": 10,
              "solidity": 0.2
             }
            },
            "type": "histogram"
           }
          ],
          "histogram2d": [
           {
            "colorbar": {
             "outlinewidth": 0,
             "ticks": ""
            },
            "colorscale": [
             [
              0,
              "#0d0887"
             ],
             [
              0.1111111111111111,
              "#46039f"
             ],
             [
              0.2222222222222222,
              "#7201a8"
             ],
             [
              0.3333333333333333,
              "#9c179e"
             ],
             [
              0.4444444444444444,
              "#bd3786"
             ],
             [
              0.5555555555555556,
              "#d8576b"
             ],
             [
              0.6666666666666666,
              "#ed7953"
             ],
             [
              0.7777777777777778,
              "#fb9f3a"
             ],
             [
              0.8888888888888888,
              "#fdca26"
             ],
             [
              1,
              "#f0f921"
             ]
            ],
            "type": "histogram2d"
           }
          ],
          "histogram2dcontour": [
           {
            "colorbar": {
             "outlinewidth": 0,
             "ticks": ""
            },
            "colorscale": [
             [
              0,
              "#0d0887"
             ],
             [
              0.1111111111111111,
              "#46039f"
             ],
             [
              0.2222222222222222,
              "#7201a8"
             ],
             [
              0.3333333333333333,
              "#9c179e"
             ],
             [
              0.4444444444444444,
              "#bd3786"
             ],
             [
              0.5555555555555556,
              "#d8576b"
             ],
             [
              0.6666666666666666,
              "#ed7953"
             ],
             [
              0.7777777777777778,
              "#fb9f3a"
             ],
             [
              0.8888888888888888,
              "#fdca26"
             ],
             [
              1,
              "#f0f921"
             ]
            ],
            "type": "histogram2dcontour"
           }
          ],
          "mesh3d": [
           {
            "colorbar": {
             "outlinewidth": 0,
             "ticks": ""
            },
            "type": "mesh3d"
           }
          ],
          "parcoords": [
           {
            "line": {
             "colorbar": {
              "outlinewidth": 0,
              "ticks": ""
             }
            },
            "type": "parcoords"
           }
          ],
          "pie": [
           {
            "automargin": true,
            "type": "pie"
           }
          ],
          "scatter": [
           {
            "fillpattern": {
             "fillmode": "overlay",
             "size": 10,
             "solidity": 0.2
            },
            "type": "scatter"
           }
          ],
          "scatter3d": [
           {
            "line": {
             "colorbar": {
              "outlinewidth": 0,
              "ticks": ""
             }
            },
            "marker": {
             "colorbar": {
              "outlinewidth": 0,
              "ticks": ""
             }
            },
            "type": "scatter3d"
           }
          ],
          "scattercarpet": [
           {
            "marker": {
             "colorbar": {
              "outlinewidth": 0,
              "ticks": ""
             }
            },
            "type": "scattercarpet"
           }
          ],
          "scattergeo": [
           {
            "marker": {
             "colorbar": {
              "outlinewidth": 0,
              "ticks": ""
             }
            },
            "type": "scattergeo"
           }
          ],
          "scattergl": [
           {
            "marker": {
             "colorbar": {
              "outlinewidth": 0,
              "ticks": ""
             }
            },
            "type": "scattergl"
           }
          ],
          "scattermap": [
           {
            "marker": {
             "colorbar": {
              "outlinewidth": 0,
              "ticks": ""
             }
            },
            "type": "scattermap"
           }
          ],
          "scattermapbox": [
           {
            "marker": {
             "colorbar": {
              "outlinewidth": 0,
              "ticks": ""
             }
            },
            "type": "scattermapbox"
           }
          ],
          "scatterpolar": [
           {
            "marker": {
             "colorbar": {
              "outlinewidth": 0,
              "ticks": ""
             }
            },
            "type": "scatterpolar"
           }
          ],
          "scatterpolargl": [
           {
            "marker": {
             "colorbar": {
              "outlinewidth": 0,
              "ticks": ""
             }
            },
            "type": "scatterpolargl"
           }
          ],
          "scatterternary": [
           {
            "marker": {
             "colorbar": {
              "outlinewidth": 0,
              "ticks": ""
             }
            },
            "type": "scatterternary"
           }
          ],
          "surface": [
           {
            "colorbar": {
             "outlinewidth": 0,
             "ticks": ""
            },
            "colorscale": [
             [
              0,
              "#0d0887"
             ],
             [
              0.1111111111111111,
              "#46039f"
             ],
             [
              0.2222222222222222,
              "#7201a8"
             ],
             [
              0.3333333333333333,
              "#9c179e"
             ],
             [
              0.4444444444444444,
              "#bd3786"
             ],
             [
              0.5555555555555556,
              "#d8576b"
             ],
             [
              0.6666666666666666,
              "#ed7953"
             ],
             [
              0.7777777777777778,
              "#fb9f3a"
             ],
             [
              0.8888888888888888,
              "#fdca26"
             ],
             [
              1,
              "#f0f921"
             ]
            ],
            "type": "surface"
           }
          ],
          "table": [
           {
            "cells": {
             "fill": {
              "color": "#EBF0F8"
             },
             "line": {
              "color": "white"
             }
            },
            "header": {
             "fill": {
              "color": "#C8D4E3"
             },
             "line": {
              "color": "white"
             }
            },
            "type": "table"
           }
          ]
         },
         "layout": {
          "annotationdefaults": {
           "arrowcolor": "#2a3f5f",
           "arrowhead": 0,
           "arrowwidth": 1
          },
          "autotypenumbers": "strict",
          "coloraxis": {
           "colorbar": {
            "outlinewidth": 0,
            "ticks": ""
           }
          },
          "colorscale": {
           "diverging": [
            [
             0,
             "#8e0152"
            ],
            [
             0.1,
             "#c51b7d"
            ],
            [
             0.2,
             "#de77ae"
            ],
            [
             0.3,
             "#f1b6da"
            ],
            [
             0.4,
             "#fde0ef"
            ],
            [
             0.5,
             "#f7f7f7"
            ],
            [
             0.6,
             "#e6f5d0"
            ],
            [
             0.7,
             "#b8e186"
            ],
            [
             0.8,
             "#7fbc41"
            ],
            [
             0.9,
             "#4d9221"
            ],
            [
             1,
             "#276419"
            ]
           ],
           "sequential": [
            [
             0,
             "#0d0887"
            ],
            [
             0.1111111111111111,
             "#46039f"
            ],
            [
             0.2222222222222222,
             "#7201a8"
            ],
            [
             0.3333333333333333,
             "#9c179e"
            ],
            [
             0.4444444444444444,
             "#bd3786"
            ],
            [
             0.5555555555555556,
             "#d8576b"
            ],
            [
             0.6666666666666666,
             "#ed7953"
            ],
            [
             0.7777777777777778,
             "#fb9f3a"
            ],
            [
             0.8888888888888888,
             "#fdca26"
            ],
            [
             1,
             "#f0f921"
            ]
           ],
           "sequentialminus": [
            [
             0,
             "#0d0887"
            ],
            [
             0.1111111111111111,
             "#46039f"
            ],
            [
             0.2222222222222222,
             "#7201a8"
            ],
            [
             0.3333333333333333,
             "#9c179e"
            ],
            [
             0.4444444444444444,
             "#bd3786"
            ],
            [
             0.5555555555555556,
             "#d8576b"
            ],
            [
             0.6666666666666666,
             "#ed7953"
            ],
            [
             0.7777777777777778,
             "#fb9f3a"
            ],
            [
             0.8888888888888888,
             "#fdca26"
            ],
            [
             1,
             "#f0f921"
            ]
           ]
          },
          "colorway": [
           "#636efa",
           "#EF553B",
           "#00cc96",
           "#ab63fa",
           "#FFA15A",
           "#19d3f3",
           "#FF6692",
           "#B6E880",
           "#FF97FF",
           "#FECB52"
          ],
          "font": {
           "color": "#2a3f5f"
          },
          "geo": {
           "bgcolor": "white",
           "lakecolor": "white",
           "landcolor": "#E5ECF6",
           "showlakes": true,
           "showland": true,
           "subunitcolor": "white"
          },
          "hoverlabel": {
           "align": "left"
          },
          "hovermode": "closest",
          "mapbox": {
           "style": "light"
          },
          "paper_bgcolor": "white",
          "plot_bgcolor": "#E5ECF6",
          "polar": {
           "angularaxis": {
            "gridcolor": "white",
            "linecolor": "white",
            "ticks": ""
           },
           "bgcolor": "#E5ECF6",
           "radialaxis": {
            "gridcolor": "white",
            "linecolor": "white",
            "ticks": ""
           }
          },
          "scene": {
           "xaxis": {
            "backgroundcolor": "#E5ECF6",
            "gridcolor": "white",
            "gridwidth": 2,
            "linecolor": "white",
            "showbackground": true,
            "ticks": "",
            "zerolinecolor": "white"
           },
           "yaxis": {
            "backgroundcolor": "#E5ECF6",
            "gridcolor": "white",
            "gridwidth": 2,
            "linecolor": "white",
            "showbackground": true,
            "ticks": "",
            "zerolinecolor": "white"
           },
           "zaxis": {
            "backgroundcolor": "#E5ECF6",
            "gridcolor": "white",
            "gridwidth": 2,
            "linecolor": "white",
            "showbackground": true,
            "ticks": "",
            "zerolinecolor": "white"
           }
          },
          "shapedefaults": {
           "line": {
            "color": "#2a3f5f"
           }
          },
          "ternary": {
           "aaxis": {
            "gridcolor": "white",
            "linecolor": "white",
            "ticks": ""
           },
           "baxis": {
            "gridcolor": "white",
            "linecolor": "white",
            "ticks": ""
           },
           "bgcolor": "#E5ECF6",
           "caxis": {
            "gridcolor": "white",
            "linecolor": "white",
            "ticks": ""
           }
          },
          "title": {
           "x": 0.05
          },
          "xaxis": {
           "automargin": true,
           "gridcolor": "white",
           "linecolor": "white",
           "ticks": "",
           "title": {
            "standoff": 15
           },
           "zerolinecolor": "white",
           "zerolinewidth": 2
          },
          "yaxis": {
           "automargin": true,
           "gridcolor": "white",
           "linecolor": "white",
           "ticks": "",
           "title": {
            "standoff": 15
           },
           "zerolinecolor": "white",
           "zerolinewidth": 2
          }
         }
        },
        "title": {
         "text": "temperature vs radius"
        },
        "xaxis": {
         "anchor": "y",
         "domain": [
          0,
          1
         ],
         "title": {
          "text": "temperature"
         },
         "type": "log"
        },
        "yaxis": {
         "anchor": "x",
         "domain": [
          0,
          1
         ],
         "title": {
          "text": "radius"
         },
         "type": "log"
        }
       }
      }
     },
     "metadata": {},
     "output_type": "display_data"
    }
   ],
   "source": [
    "fig = px.scatter(stars, x='temperature', y='radius', \n",
    "                 color='star_type', \n",
    "                 hover_name='star_type', \n",
    "                 log_x=True, \n",
    "                 log_y= True, \n",
    "                 title='temperature vs radius',\n",
    "                 height = 800)\n",
    "\n",
    "\n",
    "fig.show()"
   ]
  },
  {
   "cell_type": "code",
   "execution_count": 76,
   "metadata": {},
   "outputs": [
    {
     "data": {
      "application/vnd.plotly.v1+json": {
       "config": {
        "plotlyServerURL": "https://plot.ly"
       },
       "data": [
        {
         "hovertemplate": "<b>%{hovertext}</b><br><br>star_type=Brown Dwarf<br>luminosity=%{x}<br>radius=%{y}<extra></extra>",
         "hovertext": [
          "Red",
          "Red",
          "Red",
          "Red",
          "Red",
          "Red",
          "Red",
          "Red",
          "Red",
          "Red",
          "Red",
          "Red",
          "Red",
          "Red",
          "Red",
          "Red",
          "Red",
          "Red",
          "Red",
          "Red",
          "Red",
          "Red",
          "Red",
          "Red",
          "Red",
          "Red",
          "Red",
          "Red",
          "Red",
          "Red",
          "Red",
          "Red",
          "Red",
          "Red",
          "Red",
          "Red",
          "Red",
          "Red",
          "Red",
          "Red"
         ],
         "legendgroup": "Brown Dwarf",
         "marker": {
          "color": "#636efa",
          "symbol": "circle"
         },
         "mode": "markers",
         "name": "Brown Dwarf",
         "orientation": "v",
         "showlegend": true,
         "type": "scatter",
         "x": {
          "bdata": "YTJVMCqpYz/8qfHSTWJAP2EyVTAqqTM/LUMc6+I2Kj8cJET5ghYiP5T2Bl+YTEU/smMjEK/rRz8tQxzr4jY6PyMtlbcjnEY/D9b/OcyXJz/HuriNBvB2P9wRTgte9EU/aR1VTRB1Lz+An3HhQEg2P9L7xteeWSI/WBzO/GoOUD/xaOOItfg0P1gczvxqDlA/D9b/OcyXNz8P1v85zJdHPwOV8e8zLjw/fnTqymd5Tj+L4H8r2bFBP2EyVTAqqSM/8WjjiLX4RD+eDI6SV+dIP6ciFcYWgkw/ngyOklfnKD+3Xz5ZMVxNP4KOVrWkozw/tVII5BJHLj9ENpAuNq1EP1gczvxqDjA/bTfBN02fPT+gqGxYU1lEP6Im+nyUETc/x5xn7Es2Pj8lyXN9Hw5CP2ms/Z3t0Us/hAzk2eVbTz8=",
          "dtype": "f8"
         },
         "xaxis": "x",
         "y": {
          "bdata": "w/UoXI/CxT+Uh4Va07zDP+kmMQisHLo/exSuR+F6xD+R7Xw/NV66Pylcj8L1KLw/qMZLN4lBwD/6fmq8dJO4Pylcj8L1KLw/pHA9CtejwD/Jdr6fGi+tP1K4HoXrUcg/qvHSTWIQuD851sVtNIC3PxkEVg4tsr0/TDeJQWDlwD8CK4cW2c63P8NkqmBUUrc/aJHtfD81vj+4HoXrUbi+P9QrZRniWLc/B/AWSFD8uD8pXI/C9Si8PyS5/If027c/gZVDi2znuz9g5dAi2/m+PyS5/If027c/+Q/pt68Dtz9NFYxK6gS0PyegibDh6bU/BoGVQ4tstz8ZBFYOLbK9P1TjpZvEIMA/v30dOGdEuT+1FfvL7smzP9Sa5h2n6Lg/EFg5tMh2vj94CyQofoy5P3npJjEIrLw/UI2XbhKDwD8=",
          "dtype": "f8"
         },
         "yaxis": "y"
        },
        {
         "hovertemplate": "<b>%{hovertext}</b><br><br>star_type=Red Dwarf<br>luminosity=%{x}<br>radius=%{y}<extra></extra>",
         "hovertext": [
          "Red",
          "Red",
          "Red",
          "Red",
          "Red",
          "Red",
          "Red",
          "Red",
          "Red",
          "Red",
          "Red",
          "Red",
          "Red",
          "Red",
          "Red",
          "Red",
          "Red",
          "Red",
          "Red",
          "Red",
          "Red",
          "Red",
          "Red",
          "Red",
          "Red",
          "Red",
          "Red",
          "Red",
          "Red",
          "Red",
          "Red",
          "Red",
          "Red",
          "Red",
          "Red",
          "Red",
          "Red",
          "Red",
          "Red",
          "Red"
         ],
         "legendgroup": "Red Dwarf",
         "marker": {
          "color": "#EF553B",
          "symbol": "circle"
         },
         "mode": "markers",
         "name": "Red Dwarf",
         "orientation": "v",
         "showlegend": true,
         "type": "scatter",
         "x": {
          "bdata": "4JwRpb3BZz8H8BZIUPyIPy1DHOviNjo/ukkMAiuHdj9hMlUwKqlDP8WPMXctIW8/kst/SL99XT9xAz4/jBBuP2SSkbOwp20/K4cW2c73oz8bL90kBoGVP7pJDAIrh5Y/nMQgsHJogT8vbqMBvAWCP/yp8dJNYnA//Knx0k1iUD9fB84ZUdprP/p+arx0k1g/YTJVMCqpQz+u2F92Tx5WP54MjpJX5yg/2ubG9IQlLj/8qfHSTWKAP6g1zTtO0YE/kst/SL99TT9IUPwYc9diP4Lix5i7loA/L26jAbwFUj9fB84ZUdprP5T2Bl+YTFU/oWez6nO1dT9hMlUwKqljP5LLf0i/fX0/LUMc6+I2Wj+u2F92Tx52P67YX3ZPHmY/OIQqNXugVT97FK5H4XpUPzm0yHa+n3o/rthfdk8eZj8=",
          "dtype": "f8"
         },
         "xaxis": "x",
         "y": {
          "bdata": "UrgehetR4D9uowG8BRLYP0oMAiuHFsk/9P3UeOkm2T/sUbgehevBP7gehetRuM4/exSuR+F6xD8UrkfhehTePwXFjzF3Lck/EFg5tMh21j9GtvP91HjRP1K4HoXrUdg/CtejcD0Kxz9mZmZmZmbWPzm0yHa+n9I/ZmZmZmZm1j+4HoXrUbjOP9nO91PjpdM/SgwCK4cWuT/P91PjpZvEP7ByaJHtfN8/UrgehetR2D/Xo3A9CtfTP8P1KFyPwtU/16NwPQrX4z9cj8L1KFznP7gehetRuM4/7FG4HoXr4T/D9Shcj8LVP/yp8dJNYtA/i2zn+6nxwj9xPQrXo3DdP+xRuB6F69E//tR46SYx2D/RItv5fmrUP3E9CtejcOU/UI2XbhKD0D8bL90kBoHVP76fGi/dJN4/mpmZmZmZ5T8=",
          "dtype": "f8"
         },
         "yaxis": "y"
        },
        {
         "hovertemplate": "<b>%{hovertext}</b><br><br>star_type=White Dwarf<br>luminosity=%{x}<br>radius=%{y}<extra></extra>",
         "hovertext": [
          "Blue White",
          "White",
          "White",
          "White",
          "Blue White",
          "Yellowish White",
          "Blue white",
          "Yellowish White",
          "Yellowish White",
          "Pale yellow orange",
          "White-Yellow",
          "White",
          "white",
          "Blue White",
          "Blue White",
          "Blue White",
          "Blue White",
          "Blue White",
          "white",
          "Blue ",
          "Blue White",
          "Blue",
          "Blue",
          "Blue White",
          "Blue white ",
          "Blue white",
          "Blue white",
          "white",
          "White",
          "Blue White",
          "Blue",
          "Blue",
          "Blue",
          "Blue",
          "Blue",
          "Blue",
          "Blue",
          "Blue",
          "Blue",
          "Blue"
         ],
         "legendgroup": "White Dwarf",
         "marker": {
          "color": "#00cc96",
          "symbol": "circle"
         },
         "mode": "markers",
         "name": "White Dwarf",
         "orientation": "v",
         "showlegend": true,
         "type": "scatter",
         "x": {
          "bdata": "eekmMQisrD9YHM78ag5AP4CfceFASCY//Knx0k1iQD85tMh2vp+KP4CfceFASBY/0NA/wcWKSj9LsDic+dUcP2EyVTAqqSM/8WjjiLX4FD8aFw6EZAEzP9L7xteeWSI/0vvG155ZQj9YHM78ag5QP9wRTgte9EU/kst/SL99PT/lJ9U+HY9JP1bxRuaRP0g/D9b/OcyXJz8vbqMBvAVSP76kMVpHVUM/+n5qvHSTWD+U9gZfmExVP3ReY5eo3ko/3BFOC170RT/S+8bXnlkyP2tI3GPpQ0c/S7A4nPnVHD/S+8bXnlkiP0uwOJz51Uw/x7q4jQbwVj8FwHgGDf1TP76kMVpHVVM/XaeRlsrbUT/cEU4LXvRVP+Un1T4dj1k/W3wKgPEMWj84hCo1e6BVPwE1tWytL1I/exSuR+F6VD8=",
          "dtype": "f8"
         },
         "xaxis": "x",
         "y": {
          "bdata": "FYxK6gQ0gT/2C3bDtkWJP7pJDAIrh4Y/exSuR+F6hD956SYxCKyMP9eGinH+JoQ/6Gor9pfdgz8tQxzr4jaKP7pJDAIrh4Y/ObTIdr6fij/6fmq8dJOIP0hQ/Bhz14I/2/l+arx0gz+4HoXrUbiOP7WmeccpOoI/NBE2PL1Shj9IUPwYc9eCP6g1zTtO0YE/ahg+IqZEgj/A7J48LNSKP0jcY+lDF4Q/x7q4jQbwhj83bFuU2SCDP5zc71AU6IM/h22LMhtkgj9UNUHUfQCCP5jdk4eFWoM/ahg+IqZEgj96/N6mP/uBPxIxJZLoZYQ/gLdAguLHiD/UK2UZ4liHP03zjlN0JIc/4JwRpb3Bhz8TYcPTK2WJP4Za07zjFI0/pgpGJXUCij+U9gZfmEyFP6Fns+pztYU/xqLp7GRwhD8=",
          "dtype": "f8"
         },
         "yaxis": "y"
        },
        {
         "hovertemplate": "<b>%{hovertext}</b><br><br>star_type=Main Sequence<br>luminosity=%{x}<br>radius=%{y}<extra></extra>",
         "hovertext": [
          "Blue",
          "Blue-white",
          "Blue-white",
          "Whitish",
          "yellow-white",
          "Whitish",
          "yellow-white",
          "yellow-white",
          "yellow-white",
          "yellow-white",
          "yellow-white",
          "yellowish",
          "yellowish",
          "Yellowish",
          "Blue-white",
          "Blue-white",
          "Orange-Red",
          "yellow-white",
          "Blue-white",
          "Blue",
          "Blue-white",
          "Blue-White",
          "Blue-white",
          "Blue-white",
          "Blue-white",
          "Blue-white",
          "Blue-white",
          "Blue-white",
          "Blue-white",
          "Blue",
          "Blue-white",
          "Blue-white",
          "Blue-white",
          "Blue-white",
          "Blue",
          "Blue",
          "Blue-white",
          "Blue-white",
          "Blue-white",
          "yellow-white"
         ],
         "legendgroup": "Main Sequence",
         "marker": {
          "color": "#ab63fa",
          "symbol": "circle"
         },
         "mode": "markers",
         "name": "Main Sequence",
         "orientation": "v",
         "showlegend": true,
         "type": "scatter",
         "x": {
          "bdata": "AAAAAADnCEEAAAAAACrcQAAAAAAAwJFAAAAAAACAUkDsUbgehevpP2ZmZmZmZiFA4XoUrkfh9j+amZmZmZn1P4PAyqFFtvU/aJHtfD816j/hehSuR+HiPy/dJAaBlcM/w/UoXI/CtT8MAiuHFtnWPwAAAAAAgEZAAAAAAAAAhUApXI/C9SjkP65H4XoUrh9AAAAAAACIhUAAAAAAgCsIQQAAAAAA8wZBAAAAAAAAQ0AAAAAAABCRQAAAAAAA+JNAAAAAAABSzEAAAAAAgGXQQAAAAAAAXMxAAAAAAABwskAAAAAAADCPQAAAAACgxAhBAAAAAABRyEAAAAAAAECBQAAAAAAAoIhAAAAAAABcukAAAAAAwDEIQQAAAABANwVBAAAAAAAAPUAAAAAAAFTFQAAAAAAAmItAAAAAAACAIkA=",
          "dtype": "f8"
         },
         "xaxis": "x",
         "y": {
          "bdata": "MzMzMzMzJUAzMzMzMzMZQM3MzMzMzBxAH4XrUbgeB0DNzMzMzMzsP83MzMzMzPw/7FG4HoXr8T9cj8L1KFzvPxkEVg4tsvE/rkfhehSu7z8fhetRuB7tP65H4XoUrus/cT0K16Nw6T8UrkfhehTyPwrXo3A9CgVA7FG4HoXrG0DVeOkmMQjsP3E9CtejcPU/CtejcD0KHEBmZmZmZmYkQBSuR+F6FBhATDeJQWDlA0B7FK5H4foWQLgehetRuBZArkfhehSuF0CamZmZmZkZQPYoXI/C9RVAH4XrUbgeG0DXo3A9CtcYQHE9CtejcBtAcT0K16NwGUAGgZVDi2wXQCuHFtnO9xdAj8L1KFyPGkCPwvUoXI8ZQKabxCCw8hhAj8L1KFyP/j8fhetRuB4YQOkmMQisnBZA4XoUrkfh/j8=",
          "dtype": "f8"
         },
         "yaxis": "y"
        },
        {
         "hovertemplate": "<b>%{hovertext}</b><br><br>star_type=Super Giant<br>luminosity=%{x}<br>radius=%{y}<extra></extra>",
         "hovertext": [
          "Red",
          "Red",
          "Red",
          "Red",
          "Red",
          "Red",
          "Red",
          "Red",
          "Red",
          "Blue",
          "Blue",
          "Blue",
          "Blue",
          "Blue",
          "Blue",
          "Blue",
          "Blue",
          "Blue",
          "Blue",
          "Blue",
          "Blue",
          "Blue",
          "Blue",
          "Blue",
          "Blue",
          "Blue",
          "Blue",
          "Blue",
          "Blue",
          "Blue",
          "Blue",
          "Blue",
          "Blue",
          "Blue",
          "Blue",
          "Blue",
          "Blue",
          "Blue",
          "Blue",
          "Blue"
         ],
         "legendgroup": "Super Giant",
         "marker": {
          "color": "#FFA15A",
          "symbol": "circle"
         },
         "mode": "markers",
         "name": "Super Giant",
         "orientation": "v",
         "showlegend": true,
         "type": "scatter",
         "x": {
          "bdata": "AAAAAABqCEEAAAAAgMAUQQAAAACATwJBAAAAAMDNB0EAAAAAABcRQQAAAAAAiBNBAAAAAIAH/kAAAAAAAGoIQQAAAAAAdgZBAAAAAADbCkEAAAAAAEwNQQAAAACQzyhBAAAAAIAB/0AAAAAAwK8MQQAAAAAAWPtAAAAAAMAyDEEAAAAA4CcWQQAAAAAAdgZBAAAAAIBVAUEAAAAAAHwVQQAAAADAOAtBAAAAAMCjDkEAAAAAgJYbQQAAAABA6A1BAAAAAMAsDUEAAAAAgPv/QAAAAAAAjgJBAAAAAIArCEEAAAAA0O0UQQAAAAAg6RlBAAAAABDSDUEAAAAAoEsUQQAAAABw7hRBAAAAAKxmIEEAAAAAUB4OQQAAAABgcAtBAAAAANgfIkEAAAAAdOwnQQAAAACwOhVBAAAAALTaJkE=",
          "dtype": "f8"
         },
         "xaxis": "x",
         "y": {
          "bdata": "AAAAAAAAM0AAAAAAAAA3QAAAAAAAAFZAAAAAAAAAMUAAAAAAAAA5QAAAAAAAAD1AAAAAAACARkAAAAAAAEBWQAAAAAAAAFVAAAAAAAAAOkAAAAAAAAAoQAAAAAAAACxAAAAAAAAAQkAAAAAAAMBUQAAAAAAAAChAAAAAAAAARUAAAAAAAIBPQAAAAAAAAEJAAAAAAACATEAAAAAAAMBQQAAAAAAAgExAAAAAAAAAQkAAAAAAAMBUQAAAAAAAQFhAAAAAAACAQUAAAAAAAAA4QAAAAAAAQFJAAAAAAACAQ0AAAAAAAAA+QAAAAAAAADhAAAAAAACAQUAAAAAAAABTQAAAAAAAgFhAAAAAAABAVEAAAAAAAABPQAAAAAAAAEdAAAAAAAAAVEAAAAAAAAA5QAAAAAAAgFVAAAAAAAAAV0A=",
          "dtype": "f8"
         },
         "yaxis": "y"
        },
        {
         "hovertemplate": "<b>%{hovertext}</b><br><br>star_type=Hyper Giant<br>luminosity=%{x}<br>radius=%{y}<extra></extra>",
         "hovertext": [
          "Red",
          "Red",
          "Red",
          "Orange",
          "Red",
          "Red",
          "Red",
          "Red",
          "Red",
          "Red",
          "Red",
          "Red",
          "Red",
          "Red",
          "Red",
          "Red",
          "Red",
          "Red",
          "Red",
          "Red",
          "Red",
          "Red",
          "Orange",
          "Blue",
          "Red",
          "Red",
          "Blue",
          "Blue-white",
          "Blue-white",
          "Blue-white",
          "Blue-white",
          "Blue",
          "Blue",
          "Blue-white",
          "Blue-white",
          "Blue",
          "Blue",
          "White",
          "White",
          "Blue"
         ],
         "legendgroup": "Hyper Giant",
         "marker": {
          "color": "#19d3f3",
          "symbol": "circle"
         },
         "mode": "markers",
         "name": "Hyper Giant",
         "orientation": "v",
         "showlegend": true,
         "type": "scatter",
         "x": {
          "bdata": "AAAAAMB6EEEAAAAA4EURQQAAAAAAmhBBAAAAAODIIEEAAAAAwOsSQQAAAABgDRBBAAAAAOAnFkEAAAAAgD0FQQAAAABAgwlBAAAAAMDNB0EAAAAAAGr4QAAAAAAAw/5AAAAAAABqCEEAAAAAgJD8QAAAAAAAHQBBAAAAAECzAUEAAAAAQDYRQQAAAAAAEfJAAAAAAED0C0EAAAAAAGoIQQAAAAAAiBNBAAAAAIDYAEEAAAAA4DkjQQAAAACASRNBAAAAAABMDUEAAAAAQLMBQQAAAAAAaghBAAAAAIDABEEAAAAAAEz9QAAAAABQVQ5BAAAAAERgF0EAAAAA+KYQQQAAAADcySNBAAAAABjsKUEAAAAAlNcmQQAAAAC44BZBAAAAAPRzKUEAAAAAKmcgQQAAAAAwtxhBAAAAANz/EUE=",
          "dtype": "f8"
         },
         "xaxis": "x",
         "y": {
          "bdata": "AAAAAADAl0AAAAAAALCTQAAAAAAAfJJAAAAAAADAmUAAAAAAALCUQAAAAAAAFJVAAAAAAAAkmkAAAAAAABCUQAAAAAAA2I1AAAAAAAAomEAAAAAAACSUQAAAAAAAkJFAAAAAAACMmUAAAAAAADiXQAAAAAAAyJdAAAAAAACwlEAAAAAAAPiXQAAAAAAAYItAAAAAAADslkAAAAAAALCUQAAAAAAAIJdAAAAAAAAwlkAAAAAAAIyUQAAAAAAAPJpAAAAAAACYkkAAAAAAAESYQAAAAAAAVJBAAAAAAADMm0AzMzMzMyeGQAAAAAAAupFAAAAAAABYl0AAAAAAADCVQAAAAAAAcp5AAAAAAACQk0AAAAAAAKiRQAAAAAAAMJVAAAAAAACokkAAAAAAADyWQAAAAAAAYJFAAAAAAADcm0A=",
          "dtype": "f8"
         },
         "yaxis": "y"
        }
       ],
       "layout": {
        "height": 800,
        "legend": {
         "title": {
          "text": "star_type"
         },
         "tracegroupgap": 0
        },
        "template": {
         "data": {
          "bar": [
           {
            "error_x": {
             "color": "#2a3f5f"
            },
            "error_y": {
             "color": "#2a3f5f"
            },
            "marker": {
             "line": {
              "color": "#E5ECF6",
              "width": 0.5
             },
             "pattern": {
              "fillmode": "overlay",
              "size": 10,
              "solidity": 0.2
             }
            },
            "type": "bar"
           }
          ],
          "barpolar": [
           {
            "marker": {
             "line": {
              "color": "#E5ECF6",
              "width": 0.5
             },
             "pattern": {
              "fillmode": "overlay",
              "size": 10,
              "solidity": 0.2
             }
            },
            "type": "barpolar"
           }
          ],
          "carpet": [
           {
            "aaxis": {
             "endlinecolor": "#2a3f5f",
             "gridcolor": "white",
             "linecolor": "white",
             "minorgridcolor": "white",
             "startlinecolor": "#2a3f5f"
            },
            "baxis": {
             "endlinecolor": "#2a3f5f",
             "gridcolor": "white",
             "linecolor": "white",
             "minorgridcolor": "white",
             "startlinecolor": "#2a3f5f"
            },
            "type": "carpet"
           }
          ],
          "choropleth": [
           {
            "colorbar": {
             "outlinewidth": 0,
             "ticks": ""
            },
            "type": "choropleth"
           }
          ],
          "contour": [
           {
            "colorbar": {
             "outlinewidth": 0,
             "ticks": ""
            },
            "colorscale": [
             [
              0,
              "#0d0887"
             ],
             [
              0.1111111111111111,
              "#46039f"
             ],
             [
              0.2222222222222222,
              "#7201a8"
             ],
             [
              0.3333333333333333,
              "#9c179e"
             ],
             [
              0.4444444444444444,
              "#bd3786"
             ],
             [
              0.5555555555555556,
              "#d8576b"
             ],
             [
              0.6666666666666666,
              "#ed7953"
             ],
             [
              0.7777777777777778,
              "#fb9f3a"
             ],
             [
              0.8888888888888888,
              "#fdca26"
             ],
             [
              1,
              "#f0f921"
             ]
            ],
            "type": "contour"
           }
          ],
          "contourcarpet": [
           {
            "colorbar": {
             "outlinewidth": 0,
             "ticks": ""
            },
            "type": "contourcarpet"
           }
          ],
          "heatmap": [
           {
            "colorbar": {
             "outlinewidth": 0,
             "ticks": ""
            },
            "colorscale": [
             [
              0,
              "#0d0887"
             ],
             [
              0.1111111111111111,
              "#46039f"
             ],
             [
              0.2222222222222222,
              "#7201a8"
             ],
             [
              0.3333333333333333,
              "#9c179e"
             ],
             [
              0.4444444444444444,
              "#bd3786"
             ],
             [
              0.5555555555555556,
              "#d8576b"
             ],
             [
              0.6666666666666666,
              "#ed7953"
             ],
             [
              0.7777777777777778,
              "#fb9f3a"
             ],
             [
              0.8888888888888888,
              "#fdca26"
             ],
             [
              1,
              "#f0f921"
             ]
            ],
            "type": "heatmap"
           }
          ],
          "histogram": [
           {
            "marker": {
             "pattern": {
              "fillmode": "overlay",
              "size": 10,
              "solidity": 0.2
             }
            },
            "type": "histogram"
           }
          ],
          "histogram2d": [
           {
            "colorbar": {
             "outlinewidth": 0,
             "ticks": ""
            },
            "colorscale": [
             [
              0,
              "#0d0887"
             ],
             [
              0.1111111111111111,
              "#46039f"
             ],
             [
              0.2222222222222222,
              "#7201a8"
             ],
             [
              0.3333333333333333,
              "#9c179e"
             ],
             [
              0.4444444444444444,
              "#bd3786"
             ],
             [
              0.5555555555555556,
              "#d8576b"
             ],
             [
              0.6666666666666666,
              "#ed7953"
             ],
             [
              0.7777777777777778,
              "#fb9f3a"
             ],
             [
              0.8888888888888888,
              "#fdca26"
             ],
             [
              1,
              "#f0f921"
             ]
            ],
            "type": "histogram2d"
           }
          ],
          "histogram2dcontour": [
           {
            "colorbar": {
             "outlinewidth": 0,
             "ticks": ""
            },
            "colorscale": [
             [
              0,
              "#0d0887"
             ],
             [
              0.1111111111111111,
              "#46039f"
             ],
             [
              0.2222222222222222,
              "#7201a8"
             ],
             [
              0.3333333333333333,
              "#9c179e"
             ],
             [
              0.4444444444444444,
              "#bd3786"
             ],
             [
              0.5555555555555556,
              "#d8576b"
             ],
             [
              0.6666666666666666,
              "#ed7953"
             ],
             [
              0.7777777777777778,
              "#fb9f3a"
             ],
             [
              0.8888888888888888,
              "#fdca26"
             ],
             [
              1,
              "#f0f921"
             ]
            ],
            "type": "histogram2dcontour"
           }
          ],
          "mesh3d": [
           {
            "colorbar": {
             "outlinewidth": 0,
             "ticks": ""
            },
            "type": "mesh3d"
           }
          ],
          "parcoords": [
           {
            "line": {
             "colorbar": {
              "outlinewidth": 0,
              "ticks": ""
             }
            },
            "type": "parcoords"
           }
          ],
          "pie": [
           {
            "automargin": true,
            "type": "pie"
           }
          ],
          "scatter": [
           {
            "fillpattern": {
             "fillmode": "overlay",
             "size": 10,
             "solidity": 0.2
            },
            "type": "scatter"
           }
          ],
          "scatter3d": [
           {
            "line": {
             "colorbar": {
              "outlinewidth": 0,
              "ticks": ""
             }
            },
            "marker": {
             "colorbar": {
              "outlinewidth": 0,
              "ticks": ""
             }
            },
            "type": "scatter3d"
           }
          ],
          "scattercarpet": [
           {
            "marker": {
             "colorbar": {
              "outlinewidth": 0,
              "ticks": ""
             }
            },
            "type": "scattercarpet"
           }
          ],
          "scattergeo": [
           {
            "marker": {
             "colorbar": {
              "outlinewidth": 0,
              "ticks": ""
             }
            },
            "type": "scattergeo"
           }
          ],
          "scattergl": [
           {
            "marker": {
             "colorbar": {
              "outlinewidth": 0,
              "ticks": ""
             }
            },
            "type": "scattergl"
           }
          ],
          "scattermap": [
           {
            "marker": {
             "colorbar": {
              "outlinewidth": 0,
              "ticks": ""
             }
            },
            "type": "scattermap"
           }
          ],
          "scattermapbox": [
           {
            "marker": {
             "colorbar": {
              "outlinewidth": 0,
              "ticks": ""
             }
            },
            "type": "scattermapbox"
           }
          ],
          "scatterpolar": [
           {
            "marker": {
             "colorbar": {
              "outlinewidth": 0,
              "ticks": ""
             }
            },
            "type": "scatterpolar"
           }
          ],
          "scatterpolargl": [
           {
            "marker": {
             "colorbar": {
              "outlinewidth": 0,
              "ticks": ""
             }
            },
            "type": "scatterpolargl"
           }
          ],
          "scatterternary": [
           {
            "marker": {
             "colorbar": {
              "outlinewidth": 0,
              "ticks": ""
             }
            },
            "type": "scatterternary"
           }
          ],
          "surface": [
           {
            "colorbar": {
             "outlinewidth": 0,
             "ticks": ""
            },
            "colorscale": [
             [
              0,
              "#0d0887"
             ],
             [
              0.1111111111111111,
              "#46039f"
             ],
             [
              0.2222222222222222,
              "#7201a8"
             ],
             [
              0.3333333333333333,
              "#9c179e"
             ],
             [
              0.4444444444444444,
              "#bd3786"
             ],
             [
              0.5555555555555556,
              "#d8576b"
             ],
             [
              0.6666666666666666,
              "#ed7953"
             ],
             [
              0.7777777777777778,
              "#fb9f3a"
             ],
             [
              0.8888888888888888,
              "#fdca26"
             ],
             [
              1,
              "#f0f921"
             ]
            ],
            "type": "surface"
           }
          ],
          "table": [
           {
            "cells": {
             "fill": {
              "color": "#EBF0F8"
             },
             "line": {
              "color": "white"
             }
            },
            "header": {
             "fill": {
              "color": "#C8D4E3"
             },
             "line": {
              "color": "white"
             }
            },
            "type": "table"
           }
          ]
         },
         "layout": {
          "annotationdefaults": {
           "arrowcolor": "#2a3f5f",
           "arrowhead": 0,
           "arrowwidth": 1
          },
          "autotypenumbers": "strict",
          "coloraxis": {
           "colorbar": {
            "outlinewidth": 0,
            "ticks": ""
           }
          },
          "colorscale": {
           "diverging": [
            [
             0,
             "#8e0152"
            ],
            [
             0.1,
             "#c51b7d"
            ],
            [
             0.2,
             "#de77ae"
            ],
            [
             0.3,
             "#f1b6da"
            ],
            [
             0.4,
             "#fde0ef"
            ],
            [
             0.5,
             "#f7f7f7"
            ],
            [
             0.6,
             "#e6f5d0"
            ],
            [
             0.7,
             "#b8e186"
            ],
            [
             0.8,
             "#7fbc41"
            ],
            [
             0.9,
             "#4d9221"
            ],
            [
             1,
             "#276419"
            ]
           ],
           "sequential": [
            [
             0,
             "#0d0887"
            ],
            [
             0.1111111111111111,
             "#46039f"
            ],
            [
             0.2222222222222222,
             "#7201a8"
            ],
            [
             0.3333333333333333,
             "#9c179e"
            ],
            [
             0.4444444444444444,
             "#bd3786"
            ],
            [
             0.5555555555555556,
             "#d8576b"
            ],
            [
             0.6666666666666666,
             "#ed7953"
            ],
            [
             0.7777777777777778,
             "#fb9f3a"
            ],
            [
             0.8888888888888888,
             "#fdca26"
            ],
            [
             1,
             "#f0f921"
            ]
           ],
           "sequentialminus": [
            [
             0,
             "#0d0887"
            ],
            [
             0.1111111111111111,
             "#46039f"
            ],
            [
             0.2222222222222222,
             "#7201a8"
            ],
            [
             0.3333333333333333,
             "#9c179e"
            ],
            [
             0.4444444444444444,
             "#bd3786"
            ],
            [
             0.5555555555555556,
             "#d8576b"
            ],
            [
             0.6666666666666666,
             "#ed7953"
            ],
            [
             0.7777777777777778,
             "#fb9f3a"
            ],
            [
             0.8888888888888888,
             "#fdca26"
            ],
            [
             1,
             "#f0f921"
            ]
           ]
          },
          "colorway": [
           "#636efa",
           "#EF553B",
           "#00cc96",
           "#ab63fa",
           "#FFA15A",
           "#19d3f3",
           "#FF6692",
           "#B6E880",
           "#FF97FF",
           "#FECB52"
          ],
          "font": {
           "color": "#2a3f5f"
          },
          "geo": {
           "bgcolor": "white",
           "lakecolor": "white",
           "landcolor": "#E5ECF6",
           "showlakes": true,
           "showland": true,
           "subunitcolor": "white"
          },
          "hoverlabel": {
           "align": "left"
          },
          "hovermode": "closest",
          "mapbox": {
           "style": "light"
          },
          "paper_bgcolor": "white",
          "plot_bgcolor": "#E5ECF6",
          "polar": {
           "angularaxis": {
            "gridcolor": "white",
            "linecolor": "white",
            "ticks": ""
           },
           "bgcolor": "#E5ECF6",
           "radialaxis": {
            "gridcolor": "white",
            "linecolor": "white",
            "ticks": ""
           }
          },
          "scene": {
           "xaxis": {
            "backgroundcolor": "#E5ECF6",
            "gridcolor": "white",
            "gridwidth": 2,
            "linecolor": "white",
            "showbackground": true,
            "ticks": "",
            "zerolinecolor": "white"
           },
           "yaxis": {
            "backgroundcolor": "#E5ECF6",
            "gridcolor": "white",
            "gridwidth": 2,
            "linecolor": "white",
            "showbackground": true,
            "ticks": "",
            "zerolinecolor": "white"
           },
           "zaxis": {
            "backgroundcolor": "#E5ECF6",
            "gridcolor": "white",
            "gridwidth": 2,
            "linecolor": "white",
            "showbackground": true,
            "ticks": "",
            "zerolinecolor": "white"
           }
          },
          "shapedefaults": {
           "line": {
            "color": "#2a3f5f"
           }
          },
          "ternary": {
           "aaxis": {
            "gridcolor": "white",
            "linecolor": "white",
            "ticks": ""
           },
           "baxis": {
            "gridcolor": "white",
            "linecolor": "white",
            "ticks": ""
           },
           "bgcolor": "#E5ECF6",
           "caxis": {
            "gridcolor": "white",
            "linecolor": "white",
            "ticks": ""
           }
          },
          "title": {
           "x": 0.05
          },
          "xaxis": {
           "automargin": true,
           "gridcolor": "white",
           "linecolor": "white",
           "ticks": "",
           "title": {
            "standoff": 15
           },
           "zerolinecolor": "white",
           "zerolinewidth": 2
          },
          "yaxis": {
           "automargin": true,
           "gridcolor": "white",
           "linecolor": "white",
           "ticks": "",
           "title": {
            "standoff": 15
           },
           "zerolinecolor": "white",
           "zerolinewidth": 2
          }
         }
        },
        "title": {
         "text": "luminosity vs radius"
        },
        "xaxis": {
         "anchor": "y",
         "domain": [
          0,
          1
         ],
         "title": {
          "text": "luminosity"
         },
         "type": "log"
        },
        "yaxis": {
         "anchor": "x",
         "domain": [
          0,
          1
         ],
         "title": {
          "text": "radius"
         },
         "type": "log"
        }
       }
      }
     },
     "metadata": {},
     "output_type": "display_data"
    }
   ],
   "source": [
    "fig = px.scatter(stars, x='luminosity', y='radius', \n",
    "                 color='star_type', \n",
    "                 hover_name='star_color', \n",
    "                 log_x=True, \n",
    "                 log_y= True, \n",
    "                 title='luminosity vs radius',\n",
    "                 height = 800)\n",
    "\n",
    "\n",
    "fig.show()"
   ]
  },
  {
   "cell_type": "code",
   "execution_count": 80,
   "metadata": {},
   "outputs": [
    {
     "data": {
      "application/vnd.plotly.v1+json": {
       "config": {
        "plotlyServerURL": "https://plot.ly"
       },
       "data": [
        {
         "hovertemplate": "<b>%{hovertext}</b><br><br>star_type=Brown Dwarf<br>absolute_magnitude=%{x}<br>radius=%{y}<extra></extra>",
         "hovertext": [
          "Red",
          "Red",
          "Red",
          "Red",
          "Red",
          "Red",
          "Red",
          "Red",
          "Red",
          "Red",
          "Red",
          "Red",
          "Red",
          "Red",
          "Red",
          "Red",
          "Red",
          "Red",
          "Red",
          "Red",
          "Red",
          "Red",
          "Red",
          "Red",
          "Red",
          "Red",
          "Red",
          "Red",
          "Red",
          "Red",
          "Red",
          "Red",
          "Red",
          "Red",
          "Red",
          "Red",
          "Red",
          "Red",
          "Red",
          "Red"
         ],
         "legendgroup": "Brown Dwarf",
         "marker": {
          "color": "#636efa",
          "symbol": "circle"
         },
         "mode": "markers",
         "name": "Brown Dwarf",
         "orientation": "v",
         "showlegend": true,
         "type": "scatter",
         "x": {
          "bdata": "H4XrUbgeMECamZmZmZkwQDMzMzMzszJAZmZmZmamMECPwvUoXA80QHsUrkfh+jBAuB6F61E4MUBmZmZmZmYxQDMzMzMzczFAzczMzMwMMEB7FK5H4TowQHE9Ctej8DBA16NwPQoXMED2KFyPwvUwQKRwPQrX4zJA4XoUrkchMUDXo3A9ClcyQDMzMzMzczBApHA9CtdjMUCuR+F6FG4zQClcj8L1KDFAcT0K16PwM0CF61G4HgU0QOxRuB6F6zBAH4XrUbgeMUDhehSuR6EzQOF6FK5H4TBA9ihcj8K1MECPwvUoXI8zQNejcD0KFzJA9ihcj8I1MECkcD0K12MyQI/C9ShcjzFA16NwPQpXMUAUrkfhehQxQK5H4XoU7jBAMzMzMzNzMUDsUbgehaswQDMzMzMzczNAmpmZmZlZMEA=",
          "dtype": "f8"
         },
         "xaxis": "x",
         "y": {
          "bdata": "w/UoXI/CxT+Uh4Va07zDP+kmMQisHLo/exSuR+F6xD+R7Xw/NV66Pylcj8L1KLw/qMZLN4lBwD/6fmq8dJO4Pylcj8L1KLw/pHA9CtejwD/Jdr6fGi+tP1K4HoXrUcg/qvHSTWIQuD851sVtNIC3PxkEVg4tsr0/TDeJQWDlwD8CK4cW2c63P8NkqmBUUrc/aJHtfD81vj+4HoXrUbi+P9QrZRniWLc/B/AWSFD8uD8pXI/C9Si8PyS5/If027c/gZVDi2znuz9g5dAi2/m+PyS5/If027c/+Q/pt68Dtz9NFYxK6gS0PyegibDh6bU/BoGVQ4tstz8ZBFYOLbK9P1TjpZvEIMA/v30dOGdEuT+1FfvL7smzP9Sa5h2n6Lg/EFg5tMh2vj94CyQofoy5P3npJjEIrLw/UI2XbhKDwD8=",
          "dtype": "f8"
         },
         "yaxis": "y"
        },
        {
         "hovertemplate": "<b>%{hovertext}</b><br><br>star_type=Red Dwarf<br>absolute_magnitude=%{x}<br>radius=%{y}<extra></extra>",
         "hovertext": [
          "Red",
          "Red",
          "Red",
          "Red",
          "Red",
          "Red",
          "Red",
          "Red",
          "Red",
          "Red",
          "Red",
          "Red",
          "Red",
          "Red",
          "Red",
          "Red",
          "Red",
          "Red",
          "Red",
          "Red",
          "Red",
          "Red",
          "Red",
          "Red",
          "Red",
          "Red",
          "Red",
          "Red",
          "Red",
          "Red",
          "Red",
          "Red",
          "Red",
          "Red",
          "Red",
          "Red",
          "Red",
          "Red",
          "Red",
          "Red"
         ],
         "legendgroup": "Red Dwarf",
         "marker": {
          "color": "#EF553B",
          "symbol": "circle"
         },
         "mode": "markers",
         "name": "Red Dwarf",
         "orientation": "v",
         "showlegend": true,
         "type": "scatter",
         "x": {
          "bdata": "4XoUrkdhJUAUrkfhepQnQOxRuB6FaypA9ihcj8L1JECq8dJNYpAnQKRwPQrXIypAFK5H4XqULUCamZmZmZklQI/C9ShcDytAXI/C9ShcJkCamZmZmZkoQD0K16NwPSRAZmZmZmZmKkDhehSuR+EnQEjhehSuxyVAhetRuB6FJ0DsUbgehesqQD0K16NwvSdAH4XrUbieKUD2KFyPwvUrQD0K16NwvSVArkfhehSuJEDXo3A9ClcmQD0K16NwPSpA9ihcj8J1LEAAAAAAAIAtQFyPwvUo3CZAhetRuB6FLED2KFyPwnUoQClcj8L1qCxAcT0K16PwJkD2KFyPwnUlQGZmZmZm5ipAaJHtfD+1KUBcj8L1KNwoQC/dJAaBVStAPQrXo3A9LEDhehSuR+EtQI/C9ShcjylAWmQ730+NLUA=",
          "dtype": "f8"
         },
         "xaxis": "x",
         "y": {
          "bdata": "UrgehetR4D9uowG8BRLYP0oMAiuHFsk/9P3UeOkm2T/sUbgehevBP7gehetRuM4/exSuR+F6xD8UrkfhehTePwXFjzF3Lck/EFg5tMh21j9GtvP91HjRP1K4HoXrUdg/CtejcD0Kxz9mZmZmZmbWPzm0yHa+n9I/ZmZmZmZm1j+4HoXrUbjOP9nO91PjpdM/SgwCK4cWuT/P91PjpZvEP7ByaJHtfN8/UrgehetR2D/Xo3A9CtfTP8P1KFyPwtU/16NwPQrX4z9cj8L1KFznP7gehetRuM4/7FG4HoXr4T/D9Shcj8LVP/yp8dJNYtA/i2zn+6nxwj9xPQrXo3DdP+xRuB6F69E//tR46SYx2D/RItv5fmrUP3E9CtejcOU/UI2XbhKD0D8bL90kBoHVP76fGi/dJN4/mpmZmZmZ5T8=",
          "dtype": "f8"
         },
         "yaxis": "y"
        },
        {
         "hovertemplate": "<b>%{hovertext}</b><br><br>star_type=White Dwarf<br>absolute_magnitude=%{x}<br>radius=%{y}<extra></extra>",
         "hovertext": [
          "Blue White",
          "White",
          "White",
          "White",
          "Blue White",
          "Yellowish White",
          "Blue white",
          "Yellowish White",
          "Yellowish White",
          "Pale yellow orange",
          "White-Yellow",
          "White",
          "white",
          "Blue White",
          "Blue White",
          "Blue White",
          "Blue White",
          "Blue White",
          "white",
          "Blue ",
          "Blue White",
          "Blue",
          "Blue",
          "Blue White",
          "Blue white ",
          "Blue white",
          "Blue white",
          "white",
          "White",
          "Blue White",
          "Blue",
          "Blue",
          "Blue",
          "Blue",
          "Blue",
          "Blue",
          "Blue",
          "Blue",
          "Blue",
          "Blue"
         ],
         "legendgroup": "White Dwarf",
         "marker": {
          "color": "#00cc96",
          "symbol": "circle"
         },
         "mode": "markers",
         "name": "White Dwarf",
         "orientation": "v",
         "showlegend": true,
         "type": "scatter",
         "x": {
          "bdata": "KVyPwvUoJUAK16NwPQosQPYoXI/CdSxAAAAAAAAALUBI4XoUrscnQPYoXI/CdShAZmZmZmZmLEBxPQrXo/AsQK5H4XoULilAKVyPwvUoLECuR+F6FC4sQArXo3A9CihAj8L1KFyPK0BmZmZmZuYoQNejcD0KVyhA9ihcj8L1K0DD9Shcj0IoQOF6FK5HYSZAcT0K16PwKUCuR+F6FK4mQNejcD0KVytACtejcD0KJ0CPwvUoXI8pQNejcD0K1ydAw/UoXI/CJkA9CtejcL0tQClcj8L1qClASOF6FK7HKUAfhetRuJ4tQPYoXI/CdSZAPQrXo3C9KUDXo3A9CtcnQPYoXI/CdShAzczMzMzMKUBxPQrXo3AmQK5H4XoUriZAmpmZmZkZJUBcj8L1KFwkQFK4HoXrUSdAPQrXo3A9J0A=",
          "dtype": "f8"
         },
         "xaxis": "x",
         "y": {
          "bdata": "FYxK6gQ0gT/2C3bDtkWJP7pJDAIrh4Y/exSuR+F6hD956SYxCKyMP9eGinH+JoQ/6Gor9pfdgz8tQxzr4jaKP7pJDAIrh4Y/ObTIdr6fij/6fmq8dJOIP0hQ/Bhz14I/2/l+arx0gz+4HoXrUbiOP7WmeccpOoI/NBE2PL1Shj9IUPwYc9eCP6g1zTtO0YE/ahg+IqZEgj/A7J48LNSKP0jcY+lDF4Q/x7q4jQbwhj83bFuU2SCDP5zc71AU6IM/h22LMhtkgj9UNUHUfQCCP5jdk4eFWoM/ahg+IqZEgj96/N6mP/uBPxIxJZLoZYQ/gLdAguLHiD/UK2UZ4liHP03zjlN0JIc/4JwRpb3Bhz8TYcPTK2WJP4Za07zjFI0/pgpGJXUCij+U9gZfmEyFP6Fns+pztYU/xqLp7GRwhD8=",
          "dtype": "f8"
         },
         "yaxis": "y"
        },
        {
         "hovertemplate": "<b>%{hovertext}</b><br><br>star_type=Main Sequence<br>absolute_magnitude=%{x}<br>radius=%{y}<extra></extra>",
         "hovertext": [
          "Blue",
          "Blue-white",
          "Blue-white",
          "Whitish",
          "yellow-white",
          "Whitish",
          "yellow-white",
          "yellow-white",
          "yellow-white",
          "yellow-white",
          "yellow-white",
          "yellowish",
          "yellowish",
          "Yellowish",
          "Blue-white",
          "Blue-white",
          "Orange-Red",
          "yellow-white",
          "Blue-white",
          "Blue",
          "Blue-white",
          "Blue-White",
          "Blue-white",
          "Blue-white",
          "Blue-white",
          "Blue-white",
          "Blue-white",
          "Blue-white",
          "Blue-white",
          "Blue",
          "Blue-white",
          "Blue-white",
          "Blue-white",
          "Blue-white",
          "Blue",
          "Blue",
          "Blue-white",
          "Blue-white",
          "Blue-white",
          "yellow-white"
         ],
         "legendgroup": "Main Sequence",
         "marker": {
          "color": "#ab63fa",
          "symbol": "circle"
         },
         "mode": "markers",
         "name": "Main Sequence",
         "orientation": "v",
         "showlegend": true,
         "type": "scatter",
         "x": {
          "bdata": "zczMzMzMEsDNzMzMzMwQwIXrUbgehf+/exSuR+F6xD8zMzMzMzMUQFyPwvUoXANASOF6FK5HA0BxPQrXo3AHQNejcD0K1xFAH4XrUbgeFED2KFyPwvUVQKAaL90kBhpAtvP91HjpGEAfhetRuB4TQDMzMzMzM/c/ZmZmZmZmAsC4HoXrUbgSQIXrUbgehQNAexSuR+F6lD+amZmZmZkRwArXo3A9ChDAuB6F61G4vj9SuB6F61EAwI/C9ShcjwrA16NwPQrXD8Bcj8L1KFwQwGZmZmZmZg7AMzMzMzMzC8AUrkfhehT2vz0K16NwPRLAXI/C9ShcDcA5tMh2vp+KP7gehetRuL6/ZmZmZmZmBMBI4XoUrkcSwHE9CtejcBHALbKd76fG8z+kcD0K16MIwB+F61G4HgXAXI/C9Shc778=",
          "dtype": "f8"
         },
         "xaxis": "x",
         "y": {
          "bdata": "MzMzMzMzJUAzMzMzMzMZQM3MzMzMzBxAH4XrUbgeB0DNzMzMzMzsP83MzMzMzPw/7FG4HoXr8T9cj8L1KFzvPxkEVg4tsvE/rkfhehSu7z8fhetRuB7tP65H4XoUrus/cT0K16Nw6T8UrkfhehTyPwrXo3A9CgVA7FG4HoXrG0DVeOkmMQjsP3E9CtejcPU/CtejcD0KHEBmZmZmZmYkQBSuR+F6FBhATDeJQWDlA0B7FK5H4foWQLgehetRuBZArkfhehSuF0CamZmZmZkZQPYoXI/C9RVAH4XrUbgeG0DXo3A9CtcYQHE9CtejcBtAcT0K16NwGUAGgZVDi2wXQCuHFtnO9xdAj8L1KFyPGkCPwvUoXI8ZQKabxCCw8hhAj8L1KFyP/j8fhetRuB4YQOkmMQisnBZA4XoUrkfh/j8=",
          "dtype": "f8"
         },
         "yaxis": "y"
        },
        {
         "hovertemplate": "<b>%{hovertext}</b><br><br>star_type=Super Giant<br>absolute_magnitude=%{x}<br>radius=%{y}<extra></extra>",
         "hovertext": [
          "Red",
          "Red",
          "Red",
          "Red",
          "Red",
          "Red",
          "Red",
          "Red",
          "Red",
          "Blue",
          "Blue",
          "Blue",
          "Blue",
          "Blue",
          "Blue",
          "Blue",
          "Blue",
          "Blue",
          "Blue",
          "Blue",
          "Blue",
          "Blue",
          "Blue",
          "Blue",
          "Blue",
          "Blue",
          "Blue",
          "Blue",
          "Blue",
          "Blue",
          "Blue",
          "Blue",
          "Blue",
          "Blue",
          "Blue",
          "Blue",
          "Blue",
          "Blue",
          "Blue",
          "Blue"
         ],
         "legendgroup": "Super Giant",
         "marker": {
          "color": "#FFA15A",
          "symbol": "circle"
         },
         "mode": "markers",
         "name": "Super Giant",
         "orientation": "v",
         "showlegend": true,
         "type": "scatter",
         "x": {
          "bdata": "uB6F61G4G8DNzMzMzMwYwBSuR+F6FBjA4XoUrkfhHMAAAAAAAAAYwGZmZmZmZhrAH4XrUbgeG8D2KFyPwvUUwPYoXI/C9RrAZmZmZmZmGMAAAAAAAAAawOxRuB6F6xjACtejcD0KF8CPwvUoXI8bwKRwPQrXoxfAexSuR+F6GMBSuB6F61EXwFyPwvUoXBnA9ihcj8L1GMApXI/C9SgXwK5H4XoUrhfAexSuR+H6GMB7FK5H4XoWwIXrUbgehRrAXI/C9ShcHcDhehSuR+EcwMP1KFyPwhbAUrgehetRF8Bcj8L1KFwYwPYoXI/C9RfAFK5H4XoUGcAUrkfhehQcwOxRuB6F6xvAZmZmZmbmF8BmZmZmZmYZwM3MzMzMzB3APzVeukkMHcBMN4lBYOUYwB+F61G4nhfA/Knx0k1iHcA=",
          "dtype": "f8"
         },
         "xaxis": "x",
         "y": {
          "bdata": "AAAAAAAAM0AAAAAAAAA3QAAAAAAAAFZAAAAAAAAAMUAAAAAAAAA5QAAAAAAAAD1AAAAAAACARkAAAAAAAEBWQAAAAAAAAFVAAAAAAAAAOkAAAAAAAAAoQAAAAAAAACxAAAAAAAAAQkAAAAAAAMBUQAAAAAAAAChAAAAAAAAARUAAAAAAAIBPQAAAAAAAAEJAAAAAAACATEAAAAAAAMBQQAAAAAAAgExAAAAAAAAAQkAAAAAAAMBUQAAAAAAAQFhAAAAAAACAQUAAAAAAAAA4QAAAAAAAQFJAAAAAAACAQ0AAAAAAAAA+QAAAAAAAADhAAAAAAACAQUAAAAAAAABTQAAAAAAAgFhAAAAAAABAVEAAAAAAAABPQAAAAAAAAEdAAAAAAAAAVEAAAAAAAAA5QAAAAAAAgFVAAAAAAAAAV0A=",
          "dtype": "f8"
         },
         "yaxis": "y"
        },
        {
         "hovertemplate": "<b>%{hovertext}</b><br><br>star_type=Hyper Giant<br>absolute_magnitude=%{x}<br>radius=%{y}<extra></extra>",
         "hovertext": [
          "Red",
          "Red",
          "Red",
          "Orange",
          "Red",
          "Red",
          "Red",
          "Red",
          "Red",
          "Red",
          "Red",
          "Red",
          "Red",
          "Red",
          "Red",
          "Red",
          "Red",
          "Red",
          "Red",
          "Red",
          "Red",
          "Red",
          "Orange",
          "Blue",
          "Red",
          "Red",
          "Blue",
          "Blue-white",
          "Blue-white",
          "Blue-white",
          "Blue-white",
          "Blue",
          "Blue",
          "Blue-white",
          "Blue-white",
          "Blue",
          "Blue",
          "White",
          "White",
          "Blue"
         ],
         "legendgroup": "Hyper Giant",
         "marker": {
          "color": "#19d3f3",
          "symbol": "circle"
         },
         "mode": "markers",
         "name": "Hyper Giant",
         "orientation": "v",
         "showlegend": true,
         "type": "scatter",
         "x": {
          "bdata": "zczMzMzMIsCF61G4HoUewGZmZmZmZiLAmpmZmZkZIMApXI/C9SgfwAAAAAAAgCfA16NwPQrXJ8CPwvUoXI8mwHsUrkfheibAuB6F61G4JsBmZmZmZmYlwB+F61G4niXAKVyPwvWoJsDXo3A9CtclwLgehetRuCXAj8L1KFwPJsBI4XoUrscmwAAAAAAAgCTApHA9CtcjJMBmZmZmZmYlwFK4HoXrUR7AXI/C9ShcIMBmZmZmZmYiwDMzMzMzMyLAj8L1KFyPH8DXo3A9CtcewJqZmZmZmSDAzczMzMzMI8Bcj8L1KFwfwHsUrkfheiDArkfhehSuIcAUrkfhepQiwK5H4XoUriXAXI/C9ShcHsCuR+F6FK4ewFyPwvUo3CPAw/UoXI9CJcD2KFyPwnUlwPYoXI/CdSbAMzMzMzMzH8A=",
          "dtype": "f8"
         },
         "xaxis": "x",
         "y": {
          "bdata": "AAAAAADAl0AAAAAAALCTQAAAAAAAfJJAAAAAAADAmUAAAAAAALCUQAAAAAAAFJVAAAAAAAAkmkAAAAAAABCUQAAAAAAA2I1AAAAAAAAomEAAAAAAACSUQAAAAAAAkJFAAAAAAACMmUAAAAAAADiXQAAAAAAAyJdAAAAAAACwlEAAAAAAAPiXQAAAAAAAYItAAAAAAADslkAAAAAAALCUQAAAAAAAIJdAAAAAAAAwlkAAAAAAAIyUQAAAAAAAPJpAAAAAAACYkkAAAAAAAESYQAAAAAAAVJBAAAAAAADMm0AzMzMzMyeGQAAAAAAAupFAAAAAAABYl0AAAAAAADCVQAAAAAAAcp5AAAAAAACQk0AAAAAAAKiRQAAAAAAAMJVAAAAAAACokkAAAAAAADyWQAAAAAAAYJFAAAAAAADcm0A=",
          "dtype": "f8"
         },
         "yaxis": "y"
        }
       ],
       "layout": {
        "height": 800,
        "legend": {
         "title": {
          "text": "star_type"
         },
         "tracegroupgap": 0
        },
        "template": {
         "data": {
          "bar": [
           {
            "error_x": {
             "color": "#2a3f5f"
            },
            "error_y": {
             "color": "#2a3f5f"
            },
            "marker": {
             "line": {
              "color": "#E5ECF6",
              "width": 0.5
             },
             "pattern": {
              "fillmode": "overlay",
              "size": 10,
              "solidity": 0.2
             }
            },
            "type": "bar"
           }
          ],
          "barpolar": [
           {
            "marker": {
             "line": {
              "color": "#E5ECF6",
              "width": 0.5
             },
             "pattern": {
              "fillmode": "overlay",
              "size": 10,
              "solidity": 0.2
             }
            },
            "type": "barpolar"
           }
          ],
          "carpet": [
           {
            "aaxis": {
             "endlinecolor": "#2a3f5f",
             "gridcolor": "white",
             "linecolor": "white",
             "minorgridcolor": "white",
             "startlinecolor": "#2a3f5f"
            },
            "baxis": {
             "endlinecolor": "#2a3f5f",
             "gridcolor": "white",
             "linecolor": "white",
             "minorgridcolor": "white",
             "startlinecolor": "#2a3f5f"
            },
            "type": "carpet"
           }
          ],
          "choropleth": [
           {
            "colorbar": {
             "outlinewidth": 0,
             "ticks": ""
            },
            "type": "choropleth"
           }
          ],
          "contour": [
           {
            "colorbar": {
             "outlinewidth": 0,
             "ticks": ""
            },
            "colorscale": [
             [
              0,
              "#0d0887"
             ],
             [
              0.1111111111111111,
              "#46039f"
             ],
             [
              0.2222222222222222,
              "#7201a8"
             ],
             [
              0.3333333333333333,
              "#9c179e"
             ],
             [
              0.4444444444444444,
              "#bd3786"
             ],
             [
              0.5555555555555556,
              "#d8576b"
             ],
             [
              0.6666666666666666,
              "#ed7953"
             ],
             [
              0.7777777777777778,
              "#fb9f3a"
             ],
             [
              0.8888888888888888,
              "#fdca26"
             ],
             [
              1,
              "#f0f921"
             ]
            ],
            "type": "contour"
           }
          ],
          "contourcarpet": [
           {
            "colorbar": {
             "outlinewidth": 0,
             "ticks": ""
            },
            "type": "contourcarpet"
           }
          ],
          "heatmap": [
           {
            "colorbar": {
             "outlinewidth": 0,
             "ticks": ""
            },
            "colorscale": [
             [
              0,
              "#0d0887"
             ],
             [
              0.1111111111111111,
              "#46039f"
             ],
             [
              0.2222222222222222,
              "#7201a8"
             ],
             [
              0.3333333333333333,
              "#9c179e"
             ],
             [
              0.4444444444444444,
              "#bd3786"
             ],
             [
              0.5555555555555556,
              "#d8576b"
             ],
             [
              0.6666666666666666,
              "#ed7953"
             ],
             [
              0.7777777777777778,
              "#fb9f3a"
             ],
             [
              0.8888888888888888,
              "#fdca26"
             ],
             [
              1,
              "#f0f921"
             ]
            ],
            "type": "heatmap"
           }
          ],
          "histogram": [
           {
            "marker": {
             "pattern": {
              "fillmode": "overlay",
              "size": 10,
              "solidity": 0.2
             }
            },
            "type": "histogram"
           }
          ],
          "histogram2d": [
           {
            "colorbar": {
             "outlinewidth": 0,
             "ticks": ""
            },
            "colorscale": [
             [
              0,
              "#0d0887"
             ],
             [
              0.1111111111111111,
              "#46039f"
             ],
             [
              0.2222222222222222,
              "#7201a8"
             ],
             [
              0.3333333333333333,
              "#9c179e"
             ],
             [
              0.4444444444444444,
              "#bd3786"
             ],
             [
              0.5555555555555556,
              "#d8576b"
             ],
             [
              0.6666666666666666,
              "#ed7953"
             ],
             [
              0.7777777777777778,
              "#fb9f3a"
             ],
             [
              0.8888888888888888,
              "#fdca26"
             ],
             [
              1,
              "#f0f921"
             ]
            ],
            "type": "histogram2d"
           }
          ],
          "histogram2dcontour": [
           {
            "colorbar": {
             "outlinewidth": 0,
             "ticks": ""
            },
            "colorscale": [
             [
              0,
              "#0d0887"
             ],
             [
              0.1111111111111111,
              "#46039f"
             ],
             [
              0.2222222222222222,
              "#7201a8"
             ],
             [
              0.3333333333333333,
              "#9c179e"
             ],
             [
              0.4444444444444444,
              "#bd3786"
             ],
             [
              0.5555555555555556,
              "#d8576b"
             ],
             [
              0.6666666666666666,
              "#ed7953"
             ],
             [
              0.7777777777777778,
              "#fb9f3a"
             ],
             [
              0.8888888888888888,
              "#fdca26"
             ],
             [
              1,
              "#f0f921"
             ]
            ],
            "type": "histogram2dcontour"
           }
          ],
          "mesh3d": [
           {
            "colorbar": {
             "outlinewidth": 0,
             "ticks": ""
            },
            "type": "mesh3d"
           }
          ],
          "parcoords": [
           {
            "line": {
             "colorbar": {
              "outlinewidth": 0,
              "ticks": ""
             }
            },
            "type": "parcoords"
           }
          ],
          "pie": [
           {
            "automargin": true,
            "type": "pie"
           }
          ],
          "scatter": [
           {
            "fillpattern": {
             "fillmode": "overlay",
             "size": 10,
             "solidity": 0.2
            },
            "type": "scatter"
           }
          ],
          "scatter3d": [
           {
            "line": {
             "colorbar": {
              "outlinewidth": 0,
              "ticks": ""
             }
            },
            "marker": {
             "colorbar": {
              "outlinewidth": 0,
              "ticks": ""
             }
            },
            "type": "scatter3d"
           }
          ],
          "scattercarpet": [
           {
            "marker": {
             "colorbar": {
              "outlinewidth": 0,
              "ticks": ""
             }
            },
            "type": "scattercarpet"
           }
          ],
          "scattergeo": [
           {
            "marker": {
             "colorbar": {
              "outlinewidth": 0,
              "ticks": ""
             }
            },
            "type": "scattergeo"
           }
          ],
          "scattergl": [
           {
            "marker": {
             "colorbar": {
              "outlinewidth": 0,
              "ticks": ""
             }
            },
            "type": "scattergl"
           }
          ],
          "scattermap": [
           {
            "marker": {
             "colorbar": {
              "outlinewidth": 0,
              "ticks": ""
             }
            },
            "type": "scattermap"
           }
          ],
          "scattermapbox": [
           {
            "marker": {
             "colorbar": {
              "outlinewidth": 0,
              "ticks": ""
             }
            },
            "type": "scattermapbox"
           }
          ],
          "scatterpolar": [
           {
            "marker": {
             "colorbar": {
              "outlinewidth": 0,
              "ticks": ""
             }
            },
            "type": "scatterpolar"
           }
          ],
          "scatterpolargl": [
           {
            "marker": {
             "colorbar": {
              "outlinewidth": 0,
              "ticks": ""
             }
            },
            "type": "scatterpolargl"
           }
          ],
          "scatterternary": [
           {
            "marker": {
             "colorbar": {
              "outlinewidth": 0,
              "ticks": ""
             }
            },
            "type": "scatterternary"
           }
          ],
          "surface": [
           {
            "colorbar": {
             "outlinewidth": 0,
             "ticks": ""
            },
            "colorscale": [
             [
              0,
              "#0d0887"
             ],
             [
              0.1111111111111111,
              "#46039f"
             ],
             [
              0.2222222222222222,
              "#7201a8"
             ],
             [
              0.3333333333333333,
              "#9c179e"
             ],
             [
              0.4444444444444444,
              "#bd3786"
             ],
             [
              0.5555555555555556,
              "#d8576b"
             ],
             [
              0.6666666666666666,
              "#ed7953"
             ],
             [
              0.7777777777777778,
              "#fb9f3a"
             ],
             [
              0.8888888888888888,
              "#fdca26"
             ],
             [
              1,
              "#f0f921"
             ]
            ],
            "type": "surface"
           }
          ],
          "table": [
           {
            "cells": {
             "fill": {
              "color": "#EBF0F8"
             },
             "line": {
              "color": "white"
             }
            },
            "header": {
             "fill": {
              "color": "#C8D4E3"
             },
             "line": {
              "color": "white"
             }
            },
            "type": "table"
           }
          ]
         },
         "layout": {
          "annotationdefaults": {
           "arrowcolor": "#2a3f5f",
           "arrowhead": 0,
           "arrowwidth": 1
          },
          "autotypenumbers": "strict",
          "coloraxis": {
           "colorbar": {
            "outlinewidth": 0,
            "ticks": ""
           }
          },
          "colorscale": {
           "diverging": [
            [
             0,
             "#8e0152"
            ],
            [
             0.1,
             "#c51b7d"
            ],
            [
             0.2,
             "#de77ae"
            ],
            [
             0.3,
             "#f1b6da"
            ],
            [
             0.4,
             "#fde0ef"
            ],
            [
             0.5,
             "#f7f7f7"
            ],
            [
             0.6,
             "#e6f5d0"
            ],
            [
             0.7,
             "#b8e186"
            ],
            [
             0.8,
             "#7fbc41"
            ],
            [
             0.9,
             "#4d9221"
            ],
            [
             1,
             "#276419"
            ]
           ],
           "sequential": [
            [
             0,
             "#0d0887"
            ],
            [
             0.1111111111111111,
             "#46039f"
            ],
            [
             0.2222222222222222,
             "#7201a8"
            ],
            [
             0.3333333333333333,
             "#9c179e"
            ],
            [
             0.4444444444444444,
             "#bd3786"
            ],
            [
             0.5555555555555556,
             "#d8576b"
            ],
            [
             0.6666666666666666,
             "#ed7953"
            ],
            [
             0.7777777777777778,
             "#fb9f3a"
            ],
            [
             0.8888888888888888,
             "#fdca26"
            ],
            [
             1,
             "#f0f921"
            ]
           ],
           "sequentialminus": [
            [
             0,
             "#0d0887"
            ],
            [
             0.1111111111111111,
             "#46039f"
            ],
            [
             0.2222222222222222,
             "#7201a8"
            ],
            [
             0.3333333333333333,
             "#9c179e"
            ],
            [
             0.4444444444444444,
             "#bd3786"
            ],
            [
             0.5555555555555556,
             "#d8576b"
            ],
            [
             0.6666666666666666,
             "#ed7953"
            ],
            [
             0.7777777777777778,
             "#fb9f3a"
            ],
            [
             0.8888888888888888,
             "#fdca26"
            ],
            [
             1,
             "#f0f921"
            ]
           ]
          },
          "colorway": [
           "#636efa",
           "#EF553B",
           "#00cc96",
           "#ab63fa",
           "#FFA15A",
           "#19d3f3",
           "#FF6692",
           "#B6E880",
           "#FF97FF",
           "#FECB52"
          ],
          "font": {
           "color": "#2a3f5f"
          },
          "geo": {
           "bgcolor": "white",
           "lakecolor": "white",
           "landcolor": "#E5ECF6",
           "showlakes": true,
           "showland": true,
           "subunitcolor": "white"
          },
          "hoverlabel": {
           "align": "left"
          },
          "hovermode": "closest",
          "mapbox": {
           "style": "light"
          },
          "paper_bgcolor": "white",
          "plot_bgcolor": "#E5ECF6",
          "polar": {
           "angularaxis": {
            "gridcolor": "white",
            "linecolor": "white",
            "ticks": ""
           },
           "bgcolor": "#E5ECF6",
           "radialaxis": {
            "gridcolor": "white",
            "linecolor": "white",
            "ticks": ""
           }
          },
          "scene": {
           "xaxis": {
            "backgroundcolor": "#E5ECF6",
            "gridcolor": "white",
            "gridwidth": 2,
            "linecolor": "white",
            "showbackground": true,
            "ticks": "",
            "zerolinecolor": "white"
           },
           "yaxis": {
            "backgroundcolor": "#E5ECF6",
            "gridcolor": "white",
            "gridwidth": 2,
            "linecolor": "white",
            "showbackground": true,
            "ticks": "",
            "zerolinecolor": "white"
           },
           "zaxis": {
            "backgroundcolor": "#E5ECF6",
            "gridcolor": "white",
            "gridwidth": 2,
            "linecolor": "white",
            "showbackground": true,
            "ticks": "",
            "zerolinecolor": "white"
           }
          },
          "shapedefaults": {
           "line": {
            "color": "#2a3f5f"
           }
          },
          "ternary": {
           "aaxis": {
            "gridcolor": "white",
            "linecolor": "white",
            "ticks": ""
           },
           "baxis": {
            "gridcolor": "white",
            "linecolor": "white",
            "ticks": ""
           },
           "bgcolor": "#E5ECF6",
           "caxis": {
            "gridcolor": "white",
            "linecolor": "white",
            "ticks": ""
           }
          },
          "title": {
           "x": 0.05
          },
          "xaxis": {
           "automargin": true,
           "gridcolor": "white",
           "linecolor": "white",
           "ticks": "",
           "title": {
            "standoff": 15
           },
           "zerolinecolor": "white",
           "zerolinewidth": 2
          },
          "yaxis": {
           "automargin": true,
           "gridcolor": "white",
           "linecolor": "white",
           "ticks": "",
           "title": {
            "standoff": 15
           },
           "zerolinecolor": "white",
           "zerolinewidth": 2
          }
         }
        },
        "title": {
         "text": "absolute magnitude vs radius"
        },
        "xaxis": {
         "anchor": "y",
         "domain": [
          0,
          1
         ],
         "title": {
          "text": "absolute_magnitude"
         }
        },
        "yaxis": {
         "anchor": "x",
         "domain": [
          0,
          1
         ],
         "title": {
          "text": "radius"
         },
         "type": "log"
        }
       }
      }
     },
     "metadata": {},
     "output_type": "display_data"
    }
   ],
   "source": [
    "fig = px.scatter(stars, x='absolute_magnitude', y='radius', \n",
    "                 color='star_type', \n",
    "                 hover_name='star_color', \n",
    "                 log_x=False, \n",
    "                 log_y= True, \n",
    "                 title='absolute magnitude vs radius',\n",
    "                 height = 800)\n",
    "\n",
    "\n",
    "fig.show()"
   ]
  },
  {
   "cell_type": "code",
   "execution_count": 81,
   "metadata": {},
   "outputs": [
    {
     "data": {
      "application/vnd.plotly.v1+json": {
       "config": {
        "plotlyServerURL": "https://plot.ly"
       },
       "data": [
        {
         "hovertemplate": "<b>%{hovertext}</b><br><br>star_type=Brown Dwarf<br>absolute_magnitude=%{x}<br>luminosity=%{y}<extra></extra>",
         "hovertext": [
          "Red",
          "Red",
          "Red",
          "Red",
          "Red",
          "Red",
          "Red",
          "Red",
          "Red",
          "Red",
          "Red",
          "Red",
          "Red",
          "Red",
          "Red",
          "Red",
          "Red",
          "Red",
          "Red",
          "Red",
          "Red",
          "Red",
          "Red",
          "Red",
          "Red",
          "Red",
          "Red",
          "Red",
          "Red",
          "Red",
          "Red",
          "Red",
          "Red",
          "Red",
          "Red",
          "Red",
          "Red",
          "Red",
          "Red",
          "Red"
         ],
         "legendgroup": "Brown Dwarf",
         "marker": {
          "color": "#636efa",
          "symbol": "circle"
         },
         "mode": "markers",
         "name": "Brown Dwarf",
         "orientation": "v",
         "showlegend": true,
         "type": "scatter",
         "x": {
          "bdata": "H4XrUbgeMECamZmZmZkwQDMzMzMzszJAZmZmZmamMECPwvUoXA80QHsUrkfh+jBAuB6F61E4MUBmZmZmZmYxQDMzMzMzczFAzczMzMwMMEB7FK5H4TowQHE9Ctej8DBA16NwPQoXMED2KFyPwvUwQKRwPQrX4zJA4XoUrkchMUDXo3A9ClcyQDMzMzMzczBApHA9CtdjMUCuR+F6FG4zQClcj8L1KDFAcT0K16PwM0CF61G4HgU0QOxRuB6F6zBAH4XrUbgeMUDhehSuR6EzQOF6FK5H4TBA9ihcj8K1MECPwvUoXI8zQNejcD0KFzJA9ihcj8I1MECkcD0K12MyQI/C9ShcjzFA16NwPQpXMUAUrkfhehQxQK5H4XoU7jBAMzMzMzNzMUDsUbgehaswQDMzMzMzczNAmpmZmZlZMEA=",
          "dtype": "f8"
         },
         "xaxis": "x",
         "y": {
          "bdata": "YTJVMCqpYz/8qfHSTWJAP2EyVTAqqTM/LUMc6+I2Kj8cJET5ghYiP5T2Bl+YTEU/smMjEK/rRz8tQxzr4jY6PyMtlbcjnEY/D9b/OcyXJz/HuriNBvB2P9wRTgte9EU/aR1VTRB1Lz+An3HhQEg2P9L7xteeWSI/WBzO/GoOUD/xaOOItfg0P1gczvxqDlA/D9b/OcyXNz8P1v85zJdHPwOV8e8zLjw/fnTqymd5Tj+L4H8r2bFBP2EyVTAqqSM/8WjjiLX4RD+eDI6SV+dIP6ciFcYWgkw/ngyOklfnKD+3Xz5ZMVxNP4KOVrWkozw/tVII5BJHLj9ENpAuNq1EP1gczvxqDjA/bTfBN02fPT+gqGxYU1lEP6Im+nyUETc/x5xn7Es2Pj8lyXN9Hw5CP2ms/Z3t0Us/hAzk2eVbTz8=",
          "dtype": "f8"
         },
         "yaxis": "y"
        },
        {
         "hovertemplate": "<b>%{hovertext}</b><br><br>star_type=Red Dwarf<br>absolute_magnitude=%{x}<br>luminosity=%{y}<extra></extra>",
         "hovertext": [
          "Red",
          "Red",
          "Red",
          "Red",
          "Red",
          "Red",
          "Red",
          "Red",
          "Red",
          "Red",
          "Red",
          "Red",
          "Red",
          "Red",
          "Red",
          "Red",
          "Red",
          "Red",
          "Red",
          "Red",
          "Red",
          "Red",
          "Red",
          "Red",
          "Red",
          "Red",
          "Red",
          "Red",
          "Red",
          "Red",
          "Red",
          "Red",
          "Red",
          "Red",
          "Red",
          "Red",
          "Red",
          "Red",
          "Red",
          "Red"
         ],
         "legendgroup": "Red Dwarf",
         "marker": {
          "color": "#EF553B",
          "symbol": "circle"
         },
         "mode": "markers",
         "name": "Red Dwarf",
         "orientation": "v",
         "showlegend": true,
         "type": "scatter",
         "x": {
          "bdata": "4XoUrkdhJUAUrkfhepQnQOxRuB6FaypA9ihcj8L1JECq8dJNYpAnQKRwPQrXIypAFK5H4XqULUCamZmZmZklQI/C9ShcDytAXI/C9ShcJkCamZmZmZkoQD0K16NwPSRAZmZmZmZmKkDhehSuR+EnQEjhehSuxyVAhetRuB6FJ0DsUbgehesqQD0K16NwvSdAH4XrUbieKUD2KFyPwvUrQD0K16NwvSVArkfhehSuJEDXo3A9ClcmQD0K16NwPSpA9ihcj8J1LEAAAAAAAIAtQFyPwvUo3CZAhetRuB6FLED2KFyPwnUoQClcj8L1qCxAcT0K16PwJkD2KFyPwnUlQGZmZmZm5ipAaJHtfD+1KUBcj8L1KNwoQC/dJAaBVStAPQrXo3A9LEDhehSuR+EtQI/C9ShcjylAWmQ730+NLUA=",
          "dtype": "f8"
         },
         "xaxis": "x",
         "y": {
          "bdata": "4JwRpb3BZz8H8BZIUPyIPy1DHOviNjo/ukkMAiuHdj9hMlUwKqlDP8WPMXctIW8/kst/SL99XT9xAz4/jBBuP2SSkbOwp20/K4cW2c73oz8bL90kBoGVP7pJDAIrh5Y/nMQgsHJogT8vbqMBvAWCP/yp8dJNYnA//Knx0k1iUD9fB84ZUdprP/p+arx0k1g/YTJVMCqpQz+u2F92Tx5WP54MjpJX5yg/2ubG9IQlLj/8qfHSTWKAP6g1zTtO0YE/kst/SL99TT9IUPwYc9diP4Lix5i7loA/L26jAbwFUj9fB84ZUdprP5T2Bl+YTFU/oWez6nO1dT9hMlUwKqljP5LLf0i/fX0/LUMc6+I2Wj+u2F92Tx52P67YX3ZPHmY/OIQqNXugVT97FK5H4XpUPzm0yHa+n3o/rthfdk8eZj8=",
          "dtype": "f8"
         },
         "yaxis": "y"
        },
        {
         "hovertemplate": "<b>%{hovertext}</b><br><br>star_type=White Dwarf<br>absolute_magnitude=%{x}<br>luminosity=%{y}<extra></extra>",
         "hovertext": [
          "Blue White",
          "White",
          "White",
          "White",
          "Blue White",
          "Yellowish White",
          "Blue white",
          "Yellowish White",
          "Yellowish White",
          "Pale yellow orange",
          "White-Yellow",
          "White",
          "white",
          "Blue White",
          "Blue White",
          "Blue White",
          "Blue White",
          "Blue White",
          "white",
          "Blue ",
          "Blue White",
          "Blue",
          "Blue",
          "Blue White",
          "Blue white ",
          "Blue white",
          "Blue white",
          "white",
          "White",
          "Blue White",
          "Blue",
          "Blue",
          "Blue",
          "Blue",
          "Blue",
          "Blue",
          "Blue",
          "Blue",
          "Blue",
          "Blue"
         ],
         "legendgroup": "White Dwarf",
         "marker": {
          "color": "#00cc96",
          "symbol": "circle"
         },
         "mode": "markers",
         "name": "White Dwarf",
         "orientation": "v",
         "showlegend": true,
         "type": "scatter",
         "x": {
          "bdata": "KVyPwvUoJUAK16NwPQosQPYoXI/CdSxAAAAAAAAALUBI4XoUrscnQPYoXI/CdShAZmZmZmZmLEBxPQrXo/AsQK5H4XoULilAKVyPwvUoLECuR+F6FC4sQArXo3A9CihAj8L1KFyPK0BmZmZmZuYoQNejcD0KVyhA9ihcj8L1K0DD9Shcj0IoQOF6FK5HYSZAcT0K16PwKUCuR+F6FK4mQNejcD0KVytACtejcD0KJ0CPwvUoXI8pQNejcD0K1ydAw/UoXI/CJkA9CtejcL0tQClcj8L1qClASOF6FK7HKUAfhetRuJ4tQPYoXI/CdSZAPQrXo3C9KUDXo3A9CtcnQPYoXI/CdShAzczMzMzMKUBxPQrXo3AmQK5H4XoUriZAmpmZmZkZJUBcj8L1KFwkQFK4HoXrUSdAPQrXo3A9J0A=",
          "dtype": "f8"
         },
         "xaxis": "x",
         "y": {
          "bdata": "eekmMQisrD9YHM78ag5AP4CfceFASCY//Knx0k1iQD85tMh2vp+KP4CfceFASBY/0NA/wcWKSj9LsDic+dUcP2EyVTAqqSM/8WjjiLX4FD8aFw6EZAEzP9L7xteeWSI/0vvG155ZQj9YHM78ag5QP9wRTgte9EU/kst/SL99PT/lJ9U+HY9JP1bxRuaRP0g/D9b/OcyXJz8vbqMBvAVSP76kMVpHVUM/+n5qvHSTWD+U9gZfmExVP3ReY5eo3ko/3BFOC170RT/S+8bXnlkyP2tI3GPpQ0c/S7A4nPnVHD/S+8bXnlkiP0uwOJz51Uw/x7q4jQbwVj8FwHgGDf1TP76kMVpHVVM/XaeRlsrbUT/cEU4LXvRVP+Un1T4dj1k/W3wKgPEMWj84hCo1e6BVPwE1tWytL1I/exSuR+F6VD8=",
          "dtype": "f8"
         },
         "yaxis": "y"
        },
        {
         "hovertemplate": "<b>%{hovertext}</b><br><br>star_type=Main Sequence<br>absolute_magnitude=%{x}<br>luminosity=%{y}<extra></extra>",
         "hovertext": [
          "Blue",
          "Blue-white",
          "Blue-white",
          "Whitish",
          "yellow-white",
          "Whitish",
          "yellow-white",
          "yellow-white",
          "yellow-white",
          "yellow-white",
          "yellow-white",
          "yellowish",
          "yellowish",
          "Yellowish",
          "Blue-white",
          "Blue-white",
          "Orange-Red",
          "yellow-white",
          "Blue-white",
          "Blue",
          "Blue-white",
          "Blue-White",
          "Blue-white",
          "Blue-white",
          "Blue-white",
          "Blue-white",
          "Blue-white",
          "Blue-white",
          "Blue-white",
          "Blue",
          "Blue-white",
          "Blue-white",
          "Blue-white",
          "Blue-white",
          "Blue",
          "Blue",
          "Blue-white",
          "Blue-white",
          "Blue-white",
          "yellow-white"
         ],
         "legendgroup": "Main Sequence",
         "marker": {
          "color": "#ab63fa",
          "symbol": "circle"
         },
         "mode": "markers",
         "name": "Main Sequence",
         "orientation": "v",
         "showlegend": true,
         "type": "scatter",
         "x": {
          "bdata": "zczMzMzMEsDNzMzMzMwQwIXrUbgehf+/exSuR+F6xD8zMzMzMzMUQFyPwvUoXANASOF6FK5HA0BxPQrXo3AHQNejcD0K1xFAH4XrUbgeFED2KFyPwvUVQKAaL90kBhpAtvP91HjpGEAfhetRuB4TQDMzMzMzM/c/ZmZmZmZmAsC4HoXrUbgSQIXrUbgehQNAexSuR+F6lD+amZmZmZkRwArXo3A9ChDAuB6F61G4vj9SuB6F61EAwI/C9ShcjwrA16NwPQrXD8Bcj8L1KFwQwGZmZmZmZg7AMzMzMzMzC8AUrkfhehT2vz0K16NwPRLAXI/C9ShcDcA5tMh2vp+KP7gehetRuL6/ZmZmZmZmBMBI4XoUrkcSwHE9CtejcBHALbKd76fG8z+kcD0K16MIwB+F61G4HgXAXI/C9Shc778=",
          "dtype": "f8"
         },
         "xaxis": "x",
         "y": {
          "bdata": "AAAAAADnCEEAAAAAACrcQAAAAAAAwJFAAAAAAACAUkDsUbgehevpP2ZmZmZmZiFA4XoUrkfh9j+amZmZmZn1P4PAyqFFtvU/aJHtfD816j/hehSuR+HiPy/dJAaBlcM/w/UoXI/CtT8MAiuHFtnWPwAAAAAAgEZAAAAAAAAAhUApXI/C9SjkP65H4XoUrh9AAAAAAACIhUAAAAAAgCsIQQAAAAAA8wZBAAAAAAAAQ0AAAAAAABCRQAAAAAAA+JNAAAAAAABSzEAAAAAAgGXQQAAAAAAAXMxAAAAAAABwskAAAAAAADCPQAAAAACgxAhBAAAAAABRyEAAAAAAAECBQAAAAAAAoIhAAAAAAABcukAAAAAAwDEIQQAAAABANwVBAAAAAAAAPUAAAAAAAFTFQAAAAAAAmItAAAAAAACAIkA=",
          "dtype": "f8"
         },
         "yaxis": "y"
        },
        {
         "hovertemplate": "<b>%{hovertext}</b><br><br>star_type=Super Giant<br>absolute_magnitude=%{x}<br>luminosity=%{y}<extra></extra>",
         "hovertext": [
          "Red",
          "Red",
          "Red",
          "Red",
          "Red",
          "Red",
          "Red",
          "Red",
          "Red",
          "Blue",
          "Blue",
          "Blue",
          "Blue",
          "Blue",
          "Blue",
          "Blue",
          "Blue",
          "Blue",
          "Blue",
          "Blue",
          "Blue",
          "Blue",
          "Blue",
          "Blue",
          "Blue",
          "Blue",
          "Blue",
          "Blue",
          "Blue",
          "Blue",
          "Blue",
          "Blue",
          "Blue",
          "Blue",
          "Blue",
          "Blue",
          "Blue",
          "Blue",
          "Blue",
          "Blue"
         ],
         "legendgroup": "Super Giant",
         "marker": {
          "color": "#FFA15A",
          "symbol": "circle"
         },
         "mode": "markers",
         "name": "Super Giant",
         "orientation": "v",
         "showlegend": true,
         "type": "scatter",
         "x": {
          "bdata": "uB6F61G4G8DNzMzMzMwYwBSuR+F6FBjA4XoUrkfhHMAAAAAAAAAYwGZmZmZmZhrAH4XrUbgeG8D2KFyPwvUUwPYoXI/C9RrAZmZmZmZmGMAAAAAAAAAawOxRuB6F6xjACtejcD0KF8CPwvUoXI8bwKRwPQrXoxfAexSuR+F6GMBSuB6F61EXwFyPwvUoXBnA9ihcj8L1GMApXI/C9SgXwK5H4XoUrhfAexSuR+H6GMB7FK5H4XoWwIXrUbgehRrAXI/C9ShcHcDhehSuR+EcwMP1KFyPwhbAUrgehetRF8Bcj8L1KFwYwPYoXI/C9RfAFK5H4XoUGcAUrkfhehQcwOxRuB6F6xvAZmZmZmbmF8BmZmZmZmYZwM3MzMzMzB3APzVeukkMHcBMN4lBYOUYwB+F61G4nhfA/Knx0k1iHcA=",
          "dtype": "f8"
         },
         "xaxis": "x",
         "y": {
          "bdata": "AAAAAABqCEEAAAAAgMAUQQAAAACATwJBAAAAAMDNB0EAAAAAABcRQQAAAAAAiBNBAAAAAIAH/kAAAAAAAGoIQQAAAAAAdgZBAAAAAADbCkEAAAAAAEwNQQAAAACQzyhBAAAAAIAB/0AAAAAAwK8MQQAAAAAAWPtAAAAAAMAyDEEAAAAA4CcWQQAAAAAAdgZBAAAAAIBVAUEAAAAAAHwVQQAAAADAOAtBAAAAAMCjDkEAAAAAgJYbQQAAAABA6A1BAAAAAMAsDUEAAAAAgPv/QAAAAAAAjgJBAAAAAIArCEEAAAAA0O0UQQAAAAAg6RlBAAAAABDSDUEAAAAAoEsUQQAAAABw7hRBAAAAAKxmIEEAAAAAUB4OQQAAAABgcAtBAAAAANgfIkEAAAAAdOwnQQAAAACwOhVBAAAAALTaJkE=",
          "dtype": "f8"
         },
         "yaxis": "y"
        },
        {
         "hovertemplate": "<b>%{hovertext}</b><br><br>star_type=Hyper Giant<br>absolute_magnitude=%{x}<br>luminosity=%{y}<extra></extra>",
         "hovertext": [
          "Red",
          "Red",
          "Red",
          "Orange",
          "Red",
          "Red",
          "Red",
          "Red",
          "Red",
          "Red",
          "Red",
          "Red",
          "Red",
          "Red",
          "Red",
          "Red",
          "Red",
          "Red",
          "Red",
          "Red",
          "Red",
          "Red",
          "Orange",
          "Blue",
          "Red",
          "Red",
          "Blue",
          "Blue-white",
          "Blue-white",
          "Blue-white",
          "Blue-white",
          "Blue",
          "Blue",
          "Blue-white",
          "Blue-white",
          "Blue",
          "Blue",
          "White",
          "White",
          "Blue"
         ],
         "legendgroup": "Hyper Giant",
         "marker": {
          "color": "#19d3f3",
          "symbol": "circle"
         },
         "mode": "markers",
         "name": "Hyper Giant",
         "orientation": "v",
         "showlegend": true,
         "type": "scatter",
         "x": {
          "bdata": "zczMzMzMIsCF61G4HoUewGZmZmZmZiLAmpmZmZkZIMApXI/C9SgfwAAAAAAAgCfA16NwPQrXJ8CPwvUoXI8mwHsUrkfheibAuB6F61G4JsBmZmZmZmYlwB+F61G4niXAKVyPwvWoJsDXo3A9CtclwLgehetRuCXAj8L1KFwPJsBI4XoUrscmwAAAAAAAgCTApHA9CtcjJMBmZmZmZmYlwFK4HoXrUR7AXI/C9ShcIMBmZmZmZmYiwDMzMzMzMyLAj8L1KFyPH8DXo3A9CtcewJqZmZmZmSDAzczMzMzMI8Bcj8L1KFwfwHsUrkfheiDArkfhehSuIcAUrkfhepQiwK5H4XoUriXAXI/C9ShcHsCuR+F6FK4ewFyPwvUo3CPAw/UoXI9CJcD2KFyPwnUlwPYoXI/CdSbAMzMzMzMzH8A=",
          "dtype": "f8"
         },
         "xaxis": "x",
         "y": {
          "bdata": "AAAAAMB6EEEAAAAA4EURQQAAAAAAmhBBAAAAAODIIEEAAAAAwOsSQQAAAABgDRBBAAAAAOAnFkEAAAAAgD0FQQAAAABAgwlBAAAAAMDNB0EAAAAAAGr4QAAAAAAAw/5AAAAAAABqCEEAAAAAgJD8QAAAAAAAHQBBAAAAAECzAUEAAAAAQDYRQQAAAAAAEfJAAAAAAED0C0EAAAAAAGoIQQAAAAAAiBNBAAAAAIDYAEEAAAAA4DkjQQAAAACASRNBAAAAAABMDUEAAAAAQLMBQQAAAAAAaghBAAAAAIDABEEAAAAAAEz9QAAAAABQVQ5BAAAAAERgF0EAAAAA+KYQQQAAAADcySNBAAAAABjsKUEAAAAAlNcmQQAAAAC44BZBAAAAAPRzKUEAAAAAKmcgQQAAAAAwtxhBAAAAANz/EUE=",
          "dtype": "f8"
         },
         "yaxis": "y"
        }
       ],
       "layout": {
        "height": 800,
        "legend": {
         "title": {
          "text": "star_type"
         },
         "tracegroupgap": 0
        },
        "template": {
         "data": {
          "bar": [
           {
            "error_x": {
             "color": "#2a3f5f"
            },
            "error_y": {
             "color": "#2a3f5f"
            },
            "marker": {
             "line": {
              "color": "#E5ECF6",
              "width": 0.5
             },
             "pattern": {
              "fillmode": "overlay",
              "size": 10,
              "solidity": 0.2
             }
            },
            "type": "bar"
           }
          ],
          "barpolar": [
           {
            "marker": {
             "line": {
              "color": "#E5ECF6",
              "width": 0.5
             },
             "pattern": {
              "fillmode": "overlay",
              "size": 10,
              "solidity": 0.2
             }
            },
            "type": "barpolar"
           }
          ],
          "carpet": [
           {
            "aaxis": {
             "endlinecolor": "#2a3f5f",
             "gridcolor": "white",
             "linecolor": "white",
             "minorgridcolor": "white",
             "startlinecolor": "#2a3f5f"
            },
            "baxis": {
             "endlinecolor": "#2a3f5f",
             "gridcolor": "white",
             "linecolor": "white",
             "minorgridcolor": "white",
             "startlinecolor": "#2a3f5f"
            },
            "type": "carpet"
           }
          ],
          "choropleth": [
           {
            "colorbar": {
             "outlinewidth": 0,
             "ticks": ""
            },
            "type": "choropleth"
           }
          ],
          "contour": [
           {
            "colorbar": {
             "outlinewidth": 0,
             "ticks": ""
            },
            "colorscale": [
             [
              0,
              "#0d0887"
             ],
             [
              0.1111111111111111,
              "#46039f"
             ],
             [
              0.2222222222222222,
              "#7201a8"
             ],
             [
              0.3333333333333333,
              "#9c179e"
             ],
             [
              0.4444444444444444,
              "#bd3786"
             ],
             [
              0.5555555555555556,
              "#d8576b"
             ],
             [
              0.6666666666666666,
              "#ed7953"
             ],
             [
              0.7777777777777778,
              "#fb9f3a"
             ],
             [
              0.8888888888888888,
              "#fdca26"
             ],
             [
              1,
              "#f0f921"
             ]
            ],
            "type": "contour"
           }
          ],
          "contourcarpet": [
           {
            "colorbar": {
             "outlinewidth": 0,
             "ticks": ""
            },
            "type": "contourcarpet"
           }
          ],
          "heatmap": [
           {
            "colorbar": {
             "outlinewidth": 0,
             "ticks": ""
            },
            "colorscale": [
             [
              0,
              "#0d0887"
             ],
             [
              0.1111111111111111,
              "#46039f"
             ],
             [
              0.2222222222222222,
              "#7201a8"
             ],
             [
              0.3333333333333333,
              "#9c179e"
             ],
             [
              0.4444444444444444,
              "#bd3786"
             ],
             [
              0.5555555555555556,
              "#d8576b"
             ],
             [
              0.6666666666666666,
              "#ed7953"
             ],
             [
              0.7777777777777778,
              "#fb9f3a"
             ],
             [
              0.8888888888888888,
              "#fdca26"
             ],
             [
              1,
              "#f0f921"
             ]
            ],
            "type": "heatmap"
           }
          ],
          "histogram": [
           {
            "marker": {
             "pattern": {
              "fillmode": "overlay",
              "size": 10,
              "solidity": 0.2
             }
            },
            "type": "histogram"
           }
          ],
          "histogram2d": [
           {
            "colorbar": {
             "outlinewidth": 0,
             "ticks": ""
            },
            "colorscale": [
             [
              0,
              "#0d0887"
             ],
             [
              0.1111111111111111,
              "#46039f"
             ],
             [
              0.2222222222222222,
              "#7201a8"
             ],
             [
              0.3333333333333333,
              "#9c179e"
             ],
             [
              0.4444444444444444,
              "#bd3786"
             ],
             [
              0.5555555555555556,
              "#d8576b"
             ],
             [
              0.6666666666666666,
              "#ed7953"
             ],
             [
              0.7777777777777778,
              "#fb9f3a"
             ],
             [
              0.8888888888888888,
              "#fdca26"
             ],
             [
              1,
              "#f0f921"
             ]
            ],
            "type": "histogram2d"
           }
          ],
          "histogram2dcontour": [
           {
            "colorbar": {
             "outlinewidth": 0,
             "ticks": ""
            },
            "colorscale": [
             [
              0,
              "#0d0887"
             ],
             [
              0.1111111111111111,
              "#46039f"
             ],
             [
              0.2222222222222222,
              "#7201a8"
             ],
             [
              0.3333333333333333,
              "#9c179e"
             ],
             [
              0.4444444444444444,
              "#bd3786"
             ],
             [
              0.5555555555555556,
              "#d8576b"
             ],
             [
              0.6666666666666666,
              "#ed7953"
             ],
             [
              0.7777777777777778,
              "#fb9f3a"
             ],
             [
              0.8888888888888888,
              "#fdca26"
             ],
             [
              1,
              "#f0f921"
             ]
            ],
            "type": "histogram2dcontour"
           }
          ],
          "mesh3d": [
           {
            "colorbar": {
             "outlinewidth": 0,
             "ticks": ""
            },
            "type": "mesh3d"
           }
          ],
          "parcoords": [
           {
            "line": {
             "colorbar": {
              "outlinewidth": 0,
              "ticks": ""
             }
            },
            "type": "parcoords"
           }
          ],
          "pie": [
           {
            "automargin": true,
            "type": "pie"
           }
          ],
          "scatter": [
           {
            "fillpattern": {
             "fillmode": "overlay",
             "size": 10,
             "solidity": 0.2
            },
            "type": "scatter"
           }
          ],
          "scatter3d": [
           {
            "line": {
             "colorbar": {
              "outlinewidth": 0,
              "ticks": ""
             }
            },
            "marker": {
             "colorbar": {
              "outlinewidth": 0,
              "ticks": ""
             }
            },
            "type": "scatter3d"
           }
          ],
          "scattercarpet": [
           {
            "marker": {
             "colorbar": {
              "outlinewidth": 0,
              "ticks": ""
             }
            },
            "type": "scattercarpet"
           }
          ],
          "scattergeo": [
           {
            "marker": {
             "colorbar": {
              "outlinewidth": 0,
              "ticks": ""
             }
            },
            "type": "scattergeo"
           }
          ],
          "scattergl": [
           {
            "marker": {
             "colorbar": {
              "outlinewidth": 0,
              "ticks": ""
             }
            },
            "type": "scattergl"
           }
          ],
          "scattermap": [
           {
            "marker": {
             "colorbar": {
              "outlinewidth": 0,
              "ticks": ""
             }
            },
            "type": "scattermap"
           }
          ],
          "scattermapbox": [
           {
            "marker": {
             "colorbar": {
              "outlinewidth": 0,
              "ticks": ""
             }
            },
            "type": "scattermapbox"
           }
          ],
          "scatterpolar": [
           {
            "marker": {
             "colorbar": {
              "outlinewidth": 0,
              "ticks": ""
             }
            },
            "type": "scatterpolar"
           }
          ],
          "scatterpolargl": [
           {
            "marker": {
             "colorbar": {
              "outlinewidth": 0,
              "ticks": ""
             }
            },
            "type": "scatterpolargl"
           }
          ],
          "scatterternary": [
           {
            "marker": {
             "colorbar": {
              "outlinewidth": 0,
              "ticks": ""
             }
            },
            "type": "scatterternary"
           }
          ],
          "surface": [
           {
            "colorbar": {
             "outlinewidth": 0,
             "ticks": ""
            },
            "colorscale": [
             [
              0,
              "#0d0887"
             ],
             [
              0.1111111111111111,
              "#46039f"
             ],
             [
              0.2222222222222222,
              "#7201a8"
             ],
             [
              0.3333333333333333,
              "#9c179e"
             ],
             [
              0.4444444444444444,
              "#bd3786"
             ],
             [
              0.5555555555555556,
              "#d8576b"
             ],
             [
              0.6666666666666666,
              "#ed7953"
             ],
             [
              0.7777777777777778,
              "#fb9f3a"
             ],
             [
              0.8888888888888888,
              "#fdca26"
             ],
             [
              1,
              "#f0f921"
             ]
            ],
            "type": "surface"
           }
          ],
          "table": [
           {
            "cells": {
             "fill": {
              "color": "#EBF0F8"
             },
             "line": {
              "color": "white"
             }
            },
            "header": {
             "fill": {
              "color": "#C8D4E3"
             },
             "line": {
              "color": "white"
             }
            },
            "type": "table"
           }
          ]
         },
         "layout": {
          "annotationdefaults": {
           "arrowcolor": "#2a3f5f",
           "arrowhead": 0,
           "arrowwidth": 1
          },
          "autotypenumbers": "strict",
          "coloraxis": {
           "colorbar": {
            "outlinewidth": 0,
            "ticks": ""
           }
          },
          "colorscale": {
           "diverging": [
            [
             0,
             "#8e0152"
            ],
            [
             0.1,
             "#c51b7d"
            ],
            [
             0.2,
             "#de77ae"
            ],
            [
             0.3,
             "#f1b6da"
            ],
            [
             0.4,
             "#fde0ef"
            ],
            [
             0.5,
             "#f7f7f7"
            ],
            [
             0.6,
             "#e6f5d0"
            ],
            [
             0.7,
             "#b8e186"
            ],
            [
             0.8,
             "#7fbc41"
            ],
            [
             0.9,
             "#4d9221"
            ],
            [
             1,
             "#276419"
            ]
           ],
           "sequential": [
            [
             0,
             "#0d0887"
            ],
            [
             0.1111111111111111,
             "#46039f"
            ],
            [
             0.2222222222222222,
             "#7201a8"
            ],
            [
             0.3333333333333333,
             "#9c179e"
            ],
            [
             0.4444444444444444,
             "#bd3786"
            ],
            [
             0.5555555555555556,
             "#d8576b"
            ],
            [
             0.6666666666666666,
             "#ed7953"
            ],
            [
             0.7777777777777778,
             "#fb9f3a"
            ],
            [
             0.8888888888888888,
             "#fdca26"
            ],
            [
             1,
             "#f0f921"
            ]
           ],
           "sequentialminus": [
            [
             0,
             "#0d0887"
            ],
            [
             0.1111111111111111,
             "#46039f"
            ],
            [
             0.2222222222222222,
             "#7201a8"
            ],
            [
             0.3333333333333333,
             "#9c179e"
            ],
            [
             0.4444444444444444,
             "#bd3786"
            ],
            [
             0.5555555555555556,
             "#d8576b"
            ],
            [
             0.6666666666666666,
             "#ed7953"
            ],
            [
             0.7777777777777778,
             "#fb9f3a"
            ],
            [
             0.8888888888888888,
             "#fdca26"
            ],
            [
             1,
             "#f0f921"
            ]
           ]
          },
          "colorway": [
           "#636efa",
           "#EF553B",
           "#00cc96",
           "#ab63fa",
           "#FFA15A",
           "#19d3f3",
           "#FF6692",
           "#B6E880",
           "#FF97FF",
           "#FECB52"
          ],
          "font": {
           "color": "#2a3f5f"
          },
          "geo": {
           "bgcolor": "white",
           "lakecolor": "white",
           "landcolor": "#E5ECF6",
           "showlakes": true,
           "showland": true,
           "subunitcolor": "white"
          },
          "hoverlabel": {
           "align": "left"
          },
          "hovermode": "closest",
          "mapbox": {
           "style": "light"
          },
          "paper_bgcolor": "white",
          "plot_bgcolor": "#E5ECF6",
          "polar": {
           "angularaxis": {
            "gridcolor": "white",
            "linecolor": "white",
            "ticks": ""
           },
           "bgcolor": "#E5ECF6",
           "radialaxis": {
            "gridcolor": "white",
            "linecolor": "white",
            "ticks": ""
           }
          },
          "scene": {
           "xaxis": {
            "backgroundcolor": "#E5ECF6",
            "gridcolor": "white",
            "gridwidth": 2,
            "linecolor": "white",
            "showbackground": true,
            "ticks": "",
            "zerolinecolor": "white"
           },
           "yaxis": {
            "backgroundcolor": "#E5ECF6",
            "gridcolor": "white",
            "gridwidth": 2,
            "linecolor": "white",
            "showbackground": true,
            "ticks": "",
            "zerolinecolor": "white"
           },
           "zaxis": {
            "backgroundcolor": "#E5ECF6",
            "gridcolor": "white",
            "gridwidth": 2,
            "linecolor": "white",
            "showbackground": true,
            "ticks": "",
            "zerolinecolor": "white"
           }
          },
          "shapedefaults": {
           "line": {
            "color": "#2a3f5f"
           }
          },
          "ternary": {
           "aaxis": {
            "gridcolor": "white",
            "linecolor": "white",
            "ticks": ""
           },
           "baxis": {
            "gridcolor": "white",
            "linecolor": "white",
            "ticks": ""
           },
           "bgcolor": "#E5ECF6",
           "caxis": {
            "gridcolor": "white",
            "linecolor": "white",
            "ticks": ""
           }
          },
          "title": {
           "x": 0.05
          },
          "xaxis": {
           "automargin": true,
           "gridcolor": "white",
           "linecolor": "white",
           "ticks": "",
           "title": {
            "standoff": 15
           },
           "zerolinecolor": "white",
           "zerolinewidth": 2
          },
          "yaxis": {
           "automargin": true,
           "gridcolor": "white",
           "linecolor": "white",
           "ticks": "",
           "title": {
            "standoff": 15
           },
           "zerolinecolor": "white",
           "zerolinewidth": 2
          }
         }
        },
        "title": {
         "text": "absolute magnitude vs luminosity"
        },
        "xaxis": {
         "anchor": "y",
         "domain": [
          0,
          1
         ],
         "title": {
          "text": "absolute_magnitude"
         }
        },
        "yaxis": {
         "anchor": "x",
         "domain": [
          0,
          1
         ],
         "title": {
          "text": "luminosity"
         },
         "type": "log"
        }
       }
      }
     },
     "metadata": {},
     "output_type": "display_data"
    }
   ],
   "source": [
    "fig = px.scatter(stars, x='absolute_magnitude', y='luminosity', \n",
    "                 color='star_type', \n",
    "                 hover_name='star_color', \n",
    "                 log_x=False, \n",
    "                 log_y= True, \n",
    "                 title='absolute magnitude vs luminosity',\n",
    "                 height = 800)\n",
    "\n",
    "\n",
    "fig.show()"
   ]
  },
  {
   "cell_type": "code",
   "execution_count": 92,
   "metadata": {},
   "outputs": [
    {
     "data": {
      "application/vnd.plotly.v1+json": {
       "config": {
        "plotlyServerURL": "https://plot.ly"
       },
       "data": [
        {
         "hovertemplate": "<b>%{hovertext}</b><br><br>star_type=Brown Dwarf<br>absolute_magnitude=%{x}<br>temperature=%{y}<extra></extra>",
         "hovertext": [
          "Red",
          "Red",
          "Red",
          "Red",
          "Red",
          "Red",
          "Red",
          "Red",
          "Red",
          "Red",
          "Red",
          "Red",
          "Red",
          "Red",
          "Red",
          "Red",
          "Red",
          "Red",
          "Red",
          "Red",
          "Red",
          "Red",
          "Red",
          "Red",
          "Red",
          "Red",
          "Red",
          "Red",
          "Red",
          "Red",
          "Red",
          "Red",
          "Red",
          "Red",
          "Red",
          "Red",
          "Red",
          "Red",
          "Red",
          "Red"
         ],
         "legendgroup": "Brown Dwarf",
         "marker": {
          "color": "#636efa",
          "symbol": "circle"
         },
         "mode": "markers",
         "name": "Brown Dwarf",
         "orientation": "v",
         "showlegend": true,
         "type": "scatter",
         "x": {
          "bdata": "H4XrUbgeMECamZmZmZkwQDMzMzMzszJAZmZmZmamMECPwvUoXA80QHsUrkfh+jBAuB6F61E4MUBmZmZmZmYxQDMzMzMzczFAzczMzMwMMEB7FK5H4TowQHE9Ctej8DBA16NwPQoXMED2KFyPwvUwQKRwPQrX4zJA4XoUrkchMUDXo3A9ClcyQDMzMzMzczBApHA9CtdjMUCuR+F6FG4zQClcj8L1KDFAcT0K16PwM0CF61G4HgU0QOxRuB6F6zBAH4XrUbgeMUDhehSuR6EzQOF6FK5H4TBA9ihcj8K1MECPwvUoXI8zQNejcD0KFzJA9ihcj8I1MECkcD0K12MyQI/C9ShcjzFA16NwPQpXMUAUrkfhehQxQK5H4XoU7jBAMzMzMzNzMUDsUbgehaswQDMzMzMzczNAmpmZmZlZMEA=",
          "dtype": "f8"
         },
         "xaxis": "x",
         "y": {
          "bdata": "/AviCygK8AqTBxgLTQooCloKjAoNDWgNpwsTC3cL3wyBCwEL1go3C/sMyw2SDEoMtw2ZDHcLLQsoC6sKDwtiC1sNkgx9DUkLmAucDdoKww0=",
          "dtype": "i2"
         },
         "yaxis": "y"
        },
        {
         "hovertemplate": "<b>%{hovertext}</b><br><br>star_type=Red Dwarf<br>absolute_magnitude=%{x}<br>temperature=%{y}<extra></extra>",
         "hovertext": [
          "Red",
          "Red",
          "Red",
          "Red",
          "Red",
          "Red",
          "Red",
          "Red",
          "Red",
          "Red",
          "Red",
          "Red",
          "Red",
          "Red",
          "Red",
          "Red",
          "Red",
          "Red",
          "Red",
          "Red",
          "Red",
          "Red",
          "Red",
          "Red",
          "Red",
          "Red",
          "Red",
          "Red",
          "Red",
          "Red",
          "Red",
          "Red",
          "Red",
          "Red",
          "Red",
          "Red",
          "Red",
          "Red",
          "Red",
          "Red"
         ],
         "legendgroup": "Red Dwarf",
         "marker": {
          "color": "#EF553B",
          "symbol": "circle"
         },
         "mode": "markers",
         "name": "Red Dwarf",
         "orientation": "v",
         "showlegend": true,
         "type": "scatter",
         "x": {
          "bdata": "4XoUrkdhJUAUrkfhepQnQOxRuB6FaypA9ihcj8L1JECq8dJNYpAnQKRwPQrXIypAFK5H4XqULUCamZmZmZklQI/C9ShcDytAXI/C9ShcJkCamZmZmZkoQD0K16NwPSRAZmZmZmZmKkDhehSuR+EnQEjhehSuxyVAhetRuB6FJ0DsUbgehesqQD0K16NwvSdAH4XrUbieKUD2KFyPwvUrQD0K16NwvSVArkfhehSuJEDXo3A9ClcmQD0K16NwPSpA9ihcj8J1LEAAAAAAAIAtQFyPwvUo3CZAhetRuB6FLED2KFyPwnUoQClcj8L1qCxAcT0K16PwJkD2KFyPwnUlQGZmZmZm5ipAaJHtfD+1KUBcj8L1KNwoQC/dJAaBVStAPQrXo3A9LEDhehSuR+EtQI/C9ShcjylAWmQ730+NLUA=",
          "dtype": "f8"
         },
         "xaxis": "x",
         "y": {
          "bdata": "EA45DD4MLA5aCgwN7wpsDngMcQ0RDRcO6AxODN4NbAxKCw4NPQpWDBcMFw4cDK0L1g2rDBMMDg78DNUNhg25DLILjAzDDQ4ORgyoDfwMhw0=",
          "dtype": "i2"
         },
         "yaxis": "y"
        },
        {
         "hovertemplate": "<b>%{hovertext}</b><br><br>star_type=White Dwarf<br>absolute_magnitude=%{x}<br>temperature=%{y}<extra></extra>",
         "hovertext": [
          "Blue White",
          "White",
          "White",
          "White",
          "Blue White",
          "Yellowish White",
          "Blue white",
          "Yellowish White",
          "Yellowish White",
          "Pale yellow orange",
          "White-Yellow",
          "White",
          "white",
          "Blue White",
          "Blue White",
          "Blue White",
          "Blue White",
          "Blue White",
          "white",
          "Blue ",
          "Blue White",
          "Blue",
          "Blue",
          "Blue White",
          "Blue white ",
          "Blue white",
          "Blue white",
          "white",
          "White",
          "Blue White",
          "Blue",
          "Blue",
          "Blue",
          "Blue",
          "Blue",
          "Blue",
          "Blue",
          "Blue",
          "Blue",
          "Blue"
         ],
         "legendgroup": "White Dwarf",
         "marker": {
          "color": "#00cc96",
          "symbol": "circle"
         },
         "mode": "markers",
         "name": "White Dwarf",
         "orientation": "v",
         "showlegend": true,
         "type": "scatter",
         "x": {
          "bdata": "KVyPwvUoJUAK16NwPQosQPYoXI/CdSxAAAAAAAAALUBI4XoUrscnQPYoXI/CdShAZmZmZmZmLEBxPQrXo/AsQK5H4XoULilAKVyPwvUoLECuR+F6FC4sQArXo3A9CihAj8L1KFyPK0BmZmZmZuYoQNejcD0KVyhA9ihcj8L1K0DD9Shcj0IoQOF6FK5HYSZAcT0K16PwKUCuR+F6FK4mQNejcD0KVytACtejcD0KJ0CPwvUoXI8pQNejcD0K1ydAw/UoXI/CJkA9CtejcL0tQClcj8L1qClASOF6FK7HKUAfhetRuJ4tQPYoXI/CdSZAPQrXo3C9KUDXo3A9CtcnQPYoXI/CdShAzczMzMzMKUBxPQrXo3AmQK5H4XoUriZAmpmZmZkZJUBcj8L1KFwkQFK4HoXrUSdAPQrXo3A9J0A=",
          "dtype": "f8"
         },
         "xaxis": "x",
         "y": {
          "bdata": "qGE8HjQcNCF0QL4yeiEUHg4uPhy8G04p4iIwQxQ3yyXqLuQqmDWUTWw0HFJyR7g4fC7cInAyjDkrHrgylkFAPYY6HDSkR9BN1F00WgBGoEs=",
          "dtype": "i2"
         },
         "yaxis": "y"
        },
        {
         "hovertemplate": "<b>%{hovertext}</b><br><br>star_type=Main Sequence<br>absolute_magnitude=%{x}<br>temperature=%{y}<extra></extra>",
         "hovertext": [
          "Blue",
          "Blue-white",
          "Blue-white",
          "Whitish",
          "yellow-white",
          "Whitish",
          "yellow-white",
          "yellow-white",
          "yellow-white",
          "yellow-white",
          "yellow-white",
          "yellowish",
          "yellowish",
          "Yellowish",
          "Blue-white",
          "Blue-white",
          "Orange-Red",
          "yellow-white",
          "Blue-white",
          "Blue",
          "Blue-white",
          "Blue-White",
          "Blue-white",
          "Blue-white",
          "Blue-white",
          "Blue-white",
          "Blue-white",
          "Blue-white",
          "Blue-white",
          "Blue",
          "Blue-white",
          "Blue-white",
          "Blue-white",
          "Blue-white",
          "Blue",
          "Blue",
          "Blue-white",
          "Blue-white",
          "Blue-white",
          "yellow-white"
         ],
         "legendgroup": "Main Sequence",
         "marker": {
          "color": "#ab63fa",
          "symbol": "circle"
         },
         "mode": "markers",
         "name": "Main Sequence",
         "orientation": "v",
         "showlegend": true,
         "type": "scatter",
         "x": {
          "bdata": "zczMzMzMEsDNzMzMzMwQwIXrUbgehf+/exSuR+F6xD8zMzMzMzMUQFyPwvUoXANASOF6FK5HA0BxPQrXo3AHQNejcD0K1xFAH4XrUbgeFED2KFyPwvUVQKAaL90kBhpAtvP91HjpGEAfhetRuB4TQDMzMzMzM/c/ZmZmZmZmAsC4HoXrUbgSQIXrUbgehQNAexSuR+F6lD+amZmZmZkRwArXo3A9ChDAuB6F61G4vj9SuB6F61EAwI/C9ShcjwrA16NwPQrXD8Bcj8L1KFwQwGZmZmZmZg7AMzMzMzMzC8AUrkfhehT2vz0K16NwPRLAXI/C9ShcDcA5tMh2vp+KP7gehetRuL6/ZmZmZmZmBMBI4XoUrkcSwHE9CtejcBHALbKd76fG8z+kcD0K16MIwB+F61G4HgXAXI/C9Shc778=",
          "dtype": "f8"
         },
         "xaxis": "x",
         "y": {
          "bdata": "WJgAADB1AACsOwAA5CUAAKgWAAB0HwAAZRoAAOwYAAAwFwAA0xUAALQUAACuEQAA7Q8AAHQTAABGIwAA8isAAPgTAAAoHgAAQi8AAAyNAAB4cwAA8SIAAOw2AAAGQAAA7mEAABxwAAAcZgAAmE4AAN8yAACokwAATlcAABwnAAAhMwAA/FUAAI6FAADMfgAAaCQAAMhLAAD0QgAAOiAAAA==",
          "dtype": "i4"
         },
         "yaxis": "y"
        },
        {
         "hovertemplate": "<b>%{hovertext}</b><br><br>star_type=Super Giant<br>absolute_magnitude=%{x}<br>temperature=%{y}<extra></extra>",
         "hovertext": [
          "Red",
          "Red",
          "Red",
          "Red",
          "Red",
          "Red",
          "Red",
          "Red",
          "Red",
          "Blue",
          "Blue",
          "Blue",
          "Blue",
          "Blue",
          "Blue",
          "Blue",
          "Blue",
          "Blue",
          "Blue",
          "Blue",
          "Blue",
          "Blue",
          "Blue",
          "Blue",
          "Blue",
          "Blue",
          "Blue",
          "Blue",
          "Blue",
          "Blue",
          "Blue",
          "Blue",
          "Blue",
          "Blue",
          "Blue",
          "Blue",
          "Blue",
          "Blue",
          "Blue",
          "Blue"
         ],
         "legendgroup": "Super Giant",
         "marker": {
          "color": "#FFA15A",
          "symbol": "circle"
         },
         "mode": "markers",
         "name": "Super Giant",
         "orientation": "v",
         "showlegend": true,
         "type": "scatter",
         "x": {
          "bdata": "uB6F61G4G8DNzMzMzMwYwBSuR+F6FBjA4XoUrkfhHMAAAAAAAAAYwGZmZmZmZhrAH4XrUbgeG8D2KFyPwvUUwPYoXI/C9RrAZmZmZmZmGMAAAAAAAAAawOxRuB6F6xjACtejcD0KF8CPwvUoXI8bwKRwPQrXoxfAexSuR+F6GMBSuB6F61EXwFyPwvUoXBnA9ihcj8L1GMApXI/C9SgXwK5H4XoUrhfAexSuR+H6GMB7FK5H4XoWwIXrUbgehRrAXI/C9ShcHcDhehSuR+EcwMP1KFyPwhbAUrgehetRF8Bcj8L1KFwYwPYoXI/C9RfAFK5H4XoUGcAUrkfhehQcwOxRuB6F6xvAZmZmZmbmF8BmZmZmZmYZwM3MzMzMzB3APzVeukkMHcBMN4lBYOUYwB+F61G4nhfA/Knx0k1iHcA=",
          "dtype": "f8"
         },
         "xaxis": "x",
         "y": {
          "bdata": "8g4AACUNAADGDAAAgAwAAMALAAAQDgAA9w0AAPYNAAApDgAA1oMAABSCAABAnAAA2FkAAOBCAABYKwAApTcAADZgAABdMgAAGV8AAI2CAAAuYwAALy0AAIMxAAB4FgAA3yIAAHIcAADTTQAABWcAAOdDAACdJAAAflwAAM0xAACnJAAAkFsAAJNBAAAuSQAApCYAALIqAAA3WgAA6lQAAA==",
          "dtype": "i4"
         },
         "yaxis": "y"
        },
        {
         "hovertemplate": "<b>%{hovertext}</b><br><br>star_type=Hyper Giant<br>absolute_magnitude=%{x}<br>temperature=%{y}<extra></extra>",
         "hovertext": [
          "Red",
          "Red",
          "Red",
          "Orange",
          "Red",
          "Red",
          "Red",
          "Red",
          "Red",
          "Red",
          "Red",
          "Red",
          "Red",
          "Red",
          "Red",
          "Red",
          "Red",
          "Red",
          "Red",
          "Red",
          "Red",
          "Red",
          "Orange",
          "Blue",
          "Red",
          "Red",
          "Blue",
          "Blue-white",
          "Blue-white",
          "Blue-white",
          "Blue-white",
          "Blue",
          "Blue",
          "Blue-white",
          "Blue-white",
          "Blue",
          "Blue",
          "White",
          "White",
          "Blue"
         ],
         "legendgroup": "Hyper Giant",
         "marker": {
          "color": "#19d3f3",
          "symbol": "circle"
         },
         "mode": "markers",
         "name": "Hyper Giant",
         "orientation": "v",
         "showlegend": true,
         "type": "scatter",
         "x": {
          "bdata": "zczMzMzMIsCF61G4HoUewGZmZmZmZiLAmpmZmZkZIMApXI/C9SgfwAAAAAAAgCfA16NwPQrXJ8CPwvUoXI8mwHsUrkfheibAuB6F61G4JsBmZmZmZmYlwB+F61G4niXAKVyPwvWoJsDXo3A9CtclwLgehetRuCXAj8L1KFwPJsBI4XoUrscmwAAAAAAAgCTApHA9CtcjJMBmZmZmZmYlwFK4HoXrUR7AXI/C9ShcIMBmZmZmZmYiwDMzMzMzMyLAj8L1KFyPH8DXo3A9CtcewJqZmZmZmSDAzczMzMzMI8Bcj8L1KFwfwHsUrkfheiDArkfhehSuIcAUrkfhepQiwK5H4XoUriXAXI/C9ShcHsCuR+F6FK4ewFyPwvUo3CPAw/UoXI9CJcD2KFyPwnUlwPYoXI/CdSbAMzMzMzMzH8A=",
          "dtype": "f8"
         },
         "xaxis": "x",
         "y": {
          "bdata": "og0AAKYOAAD6DgAApQ4AAEIOAAB6DQAATA4AAHoNAACoDgAAzw0AAIMNAAAVDgAAHw4AAEcNAAAaDgAA4Q0AAK8PAAApDgAAwhoAAMQOAADyDQAArA0AAL8QAACQZQAAEA4AAB4OAABQRgAA+CoAAEQvAACqXwAAUV4AAFqVAADpfgAAW2wAAJBVAAAcmAAAd3gAAH0iAAATJAAA+pMAAA==",
          "dtype": "i4"
         },
         "yaxis": "y"
        }
       ],
       "layout": {
        "height": 800,
        "legend": {
         "title": {
          "text": "star_type"
         },
         "tracegroupgap": 0
        },
        "template": {
         "data": {
          "bar": [
           {
            "error_x": {
             "color": "#2a3f5f"
            },
            "error_y": {
             "color": "#2a3f5f"
            },
            "marker": {
             "line": {
              "color": "#E5ECF6",
              "width": 0.5
             },
             "pattern": {
              "fillmode": "overlay",
              "size": 10,
              "solidity": 0.2
             }
            },
            "type": "bar"
           }
          ],
          "barpolar": [
           {
            "marker": {
             "line": {
              "color": "#E5ECF6",
              "width": 0.5
             },
             "pattern": {
              "fillmode": "overlay",
              "size": 10,
              "solidity": 0.2
             }
            },
            "type": "barpolar"
           }
          ],
          "carpet": [
           {
            "aaxis": {
             "endlinecolor": "#2a3f5f",
             "gridcolor": "white",
             "linecolor": "white",
             "minorgridcolor": "white",
             "startlinecolor": "#2a3f5f"
            },
            "baxis": {
             "endlinecolor": "#2a3f5f",
             "gridcolor": "white",
             "linecolor": "white",
             "minorgridcolor": "white",
             "startlinecolor": "#2a3f5f"
            },
            "type": "carpet"
           }
          ],
          "choropleth": [
           {
            "colorbar": {
             "outlinewidth": 0,
             "ticks": ""
            },
            "type": "choropleth"
           }
          ],
          "contour": [
           {
            "colorbar": {
             "outlinewidth": 0,
             "ticks": ""
            },
            "colorscale": [
             [
              0,
              "#0d0887"
             ],
             [
              0.1111111111111111,
              "#46039f"
             ],
             [
              0.2222222222222222,
              "#7201a8"
             ],
             [
              0.3333333333333333,
              "#9c179e"
             ],
             [
              0.4444444444444444,
              "#bd3786"
             ],
             [
              0.5555555555555556,
              "#d8576b"
             ],
             [
              0.6666666666666666,
              "#ed7953"
             ],
             [
              0.7777777777777778,
              "#fb9f3a"
             ],
             [
              0.8888888888888888,
              "#fdca26"
             ],
             [
              1,
              "#f0f921"
             ]
            ],
            "type": "contour"
           }
          ],
          "contourcarpet": [
           {
            "colorbar": {
             "outlinewidth": 0,
             "ticks": ""
            },
            "type": "contourcarpet"
           }
          ],
          "heatmap": [
           {
            "colorbar": {
             "outlinewidth": 0,
             "ticks": ""
            },
            "colorscale": [
             [
              0,
              "#0d0887"
             ],
             [
              0.1111111111111111,
              "#46039f"
             ],
             [
              0.2222222222222222,
              "#7201a8"
             ],
             [
              0.3333333333333333,
              "#9c179e"
             ],
             [
              0.4444444444444444,
              "#bd3786"
             ],
             [
              0.5555555555555556,
              "#d8576b"
             ],
             [
              0.6666666666666666,
              "#ed7953"
             ],
             [
              0.7777777777777778,
              "#fb9f3a"
             ],
             [
              0.8888888888888888,
              "#fdca26"
             ],
             [
              1,
              "#f0f921"
             ]
            ],
            "type": "heatmap"
           }
          ],
          "histogram": [
           {
            "marker": {
             "pattern": {
              "fillmode": "overlay",
              "size": 10,
              "solidity": 0.2
             }
            },
            "type": "histogram"
           }
          ],
          "histogram2d": [
           {
            "colorbar": {
             "outlinewidth": 0,
             "ticks": ""
            },
            "colorscale": [
             [
              0,
              "#0d0887"
             ],
             [
              0.1111111111111111,
              "#46039f"
             ],
             [
              0.2222222222222222,
              "#7201a8"
             ],
             [
              0.3333333333333333,
              "#9c179e"
             ],
             [
              0.4444444444444444,
              "#bd3786"
             ],
             [
              0.5555555555555556,
              "#d8576b"
             ],
             [
              0.6666666666666666,
              "#ed7953"
             ],
             [
              0.7777777777777778,
              "#fb9f3a"
             ],
             [
              0.8888888888888888,
              "#fdca26"
             ],
             [
              1,
              "#f0f921"
             ]
            ],
            "type": "histogram2d"
           }
          ],
          "histogram2dcontour": [
           {
            "colorbar": {
             "outlinewidth": 0,
             "ticks": ""
            },
            "colorscale": [
             [
              0,
              "#0d0887"
             ],
             [
              0.1111111111111111,
              "#46039f"
             ],
             [
              0.2222222222222222,
              "#7201a8"
             ],
             [
              0.3333333333333333,
              "#9c179e"
             ],
             [
              0.4444444444444444,
              "#bd3786"
             ],
             [
              0.5555555555555556,
              "#d8576b"
             ],
             [
              0.6666666666666666,
              "#ed7953"
             ],
             [
              0.7777777777777778,
              "#fb9f3a"
             ],
             [
              0.8888888888888888,
              "#fdca26"
             ],
             [
              1,
              "#f0f921"
             ]
            ],
            "type": "histogram2dcontour"
           }
          ],
          "mesh3d": [
           {
            "colorbar": {
             "outlinewidth": 0,
             "ticks": ""
            },
            "type": "mesh3d"
           }
          ],
          "parcoords": [
           {
            "line": {
             "colorbar": {
              "outlinewidth": 0,
              "ticks": ""
             }
            },
            "type": "parcoords"
           }
          ],
          "pie": [
           {
            "automargin": true,
            "type": "pie"
           }
          ],
          "scatter": [
           {
            "fillpattern": {
             "fillmode": "overlay",
             "size": 10,
             "solidity": 0.2
            },
            "type": "scatter"
           }
          ],
          "scatter3d": [
           {
            "line": {
             "colorbar": {
              "outlinewidth": 0,
              "ticks": ""
             }
            },
            "marker": {
             "colorbar": {
              "outlinewidth": 0,
              "ticks": ""
             }
            },
            "type": "scatter3d"
           }
          ],
          "scattercarpet": [
           {
            "marker": {
             "colorbar": {
              "outlinewidth": 0,
              "ticks": ""
             }
            },
            "type": "scattercarpet"
           }
          ],
          "scattergeo": [
           {
            "marker": {
             "colorbar": {
              "outlinewidth": 0,
              "ticks": ""
             }
            },
            "type": "scattergeo"
           }
          ],
          "scattergl": [
           {
            "marker": {
             "colorbar": {
              "outlinewidth": 0,
              "ticks": ""
             }
            },
            "type": "scattergl"
           }
          ],
          "scattermap": [
           {
            "marker": {
             "colorbar": {
              "outlinewidth": 0,
              "ticks": ""
             }
            },
            "type": "scattermap"
           }
          ],
          "scattermapbox": [
           {
            "marker": {
             "colorbar": {
              "outlinewidth": 0,
              "ticks": ""
             }
            },
            "type": "scattermapbox"
           }
          ],
          "scatterpolar": [
           {
            "marker": {
             "colorbar": {
              "outlinewidth": 0,
              "ticks": ""
             }
            },
            "type": "scatterpolar"
           }
          ],
          "scatterpolargl": [
           {
            "marker": {
             "colorbar": {
              "outlinewidth": 0,
              "ticks": ""
             }
            },
            "type": "scatterpolargl"
           }
          ],
          "scatterternary": [
           {
            "marker": {
             "colorbar": {
              "outlinewidth": 0,
              "ticks": ""
             }
            },
            "type": "scatterternary"
           }
          ],
          "surface": [
           {
            "colorbar": {
             "outlinewidth": 0,
             "ticks": ""
            },
            "colorscale": [
             [
              0,
              "#0d0887"
             ],
             [
              0.1111111111111111,
              "#46039f"
             ],
             [
              0.2222222222222222,
              "#7201a8"
             ],
             [
              0.3333333333333333,
              "#9c179e"
             ],
             [
              0.4444444444444444,
              "#bd3786"
             ],
             [
              0.5555555555555556,
              "#d8576b"
             ],
             [
              0.6666666666666666,
              "#ed7953"
             ],
             [
              0.7777777777777778,
              "#fb9f3a"
             ],
             [
              0.8888888888888888,
              "#fdca26"
             ],
             [
              1,
              "#f0f921"
             ]
            ],
            "type": "surface"
           }
          ],
          "table": [
           {
            "cells": {
             "fill": {
              "color": "#EBF0F8"
             },
             "line": {
              "color": "white"
             }
            },
            "header": {
             "fill": {
              "color": "#C8D4E3"
             },
             "line": {
              "color": "white"
             }
            },
            "type": "table"
           }
          ]
         },
         "layout": {
          "annotationdefaults": {
           "arrowcolor": "#2a3f5f",
           "arrowhead": 0,
           "arrowwidth": 1
          },
          "autotypenumbers": "strict",
          "coloraxis": {
           "colorbar": {
            "outlinewidth": 0,
            "ticks": ""
           }
          },
          "colorscale": {
           "diverging": [
            [
             0,
             "#8e0152"
            ],
            [
             0.1,
             "#c51b7d"
            ],
            [
             0.2,
             "#de77ae"
            ],
            [
             0.3,
             "#f1b6da"
            ],
            [
             0.4,
             "#fde0ef"
            ],
            [
             0.5,
             "#f7f7f7"
            ],
            [
             0.6,
             "#e6f5d0"
            ],
            [
             0.7,
             "#b8e186"
            ],
            [
             0.8,
             "#7fbc41"
            ],
            [
             0.9,
             "#4d9221"
            ],
            [
             1,
             "#276419"
            ]
           ],
           "sequential": [
            [
             0,
             "#0d0887"
            ],
            [
             0.1111111111111111,
             "#46039f"
            ],
            [
             0.2222222222222222,
             "#7201a8"
            ],
            [
             0.3333333333333333,
             "#9c179e"
            ],
            [
             0.4444444444444444,
             "#bd3786"
            ],
            [
             0.5555555555555556,
             "#d8576b"
            ],
            [
             0.6666666666666666,
             "#ed7953"
            ],
            [
             0.7777777777777778,
             "#fb9f3a"
            ],
            [
             0.8888888888888888,
             "#fdca26"
            ],
            [
             1,
             "#f0f921"
            ]
           ],
           "sequentialminus": [
            [
             0,
             "#0d0887"
            ],
            [
             0.1111111111111111,
             "#46039f"
            ],
            [
             0.2222222222222222,
             "#7201a8"
            ],
            [
             0.3333333333333333,
             "#9c179e"
            ],
            [
             0.4444444444444444,
             "#bd3786"
            ],
            [
             0.5555555555555556,
             "#d8576b"
            ],
            [
             0.6666666666666666,
             "#ed7953"
            ],
            [
             0.7777777777777778,
             "#fb9f3a"
            ],
            [
             0.8888888888888888,
             "#fdca26"
            ],
            [
             1,
             "#f0f921"
            ]
           ]
          },
          "colorway": [
           "#636efa",
           "#EF553B",
           "#00cc96",
           "#ab63fa",
           "#FFA15A",
           "#19d3f3",
           "#FF6692",
           "#B6E880",
           "#FF97FF",
           "#FECB52"
          ],
          "font": {
           "color": "#2a3f5f"
          },
          "geo": {
           "bgcolor": "white",
           "lakecolor": "white",
           "landcolor": "#E5ECF6",
           "showlakes": true,
           "showland": true,
           "subunitcolor": "white"
          },
          "hoverlabel": {
           "align": "left"
          },
          "hovermode": "closest",
          "mapbox": {
           "style": "light"
          },
          "paper_bgcolor": "white",
          "plot_bgcolor": "#E5ECF6",
          "polar": {
           "angularaxis": {
            "gridcolor": "white",
            "linecolor": "white",
            "ticks": ""
           },
           "bgcolor": "#E5ECF6",
           "radialaxis": {
            "gridcolor": "white",
            "linecolor": "white",
            "ticks": ""
           }
          },
          "scene": {
           "xaxis": {
            "backgroundcolor": "#E5ECF6",
            "gridcolor": "white",
            "gridwidth": 2,
            "linecolor": "white",
            "showbackground": true,
            "ticks": "",
            "zerolinecolor": "white"
           },
           "yaxis": {
            "backgroundcolor": "#E5ECF6",
            "gridcolor": "white",
            "gridwidth": 2,
            "linecolor": "white",
            "showbackground": true,
            "ticks": "",
            "zerolinecolor": "white"
           },
           "zaxis": {
            "backgroundcolor": "#E5ECF6",
            "gridcolor": "white",
            "gridwidth": 2,
            "linecolor": "white",
            "showbackground": true,
            "ticks": "",
            "zerolinecolor": "white"
           }
          },
          "shapedefaults": {
           "line": {
            "color": "#2a3f5f"
           }
          },
          "ternary": {
           "aaxis": {
            "gridcolor": "white",
            "linecolor": "white",
            "ticks": ""
           },
           "baxis": {
            "gridcolor": "white",
            "linecolor": "white",
            "ticks": ""
           },
           "bgcolor": "#E5ECF6",
           "caxis": {
            "gridcolor": "white",
            "linecolor": "white",
            "ticks": ""
           }
          },
          "title": {
           "x": 0.05
          },
          "xaxis": {
           "automargin": true,
           "gridcolor": "white",
           "linecolor": "white",
           "ticks": "",
           "title": {
            "standoff": 15
           },
           "zerolinecolor": "white",
           "zerolinewidth": 2
          },
          "yaxis": {
           "automargin": true,
           "gridcolor": "white",
           "linecolor": "white",
           "ticks": "",
           "title": {
            "standoff": 15
           },
           "zerolinecolor": "white",
           "zerolinewidth": 2
          }
         }
        },
        "title": {
         "text": "absolute magnitude vs temperature"
        },
        "xaxis": {
         "anchor": "y",
         "domain": [
          0,
          1
         ],
         "title": {
          "text": "absolute_magnitude"
         }
        },
        "yaxis": {
         "anchor": "x",
         "domain": [
          0,
          1
         ],
         "title": {
          "text": "temperature"
         },
         "type": "log"
        }
       }
      }
     },
     "metadata": {},
     "output_type": "display_data"
    }
   ],
   "source": [
    "fig = px.scatter(stars, x='absolute_magnitude', y='temperature', \n",
    "                 color='star_type', \n",
    "                 hover_name='star_color', \n",
    "                 log_x=False, \n",
    "                 log_y= True, \n",
    "                 title='absolute magnitude vs temperature',\n",
    "                 height = 800)\n",
    "\n",
    "\n",
    "fig.show()"
   ]
  },
  {
   "cell_type": "code",
   "execution_count": 91,
   "metadata": {},
   "outputs": [
    {
     "data": {
      "text/html": [
       "<div>\n",
       "<style scoped>\n",
       "    .dataframe tbody tr th:only-of-type {\n",
       "        vertical-align: middle;\n",
       "    }\n",
       "\n",
       "    .dataframe tbody tr th {\n",
       "        vertical-align: top;\n",
       "    }\n",
       "\n",
       "    .dataframe thead th {\n",
       "        text-align: right;\n",
       "    }\n",
       "</style>\n",
       "<table border=\"1\" class=\"dataframe\">\n",
       "  <thead>\n",
       "    <tr style=\"text-align: right;\">\n",
       "      <th></th>\n",
       "      <th>temperature</th>\n",
       "      <th>luminosity</th>\n",
       "      <th>radius</th>\n",
       "      <th>absolute_magnitude</th>\n",
       "    </tr>\n",
       "  </thead>\n",
       "  <tbody>\n",
       "    <tr>\n",
       "      <th>temperature</th>\n",
       "      <td>1.000000</td>\n",
       "      <td>0.393404</td>\n",
       "      <td>0.064216</td>\n",
       "      <td>-0.420261</td>\n",
       "    </tr>\n",
       "    <tr>\n",
       "      <th>luminosity</th>\n",
       "      <td>0.393404</td>\n",
       "      <td>1.000000</td>\n",
       "      <td>0.526516</td>\n",
       "      <td>-0.692619</td>\n",
       "    </tr>\n",
       "    <tr>\n",
       "      <th>radius</th>\n",
       "      <td>0.064216</td>\n",
       "      <td>0.526516</td>\n",
       "      <td>1.000000</td>\n",
       "      <td>-0.608728</td>\n",
       "    </tr>\n",
       "    <tr>\n",
       "      <th>absolute_magnitude</th>\n",
       "      <td>-0.420261</td>\n",
       "      <td>-0.692619</td>\n",
       "      <td>-0.608728</td>\n",
       "      <td>1.000000</td>\n",
       "    </tr>\n",
       "  </tbody>\n",
       "</table>\n",
       "</div>"
      ],
      "text/plain": [
       "                    temperature  luminosity    radius  absolute_magnitude\n",
       "temperature            1.000000    0.393404  0.064216           -0.420261\n",
       "luminosity             0.393404    1.000000  0.526516           -0.692619\n",
       "radius                 0.064216    0.526516  1.000000           -0.608728\n",
       "absolute_magnitude    -0.420261   -0.692619 -0.608728            1.000000"
      ]
     },
     "execution_count": 91,
     "metadata": {},
     "output_type": "execute_result"
    }
   ],
   "source": [
    "corr_data = stars[['temperature', 'luminosity', 'radius', 'absolute_magnitude']]\n",
    "corr_data.corr()"
   ]
  },
  {
   "cell_type": "code",
   "execution_count": 102,
   "metadata": {},
   "outputs": [
    {
     "data": {
      "text/plain": [
       "0.3705497779840001"
      ]
     },
     "execution_count": 102,
     "metadata": {},
     "output_type": "execute_result"
    }
   ],
   "source": [
    "(\t-0.608728) ** 2"
   ]
  },
  {
   "cell_type": "code",
   "execution_count": 106,
   "metadata": {},
   "outputs": [
    {
     "data": {
      "application/vnd.plotly.v1+json": {
       "config": {
        "plotlyServerURL": "https://plot.ly"
       },
       "data": [
        {
         "alignmentgroup": "True",
         "hovertemplate": "spectral_class=%{x}<br>radius=%{y}<extra></extra>",
         "legendgroup": "",
         "marker": {
          "color": "#636efa"
         },
         "name": "",
         "notched": false,
         "offsetgroup": "",
         "orientation": "v",
         "showlegend": false,
         "type": "box",
         "x": [
          "M",
          "M",
          "M",
          "M",
          "M",
          "M",
          "M",
          "M",
          "M",
          "M",
          "M",
          "M",
          "M",
          "M",
          "M",
          "M",
          "M",
          "M",
          "M",
          "M",
          "B",
          "A",
          "F",
          "A",
          "B",
          "F",
          "A",
          "F",
          "F",
          "F",
          "O",
          "B",
          "B",
          "B",
          "F",
          "A",
          "F",
          "F",
          "F",
          "F",
          "M",
          "M",
          "M",
          "M",
          "M",
          "M",
          "M",
          "M",
          "M",
          "B",
          "M",
          "M",
          "M",
          "M",
          "M",
          "M",
          "M",
          "M",
          "M",
          "M",
          "M",
          "M",
          "M",
          "M",
          "M",
          "M",
          "M",
          "M",
          "M",
          "M",
          "M",
          "M",
          "M",
          "M",
          "M",
          "M",
          "M",
          "M",
          "M",
          "M",
          "F",
          "F",
          "A",
          "B",
          "B",
          "A",
          "B",
          "B",
          "F",
          "B",
          "F",
          "K",
          "K",
          "K",
          "A",
          "A",
          "K",
          "F",
          "A",
          "O",
          "B",
          "O",
          "O",
          "O",
          "O",
          "O",
          "O",
          "O",
          "O",
          "O",
          "M",
          "M",
          "M",
          "M",
          "M",
          "M",
          "K",
          "M",
          "G",
          "M",
          "M",
          "M",
          "M",
          "M",
          "M",
          "M",
          "M",
          "M",
          "M",
          "M",
          "M",
          "M",
          "M",
          "M",
          "M",
          "M",
          "M",
          "M",
          "M",
          "M",
          "B",
          "B",
          "B",
          "B",
          "B",
          "A",
          "B",
          "F",
          "A",
          "B",
          "B",
          "A",
          "A",
          "B",
          "B",
          "B",
          "B",
          "B",
          "A",
          "O",
          "O",
          "O",
          "O",
          "O",
          "O",
          "O",
          "O",
          "O",
          "O",
          "O",
          "M",
          "M",
          "K",
          "B",
          "M",
          "M",
          "O",
          "B",
          "B",
          "B",
          "M",
          "M",
          "M",
          "M",
          "M",
          "M",
          "M",
          "M",
          "M",
          "M",
          "M",
          "M",
          "M",
          "M",
          "M",
          "M",
          "M",
          "M",
          "M",
          "M",
          "B",
          "B",
          "B",
          "B",
          "B",
          "B",
          "B",
          "B",
          "B",
          "B",
          "B",
          "A",
          "A",
          "B",
          "O",
          "O",
          "A",
          "B",
          "B",
          "F",
          "O",
          "O",
          "O",
          "O",
          "O",
          "O",
          "O",
          "O",
          "O",
          "O",
          "B",
          "O",
          "O",
          "B",
          "B",
          "O",
          "O",
          "A",
          "A",
          "O"
         ],
         "x0": " ",
         "xaxis": "x",
         "y": {
          "bdata": "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",
          "dtype": "f8"
         },
         "y0": " ",
         "yaxis": "y"
        }
       ],
       "layout": {
        "boxmode": "group",
        "height": 600,
        "legend": {
         "tracegroupgap": 0
        },
        "template": {
         "data": {
          "bar": [
           {
            "error_x": {
             "color": "#2a3f5f"
            },
            "error_y": {
             "color": "#2a3f5f"
            },
            "marker": {
             "line": {
              "color": "#E5ECF6",
              "width": 0.5
             },
             "pattern": {
              "fillmode": "overlay",
              "size": 10,
              "solidity": 0.2
             }
            },
            "type": "bar"
           }
          ],
          "barpolar": [
           {
            "marker": {
             "line": {
              "color": "#E5ECF6",
              "width": 0.5
             },
             "pattern": {
              "fillmode": "overlay",
              "size": 10,
              "solidity": 0.2
             }
            },
            "type": "barpolar"
           }
          ],
          "carpet": [
           {
            "aaxis": {
             "endlinecolor": "#2a3f5f",
             "gridcolor": "white",
             "linecolor": "white",
             "minorgridcolor": "white",
             "startlinecolor": "#2a3f5f"
            },
            "baxis": {
             "endlinecolor": "#2a3f5f",
             "gridcolor": "white",
             "linecolor": "white",
             "minorgridcolor": "white",
             "startlinecolor": "#2a3f5f"
            },
            "type": "carpet"
           }
          ],
          "choropleth": [
           {
            "colorbar": {
             "outlinewidth": 0,
             "ticks": ""
            },
            "type": "choropleth"
           }
          ],
          "contour": [
           {
            "colorbar": {
             "outlinewidth": 0,
             "ticks": ""
            },
            "colorscale": [
             [
              0,
              "#0d0887"
             ],
             [
              0.1111111111111111,
              "#46039f"
             ],
             [
              0.2222222222222222,
              "#7201a8"
             ],
             [
              0.3333333333333333,
              "#9c179e"
             ],
             [
              0.4444444444444444,
              "#bd3786"
             ],
             [
              0.5555555555555556,
              "#d8576b"
             ],
             [
              0.6666666666666666,
              "#ed7953"
             ],
             [
              0.7777777777777778,
              "#fb9f3a"
             ],
             [
              0.8888888888888888,
              "#fdca26"
             ],
             [
              1,
              "#f0f921"
             ]
            ],
            "type": "contour"
           }
          ],
          "contourcarpet": [
           {
            "colorbar": {
             "outlinewidth": 0,
             "ticks": ""
            },
            "type": "contourcarpet"
           }
          ],
          "heatmap": [
           {
            "colorbar": {
             "outlinewidth": 0,
             "ticks": ""
            },
            "colorscale": [
             [
              0,
              "#0d0887"
             ],
             [
              0.1111111111111111,
              "#46039f"
             ],
             [
              0.2222222222222222,
              "#7201a8"
             ],
             [
              0.3333333333333333,
              "#9c179e"
             ],
             [
              0.4444444444444444,
              "#bd3786"
             ],
             [
              0.5555555555555556,
              "#d8576b"
             ],
             [
              0.6666666666666666,
              "#ed7953"
             ],
             [
              0.7777777777777778,
              "#fb9f3a"
             ],
             [
              0.8888888888888888,
              "#fdca26"
             ],
             [
              1,
              "#f0f921"
             ]
            ],
            "type": "heatmap"
           }
          ],
          "histogram": [
           {
            "marker": {
             "pattern": {
              "fillmode": "overlay",
              "size": 10,
              "solidity": 0.2
             }
            },
            "type": "histogram"
           }
          ],
          "histogram2d": [
           {
            "colorbar": {
             "outlinewidth": 0,
             "ticks": ""
            },
            "colorscale": [
             [
              0,
              "#0d0887"
             ],
             [
              0.1111111111111111,
              "#46039f"
             ],
             [
              0.2222222222222222,
              "#7201a8"
             ],
             [
              0.3333333333333333,
              "#9c179e"
             ],
             [
              0.4444444444444444,
              "#bd3786"
             ],
             [
              0.5555555555555556,
              "#d8576b"
             ],
             [
              0.6666666666666666,
              "#ed7953"
             ],
             [
              0.7777777777777778,
              "#fb9f3a"
             ],
             [
              0.8888888888888888,
              "#fdca26"
             ],
             [
              1,
              "#f0f921"
             ]
            ],
            "type": "histogram2d"
           }
          ],
          "histogram2dcontour": [
           {
            "colorbar": {
             "outlinewidth": 0,
             "ticks": ""
            },
            "colorscale": [
             [
              0,
              "#0d0887"
             ],
             [
              0.1111111111111111,
              "#46039f"
             ],
             [
              0.2222222222222222,
              "#7201a8"
             ],
             [
              0.3333333333333333,
              "#9c179e"
             ],
             [
              0.4444444444444444,
              "#bd3786"
             ],
             [
              0.5555555555555556,
              "#d8576b"
             ],
             [
              0.6666666666666666,
              "#ed7953"
             ],
             [
              0.7777777777777778,
              "#fb9f3a"
             ],
             [
              0.8888888888888888,
              "#fdca26"
             ],
             [
              1,
              "#f0f921"
             ]
            ],
            "type": "histogram2dcontour"
           }
          ],
          "mesh3d": [
           {
            "colorbar": {
             "outlinewidth": 0,
             "ticks": ""
            },
            "type": "mesh3d"
           }
          ],
          "parcoords": [
           {
            "line": {
             "colorbar": {
              "outlinewidth": 0,
              "ticks": ""
             }
            },
            "type": "parcoords"
           }
          ],
          "pie": [
           {
            "automargin": true,
            "type": "pie"
           }
          ],
          "scatter": [
           {
            "fillpattern": {
             "fillmode": "overlay",
             "size": 10,
             "solidity": 0.2
            },
            "type": "scatter"
           }
          ],
          "scatter3d": [
           {
            "line": {
             "colorbar": {
              "outlinewidth": 0,
              "ticks": ""
             }
            },
            "marker": {
             "colorbar": {
              "outlinewidth": 0,
              "ticks": ""
             }
            },
            "type": "scatter3d"
           }
          ],
          "scattercarpet": [
           {
            "marker": {
             "colorbar": {
              "outlinewidth": 0,
              "ticks": ""
             }
            },
            "type": "scattercarpet"
           }
          ],
          "scattergeo": [
           {
            "marker": {
             "colorbar": {
              "outlinewidth": 0,
              "ticks": ""
             }
            },
            "type": "scattergeo"
           }
          ],
          "scattergl": [
           {
            "marker": {
             "colorbar": {
              "outlinewidth": 0,
              "ticks": ""
             }
            },
            "type": "scattergl"
           }
          ],
          "scattermap": [
           {
            "marker": {
             "colorbar": {
              "outlinewidth": 0,
              "ticks": ""
             }
            },
            "type": "scattermap"
           }
          ],
          "scattermapbox": [
           {
            "marker": {
             "colorbar": {
              "outlinewidth": 0,
              "ticks": ""
             }
            },
            "type": "scattermapbox"
           }
          ],
          "scatterpolar": [
           {
            "marker": {
             "colorbar": {
              "outlinewidth": 0,
              "ticks": ""
             }
            },
            "type": "scatterpolar"
           }
          ],
          "scatterpolargl": [
           {
            "marker": {
             "colorbar": {
              "outlinewidth": 0,
              "ticks": ""
             }
            },
            "type": "scatterpolargl"
           }
          ],
          "scatterternary": [
           {
            "marker": {
             "colorbar": {
              "outlinewidth": 0,
              "ticks": ""
             }
            },
            "type": "scatterternary"
           }
          ],
          "surface": [
           {
            "colorbar": {
             "outlinewidth": 0,
             "ticks": ""
            },
            "colorscale": [
             [
              0,
              "#0d0887"
             ],
             [
              0.1111111111111111,
              "#46039f"
             ],
             [
              0.2222222222222222,
              "#7201a8"
             ],
             [
              0.3333333333333333,
              "#9c179e"
             ],
             [
              0.4444444444444444,
              "#bd3786"
             ],
             [
              0.5555555555555556,
              "#d8576b"
             ],
             [
              0.6666666666666666,
              "#ed7953"
             ],
             [
              0.7777777777777778,
              "#fb9f3a"
             ],
             [
              0.8888888888888888,
              "#fdca26"
             ],
             [
              1,
              "#f0f921"
             ]
            ],
            "type": "surface"
           }
          ],
          "table": [
           {
            "cells": {
             "fill": {
              "color": "#EBF0F8"
             },
             "line": {
              "color": "white"
             }
            },
            "header": {
             "fill": {
              "color": "#C8D4E3"
             },
             "line": {
              "color": "white"
             }
            },
            "type": "table"
           }
          ]
         },
         "layout": {
          "annotationdefaults": {
           "arrowcolor": "#2a3f5f",
           "arrowhead": 0,
           "arrowwidth": 1
          },
          "autotypenumbers": "strict",
          "coloraxis": {
           "colorbar": {
            "outlinewidth": 0,
            "ticks": ""
           }
          },
          "colorscale": {
           "diverging": [
            [
             0,
             "#8e0152"
            ],
            [
             0.1,
             "#c51b7d"
            ],
            [
             0.2,
             "#de77ae"
            ],
            [
             0.3,
             "#f1b6da"
            ],
            [
             0.4,
             "#fde0ef"
            ],
            [
             0.5,
             "#f7f7f7"
            ],
            [
             0.6,
             "#e6f5d0"
            ],
            [
             0.7,
             "#b8e186"
            ],
            [
             0.8,
             "#7fbc41"
            ],
            [
             0.9,
             "#4d9221"
            ],
            [
             1,
             "#276419"
            ]
           ],
           "sequential": [
            [
             0,
             "#0d0887"
            ],
            [
             0.1111111111111111,
             "#46039f"
            ],
            [
             0.2222222222222222,
             "#7201a8"
            ],
            [
             0.3333333333333333,
             "#9c179e"
            ],
            [
             0.4444444444444444,
             "#bd3786"
            ],
            [
             0.5555555555555556,
             "#d8576b"
            ],
            [
             0.6666666666666666,
             "#ed7953"
            ],
            [
             0.7777777777777778,
             "#fb9f3a"
            ],
            [
             0.8888888888888888,
             "#fdca26"
            ],
            [
             1,
             "#f0f921"
            ]
           ],
           "sequentialminus": [
            [
             0,
             "#0d0887"
            ],
            [
             0.1111111111111111,
             "#46039f"
            ],
            [
             0.2222222222222222,
             "#7201a8"
            ],
            [
             0.3333333333333333,
             "#9c179e"
            ],
            [
             0.4444444444444444,
             "#bd3786"
            ],
            [
             0.5555555555555556,
             "#d8576b"
            ],
            [
             0.6666666666666666,
             "#ed7953"
            ],
            [
             0.7777777777777778,
             "#fb9f3a"
            ],
            [
             0.8888888888888888,
             "#fdca26"
            ],
            [
             1,
             "#f0f921"
            ]
           ]
          },
          "colorway": [
           "#636efa",
           "#EF553B",
           "#00cc96",
           "#ab63fa",
           "#FFA15A",
           "#19d3f3",
           "#FF6692",
           "#B6E880",
           "#FF97FF",
           "#FECB52"
          ],
          "font": {
           "color": "#2a3f5f"
          },
          "geo": {
           "bgcolor": "white",
           "lakecolor": "white",
           "landcolor": "#E5ECF6",
           "showlakes": true,
           "showland": true,
           "subunitcolor": "white"
          },
          "hoverlabel": {
           "align": "left"
          },
          "hovermode": "closest",
          "mapbox": {
           "style": "light"
          },
          "paper_bgcolor": "white",
          "plot_bgcolor": "#E5ECF6",
          "polar": {
           "angularaxis": {
            "gridcolor": "white",
            "linecolor": "white",
            "ticks": ""
           },
           "bgcolor": "#E5ECF6",
           "radialaxis": {
            "gridcolor": "white",
            "linecolor": "white",
            "ticks": ""
           }
          },
          "scene": {
           "xaxis": {
            "backgroundcolor": "#E5ECF6",
            "gridcolor": "white",
            "gridwidth": 2,
            "linecolor": "white",
            "showbackground": true,
            "ticks": "",
            "zerolinecolor": "white"
           },
           "yaxis": {
            "backgroundcolor": "#E5ECF6",
            "gridcolor": "white",
            "gridwidth": 2,
            "linecolor": "white",
            "showbackground": true,
            "ticks": "",
            "zerolinecolor": "white"
           },
           "zaxis": {
            "backgroundcolor": "#E5ECF6",
            "gridcolor": "white",
            "gridwidth": 2,
            "linecolor": "white",
            "showbackground": true,
            "ticks": "",
            "zerolinecolor": "white"
           }
          },
          "shapedefaults": {
           "line": {
            "color": "#2a3f5f"
           }
          },
          "ternary": {
           "aaxis": {
            "gridcolor": "white",
            "linecolor": "white",
            "ticks": ""
           },
           "baxis": {
            "gridcolor": "white",
            "linecolor": "white",
            "ticks": ""
           },
           "bgcolor": "#E5ECF6",
           "caxis": {
            "gridcolor": "white",
            "linecolor": "white",
            "ticks": ""
           }
          },
          "title": {
           "x": 0.05
          },
          "xaxis": {
           "automargin": true,
           "gridcolor": "white",
           "linecolor": "white",
           "ticks": "",
           "title": {
            "standoff": 15
           },
           "zerolinecolor": "white",
           "zerolinewidth": 2
          },
          "yaxis": {
           "automargin": true,
           "gridcolor": "white",
           "linecolor": "white",
           "ticks": "",
           "title": {
            "standoff": 15
           },
           "zerolinecolor": "white",
           "zerolinewidth": 2
          }
         }
        },
        "title": {
         "text": "Spectral Classes of Stars"
        },
        "width": 1000,
        "xaxis": {
         "anchor": "y",
         "domain": [
          0,
          1
         ],
         "title": {
          "text": "spectral_class"
         }
        },
        "yaxis": {
         "anchor": "x",
         "domain": [
          0,
          1
         ],
         "title": {
          "text": "radius"
         }
        }
       }
      }
     },
     "metadata": {},
     "output_type": "display_data"
    }
   ],
   "source": [
    "fig = px.box(stars, x='spectral_class', y='radius', \n",
    "             title='Spectral Classes of Stars',\n",
    "             height = 600, width = 1000)\n",
    "fig.show()"
   ]
  },
  {
   "cell_type": "code",
   "execution_count": null,
   "metadata": {},
   "outputs": [],
   "source": []
  }
 ],
 "metadata": {
  "kernelspec": {
   "display_name": "Python 3",
   "language": "python",
   "name": "python3"
  },
  "language_info": {
   "codemirror_mode": {
    "name": "ipython",
    "version": 3
   },
   "file_extension": ".py",
   "mimetype": "text/x-python",
   "name": "python",
   "nbconvert_exporter": "python",
   "pygments_lexer": "ipython3",
   "version": "3.13.1"
  }
 },
 "nbformat": 4,
 "nbformat_minor": 2
}
